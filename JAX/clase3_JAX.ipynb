{
  "cells": [
    {
      "cell_type": "code",
      "execution_count": null,
      "id": "0d8f61b7-52a9-4234-baa4-c7b5eeff0b83",
      "metadata": {
        "colab": {
          "base_uri": "https://localhost:8080/"
        },
        "id": "0d8f61b7-52a9-4234-baa4-c7b5eeff0b83",
        "outputId": "4cbcefa8-3706-4d15-fbdd-417dce0a1814"
      },
      "outputs": [
        {
          "output_type": "stream",
          "name": "stdout",
          "text": [
            "JAX version: 0.5.2\n",
            "JAX running on: TFRT_CPU_0\n"
          ]
        }
      ],
      "source": [
        "# Importamos las bibliotecas necesarias para trabajar con JAX y datos\n",
        "import jax\n",
        "import jax.numpy as jnp\n",
        "from datetime import datetime\n",
        "import numpy as np  # para interoperabilidad y carga de datos\n",
        "import matplotlib.pyplot as plt\n",
        "import pandas as pd\n",
        "\n",
        "# Verificamos que JAX esté funcionando y en qué dispositivo se ejecuta\n",
        "print(\"JAX version:\", jax.__version__)\n",
        "print(\"JAX running on:\", jax.devices()[0])\n"
      ]
    },
    {
      "cell_type": "markdown",
      "id": "561e23ac",
      "metadata": {
        "id": "561e23ac"
      },
      "source": [
        " # Construir pipelines en JAX"
      ]
    },
    {
      "cell_type": "markdown",
      "source": [
        "JAX es una librería de Google que permite hacer computación numérica eficiente y diferenciación automática. Su API es muy parecida a la de NumPy, pero con soporte para aceleradores como GPUs y TPUs"
      ],
      "metadata": {
        "id": "Pn38C6WyVxqF"
      },
      "id": "Pn38C6WyVxqF"
    },
    {
      "cell_type": "markdown",
      "source": [
        "Creación de datos base"
      ],
      "metadata": {
        "id": "6O_PocfGWARv"
      },
      "id": "6O_PocfGWARv"
    },
    {
      "cell_type": "code",
      "execution_count": null,
      "id": "c8607267-e046-46cd-89ed-0031a64ae3f1",
      "metadata": {
        "colab": {
          "base_uri": "https://localhost:8080/"
        },
        "id": "c8607267-e046-46cd-89ed-0031a64ae3f1",
        "outputId": "04e2bbb4-32c0-4917-afab-8f425afb9251"
      },
      "outputs": [
        {
          "output_type": "stream",
          "name": "stdout",
          "text": [
            "(7, 10)\n"
          ]
        }
      ],
      "source": [
        "# Creamos un array de ejemplo usando JAX\n",
        "array_examp = jnp.arange(70).reshape((7, 10))\n",
        "lista_examp = np.array(array_examp).tolist()  # Convertimos a lista de Python si es necesario\n",
        "print(array_examp.shape)\n"
      ]
    },
    {
      "cell_type": "markdown",
      "source": [
        "JAX provee su propia versión de arange y reshape, igual que NumPy. Pero si necesitamos interoperar con listas nativas de Python, debemos convertir usando np.array(...)"
      ],
      "metadata": {
        "id": "r1MFILtXWLOK"
      },
      "id": "r1MFILtXWLOK"
    },
    {
      "cell_type": "markdown",
      "source": [
        "Dataset API"
      ],
      "metadata": {
        "id": "IMW8EGlcWP8N"
      },
      "id": "IMW8EGlcWP8N"
    },
    {
      "cell_type": "code",
      "execution_count": null,
      "id": "b2751f9f-8c14-487f-a8c2-6f2bf733ea6f",
      "metadata": {
        "id": "b2751f9f-8c14-487f-a8c2-6f2bf733ea6f"
      },
      "outputs": [],
      "source": [
        "# En JAX no existe una API oficial para datasets como en TensorFlow.\n",
        "# Podemos usar generadores o manejar manualmente los lotes con slicing.\n",
        "\n",
        "def dataset_from_tensor_slices(data):\n",
        "    # Simula la funcionalidad de tf.data.Dataset.from_tensor_slices\n",
        "    for i in range(data.shape[0]):\n",
        "        yield data[i]\n",
        "\n",
        "dataset1 = dataset_from_tensor_slices(array_examp)\n",
        "\n",
        "# from_tensors sería simplemente devolver el tensor completo\n",
        "dataset2 = array_examp\n",
        "\n",
        "# Si quisiéramos usar listas, podríamos convertirlas a arrays:\n",
        "dataset_lista_1 = dataset_from_tensor_slices(jnp.array(lista_examp))\n",
        "dataset_lista_2 = jnp.array(lista_examp)\n"
      ]
    },
    {
      "cell_type": "markdown",
      "source": [
        "En lugar de usar un sistema complejo de datasets, en JAX trabajamos con estructuras de datos más explícitas, como generadores o iteradores sobre arrays"
      ],
      "metadata": {
        "id": "M07h_nRlWbVt"
      },
      "id": "M07h_nRlWbVt"
    },
    {
      "cell_type": "markdown",
      "source": [
        "Dataset con tuplas de tensores"
      ],
      "metadata": {
        "id": "HD12v4oiWk6h"
      },
      "id": "HD12v4oiWk6h"
    },
    {
      "cell_type": "code",
      "execution_count": null,
      "id": "a6a9abb3-5191-43df-8405-017c5ef13af5",
      "metadata": {
        "id": "a6a9abb3-5191-43df-8405-017c5ef13af5"
      },
      "outputs": [],
      "source": [
        "# Creamos dos tensores de ejemplo con jax.numpy\n",
        "tensor1 = jnp.ones((10, 2, 2))\n",
        "tensor2 = jnp.ones((10, 1))\n",
        "\n",
        "# Simulamos tf.data.Dataset.from_tensor_slices para tuplas\n",
        "def dataset_from_slices_tuple(t1, t2):\n",
        "    for i in range(t1.shape[0]):\n",
        "        yield t1[i], t2[i]\n",
        "\n",
        "dataset3 = dataset_from_slices_tuple(tensor1, tensor2)\n"
      ]
    },
    {
      "cell_type": "markdown",
      "source": [
        "Cuando queremos recorrer dos arrays simultáneamente como pares (como en TensorFlow), simplemente iteramos por índice y usamos yield para devolver una tupla."
      ],
      "metadata": {
        "id": "CM2R98tPWwmZ"
      },
      "id": "CM2R98tPWwmZ"
    },
    {
      "cell_type": "code",
      "source": [
        "tensor3 = jnp.ones((9, 2, 2))\n",
        "\n",
        "# Intentar emparejar tensores de distinta longitud genera error.\n",
        "# Aquí lo mostramos con control de errores.\n",
        "try:\n",
        "    dataset4 = dataset_from_slices_tuple(tensor1, tensor3)\n",
        "except Exception as e:\n",
        "    print(\"Error al crear dataset4:\", e)\n"
      ],
      "metadata": {
        "id": "8XY3iGgzXINl"
      },
      "id": "8XY3iGgzXINl",
      "execution_count": null,
      "outputs": []
    },
    {
      "cell_type": "markdown",
      "source": [
        "En JAX (y en general en Python), emparejar arrays de distinta longitud requiere manejar explícitamente los errores. A diferencia de TensorFlow, no hay una abstracción que lo oculte."
      ],
      "metadata": {
        "id": "3N4Tk6WWXNbw"
      },
      "id": "3N4Tk6WWXNbw"
    },
    {
      "cell_type": "markdown",
      "source": [
        "Dataset con from_tensors (todo el tensor como un solo ejemplo)"
      ],
      "metadata": {
        "id": "dGLU96d6XQT6"
      },
      "id": "dGLU96d6XQT6"
    },
    {
      "cell_type": "code",
      "execution_count": null,
      "id": "01fbafea-aef7-475f-bdab-937a3a7544b2",
      "metadata": {
        "id": "01fbafea-aef7-475f-bdab-937a3a7544b2"
      },
      "outputs": [],
      "source": [
        "# Equivalente a almacenar la tupla completa como un solo elemento\n",
        "dataset5 = [(tensor1, tensor2)]\n",
        "dataset6 = [(tensor1, tensor3)]  # Nota: aunque tengan distintas formas, se acepta en Python\n"
      ]
    },
    {
      "cell_type": "code",
      "source": [
        "# Volvemos a definir dataset1 y dataset2 como generadores\n",
        "dataset1 = dataset_from_tensor_slices(array_examp)\n",
        "dataset2 = dataset_from_tensor_slices(array_examp)\n",
        "\n",
        "# Zip de datasets (generadores en Python)\n",
        "dataset3 = zip(dataset1, dataset2)\n",
        "\n",
        "# Iteramos e imprimimos las formas\n",
        "for a, b in dataset3:\n",
        "    print(f'shapes: {a.shape}, {b.shape}')\n"
      ],
      "metadata": {
        "colab": {
          "base_uri": "https://localhost:8080/"
        },
        "id": "0L9Pln8kXVq1",
        "outputId": "48653b7b-8d56-4b9f-9a02-731d7b8df8e2"
      },
      "id": "0L9Pln8kXVq1",
      "execution_count": null,
      "outputs": [
        {
          "output_type": "stream",
          "name": "stdout",
          "text": [
            "shapes: (10,), (10,)\n",
            "shapes: (10,), (10,)\n",
            "shapes: (10,), (10,)\n",
            "shapes: (10,), (10,)\n",
            "shapes: (10,), (10,)\n",
            "shapes: (10,), (10,)\n",
            "shapes: (10,), (10,)\n"
          ]
        }
      ]
    },
    {
      "cell_type": "markdown",
      "source": [
        "La función zip de Python cumple la misma función que tf.data.Dataset.zip. Al usar generadores, se recorren en paralelo los elementos."
      ],
      "metadata": {
        "id": "n9_emAgTXZ6I"
      },
      "id": "n9_emAgTXZ6I"
    },
    {
      "cell_type": "markdown",
      "id": "cbe835b0-d3b2-4c5c-90b4-ba78a43dbea7",
      "metadata": {
        "id": "cbe835b0-d3b2-4c5c-90b4-ba78a43dbea7"
      },
      "source": [
        "### Iteracion"
      ]
    },
    {
      "cell_type": "code",
      "execution_count": null,
      "id": "ec564441-26bb-4a15-9651-cf281caf35c7",
      "metadata": {
        "id": "ec564441-26bb-4a15-9651-cf281caf35c7",
        "colab": {
          "base_uri": "https://localhost:8080/"
        },
        "outputId": "e4b978bc-4189-45bd-e568-7f32f17f7809"
      },
      "outputs": [
        {
          "output_type": "stream",
          "name": "stdout",
          "text": [
            "[0 1 2 3 4 5 6 7 8 9]\n",
            "[10 11 12 13 14 15 16 17 18 19]\n",
            "[20 21 22 23 24 25 26 27 28 29]\n",
            "[30 31 32 33 34 35 36 37 38 39]\n",
            "[40 41 42 43 44 45 46 47 48 49]\n",
            "[50 51 52 53 54 55 56 57 58 59]\n",
            "[60 61 62 63 64 65 66 67 68 69]\n"
          ]
        }
      ],
      "source": [
        "# dataset1 ya es un generador en nuestra versión\n",
        "# Como JAX usa arrays inmutables, los elementos ya son arrays de NumPy-compatible\n",
        "\n",
        "dataset1 = dataset_from_tensor_slices(array_examp)\n",
        "for elem in dataset1:\n",
        "    print(np.array(elem))  # Convertimos a NumPy para imprimir si es necesario\n"
      ]
    },
    {
      "cell_type": "markdown",
      "source": [
        "Aunque jnp.array se parece a np.array, su contenido puede necesitar conversión explícita a NumPy para usar ciertas funciones de visualización o impresión."
      ],
      "metadata": {
        "id": "U-tLDVPRXi61"
      },
      "id": "U-tLDVPRXi61"
    },
    {
      "cell_type": "markdown",
      "id": "499e11ef-7b7a-4a02-86bb-5bb120a848bc",
      "metadata": {
        "id": "499e11ef-7b7a-4a02-86bb-5bb120a848bc"
      },
      "source": [
        "### Enumerar"
      ]
    },
    {
      "cell_type": "code",
      "execution_count": null,
      "id": "23f0138f-650f-45de-96d1-1aae2c1b6f30",
      "metadata": {
        "id": "23f0138f-650f-45de-96d1-1aae2c1b6f30",
        "colab": {
          "base_uri": "https://localhost:8080/"
        },
        "outputId": "2080e32e-1f02-4d30-c072-b59794aa58c5"
      },
      "outputs": [
        {
          "output_type": "stream",
          "name": "stdout",
          "text": [
            "(5, array([0, 1, 2, 3, 4, 5, 6, 7, 8, 9], dtype=int32))\n",
            "(6, array([10, 11, 12, 13, 14, 15, 16, 17, 18, 19], dtype=int32))\n",
            "(7, array([20, 21, 22, 23, 24, 25, 26, 27, 28, 29], dtype=int32))\n",
            "(8, array([30, 31, 32, 33, 34, 35, 36, 37, 38, 39], dtype=int32))\n",
            "(9, array([40, 41, 42, 43, 44, 45, 46, 47, 48, 49], dtype=int32))\n",
            "(10, array([50, 51, 52, 53, 54, 55, 56, 57, 58, 59], dtype=int32))\n",
            "(11, array([60, 61, 62, 63, 64, 65, 66, 67, 68, 69], dtype=int32))\n"
          ]
        }
      ],
      "source": [
        "from itertools import count\n",
        "\n",
        "dataset1 = dataset_from_tensor_slices(array_examp)\n",
        "dataset_enu = zip(count(start=5), dataset1)\n",
        "\n",
        "for index, element in dataset_enu:\n",
        "    print((index, np.array(element)))\n"
      ]
    },
    {
      "cell_type": "markdown",
      "source": [
        "En Python usamos itertools.count(start=N) para obtener una enumeración manual como la que ofrece TensorFlow con .enumerate()."
      ],
      "metadata": {
        "id": "g5Q3pTsPXnGH"
      },
      "id": "g5Q3pTsPXnGH"
    },
    {
      "cell_type": "markdown",
      "id": "b006c202-d646-4c5c-a1c3-79965d710dd5",
      "metadata": {
        "id": "b006c202-d646-4c5c-a1c3-79965d710dd5"
      },
      "source": [
        "### Barajar"
      ]
    },
    {
      "cell_type": "markdown",
      "source": [
        "Shuffle y repetición"
      ],
      "metadata": {
        "id": "pdpU6607XriB"
      },
      "id": "pdpU6607XriB"
    },
    {
      "cell_type": "code",
      "execution_count": null,
      "id": "a19c94e5-bc09-41d4-bdc4-0dee402a4df4",
      "metadata": {
        "id": "a19c94e5-bc09-41d4-bdc4-0dee402a4df4",
        "colab": {
          "base_uri": "https://localhost:8080/"
        },
        "outputId": "354205d7-7492-4ee8-e2d3-449059b2c038"
      },
      "outputs": [
        {
          "output_type": "stream",
          "name": "stdout",
          "text": [
            "[50 51 52 53 54 55 56 57 58 59]\n",
            "[60 61 62 63 64 65 66 67 68 69]\n",
            "[20 21 22 23 24 25 26 27 28 29]\n",
            "[10 11 12 13 14 15 16 17 18 19]\n",
            "[40 41 42 43 44 45 46 47 48 49]\n",
            "[0 1 2 3 4 5 6 7 8 9]\n",
            "[30 31 32 33 34 35 36 37 38 39]\n",
            "[40 41 42 43 44 45 46 47 48 49]\n",
            "[0 1 2 3 4 5 6 7 8 9]\n",
            "[50 51 52 53 54 55 56 57 58 59]\n",
            "[10 11 12 13 14 15 16 17 18 19]\n",
            "[60 61 62 63 64 65 66 67 68 69]\n",
            "[30 31 32 33 34 35 36 37 38 39]\n",
            "[20 21 22 23 24 25 26 27 28 29]\n",
            "[50 51 52 53 54 55 56 57 58 59]\n",
            "[40 41 42 43 44 45 46 47 48 49]\n",
            "[0 1 2 3 4 5 6 7 8 9]\n",
            "[30 31 32 33 34 35 36 37 38 39]\n",
            "[60 61 62 63 64 65 66 67 68 69]\n",
            "[10 11 12 13 14 15 16 17 18 19]\n",
            "[20 21 22 23 24 25 26 27 28 29]\n",
            "[10 11 12 13 14 15 16 17 18 19]\n",
            "[60 61 62 63 64 65 66 67 68 69]\n",
            "[0 1 2 3 4 5 6 7 8 9]\n",
            "[20 21 22 23 24 25 26 27 28 29]\n",
            "[40 41 42 43 44 45 46 47 48 49]\n",
            "[30 31 32 33 34 35 36 37 38 39]\n",
            "[50 51 52 53 54 55 56 57 58 59]\n"
          ]
        }
      ],
      "source": [
        "import random\n",
        "\n",
        "# Convertimos a lista para poder mezclar y repetir\n",
        "data_list = list(array_examp)\n",
        "\n",
        "# Simulamos barajado + repetición\n",
        "repeat_count = 4\n",
        "shuffled_repeated_data = []\n",
        "\n",
        "for _ in range(repeat_count):\n",
        "    batch = data_list.copy()\n",
        "    random.shuffle(batch)\n",
        "    shuffled_repeated_data.extend(batch)\n",
        "\n",
        "# Ahora podemos iterar sobre esto\n",
        "for element in shuffled_repeated_data:\n",
        "    print(element)\n"
      ]
    },
    {
      "cell_type": "markdown",
      "source": [
        "En JAX usamos Python estándar para manipular datos: random.shuffle para barajar y ciclos para repetir. Esta forma es más explícita y controlada."
      ],
      "metadata": {
        "id": "fz9CfQljXv97"
      },
      "id": "fz9CfQljXv97"
    },
    {
      "cell_type": "markdown",
      "id": "84de72f5-44ae-4f14-9db3-ce8163f86d69",
      "metadata": {
        "id": "84de72f5-44ae-4f14-9db3-ce8163f86d69"
      },
      "source": [
        "### Batch"
      ]
    },
    {
      "cell_type": "markdown",
      "source": [
        "Dataset de rango + batching + enumerate"
      ],
      "metadata": {
        "id": "jSPl61a1XyKN"
      },
      "id": "jSPl61a1XyKN"
    },
    {
      "cell_type": "code",
      "execution_count": null,
      "id": "1d4bb5fa-dbba-4d31-abf6-f03f6891c6c3",
      "metadata": {
        "id": "1d4bb5fa-dbba-4d31-abf6-f03f6891c6c3",
        "colab": {
          "base_uri": "https://localhost:8080/"
        },
        "outputId": "ff078ae6-698c-4f09-a561-165ad92fed5e"
      },
      "outputs": [
        {
          "output_type": "stream",
          "name": "stdout",
          "text": [
            "(0, array([0, 1, 2], dtype=int32))\n",
            "(1, array([3, 4, 5], dtype=int32))\n",
            "(2, array([6, 7, 8], dtype=int32))\n",
            "(3, array([ 9, 10, 11], dtype=int32))\n",
            "(4, array([12, 13, 14], dtype=int32))\n",
            "(5, array([15, 16, 17], dtype=int32))\n",
            "(6, array([18, 19], dtype=int32))\n"
          ]
        }
      ],
      "source": [
        "# Creamos un rango del 0 al 19\n",
        "data = jnp.arange(20)\n",
        "\n",
        "# Agrupamos en batches de 3\n",
        "batch_size = 3\n",
        "batches = [data[i:i+batch_size] for i in range(0, len(data), batch_size)]\n",
        "\n",
        "# Enumeramos los batches\n",
        "for idx, batch in enumerate(batches):\n",
        "    print((idx, np.array(batch)))\n"
      ]
    },
    {
      "cell_type": "markdown",
      "source": [
        "El batching se puede implementar fácilmente dividiendo el array en secciones. Enumerar luego es directo usando enumerate."
      ],
      "metadata": {
        "id": "pemf01jxX2Hn"
      },
      "id": "pemf01jxX2Hn"
    },
    {
      "cell_type": "code",
      "execution_count": null,
      "id": "4eb77ed6-cffb-4d85-ba22-c48d710772f1",
      "metadata": {
        "id": "4eb77ed6-cffb-4d85-ba22-c48d710772f1",
        "colab": {
          "base_uri": "https://localhost:8080/"
        },
        "outputId": "40d2f063-5431-49ab-d6a1-21abced45d6e"
      },
      "outputs": [
        {
          "output_type": "stream",
          "name": "stdout",
          "text": [
            "(0, array([0, 1, 2], dtype=int32))\n",
            "(1, array([3, 4, 5], dtype=int32))\n",
            "(2, array([6, 7, 8], dtype=int32))\n",
            "(3, array([ 9, 10, 11], dtype=int32))\n",
            "(4, array([12, 13, 14], dtype=int32))\n",
            "(5, array([15, 16, 17], dtype=int32))\n"
          ]
        }
      ],
      "source": [
        "# Igual que antes, pero excluimos el último batch si no está completo\n",
        "batch_size = 3\n",
        "total_size = len(data) - (len(data) % batch_size)  # descartar elementos sobrantes\n",
        "batches = [data[i:i+batch_size] for i in range(0, total_size, batch_size)]\n",
        "\n",
        "for idx, batch in enumerate(batches):\n",
        "    print((idx, np.array(batch)))\n"
      ]
    },
    {
      "cell_type": "markdown",
      "source": [
        "Cuando drop_remainder=True, descartamos los últimos elementos que no llenen un batch completo."
      ],
      "metadata": {
        "id": "-KrtSW1pX7p6"
      },
      "id": "-KrtSW1pX7p6"
    },
    {
      "cell_type": "markdown",
      "source": [
        "Método .take(n)"
      ],
      "metadata": {
        "id": "0HA5cAtnYBqm"
      },
      "id": "0HA5cAtnYBqm"
    },
    {
      "cell_type": "code",
      "execution_count": null,
      "id": "fa80880d-029c-4494-9528-0f7385594b90",
      "metadata": {
        "id": "fa80880d-029c-4494-9528-0f7385594b90",
        "colab": {
          "base_uri": "https://localhost:8080/"
        },
        "outputId": "d263d776-ef03-45a0-95d6-cd3c1541489a"
      },
      "outputs": [
        {
          "output_type": "stream",
          "name": "stdout",
          "text": [
            "[0 1 2]\n",
            "[3 4 5]\n"
          ]
        }
      ],
      "source": [
        "# Suponemos que 'batches' está definido como en las celdas anteriores\n",
        "for element in batches[:2]:  # Simula take(2)\n",
        "    print(element)\n"
      ]
    },
    {
      "cell_type": "markdown",
      "source": [
        "El método take(n) de TensorFlow puede reemplazarse directamente con slicing en Python: [:n]."
      ],
      "metadata": {
        "id": "Xlp7FqQwYHm6"
      },
      "id": "Xlp7FqQwYHm6"
    },
    {
      "cell_type": "markdown",
      "source": [
        "Enumerar dataset batcheado"
      ],
      "metadata": {
        "id": "EyDEwMBlYJL6"
      },
      "id": "EyDEwMBlYJL6"
    },
    {
      "cell_type": "code",
      "execution_count": null,
      "id": "cf9e7287-89c0-414b-a2c0-572377bb3d81",
      "metadata": {
        "id": "cf9e7287-89c0-414b-a2c0-572377bb3d81",
        "colab": {
          "base_uri": "https://localhost:8080/"
        },
        "outputId": "a15c7325-c30f-4136-db91-bde184c5685f"
      },
      "outputs": [
        {
          "output_type": "stream",
          "name": "stdout",
          "text": [
            "(0, array([[ 0,  1,  2,  3,  4,  5,  6,  7,  8,  9],\n",
            "       [10, 11, 12, 13, 14, 15, 16, 17, 18, 19],\n",
            "       [20, 21, 22, 23, 24, 25, 26, 27, 28, 29]], dtype=int32))\n",
            "(1, array([[30, 31, 32, 33, 34, 35, 36, 37, 38, 39],\n",
            "       [40, 41, 42, 43, 44, 45, 46, 47, 48, 49],\n",
            "       [50, 51, 52, 53, 54, 55, 56, 57, 58, 59]], dtype=int32))\n",
            "(2, array([[60, 61, 62, 63, 64, 65, 66, 67, 68, 69]], dtype=int32))\n"
          ]
        }
      ],
      "source": [
        "# Creamos batches de tamaño 3\n",
        "dataset1 = dataset_from_tensor_slices(array_examp)\n",
        "dataset1_list = list(dataset1)\n",
        "batches = [dataset1_list[i:i+3] for i in range(0, len(dataset1_list), 3)]\n",
        "\n",
        "# Enumeramos los batches\n",
        "for idx, batch in enumerate(batches):\n",
        "    print((idx, np.array(batch)))\n"
      ]
    },
    {
      "cell_type": "markdown",
      "source": [
        "Los datasets de JAX pueden batchearse fácilmente dividiendo listas en bloques. El enumerate es estándar de Python."
      ],
      "metadata": {
        "id": "E9t75jz4YMrd"
      },
      "id": "E9t75jz4YMrd"
    },
    {
      "cell_type": "markdown",
      "source": [
        "Batching con tamaño 1"
      ],
      "metadata": {
        "id": "_y5YmFjaYN4l"
      },
      "id": "_y5YmFjaYN4l"
    },
    {
      "cell_type": "code",
      "execution_count": null,
      "id": "28fb42e5-a516-4221-9515-277ff26dd53e",
      "metadata": {
        "id": "28fb42e5-a516-4221-9515-277ff26dd53e",
        "colab": {
          "base_uri": "https://localhost:8080/"
        },
        "outputId": "9d39b16d-20ff-4ed5-9039-1cf6a27c2f78"
      },
      "outputs": [
        {
          "output_type": "stream",
          "name": "stdout",
          "text": [
            "(0, array([[0, 1, 2, 3, 4, 5, 6, 7, 8, 9]], dtype=int32))\n",
            "(1, array([[10, 11, 12, 13, 14, 15, 16, 17, 18, 19]], dtype=int32))\n",
            "(2, array([[20, 21, 22, 23, 24, 25, 26, 27, 28, 29]], dtype=int32))\n",
            "(3, array([[30, 31, 32, 33, 34, 35, 36, 37, 38, 39]], dtype=int32))\n",
            "(4, array([[40, 41, 42, 43, 44, 45, 46, 47, 48, 49]], dtype=int32))\n",
            "(5, array([[50, 51, 52, 53, 54, 55, 56, 57, 58, 59]], dtype=int32))\n",
            "(6, array([[60, 61, 62, 63, 64, 65, 66, 67, 68, 69]], dtype=int32))\n"
          ]
        }
      ],
      "source": [
        "batches_1 = [dataset1_list[i:i+1] for i in range(0, len(dataset1_list))]\n",
        "\n",
        "for idx, batch in enumerate(batches_1):\n",
        "    print((idx, np.array(batch)))\n"
      ]
    },
    {
      "cell_type": "markdown",
      "source": [
        "Este patrón es útil para trabajar con un solo ejemplo por paso (por ejemplo, en entrenamiento online o por pasos)."
      ],
      "metadata": {
        "id": "sQCy7WdnYRkW"
      },
      "id": "sQCy7WdnYRkW"
    },
    {
      "cell_type": "markdown",
      "id": "9a7df3c3-c716-48dc-9456-ca12e1aa7e74",
      "metadata": {
        "id": "9a7df3c3-c716-48dc-9456-ca12e1aa7e74"
      },
      "source": [
        "### funcion map"
      ]
    },
    {
      "cell_type": "markdown",
      "source": [
        "Función de preprocesamiento: pasos densos"
      ],
      "metadata": {
        "id": "5xjqG5V3YT4Y"
      },
      "id": "5xjqG5V3YT4Y"
    },
    {
      "cell_type": "code",
      "execution_count": null,
      "id": "fa1da9d5-8d32-4fb0-9851-afd94879c56d",
      "metadata": {
        "id": "fa1da9d5-8d32-4fb0-9851-afd94879c56d"
      },
      "outputs": [],
      "source": [
        "# Simula un paso temporal en que las etiquetas son la siguiente observación\n",
        "def dense_1_step(batch):\n",
        "    return batch[:-1], batch[1:]\n"
      ]
    },
    {
      "cell_type": "markdown",
      "source": [
        "Esta función es útil para crear pares de entrada/salida secuenciales. Muy común en modelos de predicción temporal o de lenguaje.\n",
        "\n"
      ],
      "metadata": {
        "id": "Ukjab1RoYXCi"
      },
      "id": "Ukjab1RoYXCi"
    },
    {
      "cell_type": "markdown",
      "source": [
        "Aplicar transformación con .map()"
      ],
      "metadata": {
        "id": "4imm84CBYZLj"
      },
      "id": "4imm84CBYZLj"
    },
    {
      "cell_type": "code",
      "execution_count": null,
      "id": "44a70ed5-d9ed-4675-a1af-5891adc7f8e5",
      "metadata": {
        "id": "44a70ed5-d9ed-4675-a1af-5891adc7f8e5",
        "colab": {
          "base_uri": "https://localhost:8080/"
        },
        "outputId": "344cc0fe-3e84-4cdf-cfd5-92d53153867c"
      },
      "outputs": [
        {
          "output_type": "stream",
          "name": "stdout",
          "text": [
            "[0 1 2 3 4 5 6 7 8 9]  =>  [10 11 12 13 14 15 16 17 18 19]\n",
            "[10 11 12 13 14 15 16 17 18 19]  =>  [20 21 22 23 24 25 26 27 28 29]\n",
            "[20 21 22 23 24 25 26 27 28 29]  =>  [30 31 32 33 34 35 36 37 38 39]\n",
            "[30 31 32 33 34 35 36 37 38 39]  =>  [40 41 42 43 44 45 46 47 48 49]\n",
            "[40 41 42 43 44 45 46 47 48 49]  =>  [50 51 52 53 54 55 56 57 58 59]\n",
            "[50 51 52 53 54 55 56 57 58 59]  =>  [60 61 62 63 64 65 66 67 68 69]\n"
          ]
        }
      ],
      "source": [
        "# Aplicamos la función dense_1_step a cada batch (aquí, sobre array_examp como un solo batch)\n",
        "features, labels = dense_1_step(array_examp)\n",
        "\n",
        "# Mostramos los resultados\n",
        "for f, l in zip(features, labels):\n",
        "    print(np.array(f), \" => \", np.array(l))\n"
      ]
    },
    {
      "cell_type": "markdown",
      "source": [
        "TensorFlow permite transformar datasets con .map(). En JAX, aplicamos la transformación directamente a arrays o listas. Si estamos trabajando en lotes, usamos ciclos o list comprehensions."
      ],
      "metadata": {
        "id": "n-MD5ve_YcVt"
      },
      "id": "n-MD5ve_YcVt"
    },
    {
      "cell_type": "markdown",
      "id": "c66d4f67-4ed6-400b-be08-8b0671740223",
      "metadata": {
        "id": "c66d4f67-4ed6-400b-be08-8b0671740223"
      },
      "source": [
        "### funcion flat_map"
      ]
    },
    {
      "cell_type": "code",
      "execution_count": null,
      "id": "08fbbef5-311f-412c-9b30-100989b84387",
      "metadata": {
        "id": "08fbbef5-311f-412c-9b30-100989b84387",
        "colab": {
          "base_uri": "https://localhost:8080/"
        },
        "outputId": "1a28518f-2312-4d04-c1d6-46698dc06c49"
      },
      "outputs": [
        {
          "output_type": "stream",
          "name": "stdout",
          "text": [
            "[Array(0, dtype=int32), Array(1, dtype=int32), Array(2, dtype=int32), Array(3, dtype=int32), Array(4, dtype=int32), Array(5, dtype=int32), Array(6, dtype=int32), Array(7, dtype=int32), Array(8, dtype=int32), Array(9, dtype=int32), Array(10, dtype=int32), Array(11, dtype=int32), Array(12, dtype=int32), Array(13, dtype=int32), Array(14, dtype=int32), Array(15, dtype=int32), Array(16, dtype=int32), Array(17, dtype=int32), Array(18, dtype=int32), Array(19, dtype=int32), Array(20, dtype=int32), Array(21, dtype=int32), Array(22, dtype=int32), Array(23, dtype=int32), Array(24, dtype=int32), Array(25, dtype=int32), Array(26, dtype=int32), Array(27, dtype=int32), Array(28, dtype=int32), Array(29, dtype=int32), Array(30, dtype=int32), Array(31, dtype=int32), Array(32, dtype=int32), Array(33, dtype=int32), Array(34, dtype=int32), Array(35, dtype=int32), Array(36, dtype=int32), Array(37, dtype=int32), Array(38, dtype=int32), Array(39, dtype=int32), Array(40, dtype=int32), Array(41, dtype=int32), Array(42, dtype=int32), Array(43, dtype=int32), Array(44, dtype=int32), Array(45, dtype=int32), Array(46, dtype=int32), Array(47, dtype=int32), Array(48, dtype=int32), Array(49, dtype=int32), Array(50, dtype=int32), Array(51, dtype=int32), Array(52, dtype=int32), Array(53, dtype=int32), Array(54, dtype=int32), Array(55, dtype=int32), Array(56, dtype=int32), Array(57, dtype=int32), Array(58, dtype=int32), Array(59, dtype=int32), Array(60, dtype=int32), Array(61, dtype=int32), Array(62, dtype=int32), Array(63, dtype=int32), Array(64, dtype=int32), Array(65, dtype=int32), Array(66, dtype=int32), Array(67, dtype=int32), Array(68, dtype=int32), Array(69, dtype=int32)]\n"
          ]
        }
      ],
      "source": [
        "# dataset1 es un generador que recorre filas del array_examp\n",
        "dataset1 = dataset_from_tensor_slices(array_examp)\n",
        "\n",
        "# Aplicamos flat_map: para cada elemento (que es un array 1D), generamos múltiples elementos (uno por item)\n",
        "def flat_map(generator, fn):\n",
        "    for x in generator:\n",
        "        for y in fn(x):\n",
        "            yield y\n",
        "\n",
        "# Definimos la función que convierte un vector en elementos individuales\n",
        "def from_tensor_slices(x):\n",
        "    return x  # x ya es un array 1D; iterarlo da sus elementos\n",
        "\n",
        "# Aplicamos flat_map\n",
        "flat_mapped = flat_map(dataset1, from_tensor_slices)\n",
        "\n",
        "# Lo convertimos a lista y mostramos\n",
        "flat_mapped_list = list(flat_mapped)\n",
        "print(flat_mapped_list)\n"
      ]
    },
    {
      "cell_type": "markdown",
      "source": [
        "flat_map permite aplicar una función que devuelve múltiples elementos por entrada, y luego aplana todo en un solo flujo. En Python lo hacemos con generadores anidados."
      ],
      "metadata": {
        "id": "CWhX9EjkY9U3"
      },
      "id": "CWhX9EjkY9U3"
    },
    {
      "cell_type": "markdown",
      "id": "12e881e7-b4a7-4120-8335-f22b0e381395",
      "metadata": {
        "id": "12e881e7-b4a7-4120-8335-f22b0e381395"
      },
      "source": [
        "### Dataset como texto .txt"
      ]
    },
    {
      "cell_type": "markdown",
      "source": [
        " Leer y preprocesar un archivo de texto"
      ],
      "metadata": {
        "id": "edSUQlL0ZDMj"
      },
      "id": "edSUQlL0ZDMj"
    },
    {
      "cell_type": "code",
      "execution_count": null,
      "id": "3568ceb0-1a3b-4e38-a6fe-62ba44b2d558",
      "metadata": {
        "colab": {
          "base_uri": "https://localhost:8080/"
        },
        "id": "3568ceb0-1a3b-4e38-a6fe-62ba44b2d558",
        "outputId": "424e2962-c739-4e18-924e-1a336b94399b"
      },
      "outputs": [
        {
          "output_type": "stream",
          "name": "stdout",
          "text": [
            "\tSONNETS    TO THE ONLY BEGETTER OF THESE INSUING SONNETS MR. W. H. ALL HAPPINESS AND THAT ETERNITY PROMISED BY OUR EVER-LIVING POET WISHETH THE WELL-WISHING ADVENTURER IN SETTING FORTH T. T.   I.  FROM fairest creatures we desire increase, That thereby beauty's rose might never die, But as the riper should by time decease, His tender heir might bear his memory: But thou, contracted to thine own bright eyes, Feed'st thy light'st flame with self-substantial fuel, Making a famine where abundance l\n"
          ]
        }
      ],
      "source": [
        "# Leemos el archivo como texto plano\n",
        "with open('sonnets.txt', 'r', encoding='utf-8') as file:\n",
        "    text_string = file.read().replace('\\n', ' ')\n",
        "\n",
        "print(text_string[:500])\n"
      ]
    },
    {
      "cell_type": "markdown",
      "source": [
        "Esto es directamente Python estándar. Se reemplazan los saltos de línea por espacios para dejar el texto en una sola línea."
      ],
      "metadata": {
        "id": "g2cu4cbiZbJx"
      },
      "id": "g2cu4cbiZbJx"
    },
    {
      "cell_type": "markdown",
      "source": [
        " Dataset de líneas de texto"
      ],
      "metadata": {
        "id": "SUEGHRIYZcqZ"
      },
      "id": "SUEGHRIYZcqZ"
    },
    {
      "cell_type": "code",
      "execution_count": null,
      "id": "a113ca22-302e-41ce-b8bc-4ca6ee1b6ff4",
      "metadata": {
        "id": "a113ca22-302e-41ce-b8bc-4ca6ee1b6ff4",
        "colab": {
          "base_uri": "https://localhost:8080/"
        },
        "outputId": "ff86db12-af04-4374-d6ce-805aee460e73"
      },
      "outputs": [
        {
          "output_type": "stream",
          "name": "stdout",
          "text": [
            "SONNETS\n",
            "\n",
            "\n",
            "\n",
            "TO THE ONLY BEGETTER OF\n",
            "THESE INSUING SONNETS\n"
          ]
        }
      ],
      "source": [
        "# Leemos múltiples archivos y generamos líneas como dataset\n",
        "file_paths = [\"sonnets.txt\", \"sonnets(1).txt\"]\n",
        "\n",
        "def text_line_dataset(paths):\n",
        "    for path in paths:\n",
        "        with open(path, 'r', encoding='utf-8') as file:\n",
        "            for line in file:\n",
        "                yield line.strip()\n",
        "\n",
        "dataset_text = text_line_dataset(file_paths)\n",
        "\n",
        "# Mostrar las primeras líneas\n",
        "for i, line in enumerate(dataset_text):\n",
        "    print(line)\n",
        "    if i >= 5:\n",
        "        break\n"
      ]
    },
    {
      "cell_type": "markdown",
      "source": [
        "TextLineDataset en TensorFlow puede simularse con un generador que itera línea por línea sobre múltiples archivos. Usamos strip() para limpiar saltos de línea."
      ],
      "metadata": {
        "id": "IB6uV77tZgG8"
      },
      "id": "IB6uV77tZgG8"
    },
    {
      "cell_type": "markdown",
      "source": [
        " Dataset desde list_files"
      ],
      "metadata": {
        "id": "zDu0OaFNZjtd"
      },
      "id": "zDu0OaFNZjtd"
    },
    {
      "cell_type": "code",
      "execution_count": null,
      "id": "29554e2f-0074-4f8d-8ed8-89e6131ca347",
      "metadata": {
        "id": "29554e2f-0074-4f8d-8ed8-89e6131ca347",
        "colab": {
          "base_uri": "https://localhost:8080/"
        },
        "outputId": "053f45b1-931f-4be2-b0c1-4afa83513369"
      },
      "outputs": [
        {
          "output_type": "stream",
          "name": "stdout",
          "text": [
            "['./sonnets.txt']\n"
          ]
        }
      ],
      "source": [
        "import glob\n",
        "\n",
        "# Usamos glob para buscar todos los archivos .txt en el directorio actual\n",
        "txt_files = glob.glob(\"./*.txt\")\n",
        "print(txt_files)\n"
      ]
    },
    {
      "cell_type": "markdown",
      "source": [
        "glob.glob permite buscar archivos por patrón, como lo hace list_files. Esto es útil para cargar muchos archivos automáticamente."
      ],
      "metadata": {
        "id": "NFLQx3uJZm0X"
      },
      "id": "NFLQx3uJZm0X"
    },
    {
      "cell_type": "markdown",
      "id": "6c7dac33-30a6-4c15-ab48-1c839870daf6",
      "metadata": {
        "id": "6c7dac33-30a6-4c15-ab48-1c839870daf6"
      },
      "source": [
        "### Dataset en formato .csv"
      ]
    },
    {
      "cell_type": "markdown",
      "source": [
        "Leer CSV con Pandas"
      ],
      "metadata": {
        "id": "gXMYy1gxZpfQ"
      },
      "id": "gXMYy1gxZpfQ"
    },
    {
      "cell_type": "code",
      "execution_count": null,
      "id": "a37f44d1-b1b3-4ea3-b055-6a06a059672d",
      "metadata": {
        "colab": {
          "base_uri": "https://localhost:8080/"
        },
        "id": "a37f44d1-b1b3-4ea3-b055-6a06a059672d",
        "outputId": "39c9e9c5-b250-4038-ac44-ec98c7670c85"
      },
      "outputs": [
        {
          "output_type": "stream",
          "name": "stdout",
          "text": [
            "   Unnamed: 0        Date  Monthly Mean Total Sunspot Number\n",
            "0           0  1749-01-31                               96.7\n",
            "1           1  1749-02-28                              104.3\n",
            "2           2  1749-03-31                              116.7\n",
            "3           3  1749-04-30                               92.8\n",
            "4           4  1749-05-31                              141.7\n"
          ]
        }
      ],
      "source": [
        "import pandas as pd\n",
        "\n",
        "# Leer el CSV en un DataFrame\n",
        "pandas_dataframe = pd.read_csv('Sunspots_.csv')\n",
        "print(pandas_dataframe.head())\n"
      ]
    },
    {
      "cell_type": "markdown",
      "source": [
        "Esto ya es Python estándar y no requiere conversión. Pandas es ampliamente usado para manipular datos tabulares, incluso cuando usamos JAX para los modelos."
      ],
      "metadata": {
        "id": "81BffeI9ZyXN"
      },
      "id": "81BffeI9ZyXN"
    },
    {
      "cell_type": "markdown",
      "source": [
        "Convertir un DataFrame en diccionario"
      ],
      "metadata": {
        "id": "6X6VPq-XZ2j5"
      },
      "id": "6X6VPq-XZ2j5"
    },
    {
      "cell_type": "code",
      "execution_count": null,
      "id": "60d7af6d-0b99-46b2-8bc8-a4ca0e3e465b",
      "metadata": {
        "colab": {
          "base_uri": "https://localhost:8080/"
        },
        "id": "60d7af6d-0b99-46b2-8bc8-a4ca0e3e465b",
        "outputId": "f08eaa08-46d1-45d1-9bd9-711d0f469068"
      },
      "outputs": [
        {
          "output_type": "stream",
          "name": "stdout",
          "text": [
            "dict_keys(['Unnamed: 0', 'Date', 'Monthly Mean Total Sunspot Number'])\n",
            "Tamaño del DataFrame: 3265\n"
          ]
        }
      ],
      "source": [
        "dataframe_dict = pandas_dataframe.to_dict(orient='list')\n",
        "print(dataframe_dict.keys())\n",
        "print(\"Tamaño del DataFrame:\", len(pandas_dataframe))\n"
      ]
    },
    {
      "cell_type": "markdown",
      "source": [
        "Usamos to_dict(orient='list') para convertir un DataFrame en un diccionario donde cada clave es una columna y el valor es una lista de valores."
      ],
      "metadata": {
        "id": "MWxrjCFAZ6gz"
      },
      "id": "MWxrjCFAZ6gz"
    },
    {
      "cell_type": "markdown",
      "source": [
        " Dataset desde un diccionario de columnas"
      ],
      "metadata": {
        "id": "FLojSQMDZ5WC"
      },
      "id": "FLojSQMDZ5WC"
    },
    {
      "cell_type": "code",
      "execution_count": null,
      "id": "e29f0662-bd0c-411d-9c19-3ffc29a0ba48",
      "metadata": {
        "colab": {
          "base_uri": "https://localhost:8080/"
        },
        "id": "e29f0662-bd0c-411d-9c19-3ffc29a0ba48",
        "outputId": "5a6a7e30-7f9d-4e27-c72d-5941ec6dabba"
      },
      "outputs": [
        {
          "output_type": "stream",
          "name": "stdout",
          "text": [
            "Tamaño del dataset: 3265\n"
          ]
        }
      ],
      "source": [
        "# Creamos un \"dataset\" como lista de diccionarios fila por fila\n",
        "pandas_dataset = [dict(zip(dataframe_dict.keys(), values))\n",
        "                  for values in zip(*dataframe_dict.values())]\n",
        "\n",
        "# Mostramos la cantidad de elementos\n",
        "print(\"Tamaño del dataset:\", len(pandas_dataset))\n"
      ]
    },
    {
      "cell_type": "markdown",
      "source": [
        "Simulamos from_tensor_slices con una lista de diccionarios, cada uno representando una fila del dataset. Zip permite combinar columnas en filas."
      ],
      "metadata": {
        "id": "asWKuId0Z91U"
      },
      "id": "asWKuId0Z91U"
    },
    {
      "cell_type": "markdown",
      "source": [
        " Leer CSV como batches con etiquetas"
      ],
      "metadata": {
        "id": "tJeaFBVvZ_E1"
      },
      "id": "tJeaFBVvZ_E1"
    },
    {
      "cell_type": "code",
      "execution_count": null,
      "id": "36ee3c46-e16c-4242-979a-3d4d6aa3c630",
      "metadata": {
        "id": "36ee3c46-e16c-4242-979a-3d4d6aa3c630"
      },
      "outputs": [],
      "source": [
        "# Leer CSV y dividir en batches\n",
        "label_name = 'Monthly Mean Total Sunspot Number'\n",
        "batch_size = 1\n",
        "\n",
        "# Creamos batches como tuplas (features, label)\n",
        "def batch_dataset(df, label_column, batch_size):\n",
        "    features = df.drop(columns=[label_column])\n",
        "    labels = df[label_column]\n",
        "    dataset = []\n",
        "    for i in range(0, len(df), batch_size):\n",
        "        batch_feat = features.iloc[i:i+batch_size].to_dict(orient='list')\n",
        "        batch_label = labels.iloc[i:i+batch_size].tolist()\n",
        "        dataset.append((batch_feat, batch_label))\n",
        "    return dataset\n",
        "\n",
        "csv_dataset = batch_dataset(pandas_dataframe, label_name, batch_size)\n"
      ]
    },
    {
      "cell_type": "markdown",
      "source": [
        "TensorFlow agrupa automáticamente los datos en batches. En Python usamos pandas para lograr lo mismo, separando las columnas y agrupando por tamaño de lote."
      ],
      "metadata": {
        "id": "noj-rXnAaGlR"
      },
      "id": "noj-rXnAaGlR"
    },
    {
      "cell_type": "markdown",
      "source": [
        "Extraer fechas de columnas Date"
      ],
      "metadata": {
        "id": "S1EplKiuaIuC"
      },
      "id": "S1EplKiuaIuC"
    },
    {
      "cell_type": "code",
      "execution_count": null,
      "id": "29682431-dadc-4657-a23d-f52a49c02315",
      "metadata": {
        "id": "29682431-dadc-4657-a23d-f52a49c02315"
      },
      "outputs": [],
      "source": [
        "from datetime import datetime\n",
        "\n",
        "def extract_time(date_str, label):\n",
        "    date_ = datetime.fromisoformat(date_str)\n",
        "    return date_.day, date_.year, date_.month, label\n",
        "\n",
        "# Aplicamos la función a los primeros 5 batches\n",
        "data_map = []\n",
        "for features, labels in csv_dataset[:5]:\n",
        "    date_str = features['Date'][0]\n",
        "    label = labels[0]\n",
        "    data_map.append(extract_time(date_str, label))\n"
      ]
    },
    {
      "cell_type": "markdown",
      "source": [
        "tf.py_function permite usar funciones de Python en tf.data. En JAX, simplemente usamos funciones estándar aplicadas a los datos cargados previamente."
      ],
      "metadata": {
        "id": "TpTLOQgCaNMF"
      },
      "id": "TpTLOQgCaNMF"
    },
    {
      "cell_type": "markdown",
      "source": [
        "Mostrar resultados de la conversión de fechas"
      ],
      "metadata": {
        "id": "gNkpqz1baOQf"
      },
      "id": "gNkpqz1baOQf"
    },
    {
      "cell_type": "code",
      "execution_count": null,
      "id": "67ceb581-85ad-4bb0-a673-87a736dd291c",
      "metadata": {
        "colab": {
          "base_uri": "https://localhost:8080/"
        },
        "id": "67ceb581-85ad-4bb0-a673-87a736dd291c",
        "outputId": "ae74b142-8bf6-4de4-848a-febb2e9db902"
      },
      "outputs": [
        {
          "output_type": "stream",
          "name": "stdout",
          "text": [
            "31 1749 1 96.7\n",
            "28 1749 2 104.3\n",
            "31 1749 3 116.7\n",
            "30 1749 4 92.8\n",
            "31 1749 5 141.7\n"
          ]
        }
      ],
      "source": [
        "for day, year, month, label in data_map:\n",
        "    print(day, year, month, label)\n"
      ]
    },
    {
      "cell_type": "markdown",
      "source": [
        "Ya que no estamos en un entorno de tensores de TensorFlow, los datos ya están en formato NumPy o Python nativo. No se requiere .numpy()."
      ],
      "metadata": {
        "id": "_wHwz33daUmh"
      },
      "id": "_wHwz33daUmh"
    },
    {
      "cell_type": "markdown",
      "id": "af89b53b-22c5-4ad8-af33-94563388bf39",
      "metadata": {
        "id": "af89b53b-22c5-4ad8-af33-94563388bf39"
      },
      "source": [
        "### Descargar datos predefinidos de https://www.tensorflow.org/datasets/catalog/overview"
      ]
    },
    {
      "cell_type": "markdown",
      "source": [
        "Cargar MNIST con tensorflow_datasets"
      ],
      "metadata": {
        "id": "4PDMxCYYaYxU"
      },
      "id": "4PDMxCYYaYxU"
    },
    {
      "cell_type": "code",
      "execution_count": null,
      "id": "e9d429a5-402f-46f7-be8f-9da96dd82b89",
      "metadata": {
        "id": "e9d429a5-402f-46f7-be8f-9da96dd82b89",
        "colab": {
          "base_uri": "https://localhost:8080/"
        },
        "outputId": "608b3679-fb58-4b51-84b3-64e0999c4c0a"
      },
      "outputs": [
        {
          "output_type": "stream",
          "name": "stderr",
          "text": [
            "100%|██████████| 9.91M/9.91M [00:00<00:00, 22.7MB/s]\n",
            "100%|██████████| 28.9k/28.9k [00:00<00:00, 618kB/s]\n",
            "100%|██████████| 1.65M/1.65M [00:00<00:00, 5.60MB/s]\n",
            "100%|██████████| 4.54k/4.54k [00:00<00:00, 5.45MB/s]\n"
          ]
        },
        {
          "output_type": "stream",
          "name": "stdout",
          "text": [
            "Train shape: (60000, 28, 28)\n",
            "Test shape: (10000, 28, 28)\n"
          ]
        }
      ],
      "source": [
        "from torchvision import datasets, transforms\n",
        "import numpy as np\n",
        "\n",
        "# Transformación a tensores + normalización (opcional)\n",
        "transform = transforms.Compose([\n",
        "    transforms.ToTensor()\n",
        "])\n",
        "\n",
        "# Cargar datasets de entrenamiento y prueba\n",
        "mnist_train = datasets.MNIST(root='./data', train=True, download=True, transform=transform)\n",
        "mnist_test = datasets.MNIST(root='./data', train=False, download=True, transform=transform)\n",
        "\n",
        "# Convertimos los datos a arrays de NumPy\n",
        "train_images = np.stack([np.array(img[0]).squeeze() for img in mnist_train])\n",
        "train_labels = np.array([img[1] for img in mnist_train])\n",
        "\n",
        "test_images = np.stack([np.array(img[0]).squeeze() for img in mnist_test])\n",
        "test_labels = np.array([img[1] for img in mnist_test])\n",
        "\n",
        "print(\"Train shape:\", train_images.shape)\n",
        "print(\"Test shape:\", test_images.shape)\n"
      ]
    },
    {
      "cell_type": "markdown",
      "source": [
        "Usamos torchvision.datasets.MNIST para cargar imágenes y etiquetas, y luego convertimos a NumPy para trabajar con JAX. Esto es una práctica común cuando no se usan los utilitarios de TensorFlow."
      ],
      "metadata": {
        "id": "JC_-Gj8badlO"
      },
      "id": "JC_-Gj8badlO"
    },
    {
      "cell_type": "markdown",
      "source": [
        "Mostrar ejemplos del dataset"
      ],
      "metadata": {
        "id": "AeKKr2Cwaeyv"
      },
      "id": "AeKKr2Cwaeyv"
    },
    {
      "cell_type": "code",
      "execution_count": null,
      "id": "73bf5652-a28c-42cd-a5d8-598d0f86b690",
      "metadata": {
        "id": "73bf5652-a28c-42cd-a5d8-598d0f86b690",
        "colab": {
          "base_uri": "https://localhost:8080/",
          "height": 125
        },
        "outputId": "b0331bb6-594c-40a1-bd58-be3843ef84c8"
      },
      "outputs": [
        {
          "output_type": "display_data",
          "data": {
            "text/plain": [
              "<Figure size 1000x200 with 10 Axes>"
            ],
            "image/png": "[encoded data removed]"
          },
          "metadata": {}
        }
      ],
      "source": [
        "import matplotlib.pyplot as plt\n",
        "\n",
        "# Mostrar algunos ejemplos\n",
        "plt.figure(figsize=(10, 2))\n",
        "for i in range(10):\n",
        "    plt.subplot(1, 10, i + 1)\n",
        "    plt.imshow(train_images[i], cmap='gray')\n",
        "    plt.title(str(train_labels[i]))\n",
        "    plt.axis('off')\n",
        "plt.show()\n"
      ]
    },
    {
      "cell_type": "markdown",
      "source": [
        "La visualización se puede hacer directamente con matplotlib. Mostramos 10 imágenes con sus etiquetas como título."
      ],
      "metadata": {
        "id": "DhxcN3O7akx1"
      },
      "id": "DhxcN3O7akx1"
    },
    {
      "cell_type": "markdown",
      "source": [
        " Normalización y one-hot encoding"
      ],
      "metadata": {
        "id": "w7978oXXao1l"
      },
      "id": "w7978oXXao1l"
    },
    {
      "cell_type": "code",
      "execution_count": null,
      "id": "86a09f2a-8b82-47cf-a099-939f30ce4e0b",
      "metadata": {
        "id": "86a09f2a-8b82-47cf-a099-939f30ce4e0b"
      },
      "outputs": [],
      "source": [
        "import jax.numpy as jnp\n",
        "\n",
        "def normalize_img(image, label):\n",
        "    image = jnp.array(image) / 255.0\n",
        "    label = jnp.eye(10)[label]  # one-hot encoding\n",
        "    return image, label\n"
      ]
    },
    {
      "cell_type": "markdown",
      "source": [
        "Normalizamos los pixeles dividiendo por 255. El one-hot encoding se logra con jnp.eye(10)[label], que selecciona una fila de la identidad."
      ],
      "metadata": {
        "id": "tIa60SEUasI_"
      },
      "id": "tIa60SEUasI_"
    },
    {
      "cell_type": "markdown",
      "source": [
        "Función para preparar datos (batch, shuffle)"
      ],
      "metadata": {
        "id": "jYdB46lmas33"
      },
      "id": "jYdB46lmas33"
    },
    {
      "cell_type": "code",
      "source": [
        "import numpy as np\n",
        "\n",
        "def data_load(images, labels, augmented=normalize_img, shuffle=True, batch_size=5):\n",
        "    # Normalizamos y codificamos\n",
        "    data = [augmented(img, lbl) for img, lbl in zip(images, labels)]\n",
        "\n",
        "    if shuffle:\n",
        "        np.random.shuffle(data)\n",
        "\n",
        "    # Partimos en batches\n",
        "    batches = [data[i:i+batch_size] for i in range(0, len(data), batch_size)]\n",
        "\n",
        "    # Separar imágenes y etiquetas por batch\n",
        "    return [(jnp.stack([x[0] for x in batch]), jnp.stack([x[1] for x in batch])) for batch in batches]\n"
      ],
      "metadata": {
        "id": "-Yzan2hYa4OV"
      },
      "id": "-Yzan2hYa4OV",
      "execution_count": null,
      "outputs": []
    },
    {
      "cell_type": "markdown",
      "source": [
        "Esta función emula tf.data.Dataset con mapeo, shuffle y batching, todo en Python + JAX. Usamos listas y stack para empaquetar los batches."
      ],
      "metadata": {
        "id": "SmahpcN0a5Gm"
      },
      "id": "SmahpcN0a5Gm"
    },
    {
      "cell_type": "markdown",
      "source": [
        " Preparar datasets"
      ],
      "metadata": {
        "id": "LylLAW6ta6gO"
      },
      "id": "LylLAW6ta6gO"
    },
    {
      "cell_type": "code",
      "execution_count": null,
      "id": "2cf9aae8-9f7c-4883-be3e-3d33d2eade31",
      "metadata": {
        "id": "2cf9aae8-9f7c-4883-be3e-3d33d2eade31"
      },
      "outputs": [],
      "source": [
        "data_train = data_load(train_images, train_labels)\n",
        "data_test = data_load(test_images, test_labels, shuffle=False)\n"
      ]
    },
    {
      "cell_type": "markdown",
      "source": [
        "Visualizar algunos ejemplos del batch"
      ],
      "metadata": {
        "id": "p2qKkzm6a_CB"
      },
      "id": "p2qKkzm6a_CB"
    },
    {
      "cell_type": "code",
      "execution_count": null,
      "id": "747610fc-3bc3-4fd3-9fdc-d3ce0d1b2241",
      "metadata": {
        "id": "747610fc-3bc3-4fd3-9fdc-d3ce0d1b2241",
        "colab": {
          "base_uri": "https://localhost:8080/",
          "height": 290
        },
        "outputId": "1a513d14-a677-4c10-c128-59d67874cec2"
      },
      "outputs": [
        {
          "output_type": "display_data",
          "data": {
            "text/plain": [
              "<Figure size 300x300 with 4 Axes>"
            ],
            "image/png": "[encoded data removed]"
          },
          "metadata": {}
        }
      ],
      "source": [
        "plt.figure(figsize=(3, 3))\n",
        "for i in range(4):\n",
        "    images, labels = data_train[i]\n",
        "    ax = plt.subplot(2, 2, i + 1)\n",
        "    plt.imshow(images[0], cmap='gray')\n",
        "    label_idx = jnp.argmax(labels[0])\n",
        "    plt.title(f'{label_idx}')\n",
        "    plt.axis('off')\n"
      ]
    },
    {
      "cell_type": "markdown",
      "source": [
        "Como data_train es una lista, simplemente indexamos y usamos argmax para obtener la clase a partir del one-hot encoding."
      ],
      "metadata": {
        "id": "Niq9tOlvbEOo"
      },
      "id": "Niq9tOlvbEOo"
    },
    {
      "cell_type": "markdown",
      "id": "13476b59-e119-4b70-a663-836fe1207cea",
      "metadata": {
        "id": "13476b59-e119-4b70-a663-836fe1207cea"
      },
      "source": [
        "### Data Augmentation"
      ]
    },
    {
      "cell_type": "markdown",
      "id": "01fdba53-13e2-4041-844d-4339f05df3d7",
      "metadata": {
        "id": "01fdba53-13e2-4041-844d-4339f05df3d7"
      },
      "source": [
        "### Metodo 1. sobre tf.data"
      ]
    },
    {
      "cell_type": "code",
      "execution_count": null,
      "id": "6f362e9c-88ee-4e7d-b5c4-1af1bc7cd2e6",
      "metadata": {
        "id": "6f362e9c-88ee-4e7d-b5c4-1af1bc7cd2e6"
      },
      "outputs": [],
      "source": [
        "def augment_data(image, label):\n",
        "    # Convertimos a NumPy en caso de que sea JAX array\n",
        "    image = np.array(image)\n",
        "\n",
        "    if np.random.rand() > 0.5:\n",
        "        image = np.fliplr(image)\n",
        "    if np.random.rand() > 0.5:\n",
        "        image = np.flipud(image)\n",
        "    if np.random.rand() > 0.5:\n",
        "        # Especificamos los ejes (default es (0, 1) pero lo ponemos explícito)\n",
        "        image = np.rot90(image, k=1, axes=(0, 1))\n",
        "\n",
        "    return jnp.array(image), label\n"
      ]
    },
    {
      "cell_type": "markdown",
      "source": [
        "No hay funciones de imagen como en TensorFlow, así que usamos numpy para operaciones como flip y rot90. Esto se hace antes del entrenamiento."
      ],
      "metadata": {
        "id": "2mmBgOEbbI5W"
      },
      "id": "2mmBgOEbbI5W"
    },
    {
      "cell_type": "markdown",
      "source": [
        "Redefinir data_train y data_test con augmentación"
      ],
      "metadata": {
        "id": "erwNh4pGbVum"
      },
      "id": "erwNh4pGbVum"
    },
    {
      "cell_type": "code",
      "execution_count": null,
      "id": "f717e177-97e3-4b89-8991-1ee5fda56f63",
      "metadata": {
        "id": "f717e177-97e3-4b89-8991-1ee5fda56f63"
      },
      "outputs": [],
      "source": [
        "data_train = data_load(train_images, train_labels, augmented=augment_data)\n",
        "data_test = data_load(test_images, test_labels, augmented=augment_data, shuffle=False)\n"
      ]
    },
    {
      "cell_type": "markdown",
      "source": [
        "Visualización de batches con .take()"
      ],
      "metadata": {
        "id": "MHDU7_jqfhEx"
      },
      "id": "MHDU7_jqfhEx"
    },
    {
      "cell_type": "code",
      "execution_count": null,
      "id": "d4ee6170-5d66-4efe-bad5-5f8df1ac1ae2",
      "metadata": {
        "id": "d4ee6170-5d66-4efe-bad5-5f8df1ac1ae2",
        "colab": {
          "base_uri": "https://localhost:8080/",
          "height": 359
        },
        "outputId": "2201d862-bd78-43af-94ce-7ea9d480f92e"
      },
      "outputs": [
        {
          "output_type": "stream",
          "name": "stdout",
          "text": [
            "(5, 28, 28) (5,)\n",
            "(5, 28, 28) (5,)\n",
            "(5, 28, 28) (5,)\n",
            "(5, 28, 28) (5,)\n"
          ]
        },
        {
          "output_type": "display_data",
          "data": {
            "text/plain": [
              "<Figure size 300x300 with 4 Axes>"
            ],
            "image/png": "[encoded data removed]"
          },
          "metadata": {}
        }
      ],
      "source": [
        "plt.figure(figsize=(3, 3))\n",
        "for i in range(4):\n",
        "    images, labels = data_train[i]\n",
        "    print(images.shape, labels.shape)\n",
        "    ax = plt.subplot(2, 2, i + 1)\n",
        "    plt.imshow(np.array(images[0]), cmap='gray')\n",
        "    label = jnp.argmax(labels[0])\n",
        "    plt.title(f'{label}')\n",
        "    plt.axis(\"off\")\n"
      ]
    },
    {
      "cell_type": "markdown",
      "source": [
        "Usamos listas indexables en lugar de .take(), y argmax para recuperar la clase desde el one-hot encoding."
      ],
      "metadata": {
        "id": "IKJ7pl6jfopF"
      },
      "id": "IKJ7pl6jfopF"
    },
    {
      "cell_type": "markdown",
      "source": [
        "Secuencia de capas de augmentación con Keras"
      ],
      "metadata": {
        "id": "1RjVHH6PfnPb"
      },
      "id": "1RjVHH6PfnPb"
    },
    {
      "cell_type": "code",
      "execution_count": null,
      "id": "fc84c385-945d-4213-b10d-6bf0a5055f37",
      "metadata": {
        "id": "fc84c385-945d-4213-b10d-6bf0a5055f37"
      },
      "outputs": [],
      "source": [
        "import numpy as np\n",
        "from jax.image import resize\n",
        "from jax import random\n",
        "\n",
        "def augment_pipeline(image, key):\n",
        "    # Simula el Rescaling (aunque ya hecho antes)\n",
        "    image = image / 255.0 if image.max() > 1 else image\n",
        "\n",
        "    # Simula RandomContrast\n",
        "    if random.uniform(key) > 0.5:\n",
        "        factor = random.uniform(key, (), minval=0.5, maxval=1.5)\n",
        "        mean = jnp.mean(image)\n",
        "        image = (image - mean) * factor + mean\n",
        "\n",
        "    # Simula RandomZoom\n",
        "    if random.uniform(key) > 0.5:\n",
        "        zoom = random.uniform(key, (), minval=0.8, maxval=1.2)\n",
        "        new_size = int(image.shape[0] * zoom)\n",
        "        image = resize(image, (new_size, new_size), method='bilinear')\n",
        "        # Crop o pad al tamaño original\n",
        "        if new_size > image.shape[0]:\n",
        "            crop = (new_size - image.shape[0]) // 2\n",
        "            image = image[crop:-crop, crop:-crop]\n",
        "        else:\n",
        "            pad = (image.shape[0] - new_size) // 2\n",
        "            image = jnp.pad(image, ((pad, pad), (pad, pad)), mode='constant')\n",
        "\n",
        "    # Simula RandomFlip\n",
        "    if random.uniform(key) > 0.5:\n",
        "        image = jnp.fliplr(image)\n",
        "\n",
        "    # Simula RandomCrop a 20x20\n",
        "    if image.shape[0] >= 20:\n",
        "        start = random.randint(key, (), 0, image.shape[0] - 20)\n",
        "        image = image[start:start+20, start:start+20]\n",
        "\n",
        "    return image\n"
      ]
    },
    {
      "cell_type": "markdown",
      "source": [
        "Aquí implementamos transformaciones aleatorias como contraste, zoom, flip y crop usando jax.random para que sean compatibles con JAX."
      ],
      "metadata": {
        "id": "8L2PkmIcfu6b"
      },
      "id": "8L2PkmIcfu6b"
    },
    {
      "cell_type": "markdown",
      "source": [
        "CategoryEncoding (one-hot)"
      ],
      "metadata": {
        "id": "dIRZt0lmgOYD"
      },
      "id": "dIRZt0lmgOYD"
    },
    {
      "cell_type": "code",
      "source": [
        "label = jnp.eye(10)[label]\n"
      ],
      "metadata": {
        "id": "YqCm5RjhgLKg"
      },
      "id": "YqCm5RjhgLKg",
      "execution_count": null,
      "outputs": []
    },
    {
      "cell_type": "code",
      "execution_count": null,
      "id": "25ca8258-2cb1-4811-979b-dd3500785530",
      "metadata": {
        "id": "25ca8258-2cb1-4811-979b-dd3500785530"
      },
      "outputs": [],
      "source": [
        "def data_load_sequential(images, labels, augment_fn, batch_size=5, shuffle=True, rng_seed=0):\n",
        "    from jax import random\n",
        "\n",
        "    rng = random.PRNGKey(rng_seed)\n",
        "    data = []\n",
        "\n",
        "    for i in range(len(images)):\n",
        "        key, rng = random.split(rng)\n",
        "        img_aug = augment_fn(images[i], key)  # aplica augmentación tipo \"modelo\"\n",
        "        lbl_onehot = jnp.eye(10)[labels[i]]\n",
        "        data.append((img_aug, lbl_onehot))\n",
        "\n",
        "    if shuffle:\n",
        "        np.random.shuffle(data)\n",
        "\n",
        "    # Particionar en batches\n",
        "    batches = [data[i:i+batch_size] for i in range(0, len(data), batch_size)]\n",
        "\n",
        "    # Formato final: lista de tuplas (batch_imgs, batch_labels)\n",
        "    return [(jnp.stack([x[0] for x in batch]), jnp.stack([x[1] for x in batch])) for batch in batches]\n"
      ]
    },
    {
      "cell_type": "markdown",
      "source": [
        "Esta función replica el comportamiento de tf.data.Dataset.map + Sequential. Aquí usamos augment_pipeline como si fuera el modelo Keras y aplicamos jnp.eye para el one-hot. El uso de PRNGKey garantiza que las transformaciones sean reproducibles y compatibles con JAX"
      ],
      "metadata": {
        "id": "T7duvd7Ggp0R"
      },
      "id": "T7duvd7Ggp0R"
    },
    {
      "cell_type": "code",
      "execution_count": null,
      "id": "e99476c6-88cc-469b-adbb-a7d00ed96f8a",
      "metadata": {
        "id": "e99476c6-88cc-469b-adbb-a7d00ed96f8a"
      },
      "outputs": [],
      "source": [
        "plt.figure(figsize=(3, 3))\n",
        "i=0\n",
        "for ds,lb in data_train.take(4):\n",
        "    print(ds.shape,lb)\n",
        "    ax = plt.subplot(2, 2, i + 1)\n",
        "    plt.imshow(ds[0].numpy())\n",
        "    shaped=ds[0].numpy().shape\n",
        "    index = tf.argmax(lb, axis=1)\n",
        "    plt.title('{}'.format(index[0].numpy()))\n",
        "    plt.axis(\"off\")\n",
        "    i+=1"
      ]
    },
    {
      "cell_type": "markdown",
      "id": "c66807d1-3c37-4627-82c6-d03041972864",
      "metadata": {
        "id": "c66807d1-3c37-4627-82c6-d03041972864"
      },
      "source": [
        "## Modelo"
      ]
    },
    {
      "cell_type": "code",
      "execution_count": null,
      "id": "20ce4b0b-1c27-4fd0-9a04-69954494367f",
      "metadata": {
        "id": "20ce4b0b-1c27-4fd0-9a04-69954494367f",
        "colab": {
          "base_uri": "https://localhost:8080/"
        },
        "outputId": "aa0e952c-8c9a-4324-b544-b8969933d349"
      },
      "outputs": [
        {
          "output_type": "stream",
          "name": "stdout",
          "text": [
            "Requirement already satisfied: flax in /usr/local/lib/python3.11/dist-packages (0.10.6)\n",
            "Requirement already satisfied: numpy>=1.23.2 in /usr/local/lib/python3.11/dist-packages (from flax) (2.0.2)\n",
            "Requirement already satisfied: jax>=0.5.1 in /usr/local/lib/python3.11/dist-packages (from flax) (0.5.2)\n",
            "Requirement already satisfied: msgpack in /usr/local/lib/python3.11/dist-packages (from flax) (1.1.0)\n",
            "Requirement already satisfied: optax in /usr/local/lib/python3.11/dist-packages (from flax) (0.2.4)\n",
            "Requirement already satisfied: orbax-checkpoint in /usr/local/lib/python3.11/dist-packages (from flax) (0.11.13)\n",
            "Requirement already satisfied: tensorstore in /usr/local/lib/python3.11/dist-packages (from flax) (0.1.74)\n",
            "Requirement already satisfied: rich>=11.1 in /usr/local/lib/python3.11/dist-packages (from flax) (13.9.4)\n",
            "Requirement already satisfied: typing_extensions>=4.2 in /usr/local/lib/python3.11/dist-packages (from flax) (4.13.2)\n",
            "Requirement already satisfied: PyYAML>=5.4.1 in /usr/local/lib/python3.11/dist-packages (from flax) (6.0.2)\n",
            "Requirement already satisfied: treescope>=0.1.7 in /usr/local/lib/python3.11/dist-packages (from flax) (0.1.9)\n",
            "Requirement already satisfied: jaxlib<=0.5.2,>=0.5.1 in /usr/local/lib/python3.11/dist-packages (from jax>=0.5.1->flax) (0.5.1)\n",
            "Requirement already satisfied: ml_dtypes>=0.4.0 in /usr/local/lib/python3.11/dist-packages (from jax>=0.5.1->flax) (0.4.1)\n",
            "Requirement already satisfied: opt_einsum in /usr/local/lib/python3.11/dist-packages (from jax>=0.5.1->flax) (3.4.0)\n",
            "Requirement already satisfied: scipy>=1.11.1 in /usr/local/lib/python3.11/dist-packages (from jax>=0.5.1->flax) (1.15.3)\n",
            "Requirement already satisfied: markdown-it-py>=2.2.0 in /usr/local/lib/python3.11/dist-packages (from rich>=11.1->flax) (3.0.0)\n",
            "Requirement already satisfied: pygments<3.0.0,>=2.13.0 in /usr/local/lib/python3.11/dist-packages (from rich>=11.1->flax) (2.19.1)\n",
            "Requirement already satisfied: absl-py>=0.7.1 in /usr/local/lib/python3.11/dist-packages (from optax->flax) (1.4.0)\n",
            "Requirement already satisfied: chex>=0.1.87 in /usr/local/lib/python3.11/dist-packages (from optax->flax) (0.1.89)\n",
            "Requirement already satisfied: etils[epy] in /usr/local/lib/python3.11/dist-packages (from optax->flax) (1.12.2)\n",
            "Requirement already satisfied: nest_asyncio in /usr/local/lib/python3.11/dist-packages (from orbax-checkpoint->flax) (1.6.0)\n",
            "Requirement already satisfied: protobuf in /usr/local/lib/python3.11/dist-packages (from orbax-checkpoint->flax) (5.29.4)\n",
            "Requirement already satisfied: humanize in /usr/local/lib/python3.11/dist-packages (from orbax-checkpoint->flax) (4.12.3)\n",
            "Requirement already satisfied: simplejson>=3.16.0 in /usr/local/lib/python3.11/dist-packages (from orbax-checkpoint->flax) (3.20.1)\n",
            "Requirement already satisfied: toolz>=0.9.0 in /usr/local/lib/python3.11/dist-packages (from chex>=0.1.87->optax->flax) (0.12.1)\n",
            "Requirement already satisfied: mdurl~=0.1 in /usr/local/lib/python3.11/dist-packages (from markdown-it-py>=2.2.0->rich>=11.1->flax) (0.1.2)\n",
            "Requirement already satisfied: fsspec in /usr/local/lib/python3.11/dist-packages (from etils[epath,epy]->orbax-checkpoint->flax) (2025.3.2)\n",
            "Requirement already satisfied: importlib_resources in /usr/local/lib/python3.11/dist-packages (from etils[epath,epy]->orbax-checkpoint->flax) (6.5.2)\n",
            "Requirement already satisfied: zipp in /usr/local/lib/python3.11/dist-packages (from etils[epath,epy]->orbax-checkpoint->flax) (3.21.0)\n"
          ]
        }
      ],
      "source": [
        "!pip install flax\n"
      ]
    },
    {
      "cell_type": "code",
      "execution_count": null,
      "id": "c07ba30b-9e7e-4c7c-a75b-b6546bc4093e",
      "metadata": {
        "id": "c07ba30b-9e7e-4c7c-a75b-b6546bc4093e"
      },
      "outputs": [],
      "source": [
        "import flax.linen as nn\n",
        "import jax.numpy as jnp\n",
        "\n",
        "class SimpleClassifier(nn.Module):\n",
        "    @nn.compact\n",
        "    def __call__(self, x):\n",
        "        x = x.reshape((x.shape[0], -1))  # Flatten batch of images\n",
        "        x = nn.Dense(10)(x)\n",
        "        x = nn.softmax(x)\n",
        "        return x\n"
      ]
    },
    {
      "cell_type": "markdown",
      "source": [
        "Usamos @nn.compact para definir capas inline. La red toma un batch x, lo aplana (reshape), pasa por Dense(10) y termina con softmax."
      ],
      "metadata": {
        "id": "Vdnm4_n5g5V6"
      },
      "id": "Vdnm4_n5g5V6"
    },
    {
      "cell_type": "markdown",
      "source": [
        "Inicializar el modelo"
      ],
      "metadata": {
        "id": "hSg5khmog9Nk"
      },
      "id": "hSg5khmog9Nk"
    },
    {
      "cell_type": "code",
      "execution_count": null,
      "id": "cc18db8d-89a3-4edc-b323-5dbdafeccf46",
      "metadata": {
        "id": "cc18db8d-89a3-4edc-b323-5dbdafeccf46"
      },
      "outputs": [],
      "source": [
        "from flax.core import FrozenDict\n",
        "import jax\n",
        "import jax.random as random\n",
        "\n",
        "model = SimpleClassifier()\n",
        "key = random.PRNGKey(0)\n",
        "\n",
        "# Simula un batch de entrada con 28x28 imágenes\n",
        "sample_input = jnp.ones((1, 28, 28))\n",
        "params = model.init(key, sample_input)  # Inicializa pesos\n"
      ]
    },
    {
      "cell_type": "code",
      "source": [
        "logits = model.apply(params, sample_input)\n",
        "print(logits)\n"
      ],
      "metadata": {
        "colab": {
          "base_uri": "https://localhost:8080/"
        },
        "id": "h9e1sd3MhIai",
        "outputId": "63767240-87e7-4e0b-fbac-cac4fd504211"
      },
      "id": "h9e1sd3MhIai",
      "execution_count": null,
      "outputs": [
        {
          "output_type": "stream",
          "name": "stdout",
          "text": [
            "[[0.01853871 0.02028864 0.01994409 0.04075364 0.06902275 0.06555992\n",
            "  0.14929785 0.07925312 0.49320087 0.04414044]]\n"
          ]
        }
      ]
    },
    {
      "cell_type": "code",
      "source": [
        "import optax  # optimizador compatible con Flax\n",
        "\n",
        "# Función de pérdida\n",
        "def compute_loss(params, model, images, labels):\n",
        "    logits = model.apply(params, images)\n",
        "    one_hot = jax.nn.one_hot(labels, num_classes)\n",
        "    loss = optax.softmax_cross_entropy(logits=logits, labels=one_hot).mean()\n",
        "    return loss\n",
        "\n",
        "\n",
        "# Función de accuracy\n",
        "def compute_accuracy(params, model, images, labels):\n",
        "    logits = model.apply(params, images)\n",
        "    predictions = jnp.argmax(logits, axis=-1)\n",
        "    acc = jnp.mean(predictions == labels)\n",
        "    return acc\n"
      ],
      "metadata": {
        "id": "-K6K2HTohyAi"
      },
      "id": "-K6K2HTohyAi",
      "execution_count": null,
      "outputs": []
    },
    {
      "cell_type": "code",
      "source": [
        "import optax\n",
        "\n",
        "learning_rate = 0.001\n",
        "optimizer = optax.adam(learning_rate)\n",
        "opt_state = optimizer.init(params)\n"
      ],
      "metadata": {
        "id": "N6r_KwpOh07M"
      },
      "id": "N6r_KwpOh07M",
      "execution_count": null,
      "outputs": []
    },
    {
      "cell_type": "code",
      "source": [
        "def train_step(params, opt_state, model, images, labels):\n",
        "    loss, grads = jax.value_and_grad(compute_loss)(params, model, images, labels)\n",
        "    updates, opt_state = optimizer.update(grads, opt_state)\n",
        "    params = optax.apply_updates(params, updates)\n",
        "    return params, opt_state, loss\n",
        "\n"
      ],
      "metadata": {
        "id": "-NVSctaOh3CN"
      },
      "id": "-NVSctaOh3CN",
      "execution_count": null,
      "outputs": []
    },
    {
      "cell_type": "code",
      "source": [
        "num_epochs = 5\n",
        "\n",
        "for epoch in range(num_epochs):\n",
        "    losses = []\n",
        "    for batch_imgs, batch_lbls in data_train:\n",
        "        params, opt_state, loss = train_step(params, opt_state, model, batch_imgs, batch_lbls)\n",
        "        losses.append(loss)\n",
        "\n",
        "    avg_loss = jnp.mean(jnp.stack(losses))\n",
        "    acc = compute_accuracy(params, model, data_test[0][0], data_test[0][1])\n",
        "\n",
        "    print(f\"Epoch {epoch+1}, Loss: {avg_loss:.4f}, Accuracy (1st batch): {acc:.4f}\")\n"
      ],
      "metadata": {
        "colab": {
          "base_uri": "https://localhost:8080/"
        },
        "id": "QcCwLj6eh5dW",
        "outputId": "c85c9278-3c83-4523-9b28-664e05c572d5"
      },
      "id": "QcCwLj6eh5dW",
      "execution_count": null,
      "outputs": [
        {
          "output_type": "stream",
          "name": "stdout",
          "text": [
            "Epoch 1, Loss: 1.9245, Accuracy (1st batch): 0.6000\n",
            "Epoch 2, Loss: 1.8511, Accuracy (1st batch): 0.6000\n",
            "Epoch 3, Loss: 1.8343, Accuracy (1st batch): 0.6000\n",
            "Epoch 4, Loss: 1.8246, Accuracy (1st batch): 0.6000\n"
          ]
        }
      ]
    }
  ],
  "metadata": {
    "kernelspec": {
      "display_name": "Python 3",
      "language": "python",
      "name": "python3"
    },
    "language_info": {
      "codemirror_mode": {
        "name": "ipython",
        "version": 3
      },
      "file_extension": ".py",
      "mimetype": "text/x-python",
      "name": "python",
      "nbconvert_exporter": "python",
      "pygments_lexer": "ipython3",
      "version": "3.9.18"
    },
    "colab": {
      "provenance": []
    }
  },
  "nbformat": 4,
  "nbformat_minor": 5
}