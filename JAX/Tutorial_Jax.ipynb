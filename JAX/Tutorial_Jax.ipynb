{
  "nbformat": 4,
  "nbformat_minor": 0,
  "metadata": {
    "colab": {
      "provenance": []
    },
    "kernelspec": {
      "name": "python3",
      "display_name": "Python 3"
    },
    "language_info": {
      "name": "python"
    }
  },
  "cells": [
    {
      "cell_type": "code",
      "source": [
        "!pip install jax"
      ],
      "metadata": {
        "colab": {
          "base_uri": "https://localhost:8080/"
        },
        "id": "v168LLcvG2yj",
        "outputId": "30957ef1-c675-4249-f4bb-421c6efe8532"
      },
      "execution_count": null,
      "outputs": [
        {
          "output_type": "stream",
          "name": "stdout",
          "text": [
            "Requirement already satisfied: jax in /usr/local/lib/python3.11/dist-packages (0.4.33)\n",
            "Requirement already satisfied: jaxlib<=0.4.33,>=0.4.33 in /usr/local/lib/python3.11/dist-packages (from jax) (0.4.33)\n",
            "Requirement already satisfied: ml-dtypes>=0.2.0 in /usr/local/lib/python3.11/dist-packages (from jax) (0.4.1)\n",
            "Requirement already satisfied: numpy>=1.24 in /usr/local/lib/python3.11/dist-packages (from jax) (1.26.4)\n",
            "Requirement already satisfied: opt-einsum in /usr/local/lib/python3.11/dist-packages (from jax) (3.4.0)\n",
            "Requirement already satisfied: scipy>=1.10 in /usr/local/lib/python3.11/dist-packages (from jax) (1.13.1)\n"
          ]
        }
      ]
    },
    {
      "cell_type": "code",
      "execution_count": null,
      "metadata": {
        "id": "UGIwy6f5Gz9y"
      },
      "outputs": [],
      "source": [
        "import jax.numpy as jnp\n",
        "from jax import random\n"
      ]
    },
    {
      "cell_type": "markdown",
      "source": [
        "### Escalares"
      ],
      "metadata": {
        "id": "uK4m5cioHR_-"
      }
    },
    {
      "cell_type": "code",
      "source": [
        "escalar = jnp.array(3.14)\n",
        "escalar_int = jnp.array(42, dtype=jnp.int32)\n",
        "\n",
        "escalar, escalar_int"
      ],
      "metadata": {
        "colab": {
          "base_uri": "https://localhost:8080/"
        },
        "id": "7D8m5WPkHDl5",
        "outputId": "559df4fd-3cbd-4a1a-85f8-e860b300c440"
      },
      "execution_count": null,
      "outputs": [
        {
          "output_type": "execute_result",
          "data": {
            "text/plain": [
              "(Array(3.14, dtype=float32, weak_type=True), Array(42, dtype=int32))"
            ]
          },
          "metadata": {},
          "execution_count": 2
        }
      ]
    },
    {
      "cell_type": "markdown",
      "source": [
        "### Vectores"
      ],
      "metadata": {
        "id": "cO2LdROpHVFR"
      }
    },
    {
      "cell_type": "code",
      "source": [
        "vector = jnp.array([1.0, 2.0, 3.0])\n",
        "vector"
      ],
      "metadata": {
        "colab": {
          "base_uri": "https://localhost:8080/"
        },
        "id": "2ow0vJOfHPsc",
        "outputId": "ad849959-c71d-49f4-ef7f-94f4bafc89ce"
      },
      "execution_count": null,
      "outputs": [
        {
          "output_type": "execute_result",
          "data": {
            "text/plain": [
              "Array([1., 2., 3.], dtype=float32)"
            ]
          },
          "metadata": {},
          "execution_count": 3
        }
      ]
    },
    {
      "cell_type": "markdown",
      "source": [
        "### Matrices"
      ],
      "metadata": {
        "id": "2JIP0hMlHcTM"
      }
    },
    {
      "cell_type": "code",
      "source": [
        "matriz = jnp.array([[1, 2, 3], [4, 5, 6]])\n",
        "matriz"
      ],
      "metadata": {
        "colab": {
          "base_uri": "https://localhost:8080/"
        },
        "id": "NA4Lk6t6HbuE",
        "outputId": "8a32df44-53c0-496f-d59a-9655adccf721"
      },
      "execution_count": null,
      "outputs": [
        {
          "output_type": "execute_result",
          "data": {
            "text/plain": [
              "Array([[1, 2, 3],\n",
              "       [4, 5, 6]], dtype=int32)"
            ]
          },
          "metadata": {},
          "execution_count": 4
        }
      ]
    },
    {
      "cell_type": "markdown",
      "source": [
        "### Tensores"
      ],
      "metadata": {
        "id": "UeAGO-DRHkB5"
      }
    },
    {
      "cell_type": "code",
      "source": [
        "tensor = jnp.array([\n",
        "    [[1, 2], [3, 4]],\n",
        "    [[5, 6], [7, 8]]\n",
        "])\n",
        "tensor"
      ],
      "metadata": {
        "colab": {
          "base_uri": "https://localhost:8080/"
        },
        "id": "LgtNFNJ3HgIi",
        "outputId": "a06cc0ce-f5e8-41ff-d35c-a0cd700997f3"
      },
      "execution_count": null,
      "outputs": [
        {
          "output_type": "execute_result",
          "data": {
            "text/plain": [
              "Array([[[1, 2],\n",
              "        [3, 4]],\n",
              "\n",
              "       [[5, 6],\n",
              "        [7, 8]]], dtype=int32)"
            ]
          },
          "metadata": {},
          "execution_count": 5
        }
      ]
    },
    {
      "cell_type": "markdown",
      "source": [
        "### Inicializar con ceros o unos"
      ],
      "metadata": {
        "id": "22aLw9a2Huef"
      }
    },
    {
      "cell_type": "code",
      "source": [
        "ceros = jnp.zeros((3, 3))  # Matriz de ceros 3x3\n",
        "unos = jnp.ones((2, 2))  # Matriz de unos 2x2\n",
        "identidad = jnp.eye(3)  # Matriz identidad 3x3\n",
        "ceros, unos, identidad"
      ],
      "metadata": {
        "colab": {
          "base_uri": "https://localhost:8080/"
        },
        "id": "2o1_OtNQHxPP",
        "outputId": "560a746d-8e50-42ff-df5d-a2138ea92056"
      },
      "execution_count": null,
      "outputs": [
        {
          "output_type": "execute_result",
          "data": {
            "text/plain": [
              "(Array([[0., 0., 0.],\n",
              "        [0., 0., 0.],\n",
              "        [0., 0., 0.]], dtype=float32),\n",
              " Array([[1., 1.],\n",
              "        [1., 1.]], dtype=float32),\n",
              " Array([[1., 0., 0.],\n",
              "        [0., 1., 0.],\n",
              "        [0., 0., 1.]], dtype=float32))"
            ]
          },
          "metadata": {},
          "execution_count": 7
        }
      ]
    },
    {
      "cell_type": "markdown",
      "source": [
        "### Operaciones básicas (suma, resta, mul, div)"
      ],
      "metadata": {
        "id": "i69vUt0sIGeu"
      }
    },
    {
      "cell_type": "code",
      "source": [
        "a = jnp.array([1.0, 2.0, 3.0])\n",
        "b = jnp.array([4.0, 5.0, 6.0])\n",
        "\n",
        "suma = jnp.add(a, b)\n",
        "resta = jnp.subtract(a, b)\n",
        "multiplicacion = jnp.multiply(a, b)\n",
        "division = jnp.divide(a, b)\n",
        "\n",
        "print(f'Suma de {a} con {b} es {suma}\\n')\n",
        "print(f'Resta de {a} con {b} es {resta}\\n')\n",
        "print(f'Multiplicación de {a} con {b} es {multiplicacion}\\n')\n",
        "print(f'División de {a} con {b} es {division}\\n')"
      ],
      "metadata": {
        "colab": {
          "base_uri": "https://localhost:8080/"
        },
        "id": "nTKAH0ncIrQm",
        "outputId": "55908658-35cf-47d4-e566-d98f36a7e2ba"
      },
      "execution_count": null,
      "outputs": [
        {
          "output_type": "stream",
          "name": "stdout",
          "text": [
            "Suma de [1. 2. 3.] con [4. 5. 6.] es [5. 7. 9.]\n",
            "\n",
            "Resta de [1. 2. 3.] con [4. 5. 6.] es [-3. -3. -3.]\n",
            "\n",
            "Multiplicación de [1. 2. 3.] con [4. 5. 6.] es [ 4. 10. 18.]\n",
            "\n",
            "División de [1. 2. 3.] con [4. 5. 6.] es [0.25 0.4  0.5 ]\n",
            "\n"
          ]
        }
      ]
    },
    {
      "cell_type": "markdown",
      "source": [
        "Hay una forma más sencilla, es usar directamente las operaciones de Python, +, -, * y /"
      ],
      "metadata": {
        "id": "HyeFGbNoI0ow"
      }
    },
    {
      "cell_type": "code",
      "source": [
        "a = jnp.array([1.0, 2.0, 3.0])\n",
        "b = jnp.array([4.0, 5.0, 6.0])\n",
        "\n",
        "suma = a + b\n",
        "resta = a - b\n",
        "multiplicacion = a * b\n",
        "division = a / b\n",
        "\n",
        "print(f'Suma de {a} con {b} es {suma}\\n')\n",
        "print(f'Resta de {a} con {b} es {resta}\\n')\n",
        "print(f'Multiplicación de {a} con {b} es {multiplicacion}\\n')\n",
        "print(f'División de {a} con {b} es {division}\\n')"
      ],
      "metadata": {
        "colab": {
          "base_uri": "https://localhost:8080/"
        },
        "id": "BPpepQh2IKX3",
        "outputId": "60528ffd-4390-456a-cddc-65dffa0d7560"
      },
      "execution_count": null,
      "outputs": [
        {
          "output_type": "stream",
          "name": "stdout",
          "text": [
            "Suma de [1. 2. 3.] con [4. 5. 6.] es [5. 7. 9.]\n",
            "\n",
            "Resta de [1. 2. 3.] con [4. 5. 6.] es [-3. -3. -3.]\n",
            "\n",
            "Multiplicación de [1. 2. 3.] con [4. 5. 6.] es [ 4. 10. 18.]\n",
            "\n",
            "División de [1. 2. 3.] con [4. 5. 6.] es [0.25 0.4  0.5 ]\n",
            "\n"
          ]
        }
      ]
    },
    {
      "cell_type": "markdown",
      "source": [
        "### Operacaciones con matrices"
      ],
      "metadata": {
        "id": "QqJW9YK2JFlp"
      }
    },
    {
      "cell_type": "code",
      "source": [
        "A = jnp.array([[1, 2], [3, 4]])\n",
        "B = jnp.array([[5, 6], [7, 8]])\n",
        "\n",
        "producto_punto = jnp.dot(A, B)  # Producto matricial\n",
        "producto_matmul = A @ B  # Otra forma de multiplicar matrices\n",
        "print('Producto con jnp.dot: \\n', producto_punto, '\\n')\n",
        "print('Producto con @: \\n', producto_matmul)"
      ],
      "metadata": {
        "colab": {
          "base_uri": "https://localhost:8080/"
        },
        "id": "2-oE7EJ8JIcD",
        "outputId": "b73d49c2-4a96-4463-99f8-2ee3e1ab8782"
      },
      "execution_count": null,
      "outputs": [
        {
          "output_type": "stream",
          "name": "stdout",
          "text": [
            "Producto con jnp.dot: \n",
            " [[19 22]\n",
            " [43 50]] \n",
            "\n",
            "Producto con @: \n",
            " [[19 22]\n",
            " [43 50]]\n"
          ]
        }
      ]
    },
    {
      "cell_type": "markdown",
      "source": [
        "### Transpuesta y Determinante"
      ],
      "metadata": {
        "id": "S2v5EW6TJ0SR"
      }
    },
    {
      "cell_type": "code",
      "source": [
        "transpuesta = jnp.transpose(A)\n",
        "determinante = jnp.linalg.det(A)\n",
        "print('Transpuesta de A: \\n', transpuesta, '\\n')\n",
        "print('Determinante de A: \\n', determinante, '\\n')"
      ],
      "metadata": {
        "colab": {
          "base_uri": "https://localhost:8080/"
        },
        "id": "C0T40FxxJdSN",
        "outputId": "462bffb9-4a1d-4981-d90f-1973f61f5a32"
      },
      "execution_count": null,
      "outputs": [
        {
          "output_type": "stream",
          "name": "stdout",
          "text": [
            "Transpuesta de A: \n",
            " [[1 3]\n",
            " [2 4]] \n",
            "\n",
            "Determinante de A: \n",
            " -2.0 \n",
            "\n"
          ]
        }
      ]
    },
    {
      "cell_type": "markdown",
      "source": [
        "### Valores propios"
      ],
      "metadata": {
        "id": "SngM8Dz4J2V0"
      }
    },
    {
      "cell_type": "code",
      "source": [
        "inversa = jnp.linalg.inv(A)\n",
        "valores_propios, vectores_propios = jnp.linalg.eig(A)\n",
        "print('Inversa de A: \\n', inversa, '\\n')\n",
        "print('Valores propios de A: \\n', valores_propios, '\\n')"
      ],
      "metadata": {
        "colab": {
          "base_uri": "https://localhost:8080/"
        },
        "id": "1ZzGFIHdJ36M",
        "outputId": "025cd20e-d7a5-4e57-d6b6-2e3dbc59488e"
      },
      "execution_count": null,
      "outputs": [
        {
          "output_type": "stream",
          "name": "stdout",
          "text": [
            "Inversa de A: \n",
            " [[-2.0000002   1.0000001 ]\n",
            " [ 1.5000001  -0.50000006]] \n",
            "\n",
            "Valores propios de A: \n",
            " [-0.37228107+0.j  5.3722816 +0.j] \n",
            "\n"
          ]
        }
      ]
    },
    {
      "cell_type": "markdown",
      "source": [
        "### Operaciones agregadas (max, min, mean, etc...)"
      ],
      "metadata": {
        "id": "I_EURaEaKpCr"
      }
    },
    {
      "cell_type": "code",
      "source": [
        "arr = jnp.array([1, 2, 3, 4])\n",
        "\n",
        "suma_total = jnp.sum(arr)\n",
        "promedio = jnp.mean(arr)\n",
        "maximo = jnp.max(arr)\n",
        "idx_max = jnp.argmax(arr)\n",
        "minimo = jnp.min(arr)\n",
        "\n",
        "print(f'Suma de {arr} es {suma_total}')\n",
        "print(f'Promedio de {arr} es {promedio}')\n",
        "print(f'Máximo de {arr} es {maximo}')\n",
        "print(f'Índice del elemento máximo de {arr} es {idx_max}')\n",
        "print(f'Mínimo de {arr} es {minimo}')"
      ],
      "metadata": {
        "colab": {
          "base_uri": "https://localhost:8080/"
        },
        "id": "2e3PWdYXKsSM",
        "outputId": "ad1ae767-ccb1-4019-cccf-bc73b329d6b0"
      },
      "execution_count": null,
      "outputs": [
        {
          "output_type": "stream",
          "name": "stdout",
          "text": [
            "Suma de [1 2 3 4] es 10\n",
            "Promedio de [1 2 3 4] es 2.5\n",
            "Máximo de [1 2 3 4] es 4\n",
            "Índice del elemento máximo de [1 2 3 4] es 3\n",
            "Mínimo de [1 2 3 4] es 1\n"
          ]
        }
      ]
    },
    {
      "cell_type": "code",
      "source": [
        "c = jnp.array([[4.0, 5.0], [10.0, 1.0]], dtype=jnp.float32)\n",
        "\n",
        "print(jnp.arccosh(c))  # Equivalente a tf.acosh(c)"
      ],
      "metadata": {
        "colab": {
          "base_uri": "https://localhost:8080/"
        },
        "id": "EOmFVe_zK625",
        "outputId": "3c5d3039-cf8f-4ce8-f3ee-b08d80c3aa4d"
      },
      "execution_count": null,
      "outputs": [
        {
          "output_type": "stream",
          "name": "stdout",
          "text": [
            "[[2.063437  2.2924316]\n",
            " [2.993223  0.       ]]\n"
          ]
        }
      ]
    },
    {
      "cell_type": "markdown",
      "source": [
        "### Número de dimensiones"
      ],
      "metadata": {
        "id": "ohP7UgEOLrvl"
      }
    },
    {
      "cell_type": "code",
      "source": [
        "x = jnp.array(42)\n",
        "print('Dimensión de escalar: ', x.ndim)\n",
        "\n",
        "y = jnp.array([1, 2, 3])\n",
        "print('Dimensión de vector: ', y.ndim)\n",
        "\n",
        "z = jnp.array([[1, 2], [3, 4]])\n",
        "print('Dimensión de matriz: ', z.ndim)\n",
        "\n",
        "t = jnp.array([[[1, 2, 3], [4, 5, 6]], [[9, 8, 7], [6, 5, 4]]])\n",
        "print('Dimensión de tensor: ', t.ndim)\n",
        "t.shape"
      ],
      "metadata": {
        "colab": {
          "base_uri": "https://localhost:8080/"
        },
        "id": "JuJ7OPg0LtV2",
        "outputId": "00a53f66-2a19-4af2-945d-8a1e51762362"
      },
      "execution_count": null,
      "outputs": [
        {
          "output_type": "stream",
          "name": "stdout",
          "text": [
            "Dimensión de escalar:  0\n",
            "Dimensión de vector:  1\n",
            "Dimensión de matriz:  2\n",
            "Dimensión de tensor:  3\n"
          ]
        },
        {
          "output_type": "execute_result",
          "data": {
            "text/plain": [
              "(2, 2, 3)"
            ]
          },
          "metadata": {},
          "execution_count": 15
        }
      ]
    },
    {
      "cell_type": "markdown",
      "source": [
        "### Generar números aleatorios"
      ],
      "metadata": {
        "id": "kifGKZ4rMtW9"
      }
    },
    {
      "cell_type": "code",
      "source": [
        "import jax.numpy as jnp\n",
        "import jax.random as random\n",
        "\n",
        "key = random.PRNGKey(50)  # Clave aleatoria para reproducibilidad, es como np.random.seed()\n",
        "d = random.uniform(key, shape=(5000,), minval=-10, maxval=10)"
      ],
      "metadata": {
        "id": "m48v3MdOMvey"
      },
      "execution_count": null,
      "outputs": []
    },
    {
      "cell_type": "code",
      "source": [
        "import matplotlib.pyplot as plt\n",
        "\n",
        "plt.hist(d, bins=20, edgecolor='black', alpha=0.7)\n",
        "plt.xlabel(\"Valor\")\n",
        "plt.ylabel(\"Frecuencia\")\n",
        "plt.title(\"Distribución Uniforme en JAX [-10, 10]\")\n",
        "plt.show()"
      ],
      "metadata": {
        "colab": {
          "base_uri": "https://localhost:8080/",
          "height": 472
        },
        "id": "u2CCqjvoNBgU",
        "outputId": "a6fef973-05eb-483d-b1ce-e30f36b9a2d2"
      },
      "execution_count": null,
      "outputs": [
        {
          "output_type": "display_data",
          "data": {
            "text/plain": [
              "<Figure size 640x480 with 1 Axes>"
            ],
            "image/png": "[encoded data removed]"
          },
          "metadata": {}
        }
      ]
    },
    {
      "cell_type": "code",
      "source": [
        "import jax.numpy as jnp\n",
        "import jax.random as random\n",
        "import matplotlib.pyplot as plt\n",
        "\n",
        "key = random.PRNGKey(0)\n",
        "d = random.normal(key, shape=(5000,))  # Media=0, Desviación estándar=1\n",
        "\n",
        "plt.hist(d, bins=20, edgecolor='black', alpha=0.6, density=True, color='r')\n",
        "plt.xlabel(\"Valor\")\n",
        "plt.ylabel(\"Densidad\")\n",
        "plt.title(\"Distribución Normal en JAX (Media=0, STD=1)\")\n",
        "plt.show()"
      ],
      "metadata": {
        "colab": {
          "base_uri": "https://localhost:8080/",
          "height": 472
        },
        "id": "J41yXuHLNW1u",
        "outputId": "5d36ee3e-24d8-4c85-e190-c3009cc6e69c"
      },
      "execution_count": null,
      "outputs": [
        {
          "output_type": "display_data",
          "data": {
            "text/plain": [
              "<Figure size 640x480 with 1 Axes>"
            ],
            "image/png": "[encoded data removed]"
          },
          "metadata": {}
        }
      ]
    },
    {
      "cell_type": "markdown",
      "source": [
        "### Propiedades"
      ],
      "metadata": {
        "id": "eAm0JX28OJhM"
      }
    },
    {
      "cell_type": "code",
      "source": [
        "\n",
        "rank_4_tensor = jnp.ones((3, 2, 4, 5))\n",
        "\n",
        "print(\"Rango:\", rank_4_tensor.ndim)\n",
        "print(\"Tipo de elemento:\", rank_4_tensor.dtype)\n",
        "print(\"Número de ejes o dimensiones:\", rank_4_tensor.ndim)\n",
        "print(\"Tamaño del tensor:\", rank_4_tensor.shape)\n",
        "print(\"Elementos en el eje 0 del tensor:\", rank_4_tensor.shape[0])\n",
        "print(\"Elementos en el último eje del tensor:\", rank_4_tensor.shape[-1])\n",
        "print(\"Tamaño total de elementos (3*2*4*5):\", rank_4_tensor.size)"
      ],
      "metadata": {
        "colab": {
          "base_uri": "https://localhost:8080/"
        },
        "id": "nWgLRPdWOMuq",
        "outputId": "f6be5c78-c0b7-4ab1-aca0-cad3f87f9875"
      },
      "execution_count": null,
      "outputs": [
        {
          "output_type": "stream",
          "name": "stdout",
          "text": [
            "Rango: 4\n",
            "Tipo de elemento: float32\n",
            "Número de ejes o dimensiones: 4\n",
            "Tamaño del tensor: (3, 2, 4, 5)\n",
            "Elementos en el eje 0 del tensor: 3\n",
            "Elementos en el último eje del tensor: 5\n",
            "Tamaño total de elementos (3*2*4*5): 120\n"
          ]
        }
      ]
    },
    {
      "cell_type": "markdown",
      "source": [
        "1. Tamaño (shape): La longitud (número de elementos) de cada uno de los ejes de un tensor.\n",
        "2. Rango: Número de ejes tensoriales. Un escalar tiene rango 0, un vector tiene rango 1, una matriz tiene rango 2.\n",
        "3. Eje o Dimensión: Una dimensión particular de un tensor.\n",
        "4. Tamaño total (size): el número total de elementos en el tensor, el vector de forma del producto."
      ],
      "metadata": {
        "id": "h84Yun5UQgyA"
      }
    },
    {
      "cell_type": "markdown",
      "source": [
        "### Reshape"
      ],
      "metadata": {
        "id": "KpFUNF1wO3to"
      }
    },
    {
      "cell_type": "markdown",
      "source": [
        "Es importante recordar que las dimensiones deben coincidir, si tengo un vector de 12 elementos y lo quiero pasar a matriz, las dim deben coincidir con 12, ejemplo: $3\\times 4$, o $4 \\times 3$."
      ],
      "metadata": {
        "id": "PCwdsnCXPBS5"
      }
    },
    {
      "cell_type": "code",
      "source": [
        "tensor = jnp.arange(12)\n",
        "\n",
        "reshaped_tensor = jnp.reshape(tensor, (3, 4))\n",
        "\n",
        "print(\"Tensor original:\", tensor)\n",
        "print(\"Forma original:\", tensor.shape)\n",
        "print(\"Tensor reshapeado:\\n\", reshaped_tensor)\n",
        "print(\"Nueva forma:\", reshaped_tensor.shape)"
      ],
      "metadata": {
        "colab": {
          "base_uri": "https://localhost:8080/"
        },
        "id": "bmsPcdRpO4bM",
        "outputId": "7812eaa0-03ff-4937-9937-14007eb76f5b"
      },
      "execution_count": null,
      "outputs": [
        {
          "output_type": "stream",
          "name": "stdout",
          "text": [
            "Tensor original: [ 0  1  2  3  4  5  6  7  8  9 10 11]\n",
            "Forma original: (12,)\n",
            "Tensor reshapeado:\n",
            " [[ 0  1  2  3]\n",
            " [ 4  5  6  7]\n",
            " [ 8  9 10 11]]\n",
            "Nueva forma: (3, 4)\n"
          ]
        }
      ]
    },
    {
      "cell_type": "code",
      "source": [
        "a = jnp.array([[1., 2], [3., 4.]])\n",
        "print(\"Matriz original:\\n\", a)\n",
        "\n",
        "# Repetir la matriz 1 vez en la primera dimensión y 2 veces en la segunda\n",
        "b = jnp.tile(a, (1, 2))\n",
        "print(\"Repetido [1,2]:\\n\", b)\n",
        "\n",
        "# Repetir la matriz 2 veces en la primera dimensión y 3 veces en la segunda\n",
        "c = jnp.tile(a, (2, 3))\n",
        "print(\"Repetido [2,3]:\\n\", c)"
      ],
      "metadata": {
        "colab": {
          "base_uri": "https://localhost:8080/"
        },
        "id": "frwOZnylPp9_",
        "outputId": "d4bb2633-af0f-4d64-f4d2-dde739e56bf9"
      },
      "execution_count": null,
      "outputs": [
        {
          "output_type": "stream",
          "name": "stdout",
          "text": [
            "Matriz original:\n",
            " [[1. 2.]\n",
            " [3. 4.]]\n",
            "Repetido [1,2]:\n",
            " [[1. 2. 1. 2.]\n",
            " [3. 4. 3. 4.]]\n",
            "Repetido [2,3]:\n",
            " [[1. 2. 1. 2. 1. 2.]\n",
            " [3. 4. 3. 4. 3. 4.]\n",
            " [1. 2. 1. 2. 1. 2.]\n",
            " [3. 4. 3. 4. 3. 4.]]\n"
          ]
        }
      ]
    },
    {
      "cell_type": "markdown",
      "source": [
        "### Broadcasting"
      ],
      "metadata": {
        "id": "S88qAar5R3UX"
      }
    },
    {
      "cell_type": "markdown",
      "source": [
        "Hacer broadcasting manualmente"
      ],
      "metadata": {
        "id": "HxurAi2NSIBY"
      }
    },
    {
      "cell_type": "code",
      "source": [
        "A = jnp.array([1.0, 2.0, 3.0])  # (3,)\n",
        "B = jnp.array([4.0, 5.0, 6.0])  # (3,)\n",
        "\n",
        "# Expandir B para que tenga dimensión extra\n",
        "B = jnp.expand_dims(B, axis=1)  # (3,1)\n",
        "\n",
        "C = A + B  # Ahora sí se puede hacer broadcasting\n",
        "print(C)"
      ],
      "metadata": {
        "colab": {
          "base_uri": "https://localhost:8080/"
        },
        "id": "jHTvfbsUR17i",
        "outputId": "ec80ebe0-84ed-4491-d06e-de6ed65e9bf8"
      },
      "execution_count": null,
      "outputs": [
        {
          "output_type": "stream",
          "name": "stdout",
          "text": [
            "[[5. 6. 7.]\n",
            " [6. 7. 8.]\n",
            " [7. 8. 9.]]\n"
          ]
        }
      ]
    },
    {
      "cell_type": "markdown",
      "source": [
        "Jax hace el broadcasting automáticamente"
      ],
      "metadata": {
        "id": "gTM7q0AnSL2b"
      }
    },
    {
      "cell_type": "code",
      "source": [
        "# Tensores base\n",
        "A = jnp.array([[1.0, 2.0, 3.0]])\n",
        "B = jnp.array([[4.0], [5.0], [6.0]])\n",
        "\n",
        "# Suma con broadcasting\n",
        "C = A + B\n",
        "\n",
        "print(\"A:\\n\", A)\n",
        "print(\"B:\\n\", B)\n",
        "print(\"C = A + B (con broadcasting):\\n\", C)"
      ],
      "metadata": {
        "colab": {
          "base_uri": "https://localhost:8080/"
        },
        "id": "MSfV_iUKRA0J",
        "outputId": "301f116b-019d-4c79-af54-9c5ed30624d6"
      },
      "execution_count": null,
      "outputs": [
        {
          "output_type": "stream",
          "name": "stdout",
          "text": [
            "A:\n",
            " [[1. 2. 3.]]\n",
            "B:\n",
            " [[4.]\n",
            " [5.]\n",
            " [6.]]\n",
            "C = A + B (con broadcasting):\n",
            " [[5. 6. 7.]\n",
            " [6. 7. 8.]\n",
            " [7. 8. 9.]]\n"
          ]
        }
      ]
    },
    {
      "cell_type": "markdown",
      "metadata": {
        "id": "EKVzVLuE5GVb"
      },
      "source": [
        "![image.png](data:image/png;base64,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)"
      ]
    },
    {
      "cell_type": "markdown",
      "source": [
        " Diferencia entre tile y broadcast:\n",
        "\n",
        "- jnp.tile(A, (m, n)) duplica explícitamente los datos, ocupando más memoria.\n",
        "- Broadcasting no copia los datos, solo actúa como si el tensor tuviera la forma expandida."
      ],
      "metadata": {
        "id": "ekgmrV9ATEkS"
      }
    },
    {
      "cell_type": "markdown",
      "source": [
        "### Los datos de Jax son inmutables"
      ],
      "metadata": {
        "id": "3sC0WWuWFoe3"
      }
    },
    {
      "cell_type": "code",
      "source": [
        "A = jnp.array([1.0, 2.0, 3.0])\n",
        "#A[1] = 3\n",
        "B = A.at[1].set(3)\n",
        "B"
      ],
      "metadata": {
        "colab": {
          "base_uri": "https://localhost:8080/"
        },
        "id": "O2dloLZ2RQaf",
        "outputId": "aea6d90a-c366-4125-ddc2-cd5edfb252d0"
      },
      "execution_count": null,
      "outputs": [
        {
          "output_type": "execute_result",
          "data": {
            "text/plain": [
              "Array([1., 3., 3.], dtype=float32)"
            ]
          },
          "metadata": {},
          "execution_count": 33
        }
      ]
    },
    {
      "cell_type": "markdown",
      "source": [
        "Compatibilidad con Numpy"
      ],
      "metadata": {
        "id": "I4eWtVcUFubb"
      }
    },
    {
      "cell_type": "code",
      "source": [
        "import numpy as np\n",
        "\n",
        "numpy_array = np.array([[1.0, 2.0], [3.0, 4.0]])\n",
        "\n",
        "jax_array = jnp.array(numpy_array)\n",
        "\n",
        "print(\"NumPy Array:\\n\", numpy_array, type(numpy_array))\n",
        "print(\"JAX Array:\\n\", jax_array, type(jax_array))"
      ],
      "metadata": {
        "colab": {
          "base_uri": "https://localhost:8080/"
        },
        "id": "PPL8ZHMoFtlP",
        "outputId": "9539ef4c-6b3a-445e-bb6a-4d959c2cc4d4"
      },
      "execution_count": null,
      "outputs": [
        {
          "output_type": "stream",
          "name": "stdout",
          "text": [
            "NumPy Array:\n",
            " [[1. 2.]\n",
            " [3. 4.]] <class 'numpy.ndarray'>\n",
            "JAX Array:\n",
            " [[1. 2.]\n",
            " [3. 4.]] <class 'jaxlib.xla_extension.ArrayImpl'>\n"
          ]
        }
      ]
    },
    {
      "cell_type": "code",
      "source": [
        "numpy_array_2 = np.array(jax_array)  # Opción 1\n",
        "numpy_array_3 = np.asarray(jax_array)  # Opción 2 (más eficiente)\n",
        "\n",
        "print(\"JAX a NumPy:\\n\", numpy_array_2)"
      ],
      "metadata": {
        "colab": {
          "base_uri": "https://localhost:8080/"
        },
        "id": "aeJFYw41F41o",
        "outputId": "101b3759-e86d-48bd-8936-17bb15acfc67"
      },
      "execution_count": null,
      "outputs": [
        {
          "output_type": "stream",
          "name": "stdout",
          "text": [
            "JAX a NumPy:\n",
            " [[1. 2.]\n",
            " [3. 4.]]\n"
          ]
        }
      ]
    },
    {
      "cell_type": "code",
      "source": [
        "# JAX solo soporta valores numéricos\n",
        "numpy_array = jnp.array([['dasd', 'dasda']])\n"
      ],
      "metadata": {
        "colab": {
          "base_uri": "https://localhost:8080/",
          "height": 582
        },
        "id": "3FPEcHX8X6ej",
        "outputId": "412b0aba-289e-43e0-fe83-42555a18abfa"
      },
      "execution_count": null,
      "outputs": [
        {
          "output_type": "error",
          "ename": "TypeError",
          "evalue": "Value 'dasd' with dtype <U4 is not a valid JAX array type. Only arrays of numeric types are supported by JAX.",
          "traceback": [
            "\u001b[0;31m---------------------------------------------------------------------------\u001b[0m",
            "\u001b[0;31mTypeError\u001b[0m                                 Traceback (most recent call last)",
            "\u001b[0;32m/usr/local/lib/python3.11/dist-packages/jax/_src/dtypes.py\u001b[0m in \u001b[0;36mdtype\u001b[0;34m(x, canonicalize)\u001b[0m\n\u001b[1;32m    700\u001b[0m     \u001b[0;32mtry\u001b[0m\u001b[0;34m:\u001b[0m\u001b[0;34m\u001b[0m\u001b[0;34m\u001b[0m\u001b[0m\n\u001b[0;32m--> 701\u001b[0;31m       \u001b[0mdt\u001b[0m \u001b[0;34m=\u001b[0m \u001b[0mnp\u001b[0m\u001b[0;34m.\u001b[0m\u001b[0mresult_type\u001b[0m\u001b[0;34m(\u001b[0m\u001b[0mx\u001b[0m\u001b[0;34m)\u001b[0m\u001b[0;34m\u001b[0m\u001b[0;34m\u001b[0m\u001b[0m\n\u001b[0m\u001b[1;32m    702\u001b[0m     \u001b[0;32mexcept\u001b[0m \u001b[0mTypeError\u001b[0m \u001b[0;32mas\u001b[0m \u001b[0merr\u001b[0m\u001b[0;34m:\u001b[0m\u001b[0;34m\u001b[0m\u001b[0;34m\u001b[0m\u001b[0m\n",
            "\u001b[0;31mTypeError\u001b[0m: data type 'dasd' not understood",
            "\nThe above exception was the direct cause of the following exception:\n",
            "\u001b[0;31mTypeError\u001b[0m                                 Traceback (most recent call last)",
            "\u001b[0;32m/usr/local/lib/python3.11/dist-packages/jax/_src/numpy/lax_numpy.py\u001b[0m in \u001b[0;36marray\u001b[0;34m(object, dtype, copy, order, ndmin, device)\u001b[0m\n\u001b[1;32m   4053\u001b[0m     \u001b[0;32mtry\u001b[0m\u001b[0;34m:\u001b[0m\u001b[0;34m\u001b[0m\u001b[0;34m\u001b[0m\u001b[0m\n\u001b[0;32m-> 4054\u001b[0;31m       \u001b[0mdtype\u001b[0m \u001b[0;34m=\u001b[0m \u001b[0mdtypes\u001b[0m\u001b[0;34m.\u001b[0m\u001b[0m_lattice_result_type\u001b[0m\u001b[0;34m(\u001b[0m\u001b[0;34m*\u001b[0m\u001b[0mleaves\u001b[0m\u001b[0;34m)\u001b[0m\u001b[0;34m[\u001b[0m\u001b[0;36m0\u001b[0m\u001b[0;34m]\u001b[0m \u001b[0;32mif\u001b[0m \u001b[0mleaves\u001b[0m \u001b[0;32melse\u001b[0m \u001b[0mdtypes\u001b[0m\u001b[0;34m.\u001b[0m\u001b[0mfloat_\u001b[0m\u001b[0;34m\u001b[0m\u001b[0;34m\u001b[0m\u001b[0m\n\u001b[0m\u001b[1;32m   4055\u001b[0m     \u001b[0;32mexcept\u001b[0m \u001b[0mTypeError\u001b[0m\u001b[0;34m:\u001b[0m\u001b[0;34m\u001b[0m\u001b[0;34m\u001b[0m\u001b[0m\n",
            "\u001b[0;32m/usr/local/lib/python3.11/dist-packages/jax/_src/dtypes.py\u001b[0m in \u001b[0;36m_lattice_result_type\u001b[0;34m(*args)\u001b[0m\n\u001b[1;32m    710\u001b[0m \u001b[0;32mdef\u001b[0m \u001b[0m_lattice_result_type\u001b[0m\u001b[0;34m(\u001b[0m\u001b[0;34m*\u001b[0m\u001b[0margs\u001b[0m\u001b[0;34m:\u001b[0m \u001b[0mAny\u001b[0m\u001b[0;34m)\u001b[0m \u001b[0;34m->\u001b[0m \u001b[0mtuple\u001b[0m\u001b[0;34m[\u001b[0m\u001b[0mDType\u001b[0m\u001b[0;34m,\u001b[0m \u001b[0mbool\u001b[0m\u001b[0;34m]\u001b[0m\u001b[0;34m:\u001b[0m\u001b[0;34m\u001b[0m\u001b[0;34m\u001b[0m\u001b[0m\n\u001b[0;32m--> 711\u001b[0;31m   \u001b[0mdtypes\u001b[0m\u001b[0;34m,\u001b[0m \u001b[0mweak_types\u001b[0m \u001b[0;34m=\u001b[0m \u001b[0mzip\u001b[0m\u001b[0;34m(\u001b[0m\u001b[0;34m*\u001b[0m\u001b[0;34m(\u001b[0m\u001b[0m_dtype_and_weaktype\u001b[0m\u001b[0;34m(\u001b[0m\u001b[0marg\u001b[0m\u001b[0;34m)\u001b[0m \u001b[0;32mfor\u001b[0m \u001b[0marg\u001b[0m \u001b[0;32min\u001b[0m \u001b[0margs\u001b[0m\u001b[0;34m)\u001b[0m\u001b[0;34m)\u001b[0m\u001b[0;34m\u001b[0m\u001b[0;34m\u001b[0m\u001b[0m\n\u001b[0m\u001b[1;32m    712\u001b[0m   \u001b[0;32mif\u001b[0m \u001b[0mlen\u001b[0m\u001b[0;34m(\u001b[0m\u001b[0mdtypes\u001b[0m\u001b[0;34m)\u001b[0m \u001b[0;34m==\u001b[0m \u001b[0;36m1\u001b[0m\u001b[0;34m:\u001b[0m\u001b[0;34m\u001b[0m\u001b[0;34m\u001b[0m\u001b[0m\n",
            "\u001b[0;32m/usr/local/lib/python3.11/dist-packages/jax/_src/dtypes.py\u001b[0m in \u001b[0;36m<genexpr>\u001b[0;34m(.0)\u001b[0m\n\u001b[1;32m    710\u001b[0m \u001b[0;32mdef\u001b[0m \u001b[0m_lattice_result_type\u001b[0m\u001b[0;34m(\u001b[0m\u001b[0;34m*\u001b[0m\u001b[0margs\u001b[0m\u001b[0;34m:\u001b[0m \u001b[0mAny\u001b[0m\u001b[0;34m)\u001b[0m \u001b[0;34m->\u001b[0m \u001b[0mtuple\u001b[0m\u001b[0;34m[\u001b[0m\u001b[0mDType\u001b[0m\u001b[0;34m,\u001b[0m \u001b[0mbool\u001b[0m\u001b[0;34m]\u001b[0m\u001b[0;34m:\u001b[0m\u001b[0;34m\u001b[0m\u001b[0;34m\u001b[0m\u001b[0m\n\u001b[0;32m--> 711\u001b[0;31m   \u001b[0mdtypes\u001b[0m\u001b[0;34m,\u001b[0m \u001b[0mweak_types\u001b[0m \u001b[0;34m=\u001b[0m \u001b[0mzip\u001b[0m\u001b[0;34m(\u001b[0m\u001b[0;34m*\u001b[0m\u001b[0;34m(\u001b[0m\u001b[0m_dtype_and_weaktype\u001b[0m\u001b[0;34m(\u001b[0m\u001b[0marg\u001b[0m\u001b[0;34m)\u001b[0m \u001b[0;32mfor\u001b[0m \u001b[0marg\u001b[0m \u001b[0;32min\u001b[0m \u001b[0margs\u001b[0m\u001b[0;34m)\u001b[0m\u001b[0;34m)\u001b[0m\u001b[0;34m\u001b[0m\u001b[0;34m\u001b[0m\u001b[0m\n\u001b[0m\u001b[1;32m    712\u001b[0m   \u001b[0;32mif\u001b[0m \u001b[0mlen\u001b[0m\u001b[0;34m(\u001b[0m\u001b[0mdtypes\u001b[0m\u001b[0;34m)\u001b[0m \u001b[0;34m==\u001b[0m \u001b[0;36m1\u001b[0m\u001b[0;34m:\u001b[0m\u001b[0;34m\u001b[0m\u001b[0;34m\u001b[0m\u001b[0m\n",
            "\u001b[0;32m/usr/local/lib/python3.11/dist-packages/jax/_src/dtypes.py\u001b[0m in \u001b[0;36m_dtype_and_weaktype\u001b[0;34m(value)\u001b[0m\n\u001b[1;32m    513\u001b[0m   \u001b[0;34m\"\"\"Return a (dtype, weak_type) tuple for the given input.\"\"\"\u001b[0m\u001b[0;34m\u001b[0m\u001b[0;34m\u001b[0m\u001b[0m\n\u001b[0;32m--> 514\u001b[0;31m   \u001b[0;32mreturn\u001b[0m \u001b[0mdtype\u001b[0m\u001b[0;34m(\u001b[0m\u001b[0mvalue\u001b[0m\u001b[0;34m)\u001b[0m\u001b[0;34m,\u001b[0m \u001b[0many\u001b[0m\u001b[0;34m(\u001b[0m\u001b[0mvalue\u001b[0m \u001b[0;32mis\u001b[0m \u001b[0mtyp\u001b[0m \u001b[0;32mfor\u001b[0m \u001b[0mtyp\u001b[0m \u001b[0;32min\u001b[0m \u001b[0m_weak_types\u001b[0m\u001b[0;34m)\u001b[0m \u001b[0;32mor\u001b[0m \u001b[0mis_weakly_typed\u001b[0m\u001b[0;34m(\u001b[0m\u001b[0mvalue\u001b[0m\u001b[0;34m)\u001b[0m\u001b[0;34m\u001b[0m\u001b[0;34m\u001b[0m\u001b[0m\n\u001b[0m\u001b[1;32m    515\u001b[0m \u001b[0;34m\u001b[0m\u001b[0m\n",
            "\u001b[0;32m/usr/local/lib/python3.11/dist-packages/jax/_src/dtypes.py\u001b[0m in \u001b[0;36mdtype\u001b[0;34m(x, canonicalize)\u001b[0m\n\u001b[1;32m    702\u001b[0m     \u001b[0;32mexcept\u001b[0m \u001b[0mTypeError\u001b[0m \u001b[0;32mas\u001b[0m \u001b[0merr\u001b[0m\u001b[0;34m:\u001b[0m\u001b[0;34m\u001b[0m\u001b[0;34m\u001b[0m\u001b[0m\n\u001b[0;32m--> 703\u001b[0;31m       \u001b[0;32mraise\u001b[0m \u001b[0mTypeError\u001b[0m\u001b[0;34m(\u001b[0m\u001b[0;34mf\"Cannot determine dtype of {x}\"\u001b[0m\u001b[0;34m)\u001b[0m \u001b[0;32mfrom\u001b[0m \u001b[0merr\u001b[0m\u001b[0;34m\u001b[0m\u001b[0;34m\u001b[0m\u001b[0m\n\u001b[0m\u001b[1;32m    704\u001b[0m   \u001b[0;32mif\u001b[0m \u001b[0mdt\u001b[0m \u001b[0;32mnot\u001b[0m \u001b[0;32min\u001b[0m \u001b[0m_jax_dtype_set\u001b[0m \u001b[0;32mand\u001b[0m \u001b[0;32mnot\u001b[0m \u001b[0missubdtype\u001b[0m\u001b[0;34m(\u001b[0m\u001b[0mdt\u001b[0m\u001b[0;34m,\u001b[0m \u001b[0mextended\u001b[0m\u001b[0;34m)\u001b[0m\u001b[0;34m:\u001b[0m\u001b[0;34m\u001b[0m\u001b[0;34m\u001b[0m\u001b[0m\n",
            "\u001b[0;31mTypeError\u001b[0m: Cannot determine dtype of dasd",
            "\nDuring handling of the above exception, another exception occurred:\n",
            "\u001b[0;31mTypeError\u001b[0m                                 Traceback (most recent call last)",
            "\u001b[0;32m<ipython-input-38-f1075eaf817f>\u001b[0m in \u001b[0;36m<cell line: 0>\u001b[0;34m()\u001b[0m\n\u001b[0;32m----> 1\u001b[0;31m \u001b[0mnumpy_array\u001b[0m \u001b[0;34m=\u001b[0m \u001b[0mjnp\u001b[0m\u001b[0;34m.\u001b[0m\u001b[0marray\u001b[0m\u001b[0;34m(\u001b[0m\u001b[0;34m[\u001b[0m\u001b[0;34m[\u001b[0m\u001b[0;34m'dasd'\u001b[0m\u001b[0;34m,\u001b[0m \u001b[0;34m'dasda'\u001b[0m\u001b[0;34m]\u001b[0m\u001b[0;34m]\u001b[0m\u001b[0;34m)\u001b[0m\u001b[0;34m\u001b[0m\u001b[0;34m\u001b[0m\u001b[0m\n\u001b[0m",
            "\u001b[0;32m/usr/local/lib/python3.11/dist-packages/jax/_src/numpy/lax_numpy.py\u001b[0m in \u001b[0;36marray\u001b[0;34m(object, dtype, copy, order, ndmin, device)\u001b[0m\n\u001b[1;32m   4057\u001b[0m       \u001b[0;31m# This is rare, so we only handle it if the normal path fails.\u001b[0m\u001b[0;34m\u001b[0m\u001b[0;34m\u001b[0m\u001b[0m\n\u001b[1;32m   4058\u001b[0m       \u001b[0mleaves\u001b[0m \u001b[0;34m=\u001b[0m \u001b[0;34m[\u001b[0m\u001b[0m_convert_to_array_if_dtype_fails\u001b[0m\u001b[0;34m(\u001b[0m\u001b[0mleaf\u001b[0m\u001b[0;34m)\u001b[0m \u001b[0;32mfor\u001b[0m \u001b[0mleaf\u001b[0m \u001b[0;32min\u001b[0m \u001b[0mleaves\u001b[0m\u001b[0;34m]\u001b[0m\u001b[0;34m\u001b[0m\u001b[0;34m\u001b[0m\u001b[0m\n\u001b[0;32m-> 4059\u001b[0;31m       \u001b[0mdtype\u001b[0m \u001b[0;34m=\u001b[0m \u001b[0mdtypes\u001b[0m\u001b[0;34m.\u001b[0m\u001b[0m_lattice_result_type\u001b[0m\u001b[0;34m(\u001b[0m\u001b[0;34m*\u001b[0m\u001b[0mleaves\u001b[0m\u001b[0;34m)\u001b[0m\u001b[0;34m[\u001b[0m\u001b[0;36m0\u001b[0m\u001b[0;34m]\u001b[0m\u001b[0;34m\u001b[0m\u001b[0;34m\u001b[0m\u001b[0m\n\u001b[0m\u001b[1;32m   4060\u001b[0m \u001b[0;34m\u001b[0m\u001b[0m\n\u001b[1;32m   4061\u001b[0m   \u001b[0;32mif\u001b[0m \u001b[0;32mnot\u001b[0m \u001b[0mweak_type\u001b[0m\u001b[0;34m:\u001b[0m\u001b[0;34m\u001b[0m\u001b[0;34m\u001b[0m\u001b[0m\n",
            "\u001b[0;32m/usr/local/lib/python3.11/dist-packages/jax/_src/dtypes.py\u001b[0m in \u001b[0;36m_lattice_result_type\u001b[0;34m(*args)\u001b[0m\n\u001b[1;32m    709\u001b[0m \u001b[0;34m\u001b[0m\u001b[0m\n\u001b[1;32m    710\u001b[0m \u001b[0;32mdef\u001b[0m \u001b[0m_lattice_result_type\u001b[0m\u001b[0;34m(\u001b[0m\u001b[0;34m*\u001b[0m\u001b[0margs\u001b[0m\u001b[0;34m:\u001b[0m \u001b[0mAny\u001b[0m\u001b[0;34m)\u001b[0m \u001b[0;34m->\u001b[0m \u001b[0mtuple\u001b[0m\u001b[0;34m[\u001b[0m\u001b[0mDType\u001b[0m\u001b[0;34m,\u001b[0m \u001b[0mbool\u001b[0m\u001b[0;34m]\u001b[0m\u001b[0;34m:\u001b[0m\u001b[0;34m\u001b[0m\u001b[0;34m\u001b[0m\u001b[0m\n\u001b[0;32m--> 711\u001b[0;31m   \u001b[0mdtypes\u001b[0m\u001b[0;34m,\u001b[0m \u001b[0mweak_types\u001b[0m \u001b[0;34m=\u001b[0m \u001b[0mzip\u001b[0m\u001b[0;34m(\u001b[0m\u001b[0;34m*\u001b[0m\u001b[0;34m(\u001b[0m\u001b[0m_dtype_and_weaktype\u001b[0m\u001b[0;34m(\u001b[0m\u001b[0marg\u001b[0m\u001b[0;34m)\u001b[0m \u001b[0;32mfor\u001b[0m \u001b[0marg\u001b[0m \u001b[0;32min\u001b[0m \u001b[0margs\u001b[0m\u001b[0;34m)\u001b[0m\u001b[0;34m)\u001b[0m\u001b[0;34m\u001b[0m\u001b[0;34m\u001b[0m\u001b[0m\n\u001b[0m\u001b[1;32m    712\u001b[0m   \u001b[0;32mif\u001b[0m \u001b[0mlen\u001b[0m\u001b[0;34m(\u001b[0m\u001b[0mdtypes\u001b[0m\u001b[0;34m)\u001b[0m \u001b[0;34m==\u001b[0m \u001b[0;36m1\u001b[0m\u001b[0;34m:\u001b[0m\u001b[0;34m\u001b[0m\u001b[0;34m\u001b[0m\u001b[0m\n\u001b[1;32m    713\u001b[0m     \u001b[0mout_dtype\u001b[0m \u001b[0;34m=\u001b[0m \u001b[0mdtypes\u001b[0m\u001b[0;34m[\u001b[0m\u001b[0;36m0\u001b[0m\u001b[0;34m]\u001b[0m\u001b[0;34m\u001b[0m\u001b[0;34m\u001b[0m\u001b[0m\n",
            "\u001b[0;32m/usr/local/lib/python3.11/dist-packages/jax/_src/dtypes.py\u001b[0m in \u001b[0;36m<genexpr>\u001b[0;34m(.0)\u001b[0m\n\u001b[1;32m    709\u001b[0m \u001b[0;34m\u001b[0m\u001b[0m\n\u001b[1;32m    710\u001b[0m \u001b[0;32mdef\u001b[0m \u001b[0m_lattice_result_type\u001b[0m\u001b[0;34m(\u001b[0m\u001b[0;34m*\u001b[0m\u001b[0margs\u001b[0m\u001b[0;34m:\u001b[0m \u001b[0mAny\u001b[0m\u001b[0;34m)\u001b[0m \u001b[0;34m->\u001b[0m \u001b[0mtuple\u001b[0m\u001b[0;34m[\u001b[0m\u001b[0mDType\u001b[0m\u001b[0;34m,\u001b[0m \u001b[0mbool\u001b[0m\u001b[0;34m]\u001b[0m\u001b[0;34m:\u001b[0m\u001b[0;34m\u001b[0m\u001b[0;34m\u001b[0m\u001b[0m\n\u001b[0;32m--> 711\u001b[0;31m   \u001b[0mdtypes\u001b[0m\u001b[0;34m,\u001b[0m \u001b[0mweak_types\u001b[0m \u001b[0;34m=\u001b[0m \u001b[0mzip\u001b[0m\u001b[0;34m(\u001b[0m\u001b[0;34m*\u001b[0m\u001b[0;34m(\u001b[0m\u001b[0m_dtype_and_weaktype\u001b[0m\u001b[0;34m(\u001b[0m\u001b[0marg\u001b[0m\u001b[0;34m)\u001b[0m \u001b[0;32mfor\u001b[0m \u001b[0marg\u001b[0m \u001b[0;32min\u001b[0m \u001b[0margs\u001b[0m\u001b[0;34m)\u001b[0m\u001b[0;34m)\u001b[0m\u001b[0;34m\u001b[0m\u001b[0;34m\u001b[0m\u001b[0m\n\u001b[0m\u001b[1;32m    712\u001b[0m   \u001b[0;32mif\u001b[0m \u001b[0mlen\u001b[0m\u001b[0;34m(\u001b[0m\u001b[0mdtypes\u001b[0m\u001b[0;34m)\u001b[0m \u001b[0;34m==\u001b[0m \u001b[0;36m1\u001b[0m\u001b[0;34m:\u001b[0m\u001b[0;34m\u001b[0m\u001b[0;34m\u001b[0m\u001b[0m\n\u001b[1;32m    713\u001b[0m     \u001b[0mout_dtype\u001b[0m \u001b[0;34m=\u001b[0m \u001b[0mdtypes\u001b[0m\u001b[0;34m[\u001b[0m\u001b[0;36m0\u001b[0m\u001b[0;34m]\u001b[0m\u001b[0;34m\u001b[0m\u001b[0;34m\u001b[0m\u001b[0m\n",
            "\u001b[0;32m/usr/local/lib/python3.11/dist-packages/jax/_src/dtypes.py\u001b[0m in \u001b[0;36m_dtype_and_weaktype\u001b[0;34m(value)\u001b[0m\n\u001b[1;32m    512\u001b[0m \u001b[0;32mdef\u001b[0m \u001b[0m_dtype_and_weaktype\u001b[0m\u001b[0;34m(\u001b[0m\u001b[0mvalue\u001b[0m\u001b[0;34m:\u001b[0m \u001b[0mAny\u001b[0m\u001b[0;34m)\u001b[0m \u001b[0;34m->\u001b[0m \u001b[0mtuple\u001b[0m\u001b[0;34m[\u001b[0m\u001b[0mDType\u001b[0m\u001b[0;34m,\u001b[0m \u001b[0mbool\u001b[0m\u001b[0;34m]\u001b[0m\u001b[0;34m:\u001b[0m\u001b[0;34m\u001b[0m\u001b[0;34m\u001b[0m\u001b[0m\n\u001b[1;32m    513\u001b[0m   \u001b[0;34m\"\"\"Return a (dtype, weak_type) tuple for the given input.\"\"\"\u001b[0m\u001b[0;34m\u001b[0m\u001b[0;34m\u001b[0m\u001b[0m\n\u001b[0;32m--> 514\u001b[0;31m   \u001b[0;32mreturn\u001b[0m \u001b[0mdtype\u001b[0m\u001b[0;34m(\u001b[0m\u001b[0mvalue\u001b[0m\u001b[0;34m)\u001b[0m\u001b[0;34m,\u001b[0m \u001b[0many\u001b[0m\u001b[0;34m(\u001b[0m\u001b[0mvalue\u001b[0m \u001b[0;32mis\u001b[0m \u001b[0mtyp\u001b[0m \u001b[0;32mfor\u001b[0m \u001b[0mtyp\u001b[0m \u001b[0;32min\u001b[0m \u001b[0m_weak_types\u001b[0m\u001b[0;34m)\u001b[0m \u001b[0;32mor\u001b[0m \u001b[0mis_weakly_typed\u001b[0m\u001b[0;34m(\u001b[0m\u001b[0mvalue\u001b[0m\u001b[0;34m)\u001b[0m\u001b[0;34m\u001b[0m\u001b[0;34m\u001b[0m\u001b[0m\n\u001b[0m\u001b[1;32m    515\u001b[0m \u001b[0;34m\u001b[0m\u001b[0m\n\u001b[1;32m    516\u001b[0m \u001b[0;32mdef\u001b[0m \u001b[0m_type_promotion_lattice\u001b[0m\u001b[0;34m(\u001b[0m\u001b[0mjax_numpy_dtype_promotion\u001b[0m\u001b[0;34m:\u001b[0m \u001b[0mstr\u001b[0m\u001b[0;34m)\u001b[0m \u001b[0;34m->\u001b[0m \u001b[0mdict\u001b[0m\u001b[0;34m[\u001b[0m\u001b[0mJAXType\u001b[0m\u001b[0;34m,\u001b[0m \u001b[0mlist\u001b[0m\u001b[0;34m[\u001b[0m\u001b[0mJAXType\u001b[0m\u001b[0;34m]\u001b[0m\u001b[0;34m]\u001b[0m\u001b[0;34m:\u001b[0m\u001b[0;34m\u001b[0m\u001b[0;34m\u001b[0m\u001b[0m\n",
            "\u001b[0;32m/usr/local/lib/python3.11/dist-packages/jax/_src/dtypes.py\u001b[0m in \u001b[0;36mdtype\u001b[0;34m(x, canonicalize)\u001b[0m\n\u001b[1;32m    703\u001b[0m       \u001b[0;32mraise\u001b[0m \u001b[0mTypeError\u001b[0m\u001b[0;34m(\u001b[0m\u001b[0;34mf\"Cannot determine dtype of {x}\"\u001b[0m\u001b[0;34m)\u001b[0m \u001b[0;32mfrom\u001b[0m \u001b[0merr\u001b[0m\u001b[0;34m\u001b[0m\u001b[0;34m\u001b[0m\u001b[0m\n\u001b[1;32m    704\u001b[0m   \u001b[0;32mif\u001b[0m \u001b[0mdt\u001b[0m \u001b[0;32mnot\u001b[0m \u001b[0;32min\u001b[0m \u001b[0m_jax_dtype_set\u001b[0m \u001b[0;32mand\u001b[0m \u001b[0;32mnot\u001b[0m \u001b[0missubdtype\u001b[0m\u001b[0;34m(\u001b[0m\u001b[0mdt\u001b[0m\u001b[0;34m,\u001b[0m \u001b[0mextended\u001b[0m\u001b[0;34m)\u001b[0m\u001b[0;34m:\u001b[0m\u001b[0;34m\u001b[0m\u001b[0;34m\u001b[0m\u001b[0m\n\u001b[0;32m--> 705\u001b[0;31m     raise TypeError(f\"Value '{x}' with dtype {dt} is not a valid JAX array \"\n\u001b[0m\u001b[1;32m    706\u001b[0m                     \"type. Only arrays of numeric types are supported by JAX.\")\n\u001b[1;32m    707\u001b[0m   \u001b[0;31m# TODO(jakevdp): fix return type annotation and remove this ignore.\u001b[0m\u001b[0;34m\u001b[0m\u001b[0;34m\u001b[0m\u001b[0m\n",
            "\u001b[0;31mTypeError\u001b[0m: Value 'dasd' with dtype <U4 is not a valid JAX array type. Only arrays of numeric types are supported by JAX."
          ]
        }
      ]
    },
    {
      "cell_type": "markdown",
      "source": [
        "### Gradiente"
      ],
      "metadata": {
        "id": "xiifH2oAGv75"
      }
    },
    {
      "cell_type": "code",
      "source": [
        "import jax\n",
        "\n",
        "def func(x):\n",
        "    return x**2\n",
        "\n",
        "x = 3.0\n",
        "\n",
        "# Calcular la derivada dy/dx en x=3.0\n",
        "grad_func = jax.grad(func)\n",
        "dy_dx = grad_func(x)\n",
        "\n",
        "print(\"dy/dx =\", dy_dx)\n"
      ],
      "metadata": {
        "colab": {
          "base_uri": "https://localhost:8080/"
        },
        "id": "CQa0PFczG1HJ",
        "outputId": "3c621186-0e4b-46ae-9c02-9cee96d8216a"
      },
      "execution_count": null,
      "outputs": [
        {
          "output_type": "stream",
          "name": "stdout",
          "text": [
            "dy/dx = 6.0\n"
          ]
        }
      ]
    },
    {
      "cell_type": "code",
      "source": [
        "import time\n",
        "\n",
        "def timeit(func):\n",
        "    def wrapper(*args, **kwargs):\n",
        "        inicio = time.time()\n",
        "        resultado = func(*args, **kwargs)\n",
        "        fin = time.time()\n",
        "        print(f\"La función {func.__name__} tardó {fin - inicio} segundos\")\n",
        "        return resultado\n",
        "    return wrapper"
      ],
      "metadata": {
        "id": "qtwvw6zAFS2l"
      },
      "execution_count": null,
      "outputs": []
    },
    {
      "cell_type": "code",
      "source": [
        "key = jax.random.PRNGKey(0)\n",
        "\n",
        "w = jax.random.normal(key, (3, 2))\n",
        "b = jnp.zeros(2)\n",
        "\n",
        "x = jnp.array([[1., 2., 3.]])\n",
        "\n",
        "@timeit\n",
        "def loss_fn(params):\n",
        "    y = x @ params['w'] + params['b']\n",
        "    return jnp.mean(y**2)\n",
        "\n",
        "my_vars = {'w': w, 'b': b}\n",
        "\n",
        "grad_fn = jax.grad(loss_fn)\n",
        "grad = grad_fn(my_vars)\n",
        "\n",
        "print(\"Gradiente de 'b':\", grad['b'])"
      ],
      "metadata": {
        "colab": {
          "base_uri": "https://localhost:8080/"
        },
        "id": "1IOUT3_lHFfa",
        "outputId": "84bc16e2-28a7-43a4-a11c-c5e900f43e75"
      },
      "execution_count": null,
      "outputs": [
        {
          "output_type": "stream",
          "name": "stdout",
          "text": [
            "La función loss_fn tardó 0.004564046859741211 segundos\n",
            "Gradiente de 'b': [2.2200902  0.86242735]\n"
          ]
        }
      ]
    },
    {
      "cell_type": "code",
      "source": [
        "x0 = 0.0\n",
        "x1 = 10.0\n",
        "\n",
        "def loss_fn(x1):  # Solo diferenciamos respecto a x1\n",
        "    y0 = jnp.sin(x0)  # No depende de x1, por lo que su gradiente es 0\n",
        "    y1 = jax.nn.softplus(x1)  # softplus(x) = log(1 + exp(x))\n",
        "    return jnp.sum(y0 + y1)\n",
        "\n",
        "# Calcular gradientes solo respecto a x1\n",
        "grad_fn = jax.grad(loss_fn)\n",
        "grad_x1 = grad_fn(x1)\n",
        "\n",
        "print(\"dy/dx0:\", 0.0)  # JAX no calcula gradiente de x0 porque no lo pasamos a jax.grad()\n",
        "print(\"dy/dx1:\", grad_x1)"
      ],
      "metadata": {
        "colab": {
          "base_uri": "https://localhost:8080/"
        },
        "id": "jeDtDbeEI2ur",
        "outputId": "961e3e62-760d-446b-83d7-671403f14c60"
      },
      "execution_count": null,
      "outputs": [
        {
          "output_type": "stream",
          "name": "stdout",
          "text": [
            "dy/dx0: 0.0\n",
            "dy/dx1: 0.9999542\n"
          ]
        }
      ]
    },
    {
      "cell_type": "code",
      "source": [
        "x = jnp.linspace(-10.0, 10.0, 201)\n",
        "\n",
        "def sigmoid(x):\n",
        "    return jax.nn.sigmoid(x)\n",
        "\n",
        "# Vectorizar el gradiente usando jax.vmap\n",
        "grad_sigmoid = jax.vmap(jax.grad(sigmoid))\n",
        "\n",
        "y = sigmoid(x)\n",
        "dy_dx = grad_sigmoid(x)\n",
        "\n",
        "plt.plot(x, y, label='y = sigmoid(x)')\n",
        "plt.plot(x, dy_dx, label='dy/dx', linestyle='dashed')\n",
        "plt.legend()\n",
        "plt.xlabel('x')\n",
        "plt.show()"
      ],
      "metadata": {
        "colab": {
          "base_uri": "https://localhost:8080/",
          "height": 449
        },
        "id": "aM8SuDYnJL04",
        "outputId": "f034b062-1103-4d10-a9a2-27a9f947930e"
      },
      "execution_count": null,
      "outputs": [
        {
          "output_type": "display_data",
          "data": {
            "text/plain": [
              "<Figure size 640x480 with 1 Axes>"
            ],
            "image/png": "[encoded data removed]"
          },
          "metadata": {}
        }
      ]
    }
  ]
}