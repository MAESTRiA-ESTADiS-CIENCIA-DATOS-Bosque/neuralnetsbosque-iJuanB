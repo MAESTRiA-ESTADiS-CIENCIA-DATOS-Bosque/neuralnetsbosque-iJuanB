{
  "nbformat": 4,
  "nbformat_minor": 0,
  "metadata": {
    "colab": {
      "provenance": [],
      "gpuType": "T4"
    },
    "kernelspec": {
      "name": "python3",
      "display_name": "Python 3"
    },
    "language_info": {
      "name": "python"
    },
    "accelerator": "GPU",
    "widgets": {
      "application/vnd.jupyter.widget-state+json": {
        "de9c6bdcfba943e4afe0d303b291beec": {
          "model_module": "@jupyter-widgets/controls",
          "model_name": "HBoxModel",
          "model_module_version": "1.5.0",
          "state": {
            "_dom_classes": [],
            "_model_module": "@jupyter-widgets/controls",
            "_model_module_version": "1.5.0",
            "_model_name": "HBoxModel",
            "_view_count": null,
            "_view_module": "@jupyter-widgets/controls",
            "_view_module_version": "1.5.0",
            "_view_name": "HBoxView",
            "box_style": "",
            "children": [
              "IPY_MODEL_d26736af5a4848ef8ab8ac5dccea6c15",
              "IPY_MODEL_d98b564970ec4bd987ce476d7259ddfe",
              "IPY_MODEL_3a6eec20bf5a431287fe1fa469379946"
            ],
            "layout": "IPY_MODEL_0d8cd42dc2794ebcb258f94e9486c32e"
          }
        },
        "d26736af5a4848ef8ab8ac5dccea6c15": {
          "model_module": "@jupyter-widgets/controls",
          "model_name": "HTMLModel",
          "model_module_version": "1.5.0",
          "state": {
            "_dom_classes": [],
            "_model_module": "@jupyter-widgets/controls",
            "_model_module_version": "1.5.0",
            "_model_name": "HTMLModel",
            "_view_count": null,
            "_view_module": "@jupyter-widgets/controls",
            "_view_module_version": "1.5.0",
            "_view_name": "HTMLView",
            "description": "",
            "description_tooltip": null,
            "layout": "IPY_MODEL_4ae63c87ebc045ffb419a59e28ee5292",
            "placeholder": "​",
            "style": "IPY_MODEL_c55d01bb486042efb1e5379719a89694",
            "value": "Dl Completed...: 100%"
          }
        },
        "d98b564970ec4bd987ce476d7259ddfe": {
          "model_module": "@jupyter-widgets/controls",
          "model_name": "FloatProgressModel",
          "model_module_version": "1.5.0",
          "state": {
            "_dom_classes": [],
            "_model_module": "@jupyter-widgets/controls",
            "_model_module_version": "1.5.0",
            "_model_name": "FloatProgressModel",
            "_view_count": null,
            "_view_module": "@jupyter-widgets/controls",
            "_view_module_version": "1.5.0",
            "_view_name": "ProgressView",
            "bar_style": "success",
            "description": "",
            "description_tooltip": null,
            "layout": "IPY_MODEL_df4e2d448e694d2fb74dd8346f0d8d82",
            "max": 1,
            "min": 0,
            "orientation": "horizontal",
            "style": "IPY_MODEL_f3a3c6f5af0947a0be7c5db8b5d01a5f",
            "value": 1
          }
        },
        "3a6eec20bf5a431287fe1fa469379946": {
          "model_module": "@jupyter-widgets/controls",
          "model_name": "HTMLModel",
          "model_module_version": "1.5.0",
          "state": {
            "_dom_classes": [],
            "_model_module": "@jupyter-widgets/controls",
            "_model_module_version": "1.5.0",
            "_model_name": "HTMLModel",
            "_view_count": null,
            "_view_module": "@jupyter-widgets/controls",
            "_view_module_version": "1.5.0",
            "_view_name": "HTMLView",
            "description": "",
            "description_tooltip": null,
            "layout": "IPY_MODEL_a4bfeaa0b3684dea9eb9c986a8e32fdb",
            "placeholder": "​",
            "style": "IPY_MODEL_1ccc389b80f04fa4a2745f995f144c15",
            "value": " 4/4 [00:07&lt;00:00,  2.29 url/s]"
          }
        },
        "0d8cd42dc2794ebcb258f94e9486c32e": {
          "model_module": "@jupyter-widgets/base",
          "model_name": "LayoutModel",
          "model_module_version": "1.2.0",
          "state": {
            "_model_module": "@jupyter-widgets/base",
            "_model_module_version": "1.2.0",
            "_model_name": "LayoutModel",
            "_view_count": null,
            "_view_module": "@jupyter-widgets/base",
            "_view_module_version": "1.2.0",
            "_view_name": "LayoutView",
            "align_content": null,
            "align_items": null,
            "align_self": null,
            "border": null,
            "bottom": null,
            "display": null,
            "flex": null,
            "flex_flow": null,
            "grid_area": null,
            "grid_auto_columns": null,
            "grid_auto_flow": null,
            "grid_auto_rows": null,
            "grid_column": null,
            "grid_gap": null,
            "grid_row": null,
            "grid_template_areas": null,
            "grid_template_columns": null,
            "grid_template_rows": null,
            "height": null,
            "justify_content": null,
            "justify_items": null,
            "left": null,
            "margin": null,
            "max_height": null,
            "max_width": null,
            "min_height": null,
            "min_width": null,
            "object_fit": null,
            "object_position": null,
            "order": null,
            "overflow": null,
            "overflow_x": null,
            "overflow_y": null,
            "padding": null,
            "right": null,
            "top": null,
            "visibility": null,
            "width": null
          }
        },
        "4ae63c87ebc045ffb419a59e28ee5292": {
          "model_module": "@jupyter-widgets/base",
          "model_name": "LayoutModel",
          "model_module_version": "1.2.0",
          "state": {
            "_model_module": "@jupyter-widgets/base",
            "_model_module_version": "1.2.0",
            "_model_name": "LayoutModel",
            "_view_count": null,
            "_view_module": "@jupyter-widgets/base",
            "_view_module_version": "1.2.0",
            "_view_name": "LayoutView",
            "align_content": null,
            "align_items": null,
            "align_self": null,
            "border": null,
            "bottom": null,
            "display": null,
            "flex": null,
            "flex_flow": null,
            "grid_area": null,
            "grid_auto_columns": null,
            "grid_auto_flow": null,
            "grid_auto_rows": null,
            "grid_column": null,
            "grid_gap": null,
            "grid_row": null,
            "grid_template_areas": null,
            "grid_template_columns": null,
            "grid_template_rows": null,
            "height": null,
            "justify_content": null,
            "justify_items": null,
            "left": null,
            "margin": null,
            "max_height": null,
            "max_width": null,
            "min_height": null,
            "min_width": null,
            "object_fit": null,
            "object_position": null,
            "order": null,
            "overflow": null,
            "overflow_x": null,
            "overflow_y": null,
            "padding": null,
            "right": null,
            "top": null,
            "visibility": null,
            "width": null
          }
        },
        "c55d01bb486042efb1e5379719a89694": {
          "model_module": "@jupyter-widgets/controls",
          "model_name": "DescriptionStyleModel",
          "model_module_version": "1.5.0",
          "state": {
            "_model_module": "@jupyter-widgets/controls",
            "_model_module_version": "1.5.0",
            "_model_name": "DescriptionStyleModel",
            "_view_count": null,
            "_view_module": "@jupyter-widgets/base",
            "_view_module_version": "1.2.0",
            "_view_name": "StyleView",
            "description_width": ""
          }
        },
        "df4e2d448e694d2fb74dd8346f0d8d82": {
          "model_module": "@jupyter-widgets/base",
          "model_name": "LayoutModel",
          "model_module_version": "1.2.0",
          "state": {
            "_model_module": "@jupyter-widgets/base",
            "_model_module_version": "1.2.0",
            "_model_name": "LayoutModel",
            "_view_count": null,
            "_view_module": "@jupyter-widgets/base",
            "_view_module_version": "1.2.0",
            "_view_name": "LayoutView",
            "align_content": null,
            "align_items": null,
            "align_self": null,
            "border": null,
            "bottom": null,
            "display": null,
            "flex": null,
            "flex_flow": null,
            "grid_area": null,
            "grid_auto_columns": null,
            "grid_auto_flow": null,
            "grid_auto_rows": null,
            "grid_column": null,
            "grid_gap": null,
            "grid_row": null,
            "grid_template_areas": null,
            "grid_template_columns": null,
            "grid_template_rows": null,
            "height": null,
            "justify_content": null,
            "justify_items": null,
            "left": null,
            "margin": null,
            "max_height": null,
            "max_width": null,
            "min_height": null,
            "min_width": null,
            "object_fit": null,
            "object_position": null,
            "order": null,
            "overflow": null,
            "overflow_x": null,
            "overflow_y": null,
            "padding": null,
            "right": null,
            "top": null,
            "visibility": null,
            "width": "20px"
          }
        },
        "f3a3c6f5af0947a0be7c5db8b5d01a5f": {
          "model_module": "@jupyter-widgets/controls",
          "model_name": "ProgressStyleModel",
          "model_module_version": "1.5.0",
          "state": {
            "_model_module": "@jupyter-widgets/controls",
            "_model_module_version": "1.5.0",
            "_model_name": "ProgressStyleModel",
            "_view_count": null,
            "_view_module": "@jupyter-widgets/base",
            "_view_module_version": "1.2.0",
            "_view_name": "StyleView",
            "bar_color": null,
            "description_width": ""
          }
        },
        "a4bfeaa0b3684dea9eb9c986a8e32fdb": {
          "model_module": "@jupyter-widgets/base",
          "model_name": "LayoutModel",
          "model_module_version": "1.2.0",
          "state": {
            "_model_module": "@jupyter-widgets/base",
            "_model_module_version": "1.2.0",
            "_model_name": "LayoutModel",
            "_view_count": null,
            "_view_module": "@jupyter-widgets/base",
            "_view_module_version": "1.2.0",
            "_view_name": "LayoutView",
            "align_content": null,
            "align_items": null,
            "align_self": null,
            "border": null,
            "bottom": null,
            "display": null,
            "flex": null,
            "flex_flow": null,
            "grid_area": null,
            "grid_auto_columns": null,
            "grid_auto_flow": null,
            "grid_auto_rows": null,
            "grid_column": null,
            "grid_gap": null,
            "grid_row": null,
            "grid_template_areas": null,
            "grid_template_columns": null,
            "grid_template_rows": null,
            "height": null,
            "justify_content": null,
            "justify_items": null,
            "left": null,
            "margin": null,
            "max_height": null,
            "max_width": null,
            "min_height": null,
            "min_width": null,
            "object_fit": null,
            "object_position": null,
            "order": null,
            "overflow": null,
            "overflow_x": null,
            "overflow_y": null,
            "padding": null,
            "right": null,
            "top": null,
            "visibility": null,
            "width": null
          }
        },
        "1ccc389b80f04fa4a2745f995f144c15": {
          "model_module": "@jupyter-widgets/controls",
          "model_name": "DescriptionStyleModel",
          "model_module_version": "1.5.0",
          "state": {
            "_model_module": "@jupyter-widgets/controls",
            "_model_module_version": "1.5.0",
            "_model_name": "DescriptionStyleModel",
            "_view_count": null,
            "_view_module": "@jupyter-widgets/base",
            "_view_module_version": "1.2.0",
            "_view_name": "StyleView",
            "description_width": ""
          }
        },
        "747a7e7fbbcf46e9be5142ec0a80202e": {
          "model_module": "@jupyter-widgets/controls",
          "model_name": "HBoxModel",
          "model_module_version": "1.5.0",
          "state": {
            "_dom_classes": [],
            "_model_module": "@jupyter-widgets/controls",
            "_model_module_version": "1.5.0",
            "_model_name": "HBoxModel",
            "_view_count": null,
            "_view_module": "@jupyter-widgets/controls",
            "_view_module_version": "1.5.0",
            "_view_name": "HBoxView",
            "box_style": "",
            "children": [
              "IPY_MODEL_3ae36b033e69450abd0c70ee2fe65ccc",
              "IPY_MODEL_1f79e12fb2b546449f7d8272c477ef0b",
              "IPY_MODEL_ea03cc3b15944c88b9850f0effd507e5"
            ],
            "layout": "IPY_MODEL_de1dddbcab9a4461977edd967aea2954"
          }
        },
        "3ae36b033e69450abd0c70ee2fe65ccc": {
          "model_module": "@jupyter-widgets/controls",
          "model_name": "HTMLModel",
          "model_module_version": "1.5.0",
          "state": {
            "_dom_classes": [],
            "_model_module": "@jupyter-widgets/controls",
            "_model_module_version": "1.5.0",
            "_model_name": "HTMLModel",
            "_view_count": null,
            "_view_module": "@jupyter-widgets/controls",
            "_view_module_version": "1.5.0",
            "_view_name": "HTMLView",
            "description": "",
            "description_tooltip": null,
            "layout": "IPY_MODEL_49c01eebf0a145d99a4504ddbf0a6339",
            "placeholder": "​",
            "style": "IPY_MODEL_1695a9066b81477694617148c4385fa1",
            "value": "Dl Size...: 100%"
          }
        },
        "1f79e12fb2b546449f7d8272c477ef0b": {
          "model_module": "@jupyter-widgets/controls",
          "model_name": "FloatProgressModel",
          "model_module_version": "1.5.0",
          "state": {
            "_dom_classes": [],
            "_model_module": "@jupyter-widgets/controls",
            "_model_module_version": "1.5.0",
            "_model_name": "FloatProgressModel",
            "_view_count": null,
            "_view_module": "@jupyter-widgets/controls",
            "_view_module_version": "1.5.0",
            "_view_name": "ProgressView",
            "bar_style": "success",
            "description": "",
            "description_tooltip": null,
            "layout": "IPY_MODEL_2bb7caec03624c5dae0071bee942f4f1",
            "max": 1,
            "min": 0,
            "orientation": "horizontal",
            "style": "IPY_MODEL_5d5ecdc3567544af8c143072a3ed3ffe",
            "value": 1
          }
        },
        "ea03cc3b15944c88b9850f0effd507e5": {
          "model_module": "@jupyter-widgets/controls",
          "model_name": "HTMLModel",
          "model_module_version": "1.5.0",
          "state": {
            "_dom_classes": [],
            "_model_module": "@jupyter-widgets/controls",
            "_model_module_version": "1.5.0",
            "_model_name": "HTMLModel",
            "_view_count": null,
            "_view_module": "@jupyter-widgets/controls",
            "_view_module_version": "1.5.0",
            "_view_name": "HTMLView",
            "description": "",
            "description_tooltip": null,
            "layout": "IPY_MODEL_04957e282c99465a8ee6119ff733c57c",
            "placeholder": "​",
            "style": "IPY_MODEL_49a78c55678a4618b8e91963a83f678e",
            "value": " 10/10 [00:07&lt;00:00,  2.40 MiB/s]"
          }
        },
        "de1dddbcab9a4461977edd967aea2954": {
          "model_module": "@jupyter-widgets/base",
          "model_name": "LayoutModel",
          "model_module_version": "1.2.0",
          "state": {
            "_model_module": "@jupyter-widgets/base",
            "_model_module_version": "1.2.0",
            "_model_name": "LayoutModel",
            "_view_count": null,
            "_view_module": "@jupyter-widgets/base",
            "_view_module_version": "1.2.0",
            "_view_name": "LayoutView",
            "align_content": null,
            "align_items": null,
            "align_self": null,
            "border": null,
            "bottom": null,
            "display": null,
            "flex": null,
            "flex_flow": null,
            "grid_area": null,
            "grid_auto_columns": null,
            "grid_auto_flow": null,
            "grid_auto_rows": null,
            "grid_column": null,
            "grid_gap": null,
            "grid_row": null,
            "grid_template_areas": null,
            "grid_template_columns": null,
            "grid_template_rows": null,
            "height": null,
            "justify_content": null,
            "justify_items": null,
            "left": null,
            "margin": null,
            "max_height": null,
            "max_width": null,
            "min_height": null,
            "min_width": null,
            "object_fit": null,
            "object_position": null,
            "order": null,
            "overflow": null,
            "overflow_x": null,
            "overflow_y": null,
            "padding": null,
            "right": null,
            "top": null,
            "visibility": null,
            "width": null
          }
        },
        "49c01eebf0a145d99a4504ddbf0a6339": {
          "model_module": "@jupyter-widgets/base",
          "model_name": "LayoutModel",
          "model_module_version": "1.2.0",
          "state": {
            "_model_module": "@jupyter-widgets/base",
            "_model_module_version": "1.2.0",
            "_model_name": "LayoutModel",
            "_view_count": null,
            "_view_module": "@jupyter-widgets/base",
            "_view_module_version": "1.2.0",
            "_view_name": "LayoutView",
            "align_content": null,
            "align_items": null,
            "align_self": null,
            "border": null,
            "bottom": null,
            "display": null,
            "flex": null,
            "flex_flow": null,
            "grid_area": null,
            "grid_auto_columns": null,
            "grid_auto_flow": null,
            "grid_auto_rows": null,
            "grid_column": null,
            "grid_gap": null,
            "grid_row": null,
            "grid_template_areas": null,
            "grid_template_columns": null,
            "grid_template_rows": null,
            "height": null,
            "justify_content": null,
            "justify_items": null,
            "left": null,
            "margin": null,
            "max_height": null,
            "max_width": null,
            "min_height": null,
            "min_width": null,
            "object_fit": null,
            "object_position": null,
            "order": null,
            "overflow": null,
            "overflow_x": null,
            "overflow_y": null,
            "padding": null,
            "right": null,
            "top": null,
            "visibility": null,
            "width": null
          }
        },
        "1695a9066b81477694617148c4385fa1": {
          "model_module": "@jupyter-widgets/controls",
          "model_name": "DescriptionStyleModel",
          "model_module_version": "1.5.0",
          "state": {
            "_model_module": "@jupyter-widgets/controls",
            "_model_module_version": "1.5.0",
            "_model_name": "DescriptionStyleModel",
            "_view_count": null,
            "_view_module": "@jupyter-widgets/base",
            "_view_module_version": "1.2.0",
            "_view_name": "StyleView",
            "description_width": ""
          }
        },
        "2bb7caec03624c5dae0071bee942f4f1": {
          "model_module": "@jupyter-widgets/base",
          "model_name": "LayoutModel",
          "model_module_version": "1.2.0",
          "state": {
            "_model_module": "@jupyter-widgets/base",
            "_model_module_version": "1.2.0",
            "_model_name": "LayoutModel",
            "_view_count": null,
            "_view_module": "@jupyter-widgets/base",
            "_view_module_version": "1.2.0",
            "_view_name": "LayoutView",
            "align_content": null,
            "align_items": null,
            "align_self": null,
            "border": null,
            "bottom": null,
            "display": null,
            "flex": null,
            "flex_flow": null,
            "grid_area": null,
            "grid_auto_columns": null,
            "grid_auto_flow": null,
            "grid_auto_rows": null,
            "grid_column": null,
            "grid_gap": null,
            "grid_row": null,
            "grid_template_areas": null,
            "grid_template_columns": null,
            "grid_template_rows": null,
            "height": null,
            "justify_content": null,
            "justify_items": null,
            "left": null,
            "margin": null,
            "max_height": null,
            "max_width": null,
            "min_height": null,
            "min_width": null,
            "object_fit": null,
            "object_position": null,
            "order": null,
            "overflow": null,
            "overflow_x": null,
            "overflow_y": null,
            "padding": null,
            "right": null,
            "top": null,
            "visibility": null,
            "width": "20px"
          }
        },
        "5d5ecdc3567544af8c143072a3ed3ffe": {
          "model_module": "@jupyter-widgets/controls",
          "model_name": "ProgressStyleModel",
          "model_module_version": "1.5.0",
          "state": {
            "_model_module": "@jupyter-widgets/controls",
            "_model_module_version": "1.5.0",
            "_model_name": "ProgressStyleModel",
            "_view_count": null,
            "_view_module": "@jupyter-widgets/base",
            "_view_module_version": "1.2.0",
            "_view_name": "StyleView",
            "bar_color": null,
            "description_width": ""
          }
        },
        "04957e282c99465a8ee6119ff733c57c": {
          "model_module": "@jupyter-widgets/base",
          "model_name": "LayoutModel",
          "model_module_version": "1.2.0",
          "state": {
            "_model_module": "@jupyter-widgets/base",
            "_model_module_version": "1.2.0",
            "_model_name": "LayoutModel",
            "_view_count": null,
            "_view_module": "@jupyter-widgets/base",
            "_view_module_version": "1.2.0",
            "_view_name": "LayoutView",
            "align_content": null,
            "align_items": null,
            "align_self": null,
            "border": null,
            "bottom": null,
            "display": null,
            "flex": null,
            "flex_flow": null,
            "grid_area": null,
            "grid_auto_columns": null,
            "grid_auto_flow": null,
            "grid_auto_rows": null,
            "grid_column": null,
            "grid_gap": null,
            "grid_row": null,
            "grid_template_areas": null,
            "grid_template_columns": null,
            "grid_template_rows": null,
            "height": null,
            "justify_content": null,
            "justify_items": null,
            "left": null,
            "margin": null,
            "max_height": null,
            "max_width": null,
            "min_height": null,
            "min_width": null,
            "object_fit": null,
            "object_position": null,
            "order": null,
            "overflow": null,
            "overflow_x": null,
            "overflow_y": null,
            "padding": null,
            "right": null,
            "top": null,
            "visibility": null,
            "width": null
          }
        },
        "49a78c55678a4618b8e91963a83f678e": {
          "model_module": "@jupyter-widgets/controls",
          "model_name": "DescriptionStyleModel",
          "model_module_version": "1.5.0",
          "state": {
            "_model_module": "@jupyter-widgets/controls",
            "_model_module_version": "1.5.0",
            "_model_name": "DescriptionStyleModel",
            "_view_count": null,
            "_view_module": "@jupyter-widgets/base",
            "_view_module_version": "1.2.0",
            "_view_name": "StyleView",
            "description_width": ""
          }
        },
        "fb47a284c12b4950bdc2473f2047005f": {
          "model_module": "@jupyter-widgets/controls",
          "model_name": "HBoxModel",
          "model_module_version": "1.5.0",
          "state": {
            "_dom_classes": [],
            "_model_module": "@jupyter-widgets/controls",
            "_model_module_version": "1.5.0",
            "_model_name": "HBoxModel",
            "_view_count": null,
            "_view_module": "@jupyter-widgets/controls",
            "_view_module_version": "1.5.0",
            "_view_name": "HBoxView",
            "box_style": "",
            "children": [
              "IPY_MODEL_8b340acdd79441cf9d21d0763e9ffe88",
              "IPY_MODEL_15899ad0db6b4f2a9dab55eb6364f209",
              "IPY_MODEL_1e1b71009bff4aa3a09465ed8184322c"
            ],
            "layout": "IPY_MODEL_ee035b161fbc47c8ac9c51d9d1dff248"
          }
        },
        "8b340acdd79441cf9d21d0763e9ffe88": {
          "model_module": "@jupyter-widgets/controls",
          "model_name": "HTMLModel",
          "model_module_version": "1.5.0",
          "state": {
            "_dom_classes": [],
            "_model_module": "@jupyter-widgets/controls",
            "_model_module_version": "1.5.0",
            "_model_name": "HTMLModel",
            "_view_count": null,
            "_view_module": "@jupyter-widgets/controls",
            "_view_module_version": "1.5.0",
            "_view_name": "HTMLView",
            "description": "",
            "description_tooltip": null,
            "layout": "IPY_MODEL_35fb687a4b00407f8c3e610fd12aee73",
            "placeholder": "​",
            "style": "IPY_MODEL_bb4d64ba0e1d46a3bd18832aa20f7b44",
            "value": "Extraction completed...: 100%"
          }
        },
        "15899ad0db6b4f2a9dab55eb6364f209": {
          "model_module": "@jupyter-widgets/controls",
          "model_name": "FloatProgressModel",
          "model_module_version": "1.5.0",
          "state": {
            "_dom_classes": [],
            "_model_module": "@jupyter-widgets/controls",
            "_model_module_version": "1.5.0",
            "_model_name": "FloatProgressModel",
            "_view_count": null,
            "_view_module": "@jupyter-widgets/controls",
            "_view_module_version": "1.5.0",
            "_view_name": "ProgressView",
            "bar_style": "success",
            "description": "",
            "description_tooltip": null,
            "layout": "IPY_MODEL_e891478b769443c19c664c57446e80f3",
            "max": 1,
            "min": 0,
            "orientation": "horizontal",
            "style": "IPY_MODEL_95ec9044514a4dbabd694fa4d4f8b0cf",
            "value": 1
          }
        },
        "1e1b71009bff4aa3a09465ed8184322c": {
          "model_module": "@jupyter-widgets/controls",
          "model_name": "HTMLModel",
          "model_module_version": "1.5.0",
          "state": {
            "_dom_classes": [],
            "_model_module": "@jupyter-widgets/controls",
            "_model_module_version": "1.5.0",
            "_model_name": "HTMLModel",
            "_view_count": null,
            "_view_module": "@jupyter-widgets/controls",
            "_view_module_version": "1.5.0",
            "_view_name": "HTMLView",
            "description": "",
            "description_tooltip": null,
            "layout": "IPY_MODEL_cb68204344274e128e3c2b9e49c2d124",
            "placeholder": "​",
            "style": "IPY_MODEL_c1cb7738002c491d9cd7cc86b16284e4",
            "value": " 4/4 [00:06&lt;00:00,  6.43s/ file]"
          }
        },
        "ee035b161fbc47c8ac9c51d9d1dff248": {
          "model_module": "@jupyter-widgets/base",
          "model_name": "LayoutModel",
          "model_module_version": "1.2.0",
          "state": {
            "_model_module": "@jupyter-widgets/base",
            "_model_module_version": "1.2.0",
            "_model_name": "LayoutModel",
            "_view_count": null,
            "_view_module": "@jupyter-widgets/base",
            "_view_module_version": "1.2.0",
            "_view_name": "LayoutView",
            "align_content": null,
            "align_items": null,
            "align_self": null,
            "border": null,
            "bottom": null,
            "display": null,
            "flex": null,
            "flex_flow": null,
            "grid_area": null,
            "grid_auto_columns": null,
            "grid_auto_flow": null,
            "grid_auto_rows": null,
            "grid_column": null,
            "grid_gap": null,
            "grid_row": null,
            "grid_template_areas": null,
            "grid_template_columns": null,
            "grid_template_rows": null,
            "height": null,
            "justify_content": null,
            "justify_items": null,
            "left": null,
            "margin": null,
            "max_height": null,
            "max_width": null,
            "min_height": null,
            "min_width": null,
            "object_fit": null,
            "object_position": null,
            "order": null,
            "overflow": null,
            "overflow_x": null,
            "overflow_y": null,
            "padding": null,
            "right": null,
            "top": null,
            "visibility": null,
            "width": null
          }
        },
        "35fb687a4b00407f8c3e610fd12aee73": {
          "model_module": "@jupyter-widgets/base",
          "model_name": "LayoutModel",
          "model_module_version": "1.2.0",
          "state": {
            "_model_module": "@jupyter-widgets/base",
            "_model_module_version": "1.2.0",
            "_model_name": "LayoutModel",
            "_view_count": null,
            "_view_module": "@jupyter-widgets/base",
            "_view_module_version": "1.2.0",
            "_view_name": "LayoutView",
            "align_content": null,
            "align_items": null,
            "align_self": null,
            "border": null,
            "bottom": null,
            "display": null,
            "flex": null,
            "flex_flow": null,
            "grid_area": null,
            "grid_auto_columns": null,
            "grid_auto_flow": null,
            "grid_auto_rows": null,
            "grid_column": null,
            "grid_gap": null,
            "grid_row": null,
            "grid_template_areas": null,
            "grid_template_columns": null,
            "grid_template_rows": null,
            "height": null,
            "justify_content": null,
            "justify_items": null,
            "left": null,
            "margin": null,
            "max_height": null,
            "max_width": null,
            "min_height": null,
            "min_width": null,
            "object_fit": null,
            "object_position": null,
            "order": null,
            "overflow": null,
            "overflow_x": null,
            "overflow_y": null,
            "padding": null,
            "right": null,
            "top": null,
            "visibility": null,
            "width": null
          }
        },
        "bb4d64ba0e1d46a3bd18832aa20f7b44": {
          "model_module": "@jupyter-widgets/controls",
          "model_name": "DescriptionStyleModel",
          "model_module_version": "1.5.0",
          "state": {
            "_model_module": "@jupyter-widgets/controls",
            "_model_module_version": "1.5.0",
            "_model_name": "DescriptionStyleModel",
            "_view_count": null,
            "_view_module": "@jupyter-widgets/base",
            "_view_module_version": "1.2.0",
            "_view_name": "StyleView",
            "description_width": ""
          }
        },
        "e891478b769443c19c664c57446e80f3": {
          "model_module": "@jupyter-widgets/base",
          "model_name": "LayoutModel",
          "model_module_version": "1.2.0",
          "state": {
            "_model_module": "@jupyter-widgets/base",
            "_model_module_version": "1.2.0",
            "_model_name": "LayoutModel",
            "_view_count": null,
            "_view_module": "@jupyter-widgets/base",
            "_view_module_version": "1.2.0",
            "_view_name": "LayoutView",
            "align_content": null,
            "align_items": null,
            "align_self": null,
            "border": null,
            "bottom": null,
            "display": null,
            "flex": null,
            "flex_flow": null,
            "grid_area": null,
            "grid_auto_columns": null,
            "grid_auto_flow": null,
            "grid_auto_rows": null,
            "grid_column": null,
            "grid_gap": null,
            "grid_row": null,
            "grid_template_areas": null,
            "grid_template_columns": null,
            "grid_template_rows": null,
            "height": null,
            "justify_content": null,
            "justify_items": null,
            "left": null,
            "margin": null,
            "max_height": null,
            "max_width": null,
            "min_height": null,
            "min_width": null,
            "object_fit": null,
            "object_position": null,
            "order": null,
            "overflow": null,
            "overflow_x": null,
            "overflow_y": null,
            "padding": null,
            "right": null,
            "top": null,
            "visibility": null,
            "width": "20px"
          }
        },
        "95ec9044514a4dbabd694fa4d4f8b0cf": {
          "model_module": "@jupyter-widgets/controls",
          "model_name": "ProgressStyleModel",
          "model_module_version": "1.5.0",
          "state": {
            "_model_module": "@jupyter-widgets/controls",
            "_model_module_version": "1.5.0",
            "_model_name": "ProgressStyleModel",
            "_view_count": null,
            "_view_module": "@jupyter-widgets/base",
            "_view_module_version": "1.2.0",
            "_view_name": "StyleView",
            "bar_color": null,
            "description_width": ""
          }
        },
        "cb68204344274e128e3c2b9e49c2d124": {
          "model_module": "@jupyter-widgets/base",
          "model_name": "LayoutModel",
          "model_module_version": "1.2.0",
          "state": {
            "_model_module": "@jupyter-widgets/base",
            "_model_module_version": "1.2.0",
            "_model_name": "LayoutModel",
            "_view_count": null,
            "_view_module": "@jupyter-widgets/base",
            "_view_module_version": "1.2.0",
            "_view_name": "LayoutView",
            "align_content": null,
            "align_items": null,
            "align_self": null,
            "border": null,
            "bottom": null,
            "display": null,
            "flex": null,
            "flex_flow": null,
            "grid_area": null,
            "grid_auto_columns": null,
            "grid_auto_flow": null,
            "grid_auto_rows": null,
            "grid_column": null,
            "grid_gap": null,
            "grid_row": null,
            "grid_template_areas": null,
            "grid_template_columns": null,
            "grid_template_rows": null,
            "height": null,
            "justify_content": null,
            "justify_items": null,
            "left": null,
            "margin": null,
            "max_height": null,
            "max_width": null,
            "min_height": null,
            "min_width": null,
            "object_fit": null,
            "object_position": null,
            "order": null,
            "overflow": null,
            "overflow_x": null,
            "overflow_y": null,
            "padding": null,
            "right": null,
            "top": null,
            "visibility": null,
            "width": null
          }
        },
        "c1cb7738002c491d9cd7cc86b16284e4": {
          "model_module": "@jupyter-widgets/controls",
          "model_name": "DescriptionStyleModel",
          "model_module_version": "1.5.0",
          "state": {
            "_model_module": "@jupyter-widgets/controls",
            "_model_module_version": "1.5.0",
            "_model_name": "DescriptionStyleModel",
            "_view_count": null,
            "_view_module": "@jupyter-widgets/base",
            "_view_module_version": "1.2.0",
            "_view_name": "StyleView",
            "description_width": ""
          }
        },
        "7271a5d95e4e4c2c9b7b9356a0678797": {
          "model_module": "@jupyter-widgets/controls",
          "model_name": "HBoxModel",
          "model_module_version": "1.5.0",
          "state": {
            "_dom_classes": [],
            "_model_module": "@jupyter-widgets/controls",
            "_model_module_version": "1.5.0",
            "_model_name": "HBoxModel",
            "_view_count": null,
            "_view_module": "@jupyter-widgets/controls",
            "_view_module_version": "1.5.0",
            "_view_name": "HBoxView",
            "box_style": "",
            "children": [
              "IPY_MODEL_626d4c79a5ca4e97b04152eb801d1e02",
              "IPY_MODEL_562ce6ad86fc47278662d058b3d9fc40",
              "IPY_MODEL_a4e8d5992a4a4a979bb986e659b35235"
            ],
            "layout": "IPY_MODEL_986c3df510a74fbca3234b3b1037cb02"
          }
        },
        "626d4c79a5ca4e97b04152eb801d1e02": {
          "model_module": "@jupyter-widgets/controls",
          "model_name": "HTMLModel",
          "model_module_version": "1.5.0",
          "state": {
            "_dom_classes": [],
            "_model_module": "@jupyter-widgets/controls",
            "_model_module_version": "1.5.0",
            "_model_name": "HTMLModel",
            "_view_count": null,
            "_view_module": "@jupyter-widgets/controls",
            "_view_module_version": "1.5.0",
            "_view_name": "HTMLView",
            "description": "",
            "description_tooltip": null,
            "layout": "IPY_MODEL_f11aac86ea984fd3873ee00d821ba1d5",
            "placeholder": "​",
            "style": "IPY_MODEL_4f387150b33f4b8aa0334f0dcf9f0c3c",
            "value": "Generating splits...: 100%"
          }
        },
        "562ce6ad86fc47278662d058b3d9fc40": {
          "model_module": "@jupyter-widgets/controls",
          "model_name": "FloatProgressModel",
          "model_module_version": "1.5.0",
          "state": {
            "_dom_classes": [],
            "_model_module": "@jupyter-widgets/controls",
            "_model_module_version": "1.5.0",
            "_model_name": "FloatProgressModel",
            "_view_count": null,
            "_view_module": "@jupyter-widgets/controls",
            "_view_module_version": "1.5.0",
            "_view_name": "ProgressView",
            "bar_style": "",
            "description": "",
            "description_tooltip": null,
            "layout": "IPY_MODEL_3060d2478ab0426e9767a5bb49a8786d",
            "max": 2,
            "min": 0,
            "orientation": "horizontal",
            "style": "IPY_MODEL_a556675470664be981d83589ad5595b2",
            "value": 2
          }
        },
        "a4e8d5992a4a4a979bb986e659b35235": {
          "model_module": "@jupyter-widgets/controls",
          "model_name": "HTMLModel",
          "model_module_version": "1.5.0",
          "state": {
            "_dom_classes": [],
            "_model_module": "@jupyter-widgets/controls",
            "_model_module_version": "1.5.0",
            "_model_name": "HTMLModel",
            "_view_count": null,
            "_view_module": "@jupyter-widgets/controls",
            "_view_module_version": "1.5.0",
            "_view_name": "HTMLView",
            "description": "",
            "description_tooltip": null,
            "layout": "IPY_MODEL_96eaef63ca134374bee7324d3fcbb3c7",
            "placeholder": "​",
            "style": "IPY_MODEL_3eba3a077edc43feb5e982ca6e55bf37",
            "value": " 2/2 [00:52&lt;00:00, 22.59s/ splits]"
          }
        },
        "986c3df510a74fbca3234b3b1037cb02": {
          "model_module": "@jupyter-widgets/base",
          "model_name": "LayoutModel",
          "model_module_version": "1.2.0",
          "state": {
            "_model_module": "@jupyter-widgets/base",
            "_model_module_version": "1.2.0",
            "_model_name": "LayoutModel",
            "_view_count": null,
            "_view_module": "@jupyter-widgets/base",
            "_view_module_version": "1.2.0",
            "_view_name": "LayoutView",
            "align_content": null,
            "align_items": null,
            "align_self": null,
            "border": null,
            "bottom": null,
            "display": null,
            "flex": null,
            "flex_flow": null,
            "grid_area": null,
            "grid_auto_columns": null,
            "grid_auto_flow": null,
            "grid_auto_rows": null,
            "grid_column": null,
            "grid_gap": null,
            "grid_row": null,
            "grid_template_areas": null,
            "grid_template_columns": null,
            "grid_template_rows": null,
            "height": null,
            "justify_content": null,
            "justify_items": null,
            "left": null,
            "margin": null,
            "max_height": null,
            "max_width": null,
            "min_height": null,
            "min_width": null,
            "object_fit": null,
            "object_position": null,
            "order": null,
            "overflow": null,
            "overflow_x": null,
            "overflow_y": null,
            "padding": null,
            "right": null,
            "top": null,
            "visibility": "hidden",
            "width": null
          }
        },
        "f11aac86ea984fd3873ee00d821ba1d5": {
          "model_module": "@jupyter-widgets/base",
          "model_name": "LayoutModel",
          "model_module_version": "1.2.0",
          "state": {
            "_model_module": "@jupyter-widgets/base",
            "_model_module_version": "1.2.0",
            "_model_name": "LayoutModel",
            "_view_count": null,
            "_view_module": "@jupyter-widgets/base",
            "_view_module_version": "1.2.0",
            "_view_name": "LayoutView",
            "align_content": null,
            "align_items": null,
            "align_self": null,
            "border": null,
            "bottom": null,
            "display": null,
            "flex": null,
            "flex_flow": null,
            "grid_area": null,
            "grid_auto_columns": null,
            "grid_auto_flow": null,
            "grid_auto_rows": null,
            "grid_column": null,
            "grid_gap": null,
            "grid_row": null,
            "grid_template_areas": null,
            "grid_template_columns": null,
            "grid_template_rows": null,
            "height": null,
            "justify_content": null,
            "justify_items": null,
            "left": null,
            "margin": null,
            "max_height": null,
            "max_width": null,
            "min_height": null,
            "min_width": null,
            "object_fit": null,
            "object_position": null,
            "order": null,
            "overflow": null,
            "overflow_x": null,
            "overflow_y": null,
            "padding": null,
            "right": null,
            "top": null,
            "visibility": null,
            "width": null
          }
        },
        "4f387150b33f4b8aa0334f0dcf9f0c3c": {
          "model_module": "@jupyter-widgets/controls",
          "model_name": "DescriptionStyleModel",
          "model_module_version": "1.5.0",
          "state": {
            "_model_module": "@jupyter-widgets/controls",
            "_model_module_version": "1.5.0",
            "_model_name": "DescriptionStyleModel",
            "_view_count": null,
            "_view_module": "@jupyter-widgets/base",
            "_view_module_version": "1.2.0",
            "_view_name": "StyleView",
            "description_width": ""
          }
        },
        "3060d2478ab0426e9767a5bb49a8786d": {
          "model_module": "@jupyter-widgets/base",
          "model_name": "LayoutModel",
          "model_module_version": "1.2.0",
          "state": {
            "_model_module": "@jupyter-widgets/base",
            "_model_module_version": "1.2.0",
            "_model_name": "LayoutModel",
            "_view_count": null,
            "_view_module": "@jupyter-widgets/base",
            "_view_module_version": "1.2.0",
            "_view_name": "LayoutView",
            "align_content": null,
            "align_items": null,
            "align_self": null,
            "border": null,
            "bottom": null,
            "display": null,
            "flex": null,
            "flex_flow": null,
            "grid_area": null,
            "grid_auto_columns": null,
            "grid_auto_flow": null,
            "grid_auto_rows": null,
            "grid_column": null,
            "grid_gap": null,
            "grid_row": null,
            "grid_template_areas": null,
            "grid_template_columns": null,
            "grid_template_rows": null,
            "height": null,
            "justify_content": null,
            "justify_items": null,
            "left": null,
            "margin": null,
            "max_height": null,
            "max_width": null,
            "min_height": null,
            "min_width": null,
            "object_fit": null,
            "object_position": null,
            "order": null,
            "overflow": null,
            "overflow_x": null,
            "overflow_y": null,
            "padding": null,
            "right": null,
            "top": null,
            "visibility": null,
            "width": null
          }
        },
        "a556675470664be981d83589ad5595b2": {
          "model_module": "@jupyter-widgets/controls",
          "model_name": "ProgressStyleModel",
          "model_module_version": "1.5.0",
          "state": {
            "_model_module": "@jupyter-widgets/controls",
            "_model_module_version": "1.5.0",
            "_model_name": "ProgressStyleModel",
            "_view_count": null,
            "_view_module": "@jupyter-widgets/base",
            "_view_module_version": "1.2.0",
            "_view_name": "StyleView",
            "bar_color": null,
            "description_width": ""
          }
        },
        "96eaef63ca134374bee7324d3fcbb3c7": {
          "model_module": "@jupyter-widgets/base",
          "model_name": "LayoutModel",
          "model_module_version": "1.2.0",
          "state": {
            "_model_module": "@jupyter-widgets/base",
            "_model_module_version": "1.2.0",
            "_model_name": "LayoutModel",
            "_view_count": null,
            "_view_module": "@jupyter-widgets/base",
            "_view_module_version": "1.2.0",
            "_view_name": "LayoutView",
            "align_content": null,
            "align_items": null,
            "align_self": null,
            "border": null,
            "bottom": null,
            "display": null,
            "flex": null,
            "flex_flow": null,
            "grid_area": null,
            "grid_auto_columns": null,
            "grid_auto_flow": null,
            "grid_auto_rows": null,
            "grid_column": null,
            "grid_gap": null,
            "grid_row": null,
            "grid_template_areas": null,
            "grid_template_columns": null,
            "grid_template_rows": null,
            "height": null,
            "justify_content": null,
            "justify_items": null,
            "left": null,
            "margin": null,
            "max_height": null,
            "max_width": null,
            "min_height": null,
            "min_width": null,
            "object_fit": null,
            "object_position": null,
            "order": null,
            "overflow": null,
            "overflow_x": null,
            "overflow_y": null,
            "padding": null,
            "right": null,
            "top": null,
            "visibility": null,
            "width": null
          }
        },
        "3eba3a077edc43feb5e982ca6e55bf37": {
          "model_module": "@jupyter-widgets/controls",
          "model_name": "DescriptionStyleModel",
          "model_module_version": "1.5.0",
          "state": {
            "_model_module": "@jupyter-widgets/controls",
            "_model_module_version": "1.5.0",
            "_model_name": "DescriptionStyleModel",
            "_view_count": null,
            "_view_module": "@jupyter-widgets/base",
            "_view_module_version": "1.2.0",
            "_view_name": "StyleView",
            "description_width": ""
          }
        },
        "dbab52b68a8b4fc7b8881604a190854f": {
          "model_module": "@jupyter-widgets/controls",
          "model_name": "HBoxModel",
          "model_module_version": "1.5.0",
          "state": {
            "_dom_classes": [],
            "_model_module": "@jupyter-widgets/controls",
            "_model_module_version": "1.5.0",
            "_model_name": "HBoxModel",
            "_view_count": null,
            "_view_module": "@jupyter-widgets/controls",
            "_view_module_version": "1.5.0",
            "_view_name": "HBoxView",
            "box_style": "",
            "children": [
              "IPY_MODEL_8581d8c70064407ab0a16443f33e9fa6",
              "IPY_MODEL_62491143079f4a8d88914d473f65493a",
              "IPY_MODEL_347f7267a2614c62a056ddb9743f25f1"
            ],
            "layout": "IPY_MODEL_b58573036fcd4f7890db94546339ec3f"
          }
        },
        "8581d8c70064407ab0a16443f33e9fa6": {
          "model_module": "@jupyter-widgets/controls",
          "model_name": "HTMLModel",
          "model_module_version": "1.5.0",
          "state": {
            "_dom_classes": [],
            "_model_module": "@jupyter-widgets/controls",
            "_model_module_version": "1.5.0",
            "_model_name": "HTMLModel",
            "_view_count": null,
            "_view_module": "@jupyter-widgets/controls",
            "_view_module_version": "1.5.0",
            "_view_name": "HTMLView",
            "description": "",
            "description_tooltip": null,
            "layout": "IPY_MODEL_7f02711771fc4208bdd1cdc428f92b5b",
            "placeholder": "​",
            "style": "IPY_MODEL_392b153373384bf7ae5eeec4fdfe32f2",
            "value": "Generating train examples...: "
          }
        },
        "62491143079f4a8d88914d473f65493a": {
          "model_module": "@jupyter-widgets/controls",
          "model_name": "FloatProgressModel",
          "model_module_version": "1.5.0",
          "state": {
            "_dom_classes": [],
            "_model_module": "@jupyter-widgets/controls",
            "_model_module_version": "1.5.0",
            "_model_name": "FloatProgressModel",
            "_view_count": null,
            "_view_module": "@jupyter-widgets/controls",
            "_view_module_version": "1.5.0",
            "_view_name": "ProgressView",
            "bar_style": "info",
            "description": "",
            "description_tooltip": null,
            "layout": "IPY_MODEL_be784c0f4973482e8b56c7f1be7bb9c3",
            "max": 1,
            "min": 0,
            "orientation": "horizontal",
            "style": "IPY_MODEL_cbc07ee347524e1195f5db0082fa07e9",
            "value": 1
          }
        },
        "347f7267a2614c62a056ddb9743f25f1": {
          "model_module": "@jupyter-widgets/controls",
          "model_name": "HTMLModel",
          "model_module_version": "1.5.0",
          "state": {
            "_dom_classes": [],
            "_model_module": "@jupyter-widgets/controls",
            "_model_module_version": "1.5.0",
            "_model_name": "HTMLModel",
            "_view_count": null,
            "_view_module": "@jupyter-widgets/controls",
            "_view_module_version": "1.5.0",
            "_view_name": "HTMLView",
            "description": "",
            "description_tooltip": null,
            "layout": "IPY_MODEL_f5afbee376ed495fb78015904f648656",
            "placeholder": "​",
            "style": "IPY_MODEL_e5765f75df3d400785266f1b4e9251cf",
            "value": " 59461/? [00:45&lt;00:00, 1562.48 examples/s]"
          }
        },
        "b58573036fcd4f7890db94546339ec3f": {
          "model_module": "@jupyter-widgets/base",
          "model_name": "LayoutModel",
          "model_module_version": "1.2.0",
          "state": {
            "_model_module": "@jupyter-widgets/base",
            "_model_module_version": "1.2.0",
            "_model_name": "LayoutModel",
            "_view_count": null,
            "_view_module": "@jupyter-widgets/base",
            "_view_module_version": "1.2.0",
            "_view_name": "LayoutView",
            "align_content": null,
            "align_items": null,
            "align_self": null,
            "border": null,
            "bottom": null,
            "display": null,
            "flex": null,
            "flex_flow": null,
            "grid_area": null,
            "grid_auto_columns": null,
            "grid_auto_flow": null,
            "grid_auto_rows": null,
            "grid_column": null,
            "grid_gap": null,
            "grid_row": null,
            "grid_template_areas": null,
            "grid_template_columns": null,
            "grid_template_rows": null,
            "height": null,
            "justify_content": null,
            "justify_items": null,
            "left": null,
            "margin": null,
            "max_height": null,
            "max_width": null,
            "min_height": null,
            "min_width": null,
            "object_fit": null,
            "object_position": null,
            "order": null,
            "overflow": null,
            "overflow_x": null,
            "overflow_y": null,
            "padding": null,
            "right": null,
            "top": null,
            "visibility": "hidden",
            "width": null
          }
        },
        "7f02711771fc4208bdd1cdc428f92b5b": {
          "model_module": "@jupyter-widgets/base",
          "model_name": "LayoutModel",
          "model_module_version": "1.2.0",
          "state": {
            "_model_module": "@jupyter-widgets/base",
            "_model_module_version": "1.2.0",
            "_model_name": "LayoutModel",
            "_view_count": null,
            "_view_module": "@jupyter-widgets/base",
            "_view_module_version": "1.2.0",
            "_view_name": "LayoutView",
            "align_content": null,
            "align_items": null,
            "align_self": null,
            "border": null,
            "bottom": null,
            "display": null,
            "flex": null,
            "flex_flow": null,
            "grid_area": null,
            "grid_auto_columns": null,
            "grid_auto_flow": null,
            "grid_auto_rows": null,
            "grid_column": null,
            "grid_gap": null,
            "grid_row": null,
            "grid_template_areas": null,
            "grid_template_columns": null,
            "grid_template_rows": null,
            "height": null,
            "justify_content": null,
            "justify_items": null,
            "left": null,
            "margin": null,
            "max_height": null,
            "max_width": null,
            "min_height": null,
            "min_width": null,
            "object_fit": null,
            "object_position": null,
            "order": null,
            "overflow": null,
            "overflow_x": null,
            "overflow_y": null,
            "padding": null,
            "right": null,
            "top": null,
            "visibility": null,
            "width": null
          }
        },
        "392b153373384bf7ae5eeec4fdfe32f2": {
          "model_module": "@jupyter-widgets/controls",
          "model_name": "DescriptionStyleModel",
          "model_module_version": "1.5.0",
          "state": {
            "_model_module": "@jupyter-widgets/controls",
            "_model_module_version": "1.5.0",
            "_model_name": "DescriptionStyleModel",
            "_view_count": null,
            "_view_module": "@jupyter-widgets/base",
            "_view_module_version": "1.2.0",
            "_view_name": "StyleView",
            "description_width": ""
          }
        },
        "be784c0f4973482e8b56c7f1be7bb9c3": {
          "model_module": "@jupyter-widgets/base",
          "model_name": "LayoutModel",
          "model_module_version": "1.2.0",
          "state": {
            "_model_module": "@jupyter-widgets/base",
            "_model_module_version": "1.2.0",
            "_model_name": "LayoutModel",
            "_view_count": null,
            "_view_module": "@jupyter-widgets/base",
            "_view_module_version": "1.2.0",
            "_view_name": "LayoutView",
            "align_content": null,
            "align_items": null,
            "align_self": null,
            "border": null,
            "bottom": null,
            "display": null,
            "flex": null,
            "flex_flow": null,
            "grid_area": null,
            "grid_auto_columns": null,
            "grid_auto_flow": null,
            "grid_auto_rows": null,
            "grid_column": null,
            "grid_gap": null,
            "grid_row": null,
            "grid_template_areas": null,
            "grid_template_columns": null,
            "grid_template_rows": null,
            "height": null,
            "justify_content": null,
            "justify_items": null,
            "left": null,
            "margin": null,
            "max_height": null,
            "max_width": null,
            "min_height": null,
            "min_width": null,
            "object_fit": null,
            "object_position": null,
            "order": null,
            "overflow": null,
            "overflow_x": null,
            "overflow_y": null,
            "padding": null,
            "right": null,
            "top": null,
            "visibility": null,
            "width": "20px"
          }
        },
        "cbc07ee347524e1195f5db0082fa07e9": {
          "model_module": "@jupyter-widgets/controls",
          "model_name": "ProgressStyleModel",
          "model_module_version": "1.5.0",
          "state": {
            "_model_module": "@jupyter-widgets/controls",
            "_model_module_version": "1.5.0",
            "_model_name": "ProgressStyleModel",
            "_view_count": null,
            "_view_module": "@jupyter-widgets/base",
            "_view_module_version": "1.2.0",
            "_view_name": "StyleView",
            "bar_color": null,
            "description_width": ""
          }
        },
        "f5afbee376ed495fb78015904f648656": {
          "model_module": "@jupyter-widgets/base",
          "model_name": "LayoutModel",
          "model_module_version": "1.2.0",
          "state": {
            "_model_module": "@jupyter-widgets/base",
            "_model_module_version": "1.2.0",
            "_model_name": "LayoutModel",
            "_view_count": null,
            "_view_module": "@jupyter-widgets/base",
            "_view_module_version": "1.2.0",
            "_view_name": "LayoutView",
            "align_content": null,
            "align_items": null,
            "align_self": null,
            "border": null,
            "bottom": null,
            "display": null,
            "flex": null,
            "flex_flow": null,
            "grid_area": null,
            "grid_auto_columns": null,
            "grid_auto_flow": null,
            "grid_auto_rows": null,
            "grid_column": null,
            "grid_gap": null,
            "grid_row": null,
            "grid_template_areas": null,
            "grid_template_columns": null,
            "grid_template_rows": null,
            "height": null,
            "justify_content": null,
            "justify_items": null,
            "left": null,
            "margin": null,
            "max_height": null,
            "max_width": null,
            "min_height": null,
            "min_width": null,
            "object_fit": null,
            "object_position": null,
            "order": null,
            "overflow": null,
            "overflow_x": null,
            "overflow_y": null,
            "padding": null,
            "right": null,
            "top": null,
            "visibility": null,
            "width": null
          }
        },
        "e5765f75df3d400785266f1b4e9251cf": {
          "model_module": "@jupyter-widgets/controls",
          "model_name": "DescriptionStyleModel",
          "model_module_version": "1.5.0",
          "state": {
            "_model_module": "@jupyter-widgets/controls",
            "_model_module_version": "1.5.0",
            "_model_name": "DescriptionStyleModel",
            "_view_count": null,
            "_view_module": "@jupyter-widgets/base",
            "_view_module_version": "1.2.0",
            "_view_name": "StyleView",
            "description_width": ""
          }
        },
        "824e6ed949554111979c5dc634e6619d": {
          "model_module": "@jupyter-widgets/controls",
          "model_name": "HBoxModel",
          "model_module_version": "1.5.0",
          "state": {
            "_dom_classes": [],
            "_model_module": "@jupyter-widgets/controls",
            "_model_module_version": "1.5.0",
            "_model_name": "HBoxModel",
            "_view_count": null,
            "_view_module": "@jupyter-widgets/controls",
            "_view_module_version": "1.5.0",
            "_view_name": "HBoxView",
            "box_style": "",
            "children": [
              "IPY_MODEL_925ee8c0b60841818f47a9a512815784",
              "IPY_MODEL_c7ff0fae3d514b2786d62345f73cdf52",
              "IPY_MODEL_ac1cd7ec83a24776914e0fcdd4f11ba6"
            ],
            "layout": "IPY_MODEL_ab90fa3112f1474e8456e66c3a0c6485"
          }
        },
        "925ee8c0b60841818f47a9a512815784": {
          "model_module": "@jupyter-widgets/controls",
          "model_name": "HTMLModel",
          "model_module_version": "1.5.0",
          "state": {
            "_dom_classes": [],
            "_model_module": "@jupyter-widgets/controls",
            "_model_module_version": "1.5.0",
            "_model_name": "HTMLModel",
            "_view_count": null,
            "_view_module": "@jupyter-widgets/controls",
            "_view_module_version": "1.5.0",
            "_view_name": "HTMLView",
            "description": "",
            "description_tooltip": null,
            "layout": "IPY_MODEL_015531fab9f24ba3b37f0d257b44f769",
            "placeholder": "​",
            "style": "IPY_MODEL_94bc1ddb485c48a0a2e82886b40e7416",
            "value": "Shuffling /root/tensorflow_datasets/mnist/incomplete.W012EY_3.0.1/mnist-train.tfrecord*...:   0%"
          }
        },
        "c7ff0fae3d514b2786d62345f73cdf52": {
          "model_module": "@jupyter-widgets/controls",
          "model_name": "FloatProgressModel",
          "model_module_version": "1.5.0",
          "state": {
            "_dom_classes": [],
            "_model_module": "@jupyter-widgets/controls",
            "_model_module_version": "1.5.0",
            "_model_name": "FloatProgressModel",
            "_view_count": null,
            "_view_module": "@jupyter-widgets/controls",
            "_view_module_version": "1.5.0",
            "_view_name": "ProgressView",
            "bar_style": "",
            "description": "",
            "description_tooltip": null,
            "layout": "IPY_MODEL_214634981aa144b4a7d0b374c7c9d74b",
            "max": 60000,
            "min": 0,
            "orientation": "horizontal",
            "style": "IPY_MODEL_32cd408d900f4db79290518630b80d48",
            "value": 60000
          }
        },
        "ac1cd7ec83a24776914e0fcdd4f11ba6": {
          "model_module": "@jupyter-widgets/controls",
          "model_name": "HTMLModel",
          "model_module_version": "1.5.0",
          "state": {
            "_dom_classes": [],
            "_model_module": "@jupyter-widgets/controls",
            "_model_module_version": "1.5.0",
            "_model_name": "HTMLModel",
            "_view_count": null,
            "_view_module": "@jupyter-widgets/controls",
            "_view_module_version": "1.5.0",
            "_view_name": "HTMLView",
            "description": "",
            "description_tooltip": null,
            "layout": "IPY_MODEL_0d7551e023784db4be66f9a16eb358ce",
            "placeholder": "​",
            "style": "IPY_MODEL_e143bd86c65d4d8ca90fe5d92dfe0795",
            "value": " 0/60000 [00:00&lt;?, ? examples/s]"
          }
        },
        "ab90fa3112f1474e8456e66c3a0c6485": {
          "model_module": "@jupyter-widgets/base",
          "model_name": "LayoutModel",
          "model_module_version": "1.2.0",
          "state": {
            "_model_module": "@jupyter-widgets/base",
            "_model_module_version": "1.2.0",
            "_model_name": "LayoutModel",
            "_view_count": null,
            "_view_module": "@jupyter-widgets/base",
            "_view_module_version": "1.2.0",
            "_view_name": "LayoutView",
            "align_content": null,
            "align_items": null,
            "align_self": null,
            "border": null,
            "bottom": null,
            "display": null,
            "flex": null,
            "flex_flow": null,
            "grid_area": null,
            "grid_auto_columns": null,
            "grid_auto_flow": null,
            "grid_auto_rows": null,
            "grid_column": null,
            "grid_gap": null,
            "grid_row": null,
            "grid_template_areas": null,
            "grid_template_columns": null,
            "grid_template_rows": null,
            "height": null,
            "justify_content": null,
            "justify_items": null,
            "left": null,
            "margin": null,
            "max_height": null,
            "max_width": null,
            "min_height": null,
            "min_width": null,
            "object_fit": null,
            "object_position": null,
            "order": null,
            "overflow": null,
            "overflow_x": null,
            "overflow_y": null,
            "padding": null,
            "right": null,
            "top": null,
            "visibility": "hidden",
            "width": null
          }
        },
        "015531fab9f24ba3b37f0d257b44f769": {
          "model_module": "@jupyter-widgets/base",
          "model_name": "LayoutModel",
          "model_module_version": "1.2.0",
          "state": {
            "_model_module": "@jupyter-widgets/base",
            "_model_module_version": "1.2.0",
            "_model_name": "LayoutModel",
            "_view_count": null,
            "_view_module": "@jupyter-widgets/base",
            "_view_module_version": "1.2.0",
            "_view_name": "LayoutView",
            "align_content": null,
            "align_items": null,
            "align_self": null,
            "border": null,
            "bottom": null,
            "display": null,
            "flex": null,
            "flex_flow": null,
            "grid_area": null,
            "grid_auto_columns": null,
            "grid_auto_flow": null,
            "grid_auto_rows": null,
            "grid_column": null,
            "grid_gap": null,
            "grid_row": null,
            "grid_template_areas": null,
            "grid_template_columns": null,
            "grid_template_rows": null,
            "height": null,
            "justify_content": null,
            "justify_items": null,
            "left": null,
            "margin": null,
            "max_height": null,
            "max_width": null,
            "min_height": null,
            "min_width": null,
            "object_fit": null,
            "object_position": null,
            "order": null,
            "overflow": null,
            "overflow_x": null,
            "overflow_y": null,
            "padding": null,
            "right": null,
            "top": null,
            "visibility": null,
            "width": null
          }
        },
        "94bc1ddb485c48a0a2e82886b40e7416": {
          "model_module": "@jupyter-widgets/controls",
          "model_name": "DescriptionStyleModel",
          "model_module_version": "1.5.0",
          "state": {
            "_model_module": "@jupyter-widgets/controls",
            "_model_module_version": "1.5.0",
            "_model_name": "DescriptionStyleModel",
            "_view_count": null,
            "_view_module": "@jupyter-widgets/base",
            "_view_module_version": "1.2.0",
            "_view_name": "StyleView",
            "description_width": ""
          }
        },
        "214634981aa144b4a7d0b374c7c9d74b": {
          "model_module": "@jupyter-widgets/base",
          "model_name": "LayoutModel",
          "model_module_version": "1.2.0",
          "state": {
            "_model_module": "@jupyter-widgets/base",
            "_model_module_version": "1.2.0",
            "_model_name": "LayoutModel",
            "_view_count": null,
            "_view_module": "@jupyter-widgets/base",
            "_view_module_version": "1.2.0",
            "_view_name": "LayoutView",
            "align_content": null,
            "align_items": null,
            "align_self": null,
            "border": null,
            "bottom": null,
            "display": null,
            "flex": null,
            "flex_flow": null,
            "grid_area": null,
            "grid_auto_columns": null,
            "grid_auto_flow": null,
            "grid_auto_rows": null,
            "grid_column": null,
            "grid_gap": null,
            "grid_row": null,
            "grid_template_areas": null,
            "grid_template_columns": null,
            "grid_template_rows": null,
            "height": null,
            "justify_content": null,
            "justify_items": null,
            "left": null,
            "margin": null,
            "max_height": null,
            "max_width": null,
            "min_height": null,
            "min_width": null,
            "object_fit": null,
            "object_position": null,
            "order": null,
            "overflow": null,
            "overflow_x": null,
            "overflow_y": null,
            "padding": null,
            "right": null,
            "top": null,
            "visibility": null,
            "width": null
          }
        },
        "32cd408d900f4db79290518630b80d48": {
          "model_module": "@jupyter-widgets/controls",
          "model_name": "ProgressStyleModel",
          "model_module_version": "1.5.0",
          "state": {
            "_model_module": "@jupyter-widgets/controls",
            "_model_module_version": "1.5.0",
            "_model_name": "ProgressStyleModel",
            "_view_count": null,
            "_view_module": "@jupyter-widgets/base",
            "_view_module_version": "1.2.0",
            "_view_name": "StyleView",
            "bar_color": null,
            "description_width": ""
          }
        },
        "0d7551e023784db4be66f9a16eb358ce": {
          "model_module": "@jupyter-widgets/base",
          "model_name": "LayoutModel",
          "model_module_version": "1.2.0",
          "state": {
            "_model_module": "@jupyter-widgets/base",
            "_model_module_version": "1.2.0",
            "_model_name": "LayoutModel",
            "_view_count": null,
            "_view_module": "@jupyter-widgets/base",
            "_view_module_version": "1.2.0",
            "_view_name": "LayoutView",
            "align_content": null,
            "align_items": null,
            "align_self": null,
            "border": null,
            "bottom": null,
            "display": null,
            "flex": null,
            "flex_flow": null,
            "grid_area": null,
            "grid_auto_columns": null,
            "grid_auto_flow": null,
            "grid_auto_rows": null,
            "grid_column": null,
            "grid_gap": null,
            "grid_row": null,
            "grid_template_areas": null,
            "grid_template_columns": null,
            "grid_template_rows": null,
            "height": null,
            "justify_content": null,
            "justify_items": null,
            "left": null,
            "margin": null,
            "max_height": null,
            "max_width": null,
            "min_height": null,
            "min_width": null,
            "object_fit": null,
            "object_position": null,
            "order": null,
            "overflow": null,
            "overflow_x": null,
            "overflow_y": null,
            "padding": null,
            "right": null,
            "top": null,
            "visibility": null,
            "width": null
          }
        },
        "e143bd86c65d4d8ca90fe5d92dfe0795": {
          "model_module": "@jupyter-widgets/controls",
          "model_name": "DescriptionStyleModel",
          "model_module_version": "1.5.0",
          "state": {
            "_model_module": "@jupyter-widgets/controls",
            "_model_module_version": "1.5.0",
            "_model_name": "DescriptionStyleModel",
            "_view_count": null,
            "_view_module": "@jupyter-widgets/base",
            "_view_module_version": "1.2.0",
            "_view_name": "StyleView",
            "description_width": ""
          }
        },
        "001d44081058498ab412200ef38079da": {
          "model_module": "@jupyter-widgets/controls",
          "model_name": "HBoxModel",
          "model_module_version": "1.5.0",
          "state": {
            "_dom_classes": [],
            "_model_module": "@jupyter-widgets/controls",
            "_model_module_version": "1.5.0",
            "_model_name": "HBoxModel",
            "_view_count": null,
            "_view_module": "@jupyter-widgets/controls",
            "_view_module_version": "1.5.0",
            "_view_name": "HBoxView",
            "box_style": "",
            "children": [
              "IPY_MODEL_6032a840134c41a383ed57e0e7670447",
              "IPY_MODEL_13d2c13b6a5b4aebbd40ca4518d3e5d8",
              "IPY_MODEL_934b5306638f4ba8b521719dd46366d1"
            ],
            "layout": "IPY_MODEL_28b002df1ff548cb9ec371b25cfe817b"
          }
        },
        "6032a840134c41a383ed57e0e7670447": {
          "model_module": "@jupyter-widgets/controls",
          "model_name": "HTMLModel",
          "model_module_version": "1.5.0",
          "state": {
            "_dom_classes": [],
            "_model_module": "@jupyter-widgets/controls",
            "_model_module_version": "1.5.0",
            "_model_name": "HTMLModel",
            "_view_count": null,
            "_view_module": "@jupyter-widgets/controls",
            "_view_module_version": "1.5.0",
            "_view_name": "HTMLView",
            "description": "",
            "description_tooltip": null,
            "layout": "IPY_MODEL_2a741d6fdf304f0f85a6f985dd7ed479",
            "placeholder": "​",
            "style": "IPY_MODEL_86656dfb6ec84613a742846460f4ab4f",
            "value": "Generating test examples...: "
          }
        },
        "13d2c13b6a5b4aebbd40ca4518d3e5d8": {
          "model_module": "@jupyter-widgets/controls",
          "model_name": "FloatProgressModel",
          "model_module_version": "1.5.0",
          "state": {
            "_dom_classes": [],
            "_model_module": "@jupyter-widgets/controls",
            "_model_module_version": "1.5.0",
            "_model_name": "FloatProgressModel",
            "_view_count": null,
            "_view_module": "@jupyter-widgets/controls",
            "_view_module_version": "1.5.0",
            "_view_name": "ProgressView",
            "bar_style": "info",
            "description": "",
            "description_tooltip": null,
            "layout": "IPY_MODEL_6a7cd39bc16d49d28dd8933c0e3551c7",
            "max": 1,
            "min": 0,
            "orientation": "horizontal",
            "style": "IPY_MODEL_e4eeb3c4e42443049da271d885f6d608",
            "value": 1
          }
        },
        "934b5306638f4ba8b521719dd46366d1": {
          "model_module": "@jupyter-widgets/controls",
          "model_name": "HTMLModel",
          "model_module_version": "1.5.0",
          "state": {
            "_dom_classes": [],
            "_model_module": "@jupyter-widgets/controls",
            "_model_module_version": "1.5.0",
            "_model_name": "HTMLModel",
            "_view_count": null,
            "_view_module": "@jupyter-widgets/controls",
            "_view_module_version": "1.5.0",
            "_view_name": "HTMLView",
            "description": "",
            "description_tooltip": null,
            "layout": "IPY_MODEL_59b253c8fdaa498dbdc38a5764346815",
            "placeholder": "​",
            "style": "IPY_MODEL_ad36e9eec51043a7ab8a7bb4134fa27b",
            "value": " 8510/? [00:05&lt;00:00, 1707.09 examples/s]"
          }
        },
        "28b002df1ff548cb9ec371b25cfe817b": {
          "model_module": "@jupyter-widgets/base",
          "model_name": "LayoutModel",
          "model_module_version": "1.2.0",
          "state": {
            "_model_module": "@jupyter-widgets/base",
            "_model_module_version": "1.2.0",
            "_model_name": "LayoutModel",
            "_view_count": null,
            "_view_module": "@jupyter-widgets/base",
            "_view_module_version": "1.2.0",
            "_view_name": "LayoutView",
            "align_content": null,
            "align_items": null,
            "align_self": null,
            "border": null,
            "bottom": null,
            "display": null,
            "flex": null,
            "flex_flow": null,
            "grid_area": null,
            "grid_auto_columns": null,
            "grid_auto_flow": null,
            "grid_auto_rows": null,
            "grid_column": null,
            "grid_gap": null,
            "grid_row": null,
            "grid_template_areas": null,
            "grid_template_columns": null,
            "grid_template_rows": null,
            "height": null,
            "justify_content": null,
            "justify_items": null,
            "left": null,
            "margin": null,
            "max_height": null,
            "max_width": null,
            "min_height": null,
            "min_width": null,
            "object_fit": null,
            "object_position": null,
            "order": null,
            "overflow": null,
            "overflow_x": null,
            "overflow_y": null,
            "padding": null,
            "right": null,
            "top": null,
            "visibility": "hidden",
            "width": null
          }
        },
        "2a741d6fdf304f0f85a6f985dd7ed479": {
          "model_module": "@jupyter-widgets/base",
          "model_name": "LayoutModel",
          "model_module_version": "1.2.0",
          "state": {
            "_model_module": "@jupyter-widgets/base",
            "_model_module_version": "1.2.0",
            "_model_name": "LayoutModel",
            "_view_count": null,
            "_view_module": "@jupyter-widgets/base",
            "_view_module_version": "1.2.0",
            "_view_name": "LayoutView",
            "align_content": null,
            "align_items": null,
            "align_self": null,
            "border": null,
            "bottom": null,
            "display": null,
            "flex": null,
            "flex_flow": null,
            "grid_area": null,
            "grid_auto_columns": null,
            "grid_auto_flow": null,
            "grid_auto_rows": null,
            "grid_column": null,
            "grid_gap": null,
            "grid_row": null,
            "grid_template_areas": null,
            "grid_template_columns": null,
            "grid_template_rows": null,
            "height": null,
            "justify_content": null,
            "justify_items": null,
            "left": null,
            "margin": null,
            "max_height": null,
            "max_width": null,
            "min_height": null,
            "min_width": null,
            "object_fit": null,
            "object_position": null,
            "order": null,
            "overflow": null,
            "overflow_x": null,
            "overflow_y": null,
            "padding": null,
            "right": null,
            "top": null,
            "visibility": null,
            "width": null
          }
        },
        "86656dfb6ec84613a742846460f4ab4f": {
          "model_module": "@jupyter-widgets/controls",
          "model_name": "DescriptionStyleModel",
          "model_module_version": "1.5.0",
          "state": {
            "_model_module": "@jupyter-widgets/controls",
            "_model_module_version": "1.5.0",
            "_model_name": "DescriptionStyleModel",
            "_view_count": null,
            "_view_module": "@jupyter-widgets/base",
            "_view_module_version": "1.2.0",
            "_view_name": "StyleView",
            "description_width": ""
          }
        },
        "6a7cd39bc16d49d28dd8933c0e3551c7": {
          "model_module": "@jupyter-widgets/base",
          "model_name": "LayoutModel",
          "model_module_version": "1.2.0",
          "state": {
            "_model_module": "@jupyter-widgets/base",
            "_model_module_version": "1.2.0",
            "_model_name": "LayoutModel",
            "_view_count": null,
            "_view_module": "@jupyter-widgets/base",
            "_view_module_version": "1.2.0",
            "_view_name": "LayoutView",
            "align_content": null,
            "align_items": null,
            "align_self": null,
            "border": null,
            "bottom": null,
            "display": null,
            "flex": null,
            "flex_flow": null,
            "grid_area": null,
            "grid_auto_columns": null,
            "grid_auto_flow": null,
            "grid_auto_rows": null,
            "grid_column": null,
            "grid_gap": null,
            "grid_row": null,
            "grid_template_areas": null,
            "grid_template_columns": null,
            "grid_template_rows": null,
            "height": null,
            "justify_content": null,
            "justify_items": null,
            "left": null,
            "margin": null,
            "max_height": null,
            "max_width": null,
            "min_height": null,
            "min_width": null,
            "object_fit": null,
            "object_position": null,
            "order": null,
            "overflow": null,
            "overflow_x": null,
            "overflow_y": null,
            "padding": null,
            "right": null,
            "top": null,
            "visibility": null,
            "width": "20px"
          }
        },
        "e4eeb3c4e42443049da271d885f6d608": {
          "model_module": "@jupyter-widgets/controls",
          "model_name": "ProgressStyleModel",
          "model_module_version": "1.5.0",
          "state": {
            "_model_module": "@jupyter-widgets/controls",
            "_model_module_version": "1.5.0",
            "_model_name": "ProgressStyleModel",
            "_view_count": null,
            "_view_module": "@jupyter-widgets/base",
            "_view_module_version": "1.2.0",
            "_view_name": "StyleView",
            "bar_color": null,
            "description_width": ""
          }
        },
        "59b253c8fdaa498dbdc38a5764346815": {
          "model_module": "@jupyter-widgets/base",
          "model_name": "LayoutModel",
          "model_module_version": "1.2.0",
          "state": {
            "_model_module": "@jupyter-widgets/base",
            "_model_module_version": "1.2.0",
            "_model_name": "LayoutModel",
            "_view_count": null,
            "_view_module": "@jupyter-widgets/base",
            "_view_module_version": "1.2.0",
            "_view_name": "LayoutView",
            "align_content": null,
            "align_items": null,
            "align_self": null,
            "border": null,
            "bottom": null,
            "display": null,
            "flex": null,
            "flex_flow": null,
            "grid_area": null,
            "grid_auto_columns": null,
            "grid_auto_flow": null,
            "grid_auto_rows": null,
            "grid_column": null,
            "grid_gap": null,
            "grid_row": null,
            "grid_template_areas": null,
            "grid_template_columns": null,
            "grid_template_rows": null,
            "height": null,
            "justify_content": null,
            "justify_items": null,
            "left": null,
            "margin": null,
            "max_height": null,
            "max_width": null,
            "min_height": null,
            "min_width": null,
            "object_fit": null,
            "object_position": null,
            "order": null,
            "overflow": null,
            "overflow_x": null,
            "overflow_y": null,
            "padding": null,
            "right": null,
            "top": null,
            "visibility": null,
            "width": null
          }
        },
        "ad36e9eec51043a7ab8a7bb4134fa27b": {
          "model_module": "@jupyter-widgets/controls",
          "model_name": "DescriptionStyleModel",
          "model_module_version": "1.5.0",
          "state": {
            "_model_module": "@jupyter-widgets/controls",
            "_model_module_version": "1.5.0",
            "_model_name": "DescriptionStyleModel",
            "_view_count": null,
            "_view_module": "@jupyter-widgets/base",
            "_view_module_version": "1.2.0",
            "_view_name": "StyleView",
            "description_width": ""
          }
        },
        "8a81650e5b394c4bb25cf143542b3ecc": {
          "model_module": "@jupyter-widgets/controls",
          "model_name": "HBoxModel",
          "model_module_version": "1.5.0",
          "state": {
            "_dom_classes": [],
            "_model_module": "@jupyter-widgets/controls",
            "_model_module_version": "1.5.0",
            "_model_name": "HBoxModel",
            "_view_count": null,
            "_view_module": "@jupyter-widgets/controls",
            "_view_module_version": "1.5.0",
            "_view_name": "HBoxView",
            "box_style": "",
            "children": [
              "IPY_MODEL_e312d62a2cf34650983c4da06f7e5914",
              "IPY_MODEL_ac169d90a5934afbae4e12fb42e41acc",
              "IPY_MODEL_63cb126c1b64477dae77d6553bb3f7da"
            ],
            "layout": "IPY_MODEL_0dbf354f8c85428c869c5c4837bff61e"
          }
        },
        "e312d62a2cf34650983c4da06f7e5914": {
          "model_module": "@jupyter-widgets/controls",
          "model_name": "HTMLModel",
          "model_module_version": "1.5.0",
          "state": {
            "_dom_classes": [],
            "_model_module": "@jupyter-widgets/controls",
            "_model_module_version": "1.5.0",
            "_model_name": "HTMLModel",
            "_view_count": null,
            "_view_module": "@jupyter-widgets/controls",
            "_view_module_version": "1.5.0",
            "_view_name": "HTMLView",
            "description": "",
            "description_tooltip": null,
            "layout": "IPY_MODEL_2587b427957644779651f317bcd6c709",
            "placeholder": "​",
            "style": "IPY_MODEL_311396d346fb42b2a71e248a91cce310",
            "value": "Shuffling /root/tensorflow_datasets/mnist/incomplete.W012EY_3.0.1/mnist-test.tfrecord*...:   0%"
          }
        },
        "ac169d90a5934afbae4e12fb42e41acc": {
          "model_module": "@jupyter-widgets/controls",
          "model_name": "FloatProgressModel",
          "model_module_version": "1.5.0",
          "state": {
            "_dom_classes": [],
            "_model_module": "@jupyter-widgets/controls",
            "_model_module_version": "1.5.0",
            "_model_name": "FloatProgressModel",
            "_view_count": null,
            "_view_module": "@jupyter-widgets/controls",
            "_view_module_version": "1.5.0",
            "_view_name": "ProgressView",
            "bar_style": "",
            "description": "",
            "description_tooltip": null,
            "layout": "IPY_MODEL_f9907a793d54482cb2fb4cc4544cd13a",
            "max": 10000,
            "min": 0,
            "orientation": "horizontal",
            "style": "IPY_MODEL_f36dabcba6334ff29a14f2695831a414",
            "value": 10000
          }
        },
        "63cb126c1b64477dae77d6553bb3f7da": {
          "model_module": "@jupyter-widgets/controls",
          "model_name": "HTMLModel",
          "model_module_version": "1.5.0",
          "state": {
            "_dom_classes": [],
            "_model_module": "@jupyter-widgets/controls",
            "_model_module_version": "1.5.0",
            "_model_name": "HTMLModel",
            "_view_count": null,
            "_view_module": "@jupyter-widgets/controls",
            "_view_module_version": "1.5.0",
            "_view_name": "HTMLView",
            "description": "",
            "description_tooltip": null,
            "layout": "IPY_MODEL_ba07db5ab2bb44539a763582b80a9a82",
            "placeholder": "​",
            "style": "IPY_MODEL_d539856982f040f091359a832b8b6740",
            "value": " 0/10000 [00:00&lt;?, ? examples/s]"
          }
        },
        "0dbf354f8c85428c869c5c4837bff61e": {
          "model_module": "@jupyter-widgets/base",
          "model_name": "LayoutModel",
          "model_module_version": "1.2.0",
          "state": {
            "_model_module": "@jupyter-widgets/base",
            "_model_module_version": "1.2.0",
            "_model_name": "LayoutModel",
            "_view_count": null,
            "_view_module": "@jupyter-widgets/base",
            "_view_module_version": "1.2.0",
            "_view_name": "LayoutView",
            "align_content": null,
            "align_items": null,
            "align_self": null,
            "border": null,
            "bottom": null,
            "display": null,
            "flex": null,
            "flex_flow": null,
            "grid_area": null,
            "grid_auto_columns": null,
            "grid_auto_flow": null,
            "grid_auto_rows": null,
            "grid_column": null,
            "grid_gap": null,
            "grid_row": null,
            "grid_template_areas": null,
            "grid_template_columns": null,
            "grid_template_rows": null,
            "height": null,
            "justify_content": null,
            "justify_items": null,
            "left": null,
            "margin": null,
            "max_height": null,
            "max_width": null,
            "min_height": null,
            "min_width": null,
            "object_fit": null,
            "object_position": null,
            "order": null,
            "overflow": null,
            "overflow_x": null,
            "overflow_y": null,
            "padding": null,
            "right": null,
            "top": null,
            "visibility": "hidden",
            "width": null
          }
        },
        "2587b427957644779651f317bcd6c709": {
          "model_module": "@jupyter-widgets/base",
          "model_name": "LayoutModel",
          "model_module_version": "1.2.0",
          "state": {
            "_model_module": "@jupyter-widgets/base",
            "_model_module_version": "1.2.0",
            "_model_name": "LayoutModel",
            "_view_count": null,
            "_view_module": "@jupyter-widgets/base",
            "_view_module_version": "1.2.0",
            "_view_name": "LayoutView",
            "align_content": null,
            "align_items": null,
            "align_self": null,
            "border": null,
            "bottom": null,
            "display": null,
            "flex": null,
            "flex_flow": null,
            "grid_area": null,
            "grid_auto_columns": null,
            "grid_auto_flow": null,
            "grid_auto_rows": null,
            "grid_column": null,
            "grid_gap": null,
            "grid_row": null,
            "grid_template_areas": null,
            "grid_template_columns": null,
            "grid_template_rows": null,
            "height": null,
            "justify_content": null,
            "justify_items": null,
            "left": null,
            "margin": null,
            "max_height": null,
            "max_width": null,
            "min_height": null,
            "min_width": null,
            "object_fit": null,
            "object_position": null,
            "order": null,
            "overflow": null,
            "overflow_x": null,
            "overflow_y": null,
            "padding": null,
            "right": null,
            "top": null,
            "visibility": null,
            "width": null
          }
        },
        "311396d346fb42b2a71e248a91cce310": {
          "model_module": "@jupyter-widgets/controls",
          "model_name": "DescriptionStyleModel",
          "model_module_version": "1.5.0",
          "state": {
            "_model_module": "@jupyter-widgets/controls",
            "_model_module_version": "1.5.0",
            "_model_name": "DescriptionStyleModel",
            "_view_count": null,
            "_view_module": "@jupyter-widgets/base",
            "_view_module_version": "1.2.0",
            "_view_name": "StyleView",
            "description_width": ""
          }
        },
        "f9907a793d54482cb2fb4cc4544cd13a": {
          "model_module": "@jupyter-widgets/base",
          "model_name": "LayoutModel",
          "model_module_version": "1.2.0",
          "state": {
            "_model_module": "@jupyter-widgets/base",
            "_model_module_version": "1.2.0",
            "_model_name": "LayoutModel",
            "_view_count": null,
            "_view_module": "@jupyter-widgets/base",
            "_view_module_version": "1.2.0",
            "_view_name": "LayoutView",
            "align_content": null,
            "align_items": null,
            "align_self": null,
            "border": null,
            "bottom": null,
            "display": null,
            "flex": null,
            "flex_flow": null,
            "grid_area": null,
            "grid_auto_columns": null,
            "grid_auto_flow": null,
            "grid_auto_rows": null,
            "grid_column": null,
            "grid_gap": null,
            "grid_row": null,
            "grid_template_areas": null,
            "grid_template_columns": null,
            "grid_template_rows": null,
            "height": null,
            "justify_content": null,
            "justify_items": null,
            "left": null,
            "margin": null,
            "max_height": null,
            "max_width": null,
            "min_height": null,
            "min_width": null,
            "object_fit": null,
            "object_position": null,
            "order": null,
            "overflow": null,
            "overflow_x": null,
            "overflow_y": null,
            "padding": null,
            "right": null,
            "top": null,
            "visibility": null,
            "width": null
          }
        },
        "f36dabcba6334ff29a14f2695831a414": {
          "model_module": "@jupyter-widgets/controls",
          "model_name": "ProgressStyleModel",
          "model_module_version": "1.5.0",
          "state": {
            "_model_module": "@jupyter-widgets/controls",
            "_model_module_version": "1.5.0",
            "_model_name": "ProgressStyleModel",
            "_view_count": null,
            "_view_module": "@jupyter-widgets/base",
            "_view_module_version": "1.2.0",
            "_view_name": "StyleView",
            "bar_color": null,
            "description_width": ""
          }
        },
        "ba07db5ab2bb44539a763582b80a9a82": {
          "model_module": "@jupyter-widgets/base",
          "model_name": "LayoutModel",
          "model_module_version": "1.2.0",
          "state": {
            "_model_module": "@jupyter-widgets/base",
            "_model_module_version": "1.2.0",
            "_model_name": "LayoutModel",
            "_view_count": null,
            "_view_module": "@jupyter-widgets/base",
            "_view_module_version": "1.2.0",
            "_view_name": "LayoutView",
            "align_content": null,
            "align_items": null,
            "align_self": null,
            "border": null,
            "bottom": null,
            "display": null,
            "flex": null,
            "flex_flow": null,
            "grid_area": null,
            "grid_auto_columns": null,
            "grid_auto_flow": null,
            "grid_auto_rows": null,
            "grid_column": null,
            "grid_gap": null,
            "grid_row": null,
            "grid_template_areas": null,
            "grid_template_columns": null,
            "grid_template_rows": null,
            "height": null,
            "justify_content": null,
            "justify_items": null,
            "left": null,
            "margin": null,
            "max_height": null,
            "max_width": null,
            "min_height": null,
            "min_width": null,
            "object_fit": null,
            "object_position": null,
            "order": null,
            "overflow": null,
            "overflow_x": null,
            "overflow_y": null,
            "padding": null,
            "right": null,
            "top": null,
            "visibility": null,
            "width": null
          }
        },
        "d539856982f040f091359a832b8b6740": {
          "model_module": "@jupyter-widgets/controls",
          "model_name": "DescriptionStyleModel",
          "model_module_version": "1.5.0",
          "state": {
            "_model_module": "@jupyter-widgets/controls",
            "_model_module_version": "1.5.0",
            "_model_name": "DescriptionStyleModel",
            "_view_count": null,
            "_view_module": "@jupyter-widgets/base",
            "_view_module_version": "1.2.0",
            "_view_name": "StyleView",
            "description_width": ""
          }
        }
      }
    }
  },
  "cells": [
    {
      "cell_type": "code",
      "execution_count": null,
      "metadata": {
        "id": "vVKxXU22_sC5"
      },
      "outputs": [],
      "source": [
        "import jax\n",
        "import jax.numpy as jnp\n",
        "import numpy as np"
      ]
    },
    {
      "cell_type": "code",
      "source": [
        "# Crear arreglo de entrada\n",
        "inputs = jnp.array([x for x in range(-10, 20)], dtype=jnp.float64)"
      ],
      "metadata": {
        "id": "LUZUbQmSD3sD",
        "colab": {
          "base_uri": "https://localhost:8080/"
        },
        "outputId": "fd1aa496-abdf-4687-a68d-f507d8f46cc1",
        "collapsed": true
      },
      "execution_count": null,
      "outputs": [
        {
          "output_type": "stream",
          "name": "stderr",
          "text": [
            "<ipython-input-2-7afb357e7a15>:1: UserWarning: Explicitly requested dtype <class 'jax.numpy.float64'> requested in array is not available, and will be truncated to dtype float32. To enable more dtypes, set the jax_enable_x64 configuration option or the JAX_ENABLE_X64 shell environment variable. See https://github.com/jax-ml/jax#current-gotchas for more.\n",
            "  inputs = jnp.array([x for x in range(-10, 20)], dtype=jnp.float64)\n"
          ]
        }
      ]
    },
    {
      "cell_type": "code",
      "source": [
        "inputs"
      ],
      "metadata": {
        "id": "dXloyWlQELtg",
        "colab": {
          "base_uri": "https://localhost:8080/"
        },
        "outputId": "c9134ebe-77a5-4291-e773-71522e9d0316",
        "collapsed": true
      },
      "execution_count": null,
      "outputs": [
        {
          "output_type": "execute_result",
          "data": {
            "text/plain": [
              "Array([-10.,  -9.,  -8.,  -7.,  -6.,  -5.,  -4.,  -3.,  -2.,  -1.,   0.,\n",
              "         1.,   2.,   3.,   4.,   5.,   6.,   7.,   8.,   9.,  10.,  11.,\n",
              "        12.,  13.,  14.,  15.,  16.,  17.,  18.,  19.], dtype=float32)"
            ]
          },
          "metadata": {},
          "execution_count": 3
        }
      ]
    },
    {
      "cell_type": "code",
      "source": [
        "import matplotlib.pyplot as plt\n",
        "import jax.nn as nn\n",
        "plt.plot(inputs, nn.relu(inputs), label='relu')\n",
        "\n",
        "plt.plot(inputs, nn.softplus(inputs), label='softplus')\n",
        "\n",
        "plt.legend()"
      ],
      "metadata": {
        "id": "UzKO4pm4EOQB",
        "colab": {
          "base_uri": "https://localhost:8080/",
          "height": 447
        },
        "outputId": "aeb1590c-ba59-4b3e-a035-95f346b813ef"
      },
      "execution_count": null,
      "outputs": [
        {
          "output_type": "execute_result",
          "data": {
            "text/plain": [
              "<matplotlib.legend.Legend at 0x7877f8df3ad0>"
            ]
          },
          "metadata": {},
          "execution_count": 4
        },
        {
          "output_type": "display_data",
          "data": {
            "text/plain": [
              "<Figure size 640x480 with 1 Axes>"
            ],
            "image/png": "[encoded data removed]"
          },
          "metadata": {}
        }
      ]
    },
    {
      "cell_type": "code",
      "source": [
        "def linear(y_pred):\n",
        "  return y_pred\n",
        "\n",
        "plt.plot(inputs, nn.tanh(inputs),label='tanh')  # Tangente hiperbólica: salida entre -1 y 1\n",
        "plt.plot(inputs, linear(inputs),label='lineal')  # Activación lineal (sin modificar)\n",
        "plt.legend()"
      ],
      "metadata": {
        "id": "QTF4GdXRKv8I",
        "colab": {
          "base_uri": "https://localhost:8080/",
          "height": 447
        },
        "outputId": "0ee8a445-cce2-459d-a784-0d8022ffa06e"
      },
      "execution_count": null,
      "outputs": [
        {
          "output_type": "execute_result",
          "data": {
            "text/plain": [
              "<matplotlib.legend.Legend at 0x7877d0148750>"
            ]
          },
          "metadata": {},
          "execution_count": 5
        },
        {
          "output_type": "display_data",
          "data": {
            "text/plain": [
              "<Figure size 640x480 with 1 Axes>"
            ],
            "image/png": "[encoded data removed]"
          },
          "metadata": {}
        }
      ]
    },
    {
      "cell_type": "code",
      "source": [
        "plt.plot(inputs, nn.elu(inputs),label='elu')   # Exponential Linear Unit: negativo exponencialmente suave, positivo lineal\n",
        "plt.plot(inputs, nn.selu(inputs),label='selu')  # Scaled ELU: versión escalada para normalización automática\n",
        "plt.legend()"
      ],
      "metadata": {
        "id": "NIe77CD1MRpZ",
        "colab": {
          "base_uri": "https://localhost:8080/",
          "height": 447
        },
        "outputId": "247354ea-0cc8-457b-942f-c844501b93c2"
      },
      "execution_count": null,
      "outputs": [
        {
          "output_type": "execute_result",
          "data": {
            "text/plain": [
              "<matplotlib.legend.Legend at 0x7877d034c910>"
            ]
          },
          "metadata": {},
          "execution_count": 6
        },
        {
          "output_type": "display_data",
          "data": {
            "text/plain": [
              "<Figure size 640x480 with 1 Axes>"
            ],
            "image/png": "[encoded data removed]"
          },
          "metadata": {}
        }
      ]
    },
    {
      "cell_type": "code",
      "source": [
        "plt.plot(inputs, nn.sigmoid(inputs), label='sigmoid')  # Sigmoide clásico: salida entre 0 y 1\n",
        "plt.plot(inputs, nn.hard_sigmoid(inputs),label='hard_sigmoid')  # Aproximación lineal a la sigmoid\n",
        "plt.plot(inputs, nn.soft_sign(inputs),label='softsign')  # Softsign: x/(1+|x|)\n",
        "plt.legend()"
      ],
      "metadata": {
        "id": "z8Vvfj2KMU3N",
        "colab": {
          "base_uri": "https://localhost:8080/",
          "height": 447
        },
        "outputId": "a854cc5e-f013-4cf8-ead1-dbd4400a78ed"
      },
      "execution_count": null,
      "outputs": [
        {
          "output_type": "execute_result",
          "data": {
            "text/plain": [
              "<matplotlib.legend.Legend at 0x7877d03e3ed0>"
            ]
          },
          "metadata": {},
          "execution_count": 7
        },
        {
          "output_type": "display_data",
          "data": {
            "text/plain": [
              "<Figure size 640x480 with 1 Axes>"
            ],
            "image/png": "[encoded data removed]"
          },
          "metadata": {}
        }
      ]
    },
    {
      "cell_type": "code",
      "source": [
        "z = jnp.array([[1,1.2,1.8,2],[3,4.2,5.8,9]], dtype = jnp.float32)  # Matriz de 2x3\n",
        "nn.softmax(z, axis=1)"
      ],
      "metadata": {
        "id": "PLbvKqMsNHFl",
        "colab": {
          "base_uri": "https://localhost:8080/"
        },
        "outputId": "04e79832-8674-4f35-fc39-f4afd46ecc74"
      },
      "execution_count": null,
      "outputs": [
        {
          "output_type": "execute_result",
          "data": {
            "text/plain": [
              "Array([[0.13956296, 0.17046258, 0.31060305, 0.37937143],\n",
              "       [0.00235741, 0.00782689, 0.03876685, 0.9510488 ]], dtype=float32)"
            ]
          },
          "metadata": {},
          "execution_count": 8
        }
      ]
    },
    {
      "cell_type": "code",
      "source": [
        "N = 200  # Número de muestras\n",
        "key = jax.random.PRNGKey(0)  # Semilla aleatoria\n",
        "\n",
        "# Crear valores x aleatorios en [-π, π]\n",
        "xs = jnp.array(sorted(jax.random.uniform(key=key, shape=N, minval=-jnp.pi, maxval=jnp.pi)))\n",
        "\n",
        "# Valores y = sin(x) + ruido gaussiano\n",
        "ys = jnp.sin(xs) + 0.05*jax.random.normal(key=key, shape=N)\n",
        "\n",
        "# Gráfico de dispersión\n",
        "plt.figure()\n",
        "plt.scatter(xs, ys)"
      ],
      "metadata": {
        "id": "L2-RmLwNNr5A",
        "colab": {
          "base_uri": "https://localhost:8080/",
          "height": 447
        },
        "outputId": "455be6d2-1417-46e0-ef87-8277f55ed8a8"
      },
      "execution_count": null,
      "outputs": [
        {
          "output_type": "execute_result",
          "data": {
            "text/plain": [
              "<matplotlib.collections.PathCollection at 0x7877b0744f50>"
            ]
          },
          "metadata": {},
          "execution_count": 9
        },
        {
          "output_type": "display_data",
          "data": {
            "text/plain": [
              "<Figure size 640x480 with 1 Axes>"
            ],
            "image/png": "[encoded data removed]"
          },
          "metadata": {}
        }
      ]
    },
    {
      "cell_type": "code",
      "source": [
        "!pip install jaxopt -q"
      ],
      "metadata": {
        "id": "vtKtKjvRYO_C",
        "colab": {
          "base_uri": "https://localhost:8080/"
        },
        "outputId": "30b1d5d1-cc9e-4cdb-c91c-4cfe98413e40"
      },
      "execution_count": null,
      "outputs": [
        {
          "output_type": "stream",
          "name": "stdout",
          "text": [
            "\u001b[?25l   \u001b[90m━━━━━━━━━━━━━━━━━━━━━━━━━━━━━━━━━━━━━━━━\u001b[0m \u001b[32m0.0/172.3 kB\u001b[0m \u001b[31m?\u001b[0m eta \u001b[36m-:--:--\u001b[0m\r\u001b[2K   \u001b[90m━━━━━━━━━━━━━━━━━━━━━━━━━━━━━━━━━━━━━━━━\u001b[0m \u001b[32m172.3/172.3 kB\u001b[0m \u001b[31m5.5 MB/s\u001b[0m eta \u001b[36m0:00:00\u001b[0m\n",
            "\u001b[?25h"
          ]
        }
      ]
    },
    {
      "cell_type": "code",
      "source": [
        "import jax.numpy as jnp\n",
        "import jax\n",
        "import numpy as np\n",
        "import matplotlib.pyplot as plt\n",
        "from jax import random\n",
        "from jaxopt import ScipyMinimize\n",
        "from sklearn.preprocessing import PolynomialFeatures\n",
        "\n",
        "\n",
        "# Generación de datos ruidosos tipo seno\n",
        "def generate_data(n=200, noise=0.05, seed=0):\n",
        "    np.random.seed(seed)  # Fijamos semilla para reproducibilidad\n",
        "    xs = np.sort(np.random.uniform(low=-np.pi, high=np.pi, size=n))  # x entre -pi y pi\n",
        "    ys = np.sin(xs) + np.random.normal(loc=0, scale=noise, size=n)  # y = sin(x) + ruido\n",
        "    return jnp.array(xs), jnp.array(ys)  # Convertimos a tensores de JAX\n",
        "\n",
        "# Ajusta un modelo de regresión polinómica y muestra el resultado\n",
        "def polynomial_regression(xs, ys, degree, regularization=1e-3):\n",
        "    # Función auxiliar que transforma los datos en variables polinómicas\n",
        "    def polynomial_features(x, degree):\n",
        "        poly = PolynomialFeatures(degree, include_bias=True)\n",
        "        return jnp.array(poly.fit_transform(x.reshape(-1, 1)), dtype=jnp.float64)\n",
        "\n",
        "    # Normalizamos las entradas y salidas para mejorar estabilidad numérica\n",
        "    xs_mean, xs_std = jnp.mean(xs), jnp.std(xs) + 1e-8\n",
        "    ys_mean, ys_std = jnp.mean(ys), jnp.std(ys) + 1e-8\n",
        "\n",
        "    xs_norm = (xs - xs_mean) / xs_std\n",
        "    ys_norm = (ys - ys_mean) / ys_std\n",
        "\n",
        "    # Obtenemos la matriz de características polinómicas\n",
        "    X = polynomial_features(xs_norm, degree)\n",
        "\n",
        "    # Inicializamos los parámetros aleatoriamente con valores pequeños\n",
        "    key = random.PRNGKey(0)\n",
        "    params = random.normal(key, (X.shape[1],), dtype=jnp.float64) * 0.01\n",
        "\n",
        "    # Función de pérdida: error cuadrático medio + regularización L2\n",
        "    def loss_fn(params):\n",
        "        y_pred = X @ params  # Predicción del modelo\n",
        "        mse = jnp.mean((y_pred - ys_norm) ** 2)  # Error cuadrático medio\n",
        "        l2_penalty = regularization * jnp.sum(params**2)  # Penalización L2\n",
        "        return mse + l2_penalty  # Función de coste total\n",
        "\n",
        "    # Optimizamos los parámetros con BFGS usando JAXopt\n",
        "    optimizer = ScipyMinimize(fun=loss_fn, method=\"BFGS\")\n",
        "    result = optimizer.run(params)  # Ejecutamos la optimización\n",
        "    params = result.params   # Extraemos los parámetros óptimos\n",
        "\n",
        "    # Desnormalizamos las predicciones\n",
        "    y_pred = X @ params * ys_std + ys_mean\n",
        "\n",
        "    # Ordenamos las predicciones para trazar una curva continua\n",
        "    xs_sorted, y_pred_sorted = zip(*sorted(zip(xs, y_pred)))\n",
        "\n",
        "    # Graficamos los datos reales y el modelo ajustado\n",
        "    plt.scatter(xs, ys, label=\"Data\", color=\"blue\", alpha=0.5)  # Datos originales\n",
        "    plt.plot(xs_sorted, y_pred_sorted, label=f\"Polynomial Regression (Degree {degree})\", color=\"red\")  # Curva ajustada\n",
        "    plt.legend()\n",
        "    plt.xlabel(\"x\")\n",
        "    plt.ylabel(\"y\")\n",
        "    plt.title(f\"Polynomial Regression with Degree {degree}\")\n",
        "    plt.show()\n",
        "\n",
        "    return params\n",
        "\n",
        "# Generamos datos sintéticos\n",
        "xs, ys = generate_data(n=200, noise=0.05)\n",
        "\n",
        "# Ajustamos un polinomio de grado 2 (subajuste probable)\n",
        "params_degree_3 = polynomial_regression(xs, ys, degree=2)\n",
        "\n",
        "# Ajustamos un polinomio de grado 20 (posible sobreajuste, controlado por regularización)\n",
        "params_degree_20 = polynomial_regression(xs, ys, degree=20)\n"
      ],
      "metadata": {
        "id": "8RcQ-B54Pebz",
        "colab": {
          "base_uri": "https://localhost:8080/",
          "height": 1000
        },
        "outputId": "79be5779-c8e0-44e0-a238-17fb1aec8e19"
      },
      "execution_count": null,
      "outputs": [
        {
          "output_type": "stream",
          "name": "stderr",
          "text": [
            "<ipython-input-11-025f4742e582>:21: UserWarning: Explicitly requested dtype <class 'jax.numpy.float64'> requested in array is not available, and will be truncated to dtype float32. To enable more dtypes, set the jax_enable_x64 configuration option or the JAX_ENABLE_X64 shell environment variable. See https://github.com/jax-ml/jax#current-gotchas for more.\n",
            "  return jnp.array(poly.fit_transform(x.reshape(-1, 1)), dtype=jnp.float64)\n",
            "<ipython-input-11-025f4742e582>:32: UserWarning: Explicitly requested dtype <class 'jax.numpy.float64'>  is not available, and will be truncated to dtype float32. To enable more dtypes, set the jax_enable_x64 configuration option or the JAX_ENABLE_X64 shell environment variable. See https://github.com/jax-ml/jax#current-gotchas for more.\n",
            "  params = random.normal(key, (X.shape[1],), dtype=jnp.float64) * 0.01\n"
          ]
        },
        {
          "output_type": "display_data",
          "data": {
            "text/plain": [
              "<Figure size 640x480 with 1 Axes>"
            ],
            "image/png": "[encoded data removed]"
          },
          "metadata": {}
        },
        {
          "output_type": "stream",
          "name": "stderr",
          "text": [
            "<ipython-input-11-025f4742e582>:21: UserWarning: Explicitly requested dtype <class 'jax.numpy.float64'> requested in array is not available, and will be truncated to dtype float32. To enable more dtypes, set the jax_enable_x64 configuration option or the JAX_ENABLE_X64 shell environment variable. See https://github.com/jax-ml/jax#current-gotchas for more.\n",
            "  return jnp.array(poly.fit_transform(x.reshape(-1, 1)), dtype=jnp.float64)\n",
            "<ipython-input-11-025f4742e582>:32: UserWarning: Explicitly requested dtype <class 'jax.numpy.float64'>  is not available, and will be truncated to dtype float32. To enable more dtypes, set the jax_enable_x64 configuration option or the JAX_ENABLE_X64 shell environment variable. See https://github.com/jax-ml/jax#current-gotchas for more.\n",
            "  params = random.normal(key, (X.shape[1],), dtype=jnp.float64) * 0.01\n"
          ]
        },
        {
          "output_type": "display_data",
          "data": {
            "text/plain": [
              "<Figure size 640x480 with 1 Axes>"
            ],
            "image/png": "[encoded data removed]"
          },
          "metadata": {}
        }
      ]
    },
    {
      "cell_type": "code",
      "source": [
        "# Importamos TensorFlow Datasets para acceder a MNIST fácilmente\n",
        "import tensorflow_datasets as tfds\n",
        "\n",
        "\n",
        "# Cargamos el dataset MNIST (solo el 10% para ejemplo), con info y ejemplos visuales\n",
        "(ds_train_mnist, ds_test_mnist), ds_info_mnist = tfds.load(\n",
        "  name = 'mnist',   # Nombre del dataset\n",
        "  split=['train[:10%]', 'test[:10%]'],  # Cargamos solo el 10% del train y test\n",
        "  shuffle_files=True,  # Mezclamos los archivos para aleatoriedad\n",
        "  as_supervised=True,  # Devuelve tuplas (imagen, etiqueta)\n",
        "  with_info=True)  # Devuelve información adicional (clases, etc.)\n",
        "\n",
        "# Mostramos algunos ejemplos del dataset\n",
        "fig = tfds.show_examples(ds_train_mnist, ds_info_mnist)"
      ],
      "metadata": {
        "id": "F_lw2zpF2bAS",
        "colab": {
          "base_uri": "https://localhost:8080/",
          "height": 897,
          "referenced_widgets": [
            "de9c6bdcfba943e4afe0d303b291beec",
            "d26736af5a4848ef8ab8ac5dccea6c15",
            "d98b564970ec4bd987ce476d7259ddfe",
            "3a6eec20bf5a431287fe1fa469379946",
            "0d8cd42dc2794ebcb258f94e9486c32e",
            "4ae63c87ebc045ffb419a59e28ee5292",
            "c55d01bb486042efb1e5379719a89694",
            "df4e2d448e694d2fb74dd8346f0d8d82",
            "f3a3c6f5af0947a0be7c5db8b5d01a5f",
            "a4bfeaa0b3684dea9eb9c986a8e32fdb",
            "1ccc389b80f04fa4a2745f995f144c15",
            "747a7e7fbbcf46e9be5142ec0a80202e",
            "3ae36b033e69450abd0c70ee2fe65ccc",
            "1f79e12fb2b546449f7d8272c477ef0b",
            "ea03cc3b15944c88b9850f0effd507e5",
            "de1dddbcab9a4461977edd967aea2954",
            "49c01eebf0a145d99a4504ddbf0a6339",
            "1695a9066b81477694617148c4385fa1",
            "2bb7caec03624c5dae0071bee942f4f1",
            "5d5ecdc3567544af8c143072a3ed3ffe",
            "04957e282c99465a8ee6119ff733c57c",
            "49a78c55678a4618b8e91963a83f678e",
            "fb47a284c12b4950bdc2473f2047005f",
            "8b340acdd79441cf9d21d0763e9ffe88",
            "15899ad0db6b4f2a9dab55eb6364f209",
            "1e1b71009bff4aa3a09465ed8184322c",
            "ee035b161fbc47c8ac9c51d9d1dff248",
            "35fb687a4b00407f8c3e610fd12aee73",
            "bb4d64ba0e1d46a3bd18832aa20f7b44",
            "e891478b769443c19c664c57446e80f3",
            "95ec9044514a4dbabd694fa4d4f8b0cf",
            "cb68204344274e128e3c2b9e49c2d124",
            "c1cb7738002c491d9cd7cc86b16284e4",
            "7271a5d95e4e4c2c9b7b9356a0678797",
            "626d4c79a5ca4e97b04152eb801d1e02",
            "562ce6ad86fc47278662d058b3d9fc40",
            "a4e8d5992a4a4a979bb986e659b35235",
            "986c3df510a74fbca3234b3b1037cb02",
            "f11aac86ea984fd3873ee00d821ba1d5",
            "4f387150b33f4b8aa0334f0dcf9f0c3c",
            "3060d2478ab0426e9767a5bb49a8786d",
            "a556675470664be981d83589ad5595b2",
            "96eaef63ca134374bee7324d3fcbb3c7",
            "3eba3a077edc43feb5e982ca6e55bf37",
            "dbab52b68a8b4fc7b8881604a190854f",
            "8581d8c70064407ab0a16443f33e9fa6",
            "62491143079f4a8d88914d473f65493a",
            "347f7267a2614c62a056ddb9743f25f1",
            "b58573036fcd4f7890db94546339ec3f",
            "7f02711771fc4208bdd1cdc428f92b5b",
            "392b153373384bf7ae5eeec4fdfe32f2",
            "be784c0f4973482e8b56c7f1be7bb9c3",
            "cbc07ee347524e1195f5db0082fa07e9",
            "f5afbee376ed495fb78015904f648656",
            "e5765f75df3d400785266f1b4e9251cf",
            "824e6ed949554111979c5dc634e6619d",
            "925ee8c0b60841818f47a9a512815784",
            "c7ff0fae3d514b2786d62345f73cdf52",
            "ac1cd7ec83a24776914e0fcdd4f11ba6",
            "ab90fa3112f1474e8456e66c3a0c6485",
            "015531fab9f24ba3b37f0d257b44f769",
            "94bc1ddb485c48a0a2e82886b40e7416",
            "214634981aa144b4a7d0b374c7c9d74b",
            "32cd408d900f4db79290518630b80d48",
            "0d7551e023784db4be66f9a16eb358ce",
            "e143bd86c65d4d8ca90fe5d92dfe0795",
            "001d44081058498ab412200ef38079da",
            "6032a840134c41a383ed57e0e7670447",
            "13d2c13b6a5b4aebbd40ca4518d3e5d8",
            "934b5306638f4ba8b521719dd46366d1",
            "28b002df1ff548cb9ec371b25cfe817b",
            "2a741d6fdf304f0f85a6f985dd7ed479",
            "86656dfb6ec84613a742846460f4ab4f",
            "6a7cd39bc16d49d28dd8933c0e3551c7",
            "e4eeb3c4e42443049da271d885f6d608",
            "59b253c8fdaa498dbdc38a5764346815",
            "ad36e9eec51043a7ab8a7bb4134fa27b",
            "8a81650e5b394c4bb25cf143542b3ecc",
            "e312d62a2cf34650983c4da06f7e5914",
            "ac169d90a5934afbae4e12fb42e41acc",
            "63cb126c1b64477dae77d6553bb3f7da",
            "0dbf354f8c85428c869c5c4837bff61e",
            "2587b427957644779651f317bcd6c709",
            "311396d346fb42b2a71e248a91cce310",
            "f9907a793d54482cb2fb4cc4544cd13a",
            "f36dabcba6334ff29a14f2695831a414",
            "ba07db5ab2bb44539a763582b80a9a82",
            "d539856982f040f091359a832b8b6740"
          ]
        },
        "outputId": "594013bd-9bac-44fb-fab3-425d1c23d6c4"
      },
      "execution_count": null,
      "outputs": [
        {
          "output_type": "stream",
          "name": "stderr",
          "text": [
            "WARNING:absl:Variant folder /root/tensorflow_datasets/mnist/3.0.1 has no dataset_info.json\n"
          ]
        },
        {
          "output_type": "stream",
          "name": "stdout",
          "text": [
            "Downloading and preparing dataset Unknown size (download: Unknown size, generated: Unknown size, total: Unknown size) to /root/tensorflow_datasets/mnist/3.0.1...\n"
          ]
        },
        {
          "output_type": "display_data",
          "data": {
            "text/plain": [
              "Dl Completed...: 0 url [00:00, ? url/s]"
            ],
            "application/vnd.jupyter.widget-view+json": {
              "version_major": 2,
              "version_minor": 0,
              "model_id": "de9c6bdcfba943e4afe0d303b291beec"
            }
          },
          "metadata": {}
        },
        {
          "output_type": "display_data",
          "data": {
            "text/plain": [
              "Dl Size...: 0 MiB [00:00, ? MiB/s]"
            ],
            "application/vnd.jupyter.widget-view+json": {
              "version_major": 2,
              "version_minor": 0,
              "model_id": "747a7e7fbbcf46e9be5142ec0a80202e"
            }
          },
          "metadata": {}
        },
        {
          "output_type": "display_data",
          "data": {
            "text/plain": [
              "Extraction completed...: 0 file [00:00, ? file/s]"
            ],
            "application/vnd.jupyter.widget-view+json": {
              "version_major": 2,
              "version_minor": 0,
              "model_id": "fb47a284c12b4950bdc2473f2047005f"
            }
          },
          "metadata": {}
        },
        {
          "output_type": "display_data",
          "data": {
            "text/plain": [
              "Generating splits...:   0%|          | 0/2 [00:00<?, ? splits/s]"
            ],
            "application/vnd.jupyter.widget-view+json": {
              "version_major": 2,
              "version_minor": 0,
              "model_id": "7271a5d95e4e4c2c9b7b9356a0678797"
            }
          },
          "metadata": {}
        },
        {
          "output_type": "display_data",
          "data": {
            "text/plain": [
              "Generating train examples...: 0 examples [00:00, ? examples/s]"
            ],
            "application/vnd.jupyter.widget-view+json": {
              "version_major": 2,
              "version_minor": 0,
              "model_id": "dbab52b68a8b4fc7b8881604a190854f"
            }
          },
          "metadata": {}
        },
        {
          "output_type": "display_data",
          "data": {
            "text/plain": [
              "Shuffling /root/tensorflow_datasets/mnist/incomplete.W012EY_3.0.1/mnist-train.tfrecord*...:   0%|          | 0…"
            ],
            "application/vnd.jupyter.widget-view+json": {
              "version_major": 2,
              "version_minor": 0,
              "model_id": "824e6ed949554111979c5dc634e6619d"
            }
          },
          "metadata": {}
        },
        {
          "output_type": "display_data",
          "data": {
            "text/plain": [
              "Generating test examples...: 0 examples [00:00, ? examples/s]"
            ],
            "application/vnd.jupyter.widget-view+json": {
              "version_major": 2,
              "version_minor": 0,
              "model_id": "001d44081058498ab412200ef38079da"
            }
          },
          "metadata": {}
        },
        {
          "output_type": "display_data",
          "data": {
            "text/plain": [
              "Shuffling /root/tensorflow_datasets/mnist/incomplete.W012EY_3.0.1/mnist-test.tfrecord*...:   0%|          | 0/…"
            ],
            "application/vnd.jupyter.widget-view+json": {
              "version_major": 2,
              "version_minor": 0,
              "model_id": "8a81650e5b394c4bb25cf143542b3ecc"
            }
          },
          "metadata": {}
        },
        {
          "output_type": "stream",
          "name": "stdout",
          "text": [
            "Dataset mnist downloaded and prepared to /root/tensorflow_datasets/mnist/3.0.1. Subsequent calls will reuse this data.\n"
          ]
        },
        {
          "output_type": "display_data",
          "data": {
            "text/plain": [
              "<Figure size 900x900 with 9 Axes>"
            ],
            "image/png": "[encoded data removed]"
          },
          "metadata": {}
        }
      ]
    },
    {
      "cell_type": "markdown",
      "source": [
        "### Ejemplo con MNIST"
      ],
      "metadata": {
        "id": "00APuiurqtLL"
      }
    },
    {
      "cell_type": "code",
      "source": [
        "# Segundo bloque: preparación del pipeline de datos con tf.data\n",
        "\n",
        "import tensorflow_datasets as tfds  # Cargamos nuevamente TFDS\n",
        "import tensorflow as tf  # Importamos TensorFlow\n",
        "\n",
        "# Fijamos semilla aleatoria para reproducibilidad\n",
        "tf.random.set_seed(0)\n",
        "\n",
        "# Definimos parámetros de entrenamiento\n",
        "train_steps = 1200  # Número total de pasos de entrenamiento\n",
        "eval_every = 200   #Evaluar cada 200 pasos\n",
        "batch_size = 32  # Tamaño de batch\n",
        "\n",
        "\n",
        "# Cargamos de nuevo el 10% del train y test set de MNIST\n",
        "train_ds: tf.data.Dataset = tfds.load('mnist', split='train[:10%]')\n",
        "test_ds: tf.data.Dataset = tfds.load('mnist', split='test[:10%]')\n",
        "\n",
        "\n",
        "# Normalizamos el conjunto de entrenamiento: de [0, 255] a [0, 1]\n",
        "train_ds = train_ds.map(\n",
        "  lambda sample: {\n",
        "    'image': tf.cast(sample['image'], tf.float32) / 255,\n",
        "    'label': sample['label'],\n",
        "  }\n",
        ")\n",
        "\n",
        "# Normalizamos el conjunto de prueba de la misma forma\n",
        "test_ds = test_ds.map(\n",
        "  lambda sample: {\n",
        "    'image': tf.cast(sample['image'], tf.float32) / 255,\n",
        "    'label': sample['label'],\n",
        "  }\n",
        ")\n",
        "\n",
        "# Configuramos el dataset para entrenamiento eficiente\n",
        "\n",
        "# Repetimos indefinidamente, mezclamos con buffer 1024 para aleatoriedad\n",
        "train_ds = train_ds.repeat().shuffle(1024)\n",
        "\n",
        "# Agrupamos en batches, descartamos incompletos, preparamos el siguiente batch en segundo plano.\n",
        "train_ds = train_ds.batch(batch_size, drop_remainder=True).take(train_steps).prefetch(1)\n",
        "\n",
        "# Preparamos también el dataset de prueba con batch y prefetch\n",
        "test_ds = test_ds.batch(batch_size, drop_remainder=True).prefetch(1)"
      ],
      "metadata": {
        "id": "FD7piJUIA8D5"
      },
      "execution_count": null,
      "outputs": []
    },
    {
      "cell_type": "code",
      "source": [
        "train_ds"
      ],
      "metadata": {
        "id": "5S95Tv8WUNhi",
        "outputId": "4757db32-87fe-431b-a8af-2dc4d29909fd",
        "colab": {
          "base_uri": "https://localhost:8080/"
        }
      },
      "execution_count": null,
      "outputs": [
        {
          "output_type": "execute_result",
          "data": {
            "text/plain": [
              "<_PrefetchDataset element_spec={'image': TensorSpec(shape=(32, 28, 28, 1), dtype=tf.float32, name=None), 'label': TensorSpec(shape=(32,), dtype=tf.int64, name=None)}>"
            ]
          },
          "metadata": {},
          "execution_count": 36
        }
      ]
    },
    {
      "cell_type": "code",
      "source": [
        "from flax import nnx  # Importamos NNX, una API de Flax para modelos neuronales\n",
        "from functools import partial  # Para crear funciones parcialmente definidas\n",
        "\n",
        "class CNN(nnx.Module):\n",
        "  \"\"\"A simple CNN model.\"\"\"\n",
        "\n",
        "  def __init__(self, *, rngs: nnx.Rngs):\n",
        "    # Primera capa convolucional: de 1 canal a 32 mapas de características\n",
        "    self.conv1 = nnx.Conv(1, 32, kernel_size=(3, 3), rngs=rngs)\n",
        "    # Segunda capa convolucional: de 32 a 64 mapas de características\n",
        "    self.conv2 = nnx.Conv(32, 64, kernel_size=(3, 3), rngs=rngs)\n",
        "    # Capa de pooling promedio con ventana 2x2 y stride 2\n",
        "    self.avg_pool = partial(nnx.avg_pool, window_shape=(2, 2), strides=(2, 2))\n",
        "    # Capa totalmente conectada que aplana las activaciones\n",
        "    self.linear1 = nnx.Linear(3136, 256, rngs=rngs)\n",
        "    # Capa de salida: 10 clases (para MNIST)\n",
        "    self.linear2 = nnx.Linear(256, 10, rngs=rngs)\n",
        "\n",
        "  def __call__(self, x):\n",
        "    # Aplicamos conv1 + ReLU + avg_pool\n",
        "    x = self.avg_pool(nnx.relu(self.conv1(x)))\n",
        "    # Aplicamos conv2 + ReLU + avg_pool\n",
        "    x = self.avg_pool(nnx.relu(self.conv2(x)))\n",
        "    # Aplanamos la salida para alimentar a las capas lineales\n",
        "    x = x.reshape(x.shape[0], -1)\n",
        "    # Capa lineal + ReLU\n",
        "    x = nnx.relu(self.linear1(x))\n",
        "    # Capa final (sin activación, porque softmax se aplica luego si es necesario)\n",
        "    x = self.linear2(x)\n",
        "    return x\n",
        "\n",
        "# Creamos el modelo CNN con una semilla aleatoria\n",
        "model = CNN(rngs=nnx.Rngs(0))\n",
        "# Visualizamos su arquitectura\n",
        "nnx.display(model)"
      ],
      "metadata": {
        "id": "yS_PMyUEIu4l",
        "colab": {
          "base_uri": "https://localhost:8080/",
          "height": 457
        },
        "outputId": "7962f133-da70-4e85-8a63-d5bc2e57e50e"
      },
      "execution_count": null,
      "outputs": [
        {
          "output_type": "display_data",
          "data": {
            "text/plain": [
              "<IPython.core.display.HTML object>"
            ],
            "text/html": [
              "<script> (()=>{ if (customElements.get('treescope-container') === undefined) { class TreescopeContainer extends HTMLElement { constructor() { super(); this.attachShadow({mode: \"open\"}); this.defns = {}; this.state = {}; } } customElements.define(\"treescope-container\", TreescopeContainer); } if (customElements.get('treescope-run-here') === undefined) { class RunHere extends HTMLElement { constructor() { super() } connectedCallback() { const run = child => { const fn = new Function(child.textContent); child.textContent = \"\"; fn.call(this); this.remove(); }; const child = this.querySelector(\"script\"); if (child) { run(child); } else { new MutationObserver(()=>{ run(this.querySelector(\"script\")); }).observe(this, {childList: true}); } } } customElements.define(\"treescope-run-here\", RunHere); } })(); </script> <treescope-container class=\"treescope_out_f9cef111c960407db1acb8ac40510bff\" style=\"display:block\"></treescope-container> <treescope-run-here><script type=\"application/octet-stream\"> const root = ( Array.from(document.getElementsByClassName( \"treescope_out_f9cef111c960407db1acb8ac40510bff\")) .filter((elt) => !elt.dataset.setup) )[0]; root.dataset.setup = 1; const msg = document.createElement(\"span\"); msg.style = \"color: #cccccc; font-family: monospace;\"; msg.textContent = \"(Loading...)\"; root.state.loadingMsg = msg; root.shadowRoot.appendChild(msg); root.state.chain = new Promise((resolve, reject) => { const observer = new IntersectionObserver((entries) => { for (const entry of entries) { if (entry.isIntersecting) { resolve(); observer.disconnect(); return; } } }, {rootMargin: \"1000px\"}); window.setTimeout(() => { observer.observe(root); }, 0); }); root.state.deferring = false; const _insertNode = (node) => { for (let oldScript of node.querySelectorAll(\"script\")) { let newScript = document.createElement(\"script\"); newScript.type = oldScript.type; newScript.textContent = oldScript.textContent; oldScript.parentNode.replaceChild(newScript, oldScript); } if (root.state.loadingMsg) { root.state.loadingMsg.remove(); root.state.loadingMsg = null; } root.shadowRoot.appendChild(node); }; root.defns.insertContent = ((contentNode, compressed) => { if (compressed) { root.state.deferring = true; } if (root.state.deferring) { root.state.chain = (async () => { await root.state.chain; if (compressed) { const encoded = contentNode.textContent; const blob = new Blob([ Uint8Array.from(atob(encoded), (m) => m.codePointAt(0)) ]); const reader = blob.stream().pipeThrough( new DecompressionStream(\"deflate\") ).pipeThrough( new TextDecoderStream(\"utf-8\") ).getReader(); const parts = []; while (true) { const step = await reader.read(); if (step.done) { break; } parts.push(step.value); } const tpl = document.createElement('template'); tpl.innerHTML = parts.join(\"\"); _insertNode(tpl.content); } else { _insertNode(contentNode.content); } })(); } else { _insertNode(contentNode.content); } }); </script></treescope-run-here><div style=\"display:none\"> <script type=\"application/octet-stream\" >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</script> <treescope-run-here><script type=\"application/octet-stream\"> const root = ( Array.from(document.getElementsByClassName( \"treescope_out_f9cef111c960407db1acb8ac40510bff\")) .filter((elt) => !elt.dataset['step0']) )[0]; root.dataset['step0'] = 1; root.defns.insertContent( this.parentNode.querySelector('script[type=\"application/octet-stream\"]'), true ); this.parentNode.remove(); </script></treescope-run-here> </div>"
            ]
          },
          "metadata": {}
        },
        {
          "output_type": "display_data",
          "data": {
            "text/plain": [
              "<IPython.core.display.HTML object>"
            ],
            "text/html": [
              "<div style=\"display:none\"> <script type=\"application/octet-stream\" >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</script> <treescope-run-here><script type=\"application/octet-stream\"> const root = ( Array.from(document.getElementsByClassName( \"treescope_out_f9cef111c960407db1acb8ac40510bff\")) .filter((elt) => !elt.dataset['step1']) )[0]; root.dataset['step1'] = 1; root.defns.insertContent( this.parentNode.querySelector('script[type=\"application/octet-stream\"]'), true ); this.parentNode.remove(); </script></treescope-run-here> </div>"
            ]
          },
          "metadata": {}
        }
      ]
    },
    {
      "cell_type": "code",
      "source": [
        "import jax.numpy as jnp  # JAX NumPy\n",
        "\n",
        "#  Creamos una imagen de ejemplo con forma (1, 28, 28, 1): 1 imagen de MNIST en escala de grises\n",
        "y = model(jnp.ones((1, 28, 28, 1)))\n",
        "y"
      ],
      "metadata": {
        "id": "otvne3b2mwh7",
        "colab": {
          "base_uri": "https://localhost:8080/"
        },
        "outputId": "4d9ff852-b7c0-4eb2-8f89-f555ffa599a8"
      },
      "execution_count": null,
      "outputs": [
        {
          "output_type": "execute_result",
          "data": {
            "text/plain": [
              "Array([[ 0.18405604,  0.5048598 ,  0.20095982,  0.48739713, -0.37915248,\n",
              "        -0.55519223, -0.544814  , -0.04560174,  0.05879368,  0.13339695]],      dtype=float32)"
            ]
          },
          "metadata": {},
          "execution_count": 15
        }
      ]
    },
    {
      "cell_type": "markdown",
      "source": [
        "### Funcion Accuracy"
      ],
      "metadata": {
        "id": "jF3RmI5YgcDn"
      }
    },
    {
      "cell_type": "code",
      "source": [
        "# Generamos logits aleatorios con distribución normal y los pasamos por sigmoid\n",
        "logits = jax.random.normal(jax.random.key(0), (5, 2))\n",
        "logits = jax.nn.sigmoid(logits)\n",
        "print(logits)\n",
        "\n",
        "# Etiquetas reales para comparar (vector binario)\n",
        "labels = jnp.array([0, 1, 1, 1, 0])\n",
        "\n",
        "# Generamos un segundo conjunto de logits y etiquetas\n",
        "logits2 = jax.random.normal(jax.random.key(1), (5, 2))\n",
        "logits2 = jax.nn.sigmoid(logits2)\n",
        "\n",
        "print(logits2)\n",
        "labels2 = jnp.array([0, 1, 1, 1, 1])\n",
        "\n",
        "# Instanciamos el objeto para calcular accuracy\n",
        "metrics = nnx.metrics.Accuracy()\n",
        "# Calculamos la precisión acumulada hasta ahora (aún sin actualizar)\n",
        "metrics.compute()"
      ],
      "metadata": {
        "id": "1oVMEMhpeBbh",
        "colab": {
          "base_uri": "https://localhost:8080/"
        },
        "outputId": "f6503922-b935-46b8-bb55-46a7dfd0e07a",
        "collapsed": true
      },
      "execution_count": null,
      "outputs": [
        {
          "output_type": "stream",
          "name": "stdout",
          "text": [
            "[[0.83515924 0.8834242 ]\n",
            " [0.39326835 0.48035577]\n",
            " [0.5439093  0.27446428]\n",
            " [0.37864614 0.6211374 ]\n",
            " [0.6602367  0.27885193]]\n",
            "[[0.46146724 0.5211642 ]\n",
            " [0.46605718 0.46131837]\n",
            " [0.7801717  0.5370066 ]\n",
            " [0.89487743 0.731584  ]\n",
            " [0.42792165 0.58863974]]\n"
          ]
        },
        {
          "output_type": "execute_result",
          "data": {
            "text/plain": [
              "Array(nan, dtype=float32)"
            ]
          },
          "metadata": {},
          "execution_count": 16
        }
      ]
    },
    {
      "cell_type": "code",
      "source": [
        "# Actualizamos el métrico con logits2 y labels2\n",
        "metrics.update(logits=logits2, labels=labels2)\n",
        "# Recalculamos la precisión después de la actualización\n",
        "metrics.compute()"
      ],
      "metadata": {
        "id": "Q2eU6gceeEcx",
        "colab": {
          "base_uri": "https://localhost:8080/"
        },
        "outputId": "f19d7fff-5be3-480c-fa31-70dcf28c76fa"
      },
      "execution_count": null,
      "outputs": [
        {
          "output_type": "execute_result",
          "data": {
            "text/plain": [
              "Array(0.2, dtype=float32)"
            ]
          },
          "metadata": {},
          "execution_count": 17
        }
      ]
    },
    {
      "cell_type": "code",
      "source": [
        "import optax  # Librería de optimización para JAX\n",
        "\n",
        "# Definimos la tasa de aprendizaje y el momentum\n",
        "learning_rate = 0.005\n",
        "momentum = 0.9\n",
        "\n",
        "# Creamos el optimizador con AdamW (Adam con decaimiento de pesos)\n",
        "optimizer = nnx.Optimizer(model, optax.adamw(learning_rate, momentum))\n",
        "\n",
        "# Definimos múltiples métricas: precisión y promedio de pérdida\n",
        "metrics = nnx.MultiMetric(\n",
        "  accuracy=nnx.metrics.Accuracy(),\n",
        "  loss=nnx.metrics.Average('loss'),\n",
        ")\n",
        "\n",
        "# Visualizamos el optimizador (estructura, parámetros, etc.)\n",
        "nnx.display(optimizer)"
      ],
      "metadata": {
        "id": "lMHzM0qhm25i",
        "colab": {
          "base_uri": "https://localhost:8080/",
          "height": 457
        },
        "outputId": "67d76d88-69ca-463e-9148-804d9b4809d6"
      },
      "execution_count": null,
      "outputs": [
        {
          "output_type": "display_data",
          "data": {
            "text/plain": [
              "<IPython.core.display.HTML object>"
            ],
            "text/html": [
              "<script> (()=>{ if (customElements.get('treescope-container') === undefined) { class TreescopeContainer extends HTMLElement { constructor() { super(); this.attachShadow({mode: \"open\"}); this.defns = {}; this.state = {}; } } customElements.define(\"treescope-container\", TreescopeContainer); } if (customElements.get('treescope-run-here') === undefined) { class RunHere extends HTMLElement { constructor() { super() } connectedCallback() { const run = child => { const fn = new Function(child.textContent); child.textContent = \"\"; fn.call(this); this.remove(); }; const child = this.querySelector(\"script\"); if (child) { run(child); } else { new MutationObserver(()=>{ run(this.querySelector(\"script\")); }).observe(this, {childList: true}); } } } customElements.define(\"treescope-run-here\", RunHere); } })(); </script> <treescope-container class=\"treescope_out_7a693fbb78b5451087129db052f8f47e\" style=\"display:block\"></treescope-container> <treescope-run-here><script type=\"application/octet-stream\"> const root = ( Array.from(document.getElementsByClassName( \"treescope_out_7a693fbb78b5451087129db052f8f47e\")) .filter((elt) => !elt.dataset.setup) )[0]; root.dataset.setup = 1; const msg = document.createElement(\"span\"); msg.style = \"color: #cccccc; font-family: monospace;\"; msg.textContent = \"(Loading...)\"; root.state.loadingMsg = msg; root.shadowRoot.appendChild(msg); root.state.chain = new Promise((resolve, reject) => { const observer = new IntersectionObserver((entries) => { for (const entry of entries) { if (entry.isIntersecting) { resolve(); observer.disconnect(); return; } } }, {rootMargin: \"1000px\"}); window.setTimeout(() => { observer.observe(root); }, 0); }); root.state.deferring = false; const _insertNode = (node) => { for (let oldScript of node.querySelectorAll(\"script\")) { let newScript = document.createElement(\"script\"); newScript.type = oldScript.type; newScript.textContent = oldScript.textContent; oldScript.parentNode.replaceChild(newScript, oldScript); } if (root.state.loadingMsg) { root.state.loadingMsg.remove(); root.state.loadingMsg = null; } root.shadowRoot.appendChild(node); }; root.defns.insertContent = ((contentNode, compressed) => { if (compressed) { root.state.deferring = true; } if (root.state.deferring) { root.state.chain = (async () => { await root.state.chain; if (compressed) { const encoded = contentNode.textContent; const blob = new Blob([ Uint8Array.from(atob(encoded), (m) => m.codePointAt(0)) ]); const reader = blob.stream().pipeThrough( new DecompressionStream(\"deflate\") ).pipeThrough( new TextDecoderStream(\"utf-8\") ).getReader(); const parts = []; while (true) { const step = await reader.read(); if (step.done) { break; } parts.push(step.value); } const tpl = document.createElement('template'); tpl.innerHTML = parts.join(\"\"); _insertNode(tpl.content); } else { _insertNode(contentNode.content); } })(); } else { _insertNode(contentNode.content); } }); </script></treescope-run-here><div style=\"display:none\"> <script type=\"application/octet-stream\" >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</script> <treescope-run-here><script type=\"application/octet-stream\"> const root = ( Array.from(document.getElementsByClassName( \"treescope_out_7a693fbb78b5451087129db052f8f47e\")) .filter((elt) => !elt.dataset['step0']) )[0]; root.dataset['step0'] = 1; root.defns.insertContent( this.parentNode.querySelector('script[type=\"application/octet-stream\"]'), true ); this.parentNode.remove(); </script></treescope-run-here> </div>"
            ]
          },
          "metadata": {}
        },
        {
          "output_type": "display_data",
          "data": {
            "text/plain": [
              "<IPython.core.display.HTML object>"
            ],
            "text/html": [
              "<div style=\"display:none\"> <script type=\"application/octet-stream\" >eNrsveea20iWKPi/noKj6enMbKaS8EBIJc1H70nQJY2uPjUcSdCBhKOp0f9732P3AfYV9lHuk+wJGBIEycyUqrpn506pjAhExIkTJ44Pg19V3U1Y9n6hfXqn6tZ6Ie0/JFbGSnuX0NVP78aG+U3Vxpppauo3SqNIxHCsxI5JhmVIQUAExwgMqfIao3Lqu8+/Wmtp5f8/oSwky/r0TjEWAEOSZVNz333+68L+OJN2T2nTlPb3xGNCtfdr7ZOjr2yaevjrxP74a8qHEf4F+H3+9QeQVDiSUiVJZjVKYFhKlSmeESRJ5XmGVXmaPCGJ4X1+kjAmrn74phgrW9JXmpn4LbGd6rb2HuopGu7IXEqLj4nviWuVn/TV2IAmY3jzfiwt9QXgtjRWhtf6Y8Ib/4fEv0ren4+JpWRO9NV72bBtY/khQTxRrLb8eN7j2tRe7k5frR37i0e6d6a0mmjvvgIKrmbauiIt3ksLfbICLHRVXQCksb6wNcBhAtAsKNfuyYeEAV3pNszBE/vww519mBquR6hL0D8Gb+UsZc0EgCvDvv8wNhTHegCwsmGqmvnelFTdsT4k6PXu94H0f3tIY/DhnPDen49Bdx8S5HqXsIyFrp6KXuj1yYKammnF+eWl2fNQsPU1tDlj5I+JtWHptm7AtEky4ODY8E6WlPnENJyV+j5A2evoGsLyAuoCFElV9dXE5ytlisGCaAEpNVdb2VbY2VZX7ekHmD37PUYOij4mMGbjhbH9kHB1S5cx41wO6/BeX6naDnomCOLlUcrG7o2jNHbvramk4q4J7x88LG9Aj8ELCl4EQ78+oCNe6AW0lIWuzFXJln5kxhaGhCn6balZljTRItwTSvR30FWeLvnVNjXNUoy19t50Vu+nmgnvLMXU13bC4807ab0GHCRMgZSh2Jr93oI20vLu8y/4D3Rr2YkQi8SnxP39Q+LT58RvvyQS8O/YWSm4aULVLM3UQcoPWg+oIdxjoYEKiYSp2Y65SnhvPR37NDaN5b1kGzJUekzcLz2AyyfFUDURkzJt3xMPDx+h9fdfbndTADKAhj515KMq723NAjx/qr8QyBjDxlBW2jYRdOTbBw/8k+yMQbcHTYIB+m1ew7q8+qfg7HXzQxj7KC80O5HFzLSU1u1iJgec+TE+molmZ4EZ9ZVjOJZX+d6VFo726LMhtMTNwhFiiLJkad88aXhMGOOxpdk+Hvo44TdN/PopQYQtEpH6MBziY/DWb3l68z2hLSwtAuTzpwR5A0gUs6eFtprY08T7BHUBmnw6Bx4C80ms2NYRot/l3xL310GTDx+v4VGX7OkT0B1odgT2cIHFqZ9/S5ABPpGZNmMD+nLq4usX4itGigQUfHAPiWQAPnGrUSKZIIOG0dnxO5u81Bn5s52R1zuTX+qM+tnOqHhnAf9/MR8Tk8eE/PW60O5X4DopaVOx9NW0rQH0+6C/ubb3dP5zwPYLfV2XgLdNaVvXV/7f+DkAUZTWIVseoVu2BPasg/0TNejiHlrYknPiYMzZ/6JbBX0FhuHeK/qP//BZCEzV/e4hkcINEr8mSO09c2p3HOAu5KwYNx8reLAs8MwwsL95wP52rIP/eBUWxuT+stdk0Hpj2jApwdPa2N7v/AqPCerh4cjb3yNcfJT9MzomPp3pAFzu0zNWECM/5hif/jcHG6/vg72GWbzmcdRnBaEW9WY5rLWUdvfhvAcIPXy8MdJfjzWOWP4n/eWLHcwWlpnEp19iM6/t1vdHFjinAYjhib2Bd47VwqEdp/7YB5Aq7CnlC/I5WVIxwvnGAwgLuhbaXhOZo+hh6fgYYZ2wVYx1jsBAYkjinAWO6hWL+lrDWhZzO9jdl4Q1FcAMYQWSFQK5ak1+92ydmD6k5OnxGqvGAWG6qtrKWOor8DHMIw/rq/sIC1wbdkz1BSTwUIhou8dXoISCgpufTdsZUrG5O0f46gQGxH/TtEXAnUzshRWwjQ52pDu2CR63b+vPfbejEQlN15mJ+bs5ke//8pv5PfGX3yb4f/L3h79fNTfYvzclC9yqyc/1GKmBw5EVRDV7qPFEkRQH8mmCin7iSZaC3xP8m+Ap/Fs+KalTs88JkhJOtA8Gc+cFQHdXWTqs4gUxd2cEjQ0U4vOFKNkQMK3AB4L5gH/3jxAmeq+OhhIm+R6zqe45fPDXr2GVwMmCd8nkQ8xDM40t1A8qftG/hgxyBDfzwc0AHNQ9gppFQQXGx9h+mX2NvoVO7N0Txr+tKfY99i5mgDv8pT8myMeIz3fiyO8XrOUjquoT3facZ9HUl5KJp+qLV/fuX8fen7tH+EmOeV5mvJ/jMT8mNO8npUgEpXg/VY7iKcH7iRiOl1Xvp6CwHCPfPQYANZrnFcorkRVZpfyfJC9ryvgO6nhkiuPV0eCNeo4ZP8b/eK0lTeE1IcBMlvkAB0EdC1LwFgmI834qrEyorP+TQQpijpiNeZlTfXRUWZUFH32kqZLGHjH75Yidoi0WHYiiACX+o18QC1ogMhnrk4uYRQWN01xpWWgfajiP92CSvbDlMRGEMLoFmk1XT7GMD/DxqNBDhgicM692hAsDBvFEGLC8M+YLZXrPsv+GkwYPdx9/ucJI0BUIIu9h4//A/z58fBkmT8RgXghWABc7wUfY/sOXI59+IR4Tp3+/Pp4VkN5b8rLgD2nx9eEijjsn+hPOUIAZgCErx4DzLi7ySuD2n3kvF6DCWmfWRrcaUsMPHh+ign5B8aji+9HpuwIOGwWKZT16wN8PEcg/NYlAYjJCYvJr1P7enJbjxJAXU/lyq1t9fX2IueCn0BzmsAzzAIHM/ozQ/gziqQK6XEksQDz+mLiYu0uSXjPTf9R0vWiZf//M+SQmf3x6fq7oal8vz9z7n5o64r/F1J0oem0SbonPy/L4sqiSrwhdfIoCw6XiwDewYYHK+3ju74T1PuMsWMzv+Vk5/dHp/tEJ/+kp/+lJf1HAXiskI/JH/lDL24Vfo17nSXqP0/lrgvjh6ST++00n8RLdiZ+ezh8Ge2U6o1N3clvCCX44n9tjjP/jvsfVDi9AnJXhP+cscIWbQkwjLHU2dd9/ml9iUdZrjmTibi1BsGAH2eG7i/Tb7/Ioz6UqLP7i6dqvUbczqAL4OIAGmFZN/dP7/OO9z7ghvJE3uUajY9rm0cvbPEYSNz8+BW9mTi/2lo2bfImDWFEybSuzz+Gqx8Dco0s04ML0479evoFpox4T9PUSICz7ag0uqMHgv2lgoFdrskFNrwXzMy1o/Df7+1rC3xzml1P0Gc0x6ysXx/FA0LEEsxQVVt8L/rcEmfiXWD7y5D0dW9umo73ChSttItm6qx2XEH89rXCGdZbSBNxtRz1bgoj7bJF8DV71PbZ5wvrYU8UPT9Z6odv3d3cxV89vFC5W/nrBWEHJNacBV/22xnWhz3i7L2eAv0Z1PKby2vR2SHwztbUm2dY3Y4xXq53F4syOX0n8nYH9mEgm9bjNCyTcsgGbx4Slq1qAQ4Clj3IkIXhBQ6jY8LbpBNSBug/nlY+U81T35WDiOF2qlSvJNZ9kMbQSbyPVDXv9Ur9BsvFHevWqxrq96h94uvDCOzhZkGByTlbkYraiv296CDFnKJSnh5e9lksreuEq3TJ+Eb3+JTa8L9d9v1OQd7XgikP49cZwr0xwdPxXFU/ULYomu/zKf3oaf6SncXWvyJvJ8Hby3lhKwW6EvxSXXqnllaormnUfz2Tr/nv8wwI+8ZrGNiCFCv1LoBI8JRyuJUGjBGiCa61DzoKSL3fYj7n76nkyYHU0U1rcRZnN6+Np7VjTsIGH6N3V3NMlyLjHHqJ+3DQTDPNL0FTa6dbd16/nhi+s/CkR1LLm+vqbp4fuYks9EXT//pffrlT//uH8tbZS4eXfr0fjQce//mi/frtrUF9rk3h/rS+8MwmvV72M91vmw5+8+KLZxYLIJXpewx8Y0d39UrLmmpowHPvh7qfQ/LYwjLmzvsA2XL9J/PWviX8J2uqTlWHiANHTli/Mzm28Lofjs6rlyJYNPponu0cW9HH75q1V332NhYshpudNb0WOFxg6q/nK2K7O0LvhNUTaRTu7ZZfeQnssgtdIj72762L7hJtcl9nPr4vOEebPSMAlX/3QtPldxlB/66y9OmcvS8iN+fp+KxCJdvfrv3++iwUVxkJ70kzTMO/vej4uUd1/F9iRqzu7gl0AfgczQ1+FscfZBtM0THJnrSkXq7TfwPmT9r2VrS+e/Q3f96qGc3/e9uTHhORVC2kXsV/e9nAdrM6+KVua6Xqbd4J9sJppaV67sOj+HnxcU9es40bmcL6C91+Ir096pGEbdw8MSFxan2Ardl0y53jb/adEBN+njaOZ+w74s4ptmOnF4v4uvnU7Snp/cPfRZYkwFNIWWGBinZ2zEFR5MrWl4Wr3D9dY+ZJCT6puwSBW2PeIT+Zj4rfvx73CMAzLTq8gcMAIFkxpqUU2gd8Abvg/ovMXujLXd3bLjr5Q08E+84I+cczY5CtetiQc9Wusco7gt7dCP0cxypo/iF/oPI0NP4mNEz34Kbrb1dtVn5EsjWNOlSIvL+rm/FTRWVXvXbSmZ7fqYJrikGMF0Tb4BAJOGqjeNvSgfuRltO4uFN9I1dO7aM39lZr7qzWtBdgA9Ur1WEG0zXkW7dREie0EiXi5+g40oaiZeBvIqcHZ6xglHa3g+dh4/aEccYDPqHqr0sdfTnoKi7E3X6ftVtEpBWs59o8ZRCylV8HXKfFDDxEuudxFEQPsHWR7Gax/KuEm0LClPcWxCdared8+OCvLWa8N0wY3yDs2d/dwuV3d47tv2Fk679Q/JxLjyoco0Y6UMxY4yA22wuMXimOaoK3PX1ra2gtiiGgUE0slHffqnlj2KUw+7OOvHmJ7zHAHvt0M+j/l/o/4YFST4fNxZ7+H/9nL7/Fxno/YNmxpkTUWVmzcxqKPD0p54yS/ngr84QBVL8K4GAEuxn11H50FFaDNqXIkdRbkMfGOXCh5Au8JfCrvp+dihdVOGPkkO7km0bGdfv8NQCY9EkNfeKf/6uwYxXHkPrRjuzOGO1KubWxjlAPOLWn6ZGpfkG7/VtLtf4R0+99Buv3LpAsGd/r9CulOQ4/QDjd8uMGKgclRcF6tgzVw0/Nucae/fb9Nn5iyfgORYi0ilLrs/ItHpxV4H18jZ4B+iWOtSBC5WdGlu3vVUJwlCN6TYmqSreUXGn66v/Or3h2PUXmPT95BRLz3+8SayQSFj0eEuw/Pqk89yh7re/NxvX6EqFmvLV4n1Xb2Ga4B1GAVFUrv7yjVQ/GKkgh2XHtnU6rBxuyzPPEpZw/uJzZveArPXaPIKkhoOdunDfDRlPNLS1dX9+ddbRLgfO69Bvv8ocOL+svIcYDI5v6L3eHB7v74zvCL9WV/T4x3AiQtW9d6PBaeb0w4NpR2LzT0Ci8Qvj5Rn3z6Xq5lXExDsKHd23KMCYK33OPN23HiXF+/DxxIbwN8PQT5wvGm059reD/iXh9PJHw8EeUxQTyR7MPHtw7nDCf8MokP8KVO5/JeTYYH62X4kNAV1tFXV6bwR/jMP3y0jB7UeW1QxBP7hhl5YYbf4+F4M4wx9Z9eScL8cuV0Bzjv5fgJykha11PAEFPGNPDZeYsjiOSnaIQQVcR/e1lRf4xjGIQQJ3sScUcwB/q6iYjtqdif6u9frh+osZPpT+Bj1QsNtLOJDy39Flk/CbwCv+7x7c3qZz8jAQK09xznL0d6fb1kujDR+OnMGw4UQOLfvfWbxIfEv/zLqfgGvCs72aMZhJht+YEd7r9crNud8egZD17/6TtTqiutFC1rOCs7yns/61QFHlHIW+DfJCOTe3Rw8NuTn+NVCx2i87o3ufrMYTtn35NGiOLx+VPEUcPLxRfrsLHHc9pcDuN8mDHaneP+/lXcQTTPsIvDwjQDKPc3iPbwcvsbC8+xRxn8rfntpePvMXUb451PR3Jc3Y8Q6+2ir6jdSPxyuWvjTA/sbrPtzwRRXvzzAstiFZX8dIppbvLrTW7dvcytmJy7c17dvcSrZw+7V/h09xKX3uTR3VUe3d3mMUwkzKHXqfTwUuOr7PlmdjlzX3dxpty9xJS/3OzhlrE+/+uKCn9a6CutHwQl5McXKlq2acy1G4v5tyBnpTWubG0cydRerV0xPFfrbokXeO/+oSb2lxcNWzDYa3tO/IX041Gx99gle7yi/V6rcyz9W5QHya+Jf/937KbivQkvtIjo1VtNbpnUa3aUvGlHyT/t6J929AU7+vmPs6O/vM14kjeMJ/mn8fxvbTw//wHG0/t/NBl2ulFFs8/yFPcrbRv+Pt+vFCnABv1akuMhWMoOUbiVaTtB+sEsGd5y8npmLJq5u1ikjWcEj5TwtyaIeFkL33ewv3XMwYuTIzcSeckHLwETGjJ8ywf58coJ+2ir/Y1W5wTB+5zx9TW4ffATv/0cFeRTjv90j9JXqPnLubr9fGaiItntSKsrt+FEc5kve2HhwTnLWdiRnPcfllkJF4d9IKf8Pwjom9IpiQC385S4B+/jD6Zvzhp9P8+iYG7H5cF9Uxd3Kejn+ZsT9bGe/+wHS+/fXw78pcWlYx0P2cTraj5I6hmqs3Cs8/re7U/HNt5TtF18fKfHfwvhfbw47mqYauwar2jDVID3xTb90z1kGEDyyppPKCi4PJAPv9Hn02LRubq8wtZR/fuPZxGQvCgJ4fEqi+x/nkX2b2KRV/3VOI9EG7zIJJcj/DkmOWv434dJwnvW4vnRx8TVNOdjgM4pafn1xQXK05WYOJ8fuSfotAULpy5XahYCTvXmMqCqu3cP53cp6isPamRdLr6i4nf84/A9yGfN/BW/cIHvBNq7wPO4GnkXuRj17uPVqseVyDfUxVcDF7ybgb1oPrwb+EZt25RWFt5s3jT1iZ8AsI016IDxLfhguETTWGumvb+/05fSRHtvapj79dUEX/Hi7bkBIql3D28A8P59eAHp+4NhLDEA8o0N8W1j772LkC3wTLyWzHp3F5Lbn45zUv9dkRbKvSuZ97F+sdf8l9+iy8Tf17vwVGAU0nEm3gbKr34DVng9rXeQANMM3IO7kFn89m+epGj1Mzp59yRj4lxD9e5y8TlO9OCO3xr0dRz1X367UPzfvQscn1htifUsjDcc8A14XWMdAbd7E7iLXQyLRU2StUV0c0ewquS9F2NHHwLbgtfflyAXXh0vpeYtnS/w49n6ufcm5CB8+VUHCxKm/jqST4vW8m9Kzni3beN6xBMJI4jcmXy1FeZh/+qjiCq680iDr20jvWXZe+KJw8r1chIfMMf5Beci8RAeR/n+j98z5I0ndqr6Za15jRJRiQivbL5KskWUHW8LYRC1ROQvPl/BTPmASIL4N+C3v/ymY/7z2O96u0CfREb7GiZx1/WUobyCHM6CZn0lHwYRXsE1VHDdNL6BHdMsohESVxk94PJjRHthss7LjxLm7y6KFn7/h++l+iez1JnWNA0bwGO1+R4Rqja5uwr7il4OOMrEav9qN+aZ/Xgzx13j1PeJn+f8H+bgS8f6RRa+wpznNHkDd/5y7kEDq9Z+miVOzV+VrkjVN7DQRW35pP1vVwq54KU6oPvDtaE7PN+3a56x7pEp3xseV2ImPuPKGCtHpf8E+WdVxBUIEWPs1/nNq/QhMo5HfNIKv/Jgf3+4tQPQS7xkjJ1m3fbgf1eMcOrgyfuiSE237CfwWMDTXY0NTMrgMwxHz+lH0kNBNf+Wwxe3iQZRkL+ruBMgFWP82EpCBPW3DBt/luQucotzrK8Axv3f/8fqL7+dZOT7l7/HNvDgD2BcoHarU+/LGRGp9BsHWdTEnf8xjbtYabgV55JKQQV/j9jtYml3Tm4yVsGytXV0beM6KXxy+k1eo9rd18RdjE4+3/wknfzGRzp530W5ixXeJlNQ4RaZwuKbZAoqxMl0fH0ZYWF/lSGUKb5dxQoMxMlCvERfH+gl7RScOIWSLOgb/KES73MVmmufOewXtIAKTzDUiWb7r06pjxhv3a74y/lK9e1ty8EVE3FIZ+IdyQvdyP/Hpxx0Tx5f3IAVkQbqMuSNx2tEicvVzzS+VLo4i7MACH+gyg0gnvRP+ObJ20h3d/Q/lv6BuLuLs+v4qm9QtfggP77U5on1ztST+BKa6ArB+Qia68CMn+F/7PstqBseiKjiPAd+5KjjveHR8zLYnbpUBG9UA6fGVxVBpNiX9DvySokn5HfUlaJAvO+k1f6yMBzVlQNVURCanbZtU5fBmN/feTP8GJ3aWCJubOAvbf1xCb4A4lXLHavyclAf1gq1+cjAH896HwcSFJ8IcL38LunF897J5LHxcJnHOH6m6aaAXTphbyJICNinSAMUFR5n+PbuYxyHmCH/43DAyugSB3wfVqzSj6XrLsOPGKA3Z+suIQUe2PEjTn9gHjqEecvFPFY4T89Frlnf1b3vuoHhiGk6nADCG6e8XD+eL7BDGfxJL301yS50QKZ9dig4suSzgrCoHZLrL7+FkIJQ5f0RtJd7AUL9/eqKUJgDiPj8N3aCHF3cME0XaXO+xBNUefJihFgAdcT6Sv1orvV6iISpHT2ojUfh+bkBDWOgXiGmv4RzbB9y3+cT6fw3scu3XkM35uefY+8nKu69JMVDwivCyff798QTi/0v8onSlrFLIn7PCBPnfBLkby+Y5USEgFvwwSllGr1n78pelJ8GTZwnTuK7Ss74fOwswsGHsF/i5FN8+xofB0CPDfB2nlfpGcHm/NTU2P5w+nJHWMsb8mPYmfd09kEO21hfawWvT43g4ayNR9cPp9Ozx1Zewamd93jWMvyq5GVTv+TU1n+ONP5+5fssLy07RPjAS/2+T5yRJKqOXlpwuEh3+R/E9DJwxw7w0koEPjye5bduwI+oznMKRlWnGawGvQbsuIIQhRYkcSLg/DcneN9jp9KxYQJo2H3xtgxZp30tPtc6azAzGi4vmMayE3im148Rnu0OwLedqOLOvz4jWA/33t5v9ZVqbJ9UzYUIw+vVq3R2Of+NOvhrV2ebe+LdkIlUtCv8+Fp359//WR8rpNWZY9lLPwcY6+gm1Ntf3FEsS9x1vbDP+0iJafnn+e/jPvQZHaKtYmM/B0jGh4NbnzX/W2wQD4l/i3xS49PFBSe/b0n3+hWYPwRTcmzj7sY0eWuWmA+jI4xuQvvb1Zm8JVSvLDiDjHkdRi6uinpYZ0toPn5byVamEb6NS0ywKUVT9fOLhgO2WuLmdVx6//d7U/MSyt5XSv/y2w3G+66usQqKpUUWQVh/0X/C7zu4NSaWAlCmXtD4eGwesUbX9EHUWsUGHslbhD/8ji8TD7d6/X4RRN5OWpwP8gXldrxAbqH668wR8P5tTvA6rPrymH85mzlLMY3FInPmk/3mGd1rPeDPGXoYPCZkbSq5Ov6Q6x2+Ykla2Xff431EA2mvn/LKNp51bXv/25XmAHNhKHN4s9IkYKITwO/nh94v6bk0HMvjDEzTeA4tvPwI7zMFykU3nOLUlj+4wWPi9DA802lhyysnoI/hqC+Wwcd6vcSvsdIiN0jGorhbFW9dBn08DfnNjV2TeNx8dBzZWzr1CH0bPX8t+sxLfyXc9DbNegeib6yhXfRhx7yX17vwDny83gWejvMFses3T571fZvAL1yZ8/DxDYwQJ3UkOQGuEdTg4mXYY9LUcKHsCNlnTf918gjgeuNSmCWItQ7eX2vuXSl2EgeQ9CgenxNE4q9/PSNZtHIyVtkPvSIYnweIMWoFWx/uzu67jdUJouNY5Pi2pePzYYVDj/HOleDtKppXMXhT18lbXd8a7BlFvt+YqeFxpkphcP7CVA2PU3WsHZ2r0pVoPoabJ7cvz1W4Xvw7J2v4eybrUr38wFwNf2CuTovjdzePgLzJfBm+RxC3Xm80MW8yMK8i4uXpXrOh7fCowU9a0rD9pTm9PBWDK/y8cfx2sop+px/jN6p+cy9vgH0Zi+s3exwToOeW5y6LCzT1A06Wx7jxlfuQ44O5uO7k2p+3GavE+Rezrh8pOj9R9RpNbhzEumgW/y7A9RtC3sSr26mmLa7xaqgfpYUN/V4mtlRtYUtDHGL4bR+e/DcnrHDr4Hr5nDaWgHHiKdHTt6gvnPYH/O2FU7kPO/bdmxc9/ShNLivife0xdIPQAKwGrlcDvBdvDNmP99NFG54B+hg/CH2J0ecE89ro3n9KMHH+O+v11xvo4ttsLq6zOUf37DF5foLx2lG/m+P4NfH+1YEkXxvI51sD0Vc/NJD3rw/kymJmFMTbY+DLHz+39HIZVP4Wz+R6gql4bYfRvB9O4SZSMR7+W0zn3ccodFb7LI/rJ5sjnQ3iyz1/ZG/XYtnTfF25rnYtWZbuah/8D7h8P1sTu7aL4qUJvJrAuLiw1k9UNVdaLvhszx93Xe357ULRi0avbH71kxdBpfDNlXrHdHG0qv/y4/n1TJdX6L39Er2La/TOL8G7vDbvotxHwY7vFrt9Md7lvUjeByX87zYExh/fNQFcgrdEfIh8aAk4J7C6sZOxx4NFP7GL9OYRHlKR1ne3ap1O77xYbellHP05vyOeeFZb3qwb8Vj1Fb694/155HyxrnD9qMn1ytg5Hi+8w8B3rs/SN+u+fNroCsVunqOI18SjOkbmd9QTe/em/O5r6etbY3Zs3KE3Setd7MjGLy+dDTse8joTghf5I1rlFnNE69zYgPxLbNG5i83CxTXmuCS/uIjF38jxt0Ydgo06R8Gr+Nip6N7li2pXD78kcFIeiwCEmsflTNLb5wWWKBxseNPAd23595vwX9y8fVE7TK68Z1/C+RTFkuRL9c62vyvaKnqxzmXXZ/xOXqt4Hi7FDcL3OD/4FuC/D0v44/1P44og1/OfzhKh4T/niltblo5zeXmHf3DG97fgYwExn+jD5Svfj7tynf6Hay9x7e8ff/n+4Hlh9lT3XIC2YdgNQ9XuH56mhmVDtDleWU9hAiq8kRF+fvw1BZ6zvrY//5qyTU2zFDAB701n9X6qmdrnX/EG94S3w+rTu7GxUPHXPL6tAPK7z796dPr8q7ewlMCew6d3ylRT5jCGd1fbfLONyWSBm6a8Rufgvds+vkmyDFHwu89/Xdgfo8V3K8P2Cu8+z6Tdk0eEBCAPNc7A4Bh9daoYVgkuj7+ngde9T1nR1MMN8In//b/+J/FEEAyT+H//H+KJZhNf/vf/+r/fg9Qwj1D2f+EfXxMrY3XQTOMDJQivYBEWh38FZIsO3aut7eCNqqnvzsvwwXHgTPWbgjkNuOXFcijE20GDsnCWvx35M9Y49rmNd5/bocn3OeTp6SnE+yp3eKwTzD3Iw0JXPNlIGYqt2e8taCMt330+fkPLly+PSf0nzKMfjzmSsffdgBd5+KNf7Qlw6BjGKvzORgDCXgdZCKx+z74ucn9na8s19l8wHM00gWDgKeITKCef1v9MQqXTbDx5EfU9BvgUHBSPw/PHfvdwpjwAGm5y/NBI4lzwnq59JMNH9/SFDaw8XpHKcCzhNJ4N6d0L8zKzDOCf397hTZLvPiTe5fw83PGmHQgjcPYQAueE5O0IeHhKlLAnm/Lf471d/ucRvMzju8fEu8hHETDEvdShxImWXstMp8Msk8oi1XWNQnnF8zuuMEkKGpUXnfXCMTk+3U6nFs265tKrLWsyafznkJXG7rQ81Q+cSdXTyb7qLERzv2nI/OiZKyfzKtEUt3K+WRO6lWw9SSzzkrgtWgTPSfSznmwd5paYnFnzGePU2CpyCsazy6mbhcn1xrlOCu3LZfEg7ZJdntfT+eS+XWVFr+e0QOzyqaljNUVqn57J3MhA82Quudy6cyu5nfHzutFEfbGpipZOFLp8el7sJGlD34iDGtngBbtXbiZlpV91W4Lb6Kb0zG6ZcudFwZ07aYbnbDHdSekDUxBzhWmxi/Ris5f0em66hdIMdQ/bZXKYmwtikhy1ZC41GbeS84b07G6IKpljWELsoXpl9yy2sstSDlGZTCe5WdDItXM1Lcdw++YSVYXVxF2JY7GGmumUgHLTMnKnlUWtm5Sy8ia5r5RkcaZtprJP71VmshKd7Jw88NpYLaLs3Gi5pFlozg7zpaEn+d3YEHWxbM3YpGFVkbnOWqIzzfA8LQ2cZNIdJRvunO8sc3xvYqWTmYIwE6c9spujlN1YSg5rFSROOa5qMslVdpviUubGbeGeswdFLSbzTL7m2ipdMFNSYdJKUm1dcY2FJvPMjBN1JFfqVXdVL2dyyLGGTHJfm9fdQyPTnvHKWm+miJo8EZ/LzthkSVksJguaOnSV6ur5wHUZeY52I2PgcpuldWC4dY/y6V3uEKxJ9saNZlI3W5QoONViLrXa1DpJW64MxPlWM3JMOVnV0HRkWuIU1Rc5ciCrRFLtbrviVFGcHGMs98OUUBanrtvS6jN2KjT2SVToIHdWGmXl1JDKL5MGl3HF0bbpdH16L7OLkuj2qP2MW4wtKslkh4643daKtZQzrUjJzD67EVf5YdrkVhonJSdZey+Oh8MF72gTwkrmWGIm7oZjrraZ08NiUtmtaXcmz5IHSll1LbQZF6ruYDjZ82zjsC2nmGmeFX1617dTLlmpEEh03LTV5eq7noQ2uZ3iMHljMyN6znyJUs+thcg3K26NrZsZJrlmU2n32eqbXYZiSCWZlybI7XDJuck5iDeSE9tIunoZ5IO166m5kNerQ1fPGfmaMO4RLZ/eFWW/7JLVpjFP1sVZwW0tZ0SOn6HUBKVVVnStnlmSmdI6tUH8gAKKOgfKpEakbKCjivG+14I1TGDKcUHs2yi4NN3KZyL/pWPPsf/SmRfL0y+1/a8DG5MqcjENkOm3dxINf5GYuBT8oGj8izz+IuAXh77Dz9NtBfDqy2/v8EEtTGdoD6WeL+M9Qq0E/SHhz4t3TAteE/AbHAoP7Pev8LC/BY26hEYBfteBkTiheWpLXrYlAZPrbenztsRlW+KFtngMsYOpeCD49flldR6NQ449XWuH4ULIBS+xP0nzvMCwHMMglhA4HpdJO9zjtaJgyQyK/Vzdu+MHBrwWBEHyPIEYFnEMLZAEEvigjvflgVtQFcA4B6yBR/EFcf7hL9r7PDhJM/4jQ3qPuD7N4f+8RwF+8vhD5/4jEqAygb/I6n9FncDPNIL/kf5H00n8gsef/WX9FxS8oAjsjSP/8+QMPoaGe6BovwZB4YNo3v/8TjjcHOGvxBKE94LEx9V4wnuLX/AsRhn3JHgtaPwTs3TwjIEh5lgd98jhQXPeB9BpgMZgiCT59Stm/rODWkAi3tc5t9Y7fZ4OZz34xuu7sI3HYFiTvfNY8KVqX86reHdHeYoQmO7EtqevNmLeDF9E2fylPuD3K52Q/4xOqItOyPNOyD+gE/qyk1gv1OvdfH193v7HKgEBxHk9v/D71+9Rnz7w3+EnRGsXEeJFOBmLjV+KHf8jkfO2vX5IFMVeggiA/XVif7zei48Ajhm9bAnEEn5S/AOOcLV3CV3FQbz57Rhi8BytETTiZZ5kwCVQBUpiGVUejwWSHY8JNkDvPzF1cKVIMZY4CfftpUDbK4PqC2lt4UIvA3FlLmIw/vVqFuK/fLbiRcrc5qZ/cHLDI+T9F/iTwGPleIrFRguGS1M0BeyY8B4oDpiRwBYQHhiSEmie5aLLp7gBaHkC6PaYAFAUSQoURyb8B4BJ8QLrw+UYghWExNlmGOKJ5SiW4oLuOIrgOIIIumNJgqUZHxTBCDRJ84lY3wzB8QLF+n2DJWYEAlHeAyswPMkl/NakQCKGv+ibIhmCZoO+wfoxDEH5DWhAiQ0fSBrElGTYWN8UxSNSCJClSUJgKEwoDJcneZrjBB8Uz3EsTbCxvoHMCKCGffMMgbAqxSWACc8xPiiWFQiOuBg3T5E8QwZkJlkEbWj/gSOgLzaAy4DrASaf+/r18XSj9pcv7715AsIJPuFg9nlG4IMZFDjEYUpjAAQPREdEfOisQDPgfQQ8gmgAxTDeA08A2Vjk48ICWgIIUmzo0BUnEKTfHQmURigYCUFBWxL5Q2cIhodZi/cNtMGv/e5ICpoLwfxTDA9PwYRACYOwn3PeN1Cawo6d3x2QWQgbcAQpIAY7Y5gi4NdwCHg6NmkERbBMgCwLdKJQAArmiRJIOqAIqHbgpotxUyz0iL01zDAMy0KLgN14BK5mQE8CxgD9kxd9CwziQ5ZkoAYf0JwCiYXCYEwC8K4g8JdTzpMCyB/ypZEC55Ung6GDEPHAQz7Zgfl4BtFxjmMRz/PAyIEswwyiUE4Zhgbs/QeW5FhQGHHCAVMKFEGyPq1gvmkU8CsDU4kbPQazQ3P0RWs8GQKFUDDLArjonD9PIJkEUNTXXATD0Yg6nzQ8VAaq04TfmiVpmmACIhAs5i+gtD9AFooEOt6aRACf9IkL+oki+GCeQLZYHiGf93iahdll41QjBQFUDxcMFajMUrQQSA3FgeILSkj4h0ZxHUGCd05xhD9UgqVAFSMy4E+gCR9obHAfWEagYMrxnP9ynHM86QywNO40IB3mfeQjQEKfLMn4EwqdEzQjXKiZIM4JJBUmSsChhDcwTGwSBfqDB3XGXBgGjgbtygZDBIvJcFxoVkjgcooL+AcGxlFxaSGAETiW8/GjYGZ4FCpnmDdaQFyga0EMgAIXWgKMGii/QFLBKoRcwoJJA9UdWCiwHaBuUVzWEIUEOjQeHKgxJJDBMEBxgij4RAB9hQjhQjtyNCgG3mdpggReRywKxg2Kj+N9rBjMbzwXHzcNagtsXSCZEF+C4fTJTGOlQtLBBJAgEgyiLuWc4XgW1BQdqiIYPB3MPwKjiNhQ54AcCuSFrIEcwCADiwrMwoIW9+cJOJnnAntMYWYG7OP8zmFPIuBqjgeNF2oJYDeQbSa0qMC7YLJifXOYnqFiIHgQHYHlQ21J0WTAiGCNgfM46kLOQSbCcYOUepo+MIOgukJtCXwOWEFoG9cxFIWZxm9AANrgrQRyzlFY1H3uEQAU9m/ikioA4ow/NaBgoFYwborGhCYCSQVOp0Hs41SjWZoSAnZjSZZn6cCCgvfEgZ73x8SC/ieQkIhNuYc8zREC4TMZVoIclmUPMQJsBs0F7AdagqJhJDEnigesiEA0Qc0AAwTMS4GYEoTgOzKYJhxONsQNA4W5zW9Ag+73XTDcHTT1mcEjCoWdkXhrsILAxIlwtNh5CI0SeFGgUVHoEzE0KcSlHDQQUJr1uRtUAnRHM0EDkAI+dK/AboGTwF84UTRBUqE2x46IgFDoNxGg2305BReIQxR94bgiVuCwT+khAracJUnqSDVQbgFFSIoHD/nCi8HmkCP8OgwHWiWUDYIHRiZCdQO+OLhm1IVq93wA8Ls84fQID+iEosPBLIAtCnxA8KPAeNMXjhCNGKx1ffVPgnVhQkcdgegFKg4Ix/DEhTcAmgAwpkLLJMC8BQxHc9iSHfU8TAh7YZHBcwXbwAbeC/i94NoHbgm4j2DyqMAtAR3H8nGLDHoP3J9E2AMoYybU1DxMMs8HfgJPC5h0F/qNgVgl0FAQFYCBDB6AHqBtA6zAZwADIsQtMqhvSiAC55jFDrzAcqEXDOwXsAxNg4VhuQuqUTz2UcI4C9yeo6IFLwQkMxg3VIKYir4m5zAkhvIdNWx/QXADsfWzlqFzB5qWIROXChI4UaADa055WjTQ8xBmMKEGADIwnMBfyBoHVp4I3F2sV1ju2BqghnqeZbEvFO+bBrxBowYmGKQcjHAgeMDDtEBTgWoHhmcJMo45S2JDFgY1iMUur09FcMBJPuQ98BLA1l04gBTYArBjIX5gPwgyiAthDsCo+a1BD4LnGx83KHMQbiowHoAgSC0butpg/EN1BWoM++dxhmFwYBAGicC6tBD4c8CIQGcygIsgOAYyXk45jRuQpBBqFvDzOOHo7hKhVwN/Q5h44USBscHuTUhpcKmIwCfyQg4itLVgskBbX/i+IOXgjjCB38QRmPSB4JCgPQO3AkYCE0JwcUkDWwVRMBPExwyHQgeOBI4B60wFQgueAY8uGIYCDiXZMJFAYx0aRNcQTwt8KPIELYBRu/BD8DshUKIEqAHCEy6vNYiwF/h6ZOcAQT7u/kFICBGQELq94HdwoZQTIDVs6IKBsRH4C5MGeANOAjohy4bRKs5WcCgI1BB2Q3ms2r8+BpuivARekLN6uJEY+n1JR4FTVJngVZ4BawrxLngtgqBoIAUQ/dKk/J+fdPxH7VeiHl/J/HlpP8LL+sHfQc6P+Jrw8n009efmpD83J/25OSncHPBf58+n37nx4aX/Pl3dEEAEi223l/xvLJbfWPKnqStL/n/cArqn7I4L5sQbVsgv1sOJPxfA/w9aAKdii9PUnyu6b3SuWKSQKstDNIQYFRgZIVnjNQV4U+KkMf2Pda4SXjVN/W+2svtP8uv+f72MSzw9Jn7nf78co5+fBfFPjGJYhWIJheRoWSUYlUEyK4xZTRkjlVYZVWb+z41ivH0MWENzzGsbGQiS9FmfReFWBryM5bE/SZ+2MpDCN+bP8ObP8ObP8OYYAhSnzbk4nE03M9JNq5Iw0lHZlYzR7rBnumuGq/H1Z1FhyRZPCDydFvyzB9tMfUbrqXkTmZZTdRs8c+hSjZZr8b3uZuyOdsLisCmXJUNYLvfb5mpZTtcoMsPtUbNRqIvDzm6S20qNQkuQs0peXIijVu6wrWlbodMsN/y9/rkNnVsiksjO3GKZy86odl/toUJ+O3T7OzHT5dPPqC7wEuqJUqpXOlBWn1eEYXq/ccXlMjNjM/NDE3UKfMkdsvuKSe4Kw46wHTNI7Au5XY7wt/VX16LYFTs8f1CcWR8NET92NmIr06UKU3aPBHVkuN32mpUP+5lDIaqxq7tdO0XnoJ9hXmhQUP5MLGf8Lnsw5kL+kNyJ7UMe70afb7P+XvYCcqs1spt6dgSmPn8W5a09mFECM3VQup6suxkz2TKp6aDmIM1cZFwl2RW6xPOo1eM5V2PEAZV0arQlzXRk5rZzUR7b1mxX3BWWgqI/q/5e/YzTTunCpFSU3IwudOVte2TNEdsXdbFNjGszijTkvZCTDhVxmO2NulR9Im+EqpmriVVDyJpk15aXKE8+Gw7LTXcyvRiXmwKbZTuujMbdgF7pFldxW9TSzBHMod1BM22Wd9tMT58R052kc73h5NkdNLNmjUiP+Sz/Twl8a1yflAmqkKHQqkPaYrY2n9esXenQ46iUprn9rrHt7gvOaIsGHa4W8FeuJiURylg5Ud+ltzJp2vUiSpL9XhOliguZaA6nE7QsLXaiVC+0a0TJUCcomxtS4jMnZ2acYCAFqR2q5LZK9W6N2LHmBs36NONw2SKSfXod2MpIbHUy/Rx9KKWLSWdWPbilskiaO65Xq6O0miy5/RSV7m57btFAhV1x5LaYWjVH7QSCEKw95bodqTqu7c3sMImkLWm5A7O14mlbaevI60QsNlB3yzbYPurx+6WzGI6SBxqtJi1kqE1NzOwX2y4xoutb1KznUu5w+FzP0W15uBWe2eeGm85ls12iUEeK0H6W56AICkmZUslcEWnVRiPgr2yTq6Nto9AXh4sUJztz8VBF3aXpinK/q5uH9Jah0Kg36bij9dSqUfWKWBSqVWvkKk6hJ9OzdCOPWrqRc3sWbXeJfN1QhNxsswF57iF56w1lPN523Z46eq5RuVyjKpiN4dpV81RrRs4Xpo6yLW3iSj233KV2zUGVr1tN161NemqOPMxTBEKskRb7/FTI7fdkUxeaumWIz7y1ylElmgvoVZtOGl26JU911LT6RVdNp1My6WZ7gmDRubqrye6mRjmI7guNTbMn5tzNTt4NmUERrbfpptg3yLlJa/Whg9r9Vd5V6GamRsw6lCXUGtVcwF/JZT2PSoMyIbZL42mOqvfpPWpz+ZbbS+1LXZqw1bIwGKmk2N9n8yZZyluG8DxuIFFZEYPavkEmDaGg8R0xTy9qJl3vToZJQkF1cezOjZpPr+qh2nL2+1HvQFqNUU9o13OLplU/2Ln9QCJ6wpjYWG7PGSo1u6mDnKeeU6LYXNRAn9lL0MfkZph2XcbMy4cBW+HQQicHbr6rGjlyVBlOfHpluM08t90umR5CJaXhSv3FyNzSw1UZFTqbqSsX1szsoO/HDD/Ny1u3S6VInmIXRBJlGcsUe6U0K1PP5ZmA0quMJOZUo97da8quJ4zaRT44S/cstoooVdrsRbk4Mrp0ep1aIildqLi5hm7zhFTdp4XBjrDETnOzr1HSukKhyoRfidmM3ZZpN7+e80VDn4u5ybwnz/khbwgMvUy5xb3JBfyVqwtLsZ+2Jzl6oBYEVFlpc7F6eCZyVKbb0PjnudQWBwt2KhM7je2gqTVZuN28LnXJbUGtI1fIOA5TN9kazeeSDkpNlmA/+r0UTx9mJS3gL07OHWi9QGiCONrXxNamOK5R4qGdFpZWciAWOJQxmQM75ISJTR3Ef4qSzOmZHoF2mXXS7Vbrc5nqDKoCWs+5rlswqa651SplSdgWDNfVUptp19dfdmY7EtVVvZ2juGQ+ieZFquN2RsquRiZNpSPsksWK2BX6JX5j75w66qAD5Rbt5ylPS/ss2Aelx4vj0igj74hmq472HYDXH/BL/lCnuxvfn8jLTBHku5zMovxSLogjezyRCTMjpFFxO6s5/RTn1qgJdaij8rw1FDu6YOS2JXpPoL6+Et3hYlmvUfO+vRQcs1ly87lOZ0Ykt6BvOkzZDeSxVkkXEbUQV2K+gQjeHdSUpDARd6rYpuo7mRgI9AQ1dqucK9ud2YzIrytLNLezZXfMVis8vbRrfUEGy+DsyeTuQByKZo9fsvOxqyzTKd7nr6HSA20xWSpdupxOE7woPTui2prx8na25yY8VZuSYvdQmOQIZ1WtonmK3ri5WpKcHcq9RhHtaiXerea7Ar9dUZN8ct7lGVHLyy7YY7Tu+fyV1rOLHLlq94aCstz03O7CdHKHTbo8FJK23XCVdZrmqbRWGQqpubR0K3ZWn5H7EtlBKXqbciWyW+SJ0q5joNo8v3bbw+bapFa9toOs9KIcnP1je4MmqjWdtDisIoo3nV4rn8w890RXnvECODuVdRKNymrdHabBSWZaG4tA+Vx7IY4LaGISU5syhFl9VnT4zHZbO9TZuYLEwpAWxamUnvlnG4WqtRZHrmOCPcrvN0JjyW7dvpirmLvkfpRHE305FGvEcl6j2oVyD9FN3F+vWM0R9VIf/KU6Srq1ZVo1dUtiBSQRi6k4quXJ7hYt2K1Pr4JrVrvkdK6nBes5r7g1srw+7Cud2hLROaYnPm+dRY7WZ1wamanU2C0nJwRPtKutcpLMprvuYLxJybvt7FlHo/3adaVsfnygGmjjoGc0EX165VbVxhzlxx3GlXdTGO+i0SwLKTM5F1uNrDgj2r3yEPVzi45Y73YNnprlZ3VEJKtdV9JGIC+tVKaHFhrqu6VppWjSRn4FD6OKJvb7ihj4X9Q6PQb/fjevESO2v0e78ewgNpXq2rRcShoiq14F/4atGaY9WBYptNjxqltlKkqN1sRNVjCpedeVKdbq7lvpcgtRz9TKreZmycN2hEiK8zppaD0W7KlgaWhfyq3dllOia9tiUbfQbNV9FtPDEjMjRTdJoFpqJLmyXHMOxLJQUwRO7CbdSmeW492DK/dRQy6Rbq1V0XKEmC62OCZf3QZneceUJqFdKjt0u+PK88FtCuSWW9WIltjpZCeH/XaXnSDbpVmxOskbgf7+R//pTbM7sdtRBwdKc9uEsKnN925rywL+BN/r8xPKrIu1RsHgtwJVzQfyuFt1amQlxXX41HCjNA9IIWpbt1EC/fO8LrhKoToEeRMzBuKTpCu2B6tyjpgeZAYVly7nSsU++C/Wek4h3VRZtzMT9vxhWMpqiGjQ6YC/kmWIb+pUg3arotqd7Sw1z6Am1Wu77ZzDyFSdMnqoSomkWNtq6ODmZbYuNIwtI+b66XSXqU/WdTQ6gP+lzPNkjkzPRgJizFbR7RZbbNfyRmLW1KWzt+ZSjqylGQttVctsapM9wZPkMr9Hz9lUwX3W1Bbwt13i0MBg1CYtcIca0ZytN6iZHjXdSp6ga7uOPdugXEbvuL1tMVNj9hzIh++0jAYdc5dNygKqzrclV5XKYI83Sk8XFHlQa7KtFTy3uXVT0MuEKXbYtNE9pBZiXsjLUl9sa2Vd3iZteoi6M7QQNaEL/lWPmkkovxpygf5iMvk+6lrJtNjJCQbov3RFESrr/FasFtLrHDnEm2h2/dUY/F1rze+ac6IsCLVhT5Tddiq3d6RKFWWy9aI748olk362jDyqrDndzTr8oObLYyE5ttzyqlLO0VZPh/ntySUxL/fU7p4zUh2+YC+e3f5w1agR8zbor5myA3vkDKzDls06WWHjanW3NqgTuR0DhkmYTxnB7W65tMkzSJB8+1ivMDWelBfdOuIm0yzWX7MakVoOQR4b2Zo7npYyXYJoKx1klhod8TnnFg7bcnZIsGhIQjxetDMHorLYVpG02wzc3DSnzOjkbNEURvVKLeAvA7mWsBInilgpM2aOrHCmI4zNytqVk2mHt6rZti7sIFB2u5ki6JOeqZaBn/aiQ7u5xYHo1gZZXipu9q7adOgZWRtzW7Qez1VXG8ntMB4abBy3QfNgvxoixBP53bzbJPpCa0a7LNsSuN5adphkD/QbO1tKyHy2nt1yagr4Wr0x+Mfb7KppiiXg30mp00ONemnoNnYI4uuSsgj81YKoHGZU2k6Xk0LetR1eXA1yROnQ7QnlwtwRe6hczFnPjNHjywSjAD+pSKbXNX2Jsg2y3uSmQ+Fg7/oVh9d2Ig/hlTKb0XSTtFCa56yAv+YbFeLH51bOHUzTHZ4Q+VYzWZ0NBuLAAUtPp9LA341pRXa7LMQue6pUFQSi16y4lbJN8Xt+XpWQmmIYt+mOudyOzoJ/pij1iauOgco+vep2py0+Nze2TJeVriKk9vzEVYSMYdLugM0jukh2xM6inJsRY21aR/+ceFvXJiaV6z3P0WwBbNs39FqOppq8Dv7Noe1sd1PQQbtRzUGFbHHi6/tMa1jbIE7P95zNVOhBvMkpuvDc3hzcfmGrzKjqmDaA7F3G2eZrpkwu+XUTjWmt5j5ztMTvakOZEg6MQYktypZmzphZNtFSaNiuhngrpJfBqWLXro/An9RAf80IJeVW08XpjGgIWwaBezMRpfKzUyOf0YpA6wL4d0MG9A1h1qob1F+PgZsh1K/R8qpeF7hqmhCHFQv8wXauXA70l2wmzf12WCyi6XxKiF26lzbZAtProVWHyYjKJsnXdsnMwkKH6urQbM+bNr+VQOaFdJVYNrdDle7ud5XlHjmzQ0esbqqcTCq9EYdobUoH8YBobYdCtW0t3GHbYLu74nDO8OMuyolqp9c6UB0z20KgGGdiXk9uQb6pVFZYZPbgX6XR5kBQ46GE3NYO/NPyYD5z0lslizqLjiWOdxk78CeWue7IzU6fu4cDBCpJxJfnNYiP2myXEnd6GlWbHUmsd/Zybs8KbBKpwrztyiM6zTP50o5DWXaQcystYVAjlYFaFwRSG7kdeziv0casG/hfWaK27pItZLT4HdgxtzorSjNqK1F9NKrykjiUtxS/dXf5JuLyzyUxXe4su85ypvb4ljWZuXK2K/P7mqA2+e2e0x2qNGrOqFx/3OHXpXyQ/0qP2Rbwo6WkxXwu/zwjssnkFmkVZSJWnLIE9qFUSgtp1tmJqkmUumBZwb6r8qbqdkjOOdBtp1UUckuZECWnuzeJug3+9mTqbEWlsdUDeu2E9sqV9nXV3Pe2SUloKqW0+FzJp+UtvRtvhAy/gXgB1EFtu7VMDbWpvC0+k83ajNp3MhaqN/sZV2LGhe52Zc6WaDJujZztapDs0vXVsBPkc2jT4CHml5oI1c2M+1zbD02i06gIiBbMbDM1M/ozYslns6jdzTbcIVlha9v8MzkX5vPUDvxhhgZ/lp8APe1KWRyO6tPutpTfaLyga4Yvj+k829sLldWw4ZYZqpejS9kD+GONbNpt8+a0ux+UWg4SSWXdXGxHh9o639+Dvi+Us+543s7kyG2WslCxBPU1g8seqIIF/mxnWx26w4Od4X1/ourqlvssjA2ZzNTnZYFerDdueTxKygdeNfsC2m508BeVfI6i86MJSjaXNbdAVcoykcmVs0hOWaDN2yVOdprsuo9Sa4oB/7b/LG+Z5SLQd43NOC0Tdup5LhBbuyCC/iT4w0rXesjgHRbi2c64S0usPef3nWbynxNvZwbzMocO4nTstpd10E/8um4J9VqnIQ4NflGjD+piiVhXX0H8qlR4n7/cOseJmkY/H/aaKFfRbgP6qVfYl7sUu1wzAo+qdTdjsKsZtUhW+qhaWAjuaDXJ5KgGZxaF0jpfdSWRS8tcTtv3hHa22RL7XWbbBX2ghvYhOzjk1pPcvIPKtJIXrZGjz4g5aiVR2e3umzvw3bvEbNZ2hOrMZsRC8fAsE8mKskfbSXHh9llzdtiletMtmmbrpjjq2oMcdRBKCqIP5jKQx5le36BBsplz01M5PWPZJN9EbKfYdTsZc8Xv5s1phx9tjJLbcc1mjRa2XQUNc+CCZNUS3bULy0FTUFSdd2uVWaq25bVhT+Dnri6K+npn+vGAYBRH7igjWTOSKM04wTUY0NezblLepzJ9iEfB5LvaRu3UKHre2CBiVh+60ogQuoe01J4LeWUJ/p4yLfJ0MQvk3c7SB7GtVimTyrdmQX6iOnWXB2ozW1TRbDwGf2ozmncpnliWBds4lJrTmX3I7VaN3QQ5UnPoVhpLe0Yz5ZSACLXEuPmVIB4O/GHrIKbYo8SBlW3nDoueLqH1otcO8quVXrqfpFRDcbWiqdSs2mZYRgwLwwX7yJvEWLEhfk0tl2IzWeh06WSJ3AoklWmLBWnrQLw6ayTRodB7dlurZEY+uIUpg/KjriT2QNyC/ESqB7ZZ0XRHplmi1UMbg2+J7YZQqZHcoD7h1tIM9MVcsg/Evo0ElHGKZbE1aaQgfldYiAfbhix2UC3fpSjKzArkunoQ+5Numj+0ynLgf9WyDCeban1bT25beUHsCB3lQLbqmw7SssOuOOozkxrRmz8LbKuvdFyZy7Zr2/SB0ZEjpyix0R1VZZLV045gVQ9Jsfjc5Mz9Uu1JKGdKyJffLNkZDpFWHs3d0Xja6ZJ7elZF1bFKiU3eNnL0cEyVkV2tmG6G6W15epsbNoUsyRXFDmWROWvoHoB/6eRILMg7rUb211vQ/wzfdzOV2i7n66/y1O6Lufwg1aWQKPWRbFe6bn1RXB62lGuD/lu1VfDnkk2ZrvDDOlKyW8MdJYdJ0MeMTqFR1nbFbn3j8NQwvaoK5eLcBX7kRjCf6Znm81fRqNI1imgsW2il5guuu7QInkItoSdsxd3BrWW52WG75CZlfqkzbfe5SU1q21ra7qPlQG+Kz5kRyGvpoHBMKTOrgj1Rp/I+159qyNwwE8eb+kxqgyxhrw4L7qK/1XjSlW1KEDpJFSLvdblLzwwrieqMVXE7vTUT5P/+0X8mdYdzn9PlzIHr7xQBTTcpwR2uumlw3EhJ4htuutgk9qDfWZsaFn3+qhTrBvhS3LwpUOlJRhxZBWe2rEyZPNoqnWzTosg5T5MFoHd/T1Fun6vrMrWf7ww0sFJFt5BTVzl7uBI1NOKarDuqEYccxM91cNBrxjqQRyIlO4KoyrI4ypSlw262fdaQZIoFsbrt1mvERBy0BHDtLFe0BKK7b9OrrQA2XRILWX1fI9nOgUBsu1J3GJrJ5Wijva2jAbGXxL4y3Qb5+yI56LnaYaV0qcEaaeh5iUqiPKhMzX2XZg2UKmfbrlobEDOSFLplhOy87iS3jgr8kSlO0HZUTouj/WGeIwsHdyJUV+mca02tbZeq5DJZn78qk265dmjslnlBGI9VMYPW4HWXJpUm2ijCyC2MDAPin8I+j/IVCexLvTcz7XlnD/Z3lDVdrZ/Nd7f9bhLgo+7SLe4L+QNl11sMGnQRE+RztNRzGa1Vq+QuM2a1Rs2GaCgIz8LUHRzAn6K0JZlEc2R3xBxdnswIq2hzQkEb7cVqXhrNKHc8yKOROOu66mKXmbHrYi0tSExedZXuYh3o+2o1n3Ntglma9JDecmi2ZCTAL5c6GJPSuMhTebMq1sRh0tzaU74jtA1rJmYm9JQnlGmWQBXBHYttrkGAfu8pmkBz7M6VB2vCJOeyKfj0Ko8brRwh99McGsn1viP1yEX3QIyNLep1lEGTURn3QLU74A9tdXvo1omO0yUzKiugHcRirqaPDyYtDzYayHt+KQ4yarrrPM8YBlUKXDeIH7OZVlXQFvt6E21ninnI1DMUmpd7EzfdFsY10kzLSyHXOHSdte00csSOrQx5fbjvux2QE/PQXtCKsNhLrNuWy86BKHHZJao9zw6inO20g3jIzUqyq7Zlkj/0CyMBpXsdaE8tmMNOVsugz1atgdvbja0DXWTadZQdNstiUcnqB2KXKzGIVMyMmK33lia5Hu2qqCk8V0VtJHZze1viWz69Ctvc1KRS6qbKV7SS6ebXnSR/mE1GHcFud3puZTFZ5yhFrmyFxXw5dnvSel/bVfVSE+ldRIh1jgX/dzkU+4jt6aaYXaxS5ppyDhpSJWsb+BMHw6gituUAvLSa7VJ5dw3yvDSbYmGSBX3Q0VeCUK/2+mKnWVsdKBLZGupalZlY492mvFvz3Txqy9JEHIsWMyMZZcohu7+Zia0+z8x8/spYQJ/ytj2W6ZGyr6KBLHTcdr0kmXZOmFFsFgk9d9AslcGfc3fDf068LYq9TI5uLnYMajeFtthudfYHutfle2jOiVsnWRFXNbLLSA4yl+tm0xtKrkTMGTTcWH03J9fFGtExZhrKjTXdlcetBU/Qh/Yc1d0uI3bIAjfblcRpGm3nRF1s7WW7u6snaV1oTOsZ0dlLO347sdIQb0PQ6XZKbtr0+UufzHdibQTePKl2qwyiKkxWlPQ2Mdu0m4M50tPZsdjlct3czkySS64zE5tuTTFE+aAbEF8VWkPDLY7lXm0/ruZA3pN53tXyK+1ANdPUJqBvbT2Vd5WSXUd0SVBdmEPWJGa0pvHzUdV2WyCcB4fXBAfNip2Um68Wc8CPiOnzh8JwKlbX60KOYMo1Q6DU+VYcss7KpByx4QjKeFB2/ZlXzHFPSPWTiputVPI1mjKJFlqm3KHYk+cVnu5WS2mUFfKiqKDJgqd7IyGNyp1GSSwvJqzsNty1gJazveOOBXfaJQZ5SUezXmMv9qYuCvQXX+TGYv1QOPAUQWctXp7U1+7zmu6ZVHfQogRTm43FdCNVPVD1BbtEYnXhuB25yvOE2GNayFHnLSe5WEMkTY2IjlBhh2lxcGhUu1RRGjV9etU1iJa3qJ9ShIZT5sVBv2Sb9mBc2qLxcl8W5fZUq22TKUERWirMZ7dmgv/Kc7MOwht5xMYC4nunSY8ttCx3ZIhnaWTu1zSzRP26mQ3s44wQJ4KVI9ZuR0vpXSJP7nWUzxaX4nBbLcnOtqAT4P/OTbE+5sF/oyh9iOSMLoh9upPpEnQ6IyCy0RqIrdLSBP1AAP2my2XSzenTTpBfzVGsIKan4GZTZpXS0KbOWe6g1M6Dv26CP9kpaXO3JqzI2T61Aa9psG5TTcLNDWuEstj0UOnQktzOoTvpkmlm10emrOxdiS0UasSgM0j6+itbqoG9Ge8aFLesTyhXyRAdmTKKVdBPDpFyZXm8M4lSctRBgwJTEEf1Dc+T48LAEPKzWt4V6y7oR4M1ikKllaXFTn+2PRC9Sn8pJGdjKdD3i2IryWelycyVDDN3IPPLtiVstxbjSvI4NaPWmUpemFarJbfb2oN/tnoeTlA5U4b4v7jMgXzQwyqrFzclt56zBfMgp7gictKqKI7NZmPm02tRqWki+E2r2j5vrzeI2/ILt8LmQJ6tGmsIaee55f5/7L1rs6Laljb4V853ukvuc/ChPyAgIiBTxQt2dHQAIooicptcfn1PV2qe3HvtqlMV9Va9fSoyMzIiM5dLnHOO8VzQNZ5jsdyOIxvT/qrFLcZucqZ+Pu/4HEVeaZHoxNoOZ0/kGvCgani57suowbBbveurigufO6TTQTmeiYO9LKb7u2yqUtlZAGSdkariHx3O0Z5Z5+/7Df/VfjtPsA1CeqnICTFlxKmz5aA0p+MCnwYm0jk0yB6EpnD3hl6evfnxMB+mrTTUgd+vB6pfGja5kJMb36Min032VO9tWhxdUF2xA+dSvV0yQDaaSvnGXV4KWNxnexJL1T7iuOPZVUaIEVld1Kpil7z0fr/DLRiv4oXTpZADifVxfGV3kVA7HkN5vrcpcvBHnwsjwVO21fzcsuKqRCzj551SnAlHPO6MR8GpDwHlR20gx5EEFbedNp7S78rgvb+N8hwUvb61eD8JxJEvrnwJ0mm3w5G91CKWilENcpa3iX/ecBlr6HPq/7rzDZ8lx6hY21+ulEUgPMlZ2SQ63xnAAhJnPT6tpuwb79OZdKZ6t5xmdR5KqjLXErWN9ze7EmzZuipJteg9mJ6CiAsYMUbGvjjiYOXFVSXHu71ionWBD/6Tvp5GjVTlGeM5WevMLKuq1eP9fpo1D+ZIYCvGVFZLh8VJeB2qcXIKbyg5t2scrs55VB95er2tmBFiPQbVkeZY3CtIzR5kOq1Tn10c1zwk1ywkgfJknb6ub7WCnlz2wz9Ob+25AE+yCrI9ZH3Enz2DUZzxaFC/BgXiTCeIYb2sNthaMmPU1wu8hd4uW0z9SjaO8Y36c5dNQhxUm8wXpvzdUi79niN0vYf3/Zzc8nZ42nqjUyNlf1O2NpGIzQ5MxjLChIFLzvGeGG7B59pATZVgdq7bLrSojEvLe66c8tymeA3Y4c5G0ipHbrkh+6oZqn5dNG/9YU4XAsUTsTKV6xpcbO3tROee7XyjPJytjtPy0kU8/1zmkLiXzmPqUnM4k1vslWP2CElk+o+KE6SjCe2xXmHVHO6IwOmoguy67/tlU3fHrZT0zAlkBXcpKuK7Sf1tolExoCyp/yEXj0XQ2AK2fbmgx6b4NmBXPBC8kfaoGZmXX2rp+ccmCiq2tOUt5YLJFc938+jthzaOoNF+utbUb0y4UplH9xuZ6tGz6p1nVSiPC63X5arJKB96VH+7kt2SsDupSPq63/a8iXPS7BzF56jBvjKonAdYu4q0HreZyP/YL92oGkRsi2GUYgxXxNkkW7+bNSub4UmUEePA3SvenW9FpQvjCQmZapXxvjN6KEa3hMTZo0RcEZUeRAFfkmVX3PVxJmUucLfr8GO/9OicGMrsklZtb/GncTjUdxbOp4VH4vuWvn5vbxiKZB5Gsg+uufPf47fDLmg93hrKbKyfy1pJrkrcTg6M53BXo6F6a1ur5LbgSUVRQtq/8UvdX7LesEtNcdH+Rv0qmCPr3tKtUpvUTx2M2Vwf+clOBq4ZErxO9reINDMmVI47qjcXt+xcCX4daWCtIofYV/4yCqc1mEi4zN+f/9K6yRgo22dg4CTeCKjzrTRHqtuvyZlkhc7KpAC0Ps9drE61MRpWhcICVeobvF6u24j6c0Lr+b5xSfKgjDeOhmopq6e8JefJ4fy+f58EJG8H26J+MNqnVzgfp5Tfjyil+jAWU0Vw1RZvurL2+YA7lkpaCjLtvf6hC7IcFYrfhpTfRemQPR4dGyjKRZ6STYBvlG/X+hvvl9azzVjIhw6efYjweeCmo8zIyxXVawJHdJ91MpaM9lVmtc2MnHeF44/BQP2bvbh0eO1vZxnnR+mV0Y1G9rh2fYjYtXtowfeq4/v+9YYNr+hsbBuCK4fqWfURJcojUyn/d/PFyLmiZSg746bitr0YFbeaOrJyv5kLsr1yHOrK9BnCBR0YPCP1C19UtVTuinzHyW6Qoh/3vx6Pg4OTtlpmPCz3Ayyfeuz167kRUQNyuIFRBzre60ZN5cRuUf/nZm+r/+HZ1ep/fFb2v/O5/tVf/5tf1z/dc/3rgu33fv2HnutfL8nf+/W7t3/39u/e/l2rv3v7d2//7u3/5HP94+yX1zTcd/bLa/bHj0EwSPy3R8H8dV7LvzYKhhP+tya2DP+xDBtqZv56Fcr/2vwXThB4QLz0+kG3r/GKP6fZfP/KvznbRvqX1+BWkF5DhWVOFFHyf75GdP5p2s33J/09++Z3+Mv/z8Jf5D/Fssj/Jekvyh+vIkm/RwX9+yaY8DLwZ1aJWMSH4llkFUk4cTErnmRJhJPC/Q5/+R80NOWfIAKGBbryz6R/FgRRQO+cAJaXKfYjugn/8i//8uPL9KGShP48G/kVjfCK5vg8RhBllnLe3x/0f39NX+cE+AqC+BqCLSjK14D4rxHIrxAZnvvlOrxEX4T850ntrMQpvPQeDP6a5ctznPKH6/xIEhGAlz5LeI2Dh/foWoETFVn4rOdr5Ln8Cjn489Dh16Rn9mvY8td4cOk1+PVvv17n9f1/uqrIK6Dw73npr8m2PP9jeP5r0LiIgPvlqrJCv8j+eRY8K0iIE97T5ll47b0sf9vFV+6ILLwfJCCJyor3RFuJvtKvqIyf16FXFUDkvyVyKIL0pS9+jDWWFZlF369Da0IS4DOjWlLY92nRlwWcLPx6HeBFAPi2Hk6ia/9MiubglXUlfA8tYKlueSUPfHI5WOkzUJyldSSDpPyxLl6D9L/VBT0heA9kf22jDAr3vS7os8nvMd2vmBVFeU8ofhUsfCUX/X1F4mso/LeB0HSzEPeOvqClRfdBkb5fR6J1JgifUfa0zD+Tul85QRyCX9eDZFqsf55CTLf6FRgivOsPCTz/t3+r/n6kHrCcAp9UFxlY8ed46ldCzN/+9stVpa/e+7aLMtW2Mqe8a0ehHSpK3+uCtqX0Dox5zWsXP2Eer0gM9itF57OLHKuw9H+/rY4D4ZUC9GnQV2AG/20XZbogBT5pLXTXPgP32VfKBcvKv9b5V2zj9/HdivKKp/k/PgPYZelbHtLXHGnau19S+WtraCl+cqtY2me0vX49r1cshSjCt8gRVoCvlvh65aIC9Fu/7dxrvr30GUwt0o3hPrOo6XPSI5d+uQ6iEl78lhxFG/p1KD9Li2K1/Lc/X4djBfpLgnezote8dvh0hkLL/tf1yK/0om9xRewr7otjpU8l0H1E0j/AP9pedFHvMfaKgvjPSHq6MNp4vPzrVWkbS6LyDS+A4rHwc4MABPZ7XVCzQzfhfVoUDEF5pwO9IjxAEX/dxa9B69y3gBge0d/cz/qjhMd/72KOAyR9KI0iLos+4C68sBn9gUVo/YDyrSrEVy4AfKpC+krU+quknleKgii+Q8PYV+wQL3N/P2N4hSL8XJNA4UX5NuiebjYIEvcp4lfKCojf1sQq9Pk+vftKW1D+9on+EGnVv4jk55pej1W+pxpR40fN3vuYpdfoefkbA9PSBtpt3CfSgHYR/3Me+6s8+V+vIwgvw/29o16xFp/2fyGTAv8AAflXVstHHFAupGf0virtOyrZ0C+7KNJzF+RvWVXU/SP+HbREt1Si/4S/YmCW+6QWvFJV+HdKDxU1dCW88Ae8+IpO+dZfIj3vd1bKi6VppX6/jkAXw7+DIV4NSRHmvR/0r/TPr3xFTcUrAO9bBSKqyt7j72lTv3I7/gIBX6kTiBM+8u0VHMC9MYbCDXxluv19RSLFDP4bMoFMW0r8tAvQPpaUv6g/+t+f4nlFR4EofSbiSyIn/9pTsky5iEXflRll0E9KCCjyK7rr//muxQT+Z7CcSBWjxH8UBVK4r7CWv3OhQM/iW/YXXTgtOfQuYSonBIpo/0gBvjoVvUf8cy/lqcBnSynDAfpldbQHXgku3wMnKFYj/mdkAM8J33mEtpMESPmJgEiUPi2tvMJV/qiXXiD4Dd9fvPZ3fUoLi+qQb7tIS5f2nfAzAQzYd/oBRUDqCsQ/XkcUJfZ7P9FS4NHPRKmX5lL+ov5o7QmS8BGK/KtoPykN3Ctp+deOUl4ZXN8i8uiLFVmZhU/y0StO8LsCpLLoFUv2WcTLs3wyowTllQ/3a/3xIH1PtnihJu197qfSfCmrbydEUfL1cv6uxbiP03nFDrHoD/VHNTv6lvJI24zu3IeBFdpw9KL/AP8oA4P42TgKEK/4oPc1ZFl88eCvzuAVhab8hTPgf+49RQEKZ99XRwH9xbQfgKCHJ370rUBbRvpVmdHdVjiE/kJfyMqnVagClkBUvuMsldo8+8Fz8ZXw9EkdovyLfrLVW9u/guG+dTE9Rlb5cCn/qnvurwKVaOcor6DQz4mxvPAOaHphicwLv56YIvxVvCTdiVdElvRxFPTZ2O/IpLwcxEcSUHKRRe4T6QIUQpVf946W8Esof/Mg9NryZydEKhIpznxHWurAxY+8pMKIwtHnVF/hevKv3PFKfaLA9a2jED2VdzApfQz34oJ/UIG05KiX/Mn7LFVwP5EJxK+Itb/X/Qt1vjt8gap++dNftCspjX/XgBSNKduJP2mNsvvb61DdwL7SbH51WBRr5W9eh+67rHyi9hB1ChQ8vit2eMX2yR8bxr4y9D4aX37dCfllF+kLlVn2W1VQf8T9PVKV/lbQX0T9fOG0KL57in7Li3E+iPFqol/rT3ylGinfkIl7ldCnhF8uTfwLBBRfxfBRzwo1IK/sxreufGkA+LX+2FdK6vcVvTTOO4OHMhtlDvE7d9BOoyKf+4AAIOETighfb7L8qgDpjrww4JsCpMTxJSLfqvfPSvMvGFh6xcC95dsrRkvkkfQTqTn0Bw9MSxrgW9wUhWMK8J/ep1Ui/pWOFijlivKn5KhSFj71J1Ffwcq/1sVLW/HKn1OKXqzAwTs1kJI4T63CtztmHP8lAD/ZsBLd7HesHT1f6lilP+gy+nWO/dZPtFQE+AAB/8pnReJf1Z+iUIb/yFjplSn1CbFEFEpY/g87h2iT/5k7XuGY0s87erTnFNrJ37mDShr+c6+RE16d/NH4wisJ9VeNRJUr/f3dvVEb/4n9+rohQ6vku0YS+Bc0fmDkLZh+qCpJ+mrjv68HvYjz+87x1L99xAJ6Ke4/Xucv6k94ZSZ+TMfrzs7PHKrXKDH5D8qM1iYVHPJ3dKdCEfifR859vbX2Z2/KvqH5Cy042uifi9J10qv+wWsLFE2+xZzSQ6D2DvE/u0MB5fu9HmoB4Stv94def3nvz70HWRD+zvQ/OvTlGvjvLIKQrHzyDenLps7rR+7Vf8eweCkWIjYJ+ViJxNOZAz6K5TAJT+coVviE+x87LJ462/9MNIIs/p4J/3sm/O+Z8P98kVf/TOlc/5XxXP+BP//X/9oor3/tk0+y+DvK6/fHmf7bPs70emvz18/n0PL7/fmcf5doZL/ihM6xHCWJKCZn4E6vROjwTP8pyzz/O8rrn1ev/o7y+ud6qv8emxjG0uu+GB/KrCyeuDh83dE5i7Ei8+ezIvwPTkbmvuhVkv+t5hNen4T+0X4cfD4Zx76o8kcPUjnw87NxwPL/L3Dyb/f42z3+do9v1xKtzTMx1/xKH3FVh+BmRthK6WSshuVlV8JT3yGsGwIz9rBcbYGR2mfLWuI+GplJY4NUXZ7YswrdGdRMMmHOV6v3RIVVLQBSIlvwxgGbfrdQdgY0i9IkrmjsowEGpQZx0rpEz9cX5ylYEf3+c3cl/oLkVX1vH1sYr/MpVjtm4dST63iDaSipeHZvxmgUlChG3bB6YHe43LMRGrlEiwLPPUli6ddvwWIFIWYTYhzzSdTMxUhDl6txw9FMOo8DuTct8NJN+DFRSosuIg8HuQ+Jfe10NFxmdgn8sY6xP+nm0Tg1RFa8s7O4LYX+nPUrgwnA8AsLH83A0ju9N/fIhDwis7LtqiLwlRbpoGC83MzUaqiXrgylvT1iXTrcq95klgMkXCR7/eQRVMOtUXLEgyZjJ93G2dCQzQCraZtg78yV2SU/HFXw0Dlu068f7OLri6sc1fzQdq50r4Z1e05Bn0RADI5cs36R7LdgRrmFrWeoZ/wNSyuAwGNacYz8aIgXz052lBB5kARP1J6PogWCUDeeaClmRESxvML5JBr4tDObsRk5KUFR2Fnt060DfSgOtwJ84T5vj456RyQQ5S20uVwTU40e4zh0BQ95vu5/TDjTDlcxhQb7Dnaq4zXqC362QU2bc8TbGFxF5kjdKE4nrOj+dFN/sMK+RuWYrYiN9Tyrw1IEmLe7eyu1tVbxFASvwKFijU09PqP2uGZLcFdXB3uicasGVi1bqNm1j1VnQ6+3ugkFeNlK8dhJP3FaMXvIcG53J+zdwM7a/JYwkJ9s0/vaX52NpQ1aqinGWiq1fo/CZCtL1nZNjOf04o+JJMkgcHXZcjt974yLc+shJte8NjsB4wx8cLfBGxwRO5xw8rvisC/l+dXNvGvPsFm/SfsBrsUSWjmsVCSYk70G0bgQsCuLx6i781kM4oN5Ev2wLWj9oNMeFUpybruR56uiXhRXdK+T7j1hIuLEGo7T+xbPlGI68p5T5iiojwlxheBZjdY2LCA2b1sS3Umst5K/2ihBwk/wbMrGzlhtNiowcaDiKSL3cTBXJxsV2dbG3n6/cSrLWJrInLQxWT4yJSJKfJXBEfIQG53L+2OEq41cLBS6ZmJaUVeqpxgunCVid/246WPKbCieSN70x4RTfWUuanTgw8ET3Pjpd+U4rZH1eE3EnhPD4ZvZhVWWFlsQe5is0ChvVyI4oWmT5blSxlr1TisQX0lnj47HUauOKIVyEoR4LSp7NGwgTRRc15yn2FJY9dNsxcBmry6JtjGkqgunyQ2tHuOelmA6jUa2KWwYQs8kJleeKXoXHovYW05+1O90mkkG7M/+w1OwWUWdBKeVHKnCkhgzccz6c5eo4GJybfnF7e4MaCeUUFbDmejLA+3HhMUdGq+JRLyLkIxNeU95GJVBxSo62uNTvdkFsDeXJTNenkTDuL6kIO6h8hR56431vOoTxdLCWzsJ95OxPkhWAaJySrFmr7NxrGZEQ9s2v77xd7HrWYooM4m4jmtGwyQqXajybk9U7clX9SPgr+BqodYOZ+3gDPLOYoG5eg6ZPVMrGjaPSIPHHXfehFkqWV31TgDlQboS3a13TlfNh42iZa5NAlAdvbNP5wTuvTvFUcFV45BwogjNBSbEZqCqht1V1eRmEPaexKMWjf55aMFon9mPetDsZ91CPG4KghtF83uLOcrAzHBFlnNaecJELvfQtwHd39T3orG/CBsofcsnOn5qlRBsdFO+beRl+zgkBuo8OayRHCY74t6UjTO28pWB1c29Y7xgr/64USYqLC73Es9RaqOOXUQs0hltTvT9RB3ZiEIxnHOkYy1X+nGYyo/XW8Wi+05I0K+ppiTPx5FoW8t1hsmpqxV5LXCejJaxP0ynqw4yNXxgs93zI3GVWwe94m6xU1e0PhjzEcOjs59Ylw9i1e3iHQ/HdXX0yHOt+h17nKSo490NTrILPe+5ltqKyZsOwW6rRP18B3s4Hsot9qbyJBui9cqFNTp4rXQkgjPiK1ei+Lk/vftt58kWcNYTEbxkVJ+dP6aawiZLyv+lQJwanycm3P1uhqfz0hnHfQUuJMt13T6YRxUN4frUoa3EJG2p95ZO2ZsEqNsuIjIPjro/xBN1D/WTm3nyc6tn/bDgtyBdBLctItvUB9VxbnA2myuZOqMVkVu8FZF/XrpkflgbfrdrMxNQxO9/8JuazEYNFoJN2ipdD1lfL2g/a/d4wNq0a6ouYcMShrXMYAMHUTTUe5Xin7jdUsBWr1m5rZcAk6438VyJC79PRnYP8FRp/d6sAFXs5Fijil/oZK4XkdNZQdNBrncnEtbZRR9ROwwg3PSALDZLvhoYPrAgGyNC9O668NkbdIPiF1v+PZFyTTkE+mJsWmketNl4RZMcYr28YnznEaoD51TLV82eEL0dO/Q8B7R+0Da2yfwRGM64TesNxZ/AJyetqbK6854mss7mluARTJ+7efsNeLPwRPll42Vdv1hoYNa61Q5riXfGYlGugFzOmCyWJ9Nh9VzsoC6TgniibOv9aTIW6NJmux+vV99UkgrKbX4k6mZN9VyrUH5lXdPCs1SfVA0w6lYRyupGXCbM/TbbTxhgFskNa1DOnUZyKZ6Oc3QhqjW5+XWlnGo4+NcHUetHiFoh5VnYhUyKFw3a+QMSkgRyqgqxt914Y4OjtaqYbHXCWJreovq08Fx0SK/TVsALQR/56dhCsnHub33mdw8AYw30lZxsBjX9LtYQl7VNOxBagJ2TlQw0z7lOzFB8oPpIKR9Vi7THRiNrEc9bLe23/crGm9qeoq7YuB7tN9QRB9V61MGVY1AvSC5R9SCLyMVgY9Svjwme4pJQnRGcTcB2siYaBBTPl8vCAgxnD09dVYwIFrZUP+qx+8azquOvSNqZKfEeNev3J0L17HZa5XjBBHtaXQyJQS8ovtjFeBy7O8MwSJdHjNXckrNacq+BojXsGlvycBrHZc7wVP80KjH3fuoMMxBykJVrRNURvZrATvcyTBelg/WzOUb9KZ2sIOoipb1iKXF6bl+4kKLR9tB0FUdDNFD+Iviw/Oj15alA/nW0yDxeN854WWYbQHmQtB1hfJ3iaS8rSiGnZD53yNikJ2Yrl/6e1jujMuhCHYsrPwreIpQAaqfb3fY5SDdVx87ydPG7brou0fbsVcR1Nb4aKWoEsLmNM4I3K8PpIkhdZf1suhbmZZL1PT+heBPIditNF9XYo/MIIF1D563PNmmYwPPoeR5w8ES9OIo3OAxPC3slI4wdiWh/W7ZhkyStFiMluVCE/WblkGgpH7IheT5V1KaZ5k2Cjej0Vk3VtWVaBxwyN9vvfFbSkP88Xgl25Frv0vO0VVA07vFc5SZRPdEWBvhZuG4nQZehrsoDVn6Ytz1ZPkeKEaa73ihmGn702XXrGFS/PG7YhVUbdflZ30NyjzxvOAo+Pc97dQNdNHW8RPOTPyqaEYMlL3dY51otq2f9IoWNPrPbkaN9VklxsQI2o3qqn9clrdxT1SLpkJ2w7udmxWbPjYzGg/wg3nwfoSFhAhZWFQ/E3cSbqNuyMxPE2cRv79KEigvwFVq/ErzrQbW4IIapc0vxrF0JFamVRESuyOce8ttk7OX79QqPiaJSP2EsspGxLyFSG6YkDtOq0bBuUA2WturJvA84vxvqVamgp1kRc2q/Em6MVYrkwjFaQSyKqlfNi4FQ7h289DpJR+J4tKpCzQ5b8eSfqmYzv9lQaas5scXxgsY+P7LoyGy8N55VMyVF56DLCc6zeSUUx4SRL4GjeeS8f1QDVrYqpCfPwPbsoWU8G6xjsD1uj43F5aE3rnGpIX9qCnEP0ya6r04oEWN5FdH+rieoLxz3BpPkusRej9hscOelBcMtQO19wW7QIE7yq/xgugNOpkODitCzb7CjvUgwamfjsOa6Qqnik/ae8B+cgw2cLEZrxRBZiKu4vlVSD2Vklh6Lsb5yixBWtFhbOWmW2RgMUg2abz+JzS/laFjeUlleXE2O9rCsVtz0OhhKPuZui/ZWmXWkwqWU9W3vyYKwQn0SpldlG3obvPSjNOp6j7godboRz2+p74/sZD1AdhPkFjWY+qNFP2egRt3HH59vUw/VTPKk/iD3/K6xpRxtVu6ObJuC8n/+PN8gapBFPJn+u9+O0w4u2tbEQXmSsi7bKSJSx/3RE5bMqipPampBlO1o/0vGOJL8TP2slaoZjtcUhkZ2d0iRasisVy0nhd6XW1pPw6KV8cKoTmOdBAIP9vXstpPYqvSi2G4LOIxj9PabsgkpOP3TxdMhuqPeWadbpTklD+xIBWWTiVgVFB82lH/zE0v95ux5BXDNgSxW97Ii5U5iEDrABh8xk/o926u5MkiLJ1lqS0/vd3P6+EoPF8Qr9TUamsw24Fp1EQ6l+Og3munagC7XO55ffco/+iJ/fabvsiULLOBxmKxLFg1ZHvzYX3V2OYqoJEcLa85+ihpY1ZQPu/mZnr9lZWMrGXuYmVsDx0nlj/0tL0sInDOPdcDM2GOg5xWv4warALZTh8yxRYLu1Xg2uchjZzU4AetsM+316RoRt3Q2mrJM5xs8naGR6lfXHoCaM8DTa1o4QzS/bBXusrK8ZzmGTl36TYDQmO/fepLv14PC14QhVni9OUOl0MevA9R4MqSy0+yV8CbNGP3oZa4693tOsQY47SSO9uNgOe2YmB54Kyp359hWfX6zXBfKLvGOZGHeKR4KjtohT7BS4rCZnfVPQ7KgW5wtzz/Ye1SJF9eE56wvyLSP5hm780UNlmU7xbbihtELX3LKX6n75rfDaA5QxqxLTsNxow/P/BjCuJ/EHliHY9Tspjuqn9bWElu8dEfd5aIyCsrVDi9Bues9K5EEjOVTxUv2bumC6acFejYt247NzI3GMb6aym3jSsT2d4bDVqqzlUpIJ9h8Htqs458dq5hTxfOq+Yzqq+LM7dE43VvYXu90xJ7u2ysIi0X+9ptEkzU4zGtMNmU/Uv5bBTa4YSLipS41TndvsEw1iyES3ZNPYxNAqIIUgo8tNkijscybGjjDHj3+qlz83vP1EqanpU79qNv4Q93ZNQo3B5sY4an2y4IhKSJdvvUml8VNH26FVKBsM6097CW092JjXcNGom7LOXiKXqwe7RWikWfffLGczXkUBopDtPle98frYr+FtdKeXwmc26zb7q6Wsj9JOq1XdB/HXKPM3ej1o2WUp1P17PxawmF5e2JnElB/795EGe30rGglzTcQt+92Hdqd3CVJhMiqhj5denCPCsqf90726/xc17BPqb+yZutr1M8ezwHN2kWK53eRKkGFvbEwIOvzehURi0hiBh5blSP5vW4ttyg0l0HbL7m93k2EuwH9mGaUVREf1RCWLlr3XYbnXHxCXR1PecWq1hr2KKijzrbcGiihYYLb+VIf/UWQoMQfOaxugyob7JgCwEh5xjtDMfNZbm7d0O4YUz/G0mJv8mTdoTMTbvDskF+dUcslFo600N74sI/4Qs5yvvRuudCjrqwbV36OmwHriZH7Q2nfXHmMdwi7qwocUhvdAOyE3LG6eyUwnycBA8pyaeJp7PvVeD8ndDfG0cOL7U5w6paiO1p79rTldhHnD7rQ0vNpwgLPNcmNGlvYp9CmN+qv6sWd1l9/ZsDd6CI2z3NOJ56ZpmiVnj+JP0jSZKQvzhE2FJ6pBqlQVRAn/Bovo9LIanMFBuQaeyJHSi06x6sbFW06ScZuU00zPhdDF/rtJCDLoHmi+jkuVFiXKvX7t0uOujYVqX4WxwcxHPuBSqG3t9LzdKUVmszuqGqrewDTYTVr+y5CUbtrVF5p7mB5LJsssp769BrY9s69+e0YqlelnHcLbJoPyl9Hhp7HcnEqCJ4lU+q/fMryk+imkRXrXp1Bz+8mcGpD8V/tAqdrjlorHba1g604Xr8aQ6V+e3oz8F44eWOfiV0BzfBsyLI4lU77YNONEoKWe5PovB7HYfbM4REfGOxd+yIag+jRAa8dZh4E6szp0tveov7J5N74C5rHwMDfp1idZvesmUn7Fdj25dYO4faS9YtAdRUN61GrOM7SabilfIMmaiyMn9fBaed5aoNSoYt3V1SqH707tJQfmoQYF5ejeqxwYxBl9k6ojjXQQJ6PDSw4rm3FwWj9ruRpD7VHQyW72zKv2lN0pnrC26y9ei/GWYuFC4vI3by89RmZ1Vvk34dtm1ULJyNHwygofiUnbI3FTu+5QbNhVdhUL44ParOLRE5hv9rW3jXu64y62EpFSyG4E78qZllpj44MM+OcE29qOX5nsKcCZsLJJUv/nkTdxkJbtIqnA17uzpSXWYgLaOXujKd3s/a7FWvZ6Lw385adc9OM21xIAbK4f/vjaXhVWrS9T0Zvd8rPaMS2bMEiqzfYeE6I3yxGihfTDf/E9uGsj11NKoui/aknapWpWR8+VU+R/fKI7e3xlg2PtRgCO1t4eC6EO9QZwIdo8/C9lotmIxrK3fIKV1yusXHsXb+U+MZ7TTyn9UJEkpGN7FxlikSt14k9jPXJcTagctryRz2ofp2qSn8qbHJIasrn1eogwiW652ThCblD/bC2UdINvcRGXhZRp027LTCzRGjRmRf1vsZPAxgrXpBV0vnjEPSdoZiTYeJNjMx2ulkWgMRv1bXHHmQF9dPLXYM7hXw8s2M0luUz3IBzfGZY268Nv+cX+gbKytzixXxG9fhJVU3FXnT7N/4SvnfhzqDAu07LDPV7OQT5sKD4rgYF9eezuA8gZga97fpBi4bWm9egLrS9R5n7qdf6GFM87OFJHNI0Ud8LVP+ubHaDk3ypVH1zs6iea0lN7OVxOg77lOqpS66nZHYMluOg9Q6AkOSI8l87y8Z8oaZKMvceZNm4s4hVnw8XzADeE8K1ozLb0yPzdni2PG7QSNvARrCb2WSmRLOKM/HAgxtrC6KnvZs1R+RvKR1sHA9OeqwPhM/3sCYaov7QOvsDWh320C/9fSts5kE2BPVqj8jBZwk+8WI2FnQ/KF53S7JSL2c0dPOuU6Zbonkwf+njgk1vKFT9gPorJDpDuz6zQCD4JGxal0kByo4JsTEkrtMsvPkN5tY9xNPn1ciE9a7nFaqfOLwUDTbrdlSagHql/EMBRx/7uh5vYF1XW6xKxcxpmaQDpOhiiJ2tkmX18tSKKJxpooc0Mnea+2paSJsdCclSvaFs3LLBDarDJiKYLzfOoByuBqzn7BFbVsOhZjJS/bhY+bM3/t6kmwnDzNY88XnU9Xpxmucgh+PTG4kwr54jeytAQned+odpFQ2wWe2VKT5TeULrUe8c3nbhtkpCbNNGjOpo0BJ0mXQa8RNhngkxVcuAVxeMHVESUKe6mw660vA87qDUVX27HFMgyYEh80QANAQndgXUO3merPJqJlAsALR8nc8PPDtloijfxkNL+6/gxup6XaZItE0N29Fj0HuBwR08N7xI7Pn0PtYLzpJh+/CO3p0S4dj27NpUjIr6A5u7C6hdzLQY9njlku2xFKMucNdb4E793Osfkur3gR3KFD+fx5aPt5JObkJhQkO8jkwXyqrq+Yqy4pwbmbbXKT6OO3SUwVbZ+J04UR966k+GeI93S/cedTGWZcQwGGM1qrYVMdKRBeo4A6JNe5J1bceV0lkWauKNO6KP62nEyI2pSwQ7Fls19YTPgWOuM2zKj+fYFe2QozvWXE90H5zfZqvVTekqx8bWsqX6djMXbTg3Guf1OrUFZHKHHG6bh4oNTJ7OE3cUH/ptm7z1urjTWLTHskVw1S0ikrn0+1uLE1ul8CAbL1lYwOUx22ANeUd/PPS0/w7r48sfkyGqbd+men7TmmSxQ3O9Czw+hMR3Hm1dlLXeeUHmAYclFs83eyZqjpNRAyJunnjmbSPq758Hik+Tw4rQl6dV/N0PWsQFpUcswXxE7WxXuOg52Wrv+t2x5xCdDtMYT32VyfpGnBRIC3qXuL0797mmpP5lULnWE46sE/WhtDZh3qqHVlpUuV8dWG0P9s7QPJ4SVPQYF3IsidlVwTavmtHw0Hse9m5K670P0qoTejWAm+pRPYYud6cvF7R/upM5IeorQY0YbKBC4IkmPm38RG/XQPfDWp0mbzxjRLSH5WyRY4csGb89TxMbXQuYkmRZ91EPXVbCnJhrPKNQHA2MJLDgMl6K1QtT++P0vi4huuvL9rQyplEfkYcK7LqY4v01eFTNzq9p/cvHAqvrJ+/0q8mUBY9E1I+cVxt/XN7DGHZ8uiP+aSBj5+S0LRa83GN93Fp6MyuHELJDZrzf7z7OnjUY565qOZ53s+GQUz8r8fsQ64e1lXFu0avA22pGzpluVUJItxi2TCF4w/msRoNwSldodRNe90+dm99LTbNB/HI9ev1hJfnNejtSfcxRf3YbPLUaZ7i5QhYUDXYon47NNjgaaLJsgeJd2aDenSFVYpd9iW1YXsfBzdNOUc6Z+fZv4bS5oqG1Kd4kUT12eXtkAfpr7DXTNtWHnT+LYT6eTl4fHxW9ittFDcnusMHYZoqqXdwpxs2Wj4xYuadmw9JzXfBN+Yjdk+9V3bKI9yiNogdZ0APTR7U4U30nDT1e7C+d3/covSkzVoqxU29n45hqVAJlzUTCmqXefHLzA8ovuHq89Y4hhAPsecnFS7VhK9KdBg+Yo3dp+9PWrfqQeKk8Ow2RB3Fu6Fx9YGzAMnMi6vB46K0/nXbK9nI18eIgT6tOOrshWP3AUf2OllWP2AtPaZkNiK2fCkRMSVLRfF1tiFUzx2xA134P2HnsyFKve2dUvLWLSr2OiR711O/CQrvJ86Pwrt/pRhNsWF9g93r/X/THi/LMZdPQNKzdhcIZj5dpDNFzyxGjWzyqOp1sayRkfE109UJ9mfhQUrCOtN4WjmFldD8dFfpg6xP3lOFsuAcDg4Q+b4kXoGAcSVXH6KbWZ2KveysTpsmF6gV5Dniei3zUsZh1gfG9s3dJD2Y2TuKNBz2ztd/7e5b7FqKNZePVvjHGm7Wh+Of0QtOyu9PWHw6oMlC1j6j+48Ip4tJSEOEsXW1PYi+v96ODFQNG5cw9/hTO0ehnJdW/3qwmi22s+XVxonpQiYXR4zaBEHWz1OJhfggIdscncnpFmrrIJC3TtllZ+h3poZbT1/vVT/Y0jzqcQwyTOl68E7CuB1sDf3AzclqdMr07VeoWVox0xp6yLRyC8q4FW18qZJYdQR+rU6KiYyTsyYyKQ51rznEMD/3KeH1TNT4RTXeFDLdlvSs+sf61Xkkecg7d3WMCK9dbjdVcpWf8nYfS5ll1D64sxX1FH22OGtUTWC1o/04r37s/dCEb7zuqrGRP9t54lq9uKeBGWLd87hK9u3naBoxQZ1vJl2kDu7c5D8qjPLfiZhmP/TpfJzAR1SuZSzPd6eQJL0O/r0pvUG551ru3HfVXPkvx/R6xTstn7gYGw5th6waUH6eymSCxjk2CldHwx/nxUcpaBH3LgxhXHbpeZMXVxYzE8shVjXSSVdjkzNu/qQEWVnBA47LNrsyZglXeU3yLI9cr74L6SozvVEWE7Q1HZc2hQZ08a5QpS5Vo1LxQu1icagTOI3olUHJ+X6XHAM5tpGKrON3GISyDPQrPvU7waD2cbscoBjiWuienjomcjhukLVx0yk8LsxqicadyV+DLEBNjnw0jaY4G9V+X2/LNb6sjDEiL/AJTpMBOVyRlh6i13uMpmQhVUzphDS4J3ZbxF/7YzbjAQsKUp/ypC2XV31aWisxJVntMuN2NXTy72/DQllQSl8XLf5bQIcndUb2EE6PiHivqn2WUbfF0YSf6cz/f1XAhRoQDTomd3otvr88zqBt83O/W9Pz0IYXC9Ib2q371ve+EoFYwwY5BLn4X64sSSZUSUuU1qr4wqeJcfvZCimdxMkdC20cBYq1N0irr2kZ98rQ6qA1RJRttSpzRtC4Bkqj+83rrfhlHT0puIO27gmissK16PF25EEy1pafkDEP1sYN4WD03azxtbxcKYb2SwLM2Z1564x7jUF/WmnLfnN6JTXqGVntQjgyPZz0S/OL4UFxgl3yNDW1E/tjPJBmYehPg6Xbbo+Gwv5RwGrOTp6z8lT5uhvPwSm/WSXLf2fqQH5QWykfceJ3QbLN+wTwBMTc8xSqZbLNhNyQedM5ZaVm/mTmDvDrwkHDqhCzbxBg56/xM4Y4Od+8Z77NsmPe8iq7T5+79/sVeilwQTluG4v90Vo3GSWEATzcm1h+3DRpWEi6RtrAQnvu7EPVbUFll9OPII2cl85/KSW/hGGfJ613eeUWu+CnDP9vPiTkTjcMmf6yzSkliEYrC2JEZ8+K7NXulepNRMQ6mFAG7kytugaL9lpinkq+a55a9gqifZ9jO65XeqWnKA+rl89tfHMNVDtp+UKmf2OiIL3ZnG+262PfSXfMY+4fM1xC4xqy9IZ3y8Y7JWoCa+k1JGE6oycnKU6z8vPMkVMVRZ5uqpewGdU1UrhT9BmW7LapOcdky/IpzRmTXlM/XhPb7ZZWPbb60NNTrVe5NTm5ZdWLIMxBrZkncttxmrcHfcnSOkP3GX1MOCrTJNBNb2TWtRjuIOlqP+eDNx4r2+ywxYlh4hGvvizqJ+tKZ5TC4HsJLxJnjcPNPHji7lOrZW7ofiR9Qf0dE1iKBcynGp92QGuRdOxJshVomnOIiBnfV5q08XSyj/nZ4GjCbazaxzZkQ9WYtGNDy+E7m6dpA/HRYXdGuPG/eeNaetRIVQ1fjWbJW9b67pqXSP/oMW+Oe6oebumCA6dDRQwfeyTo3WtkUd45HbM9YJqrZgvIjXk5CYoXJqNdPn5ERR2YdoSJeyUj4ALqfm3FKZsMKxuEpFSXsJ/0cz8Pjuhqq7bJAS746EHcnHKlfuOoqkidLghcP5zL2J2VdKhyp3ongKp9y1N8q4pRo2vGBevJIbeWc9yusTrd3NIon8QaGv4yx8TRFvZvwVD+GcvT0+GwfRbXQZwZsUzPAy/1Uy/jZOmBgZcYaxrol6zXKh608MAQRJ0qkrL8EO0DaujPJvDavfmPJ5Qr0o7BspePKiDqdf/KQKrs7NlWmGIdkvmYgsOfw4/35KYuFFrpJFHrjZTuLiNXpKpDef92vVfWxP+A2RqfXPWXHpn58rC9NBwBdgj28mDpdu9mwIDXDycu4buazzILyRZRdOk8eltNsZMOohEswpfrrGYj60IrrVGGkUsauOTlngyKEALIZaGS+F8ao17drHlyIWOov+PM4mCgo0SKad+/PG/VHYw/O7ZSTecxSft/zcwYOgXoiDlrETnc8nksoY+pXwuORRc+DPQBERzch+iTN9HFYxFfIL3roQV1wzqAla7qagm+woZJ9ReIZXWsHhU6Cp0b9/Up2WNDF1QarZzXIxthLWcXYFk9iKKWfDSR7lBCebhrxwJDGEcw9ANIpvv/Ah4lE1+8oW49spnPXGaXcdgHzrE90azf3had0NRQlES8Ehwyu2l6h/khEuY2XJGwQOTubjcJNVho20gNT9c6m8uC5DzXvxqtzfXgKHa8czIPdFj1YvjBX8kLuWksg06189Xvm2RVKCXDH4UGp/fqWHizQThWP5+3p7gybmI1B3VTRm9+CqTcgfZrviJnaVsTv4mkJ0/7set35eEMjK4Q5KA45Es0xdlUfkIkKOoUyDwVe4HQnwxmAGeWR2IHEj/XRL1N0O/EYz1fY0uuVn24huPRHrHXh6FTlko8hG09F25ajmgmckyWwqNYZMSaHq1/aT2hhMcQ58djgPjZWnwzAb+b8219UoiGjI+kwnlVROo7XluoFzBrUj4xXxacqItsj/8QCNvYp1dtj0MkQOUVMXMQv9DFgbqqM+dkUayg4jOUpCq5Ur6/XeC7D3h+Pe6kAdC3PVL+fRL+YnSwbbM+M8WztbP3R8MQOTinVs7LQVXqtZUWMFkdrhlWLUL+RIdrPq8vtrdfVRW0xkm0edm3NrMesrdF6UA73xZSoXT51hvt4HGCTLjUyFQRXbzd9ocL6HlRY3WdqJTSiY8nJbDon1n2KdCJkVF/pLCeTKeonY71Axw34lnvE68LZjb3cZgGI24QajPKY6yNVp1uUJSsHO1Mq854HlfbjNexCYjp47xAF0Xq4MTb/9sfcCRLELZgpnuNjn/X+Im0R4QeFLMJtrXd453uw12lj9/bpWfU9f3PlfVm/9OxW8Ydic2thqwH13/xlOtbucXVTSmdoiOp14NflkZ7H2nMDbF+Oq6pzzXMpbybdjF6tmWbc4ZmaUG3Qtn0cHsdovAv7lmp2xHnyiGZZdaSSCNY++06An0ZU1iAWhQW2dY/yFbPWRZgeuqxVpjKqmn53vcm3vaO3GX+v9IFWogmRH0yxNc9pP3lTyZPrW/YgS8teRKQerjYcNvasZfUyHodmi0W02/q0v33BdTpHdywwsNm3xtwhWZNUq0KRD9sJUZ37jUo2j3PlSYmoH2iPZdbM84MBQ+74P/BMC/lQg3WkkZazolvUiXMcQB9vfaxdczXjC+PsQXvKspZXhanfz4NLDm1C+UM/IdYZV/ZRg3FaUn8kcsGY+NXegoAPTLx2+UvWSUGkwSqSOrK8qL3fXfDWgLl7pP2wkxdZl4+IXq9FITZDbZX1U4/qVy1bWmS6HC/62Iir5JVQOHu/H3AgtoqaS77xFIKjaphyVxad7plB/QV5JVaeNxbMu9LDDq7SMduxTxbu1ymhSmXK6zV3PIaQMbO85doNV3UKcTvwpJjub2vOR2G5XOUoW9zmBNf6iLrQm5iya+xRy7q3RB+WgWyi6I50785f6qxLGfP1/qzHEYzZtholee9BenBmbz6OrhcVdcYkpHy7C6qOFdaGkhD2htUEhVm3sLgE1cqZxXbXnlBm9WYLQpH43jlX5KgPFpkKms6vPFhldjQ+inSl9OX+5MnzVZn1QdpvQH0wIl6IXVm1Fs9owGInxctu5ev9OXU3lDXVgBwf1Tximc2soP135F/4N6vaRq9TtNM18613VMUXocu1AGvKbYX6IwgBzANb9IR1UCMiCJKIyuI6YE2fa4jL52tPkeZ3FVPGYtEgPpCIeFJ3xIzSazYEmiYilZvMML47nt+VoZOgVVkc6XktuKyuLvsBkp17xqfLYKMuml80hcHzdSs9nlLUpo7IIrOdB8QddpzfbHm5QGX9uh/94/MPaUj36zE42OPtIuqfoXRD+woTrDLxkHXD4xiiLDpSfSKHm2zQHsIgu/nQeVfXkfzOejYF3C7mGhthbI3d7mYbyDo6GTHV1+fhMtmSAeuhS8zrfY7q1pgYiNlBRCi93JxeVNRWiRw3I/7zEKE+S8oCbG6+b1sum1edlIohrJjw/fNOmuIdLahO04i4vOxmY+RQcFkkhUbiMfOdXp1oLSylw4jnDVyc8fQcTGWTKZs2O64ivQfqHpC4IjZZJk1A+VwveZTJW5M4ar/LxkPGGRBOQiCWFC1Ql04pUi1UBpOpI2v66JvZRg5ZpvVS+WKNPXAkgIN684jXhseqT1VKRObJTN/7u2MCE+FLbreNoV2cqlqIALaVF0SXnno0HvxoBeJh3HpjAwgNg6UyCq2zGaacS/1u2T/2qCZXDZunfOcM+qOvFSQXBpmbvK83p8elhR2T7ImZpGgs67vBQG+UpxZwn6PxaKtXxHbBGi/vx7Kifn6rolrgKV9ZLsUTdG4SRET5/XkjDSbyDUmhK7aDfFcdPkmaFtLOyD20zsesvwf5FuS23HmIKjK9iG/Hvewl5RGru0CLuoTvE8W4pDXdf9XyWVHLN9CEbkzw7Wz4T0vpb0qtskvi1CntTz6+aaBwcYA9f5Xq3Um5XpFmnjsyVQ8MouIHsyiQno53VVbFOJ6SjaE4K/HzeeXdJtqAtZTGlg32VI9tFmYK2U4ZiXG79uMwb58ekCdv4fnBGimfN2UOXrAQsZ0ug3E0WiUAUzJsEobUaxNPCrfw4NYnrDaoyuprO4vhYM4b7K053qm0sLBBzJa4lbWC8qXagIHYVVQT73wos6GadbayNROE3UazHA7BzgBJytdvP79eRCt03I4dnqWcPI6+tNyCSUQLu+rjSvXYPmfgHu+veH63r3p9xLEFTb0XiV47dP3nPKxhaWQasYqUUL9wvojQrtECz5brHLWzqjagF2qX7HWb10m7XvJILzuPnG+tHvF8FrXoKWyP2Kq3tGAS89CCFHVzcsiSSdR348lGi213e99PzfptCMOKOkL+0Haoq2ltw9L1FVp/F6wPw5qer0PyyhseQ1uRR7300GOnsx43m8rUv+gnE50NeU5USkxZyZ+fJsSP6wNrbMVQemoTFa30TCGqoOz1/4+9N+1529Yatb+fX9GPB3CfmKQGki+wP8iWZ9mibcnTxsaGRtvyIFuyqAE4//2lk7R73xmapEn7NCkvVEDje4mkKA5rUeRaD2fmTfCtOSZsyOvSKS22VEn/MOzynqHXyT4O65yIPtGzq6sBsvJSdPfEuNi/6JPXeJuSTaApbGLFk6SJ73dD7+3ImLvQ8ZOSLMdHEjW7a6F1msIs97W3JSncP/cv91O/3oGRGP9H6z3rjoeGX19XWkCuq1MpRulH4jSoxkf8UD0xnoLH2AGjdJKSS9YW80HfeGSlsSc9MttWgFstJ00Kf27nBJ4A5/10m4jxrQZzgu82f7vfCKR3T3OItmH9SfywGtwR5b/u1mL8VfLEr2q3Y9PeaqgXlzTYm3UzSufYg5FrV3EMmvtDOauEcudY6KG1zZrikO+FfVLs+ax/IknRE1YP5WCi8H6nFPq5ScCFqFE0EONfz/OjwegekNGEpWwEIpDk9nIkjPHBXeinqna0+Bk7e1IPT8nb9eoomrpkcVic7PasKJ380NoI/WObbpirJMOmWi7cJdEbchDWpTbEfLfarrGyaHhR6nDvPK7L7Yjsje6RdVhL8/PdWS0IDOsZN6F3dh77K67J7XBs8dFYTK6VeZyc8GWbRmy13A2be+C2dbJfRkKfne5Eed328o633gizWcfjftNKJ1M8r47zt/Ub+PBIGBb2CyM1yvIjvwW4CnoOn12DDNf927VLNh24ZUZf6MMNOLglGQ6MmY1W0ztuGrubk8tAD3l/mFV+mSZuV3M7TsL76wNryqZlFmTh1X7RhP1RUk4PqlDG7lfNvh76PTF+4duJ1Atrye2d6frNuFxG5JjGWzZI82lSta77LUGP6+JteUvIj/gQLGiBO0Hi102JehjT4axod2eDBBxmmdAazET0n+jSmNWtU03J9J419rEAnpWHR7Um7kLbMna4jbNa4dGUJJRkQh+YxFmVbPGImPllKebjx91KnZa+F/rOMrFxNBP2UDRS94QGo5GN7ouT3wwPW/EUvZvF7R4U7R3Zo5rkOP9lv0bTq+ZEIzRi0/3kmpVFAVLSrHzDPu38y3PfYYeQ4A4os3taC/Nm7Ze6C/CMjdetIa44jZBeu6eS9/qrOmmypOkSV0GjAp27MS5nWq6SQz0z+HRgCPt1FrtbkeDAZzOvujRVyygB9R51jwl9QPTX7X58Ihu0UgrSq5a43E7vS3LLvLcR1TtwvyvxZV8yvgjCrd/w2kC09krxPpIs8hs4K0viVdGd9ace8PNWqyrJONfH3DI94qfsagu7stQ8bszKQ1LPrlVBK3dA2TCKXFyusLnHx81szMcr++EUrDMpnptF23xqW+ukeVw3QI/iZc5Gncu8qbP5bfp0TyvM445mOvBq9lyiZI3x1p43bX1ACn2C2ARfzrhSWTvHu5lx4HFx4E0mqnhNRDsW9toALHC16HdysriS5XP/7SypRXOckOt5NGBe2jqapV4Ml2RYVXNuTs6dBHn7kYFx0R1xYxG5jtBcl4DYCyeztYyekvqOgiOu9jNT6Nekk9X7wm1hN2wOtmIFSVZBbzQgOC7QW3soBoFBXD5dMptGoj04F6HfdvPQ4KMo6liI+nig2V1/z3ukzLNbz52J+Y1OFNbtGWOzRMhFOLh25rZSjh5+0572AoJp4bFpnuTOze9ThAe0HdrY1M5WVrUNIIxTBxd5MOlb0L7NAlxOdn1bfzCclObsMiG31UgV9kxLz0rSXgV4BpfXt/XraJawD/wyZBFZi/Y5XY5qnB180YvhomcpC2c3wqfHpSPKX7OsVKaxiivYXxZi7B2ZuTqNBuQ4toUJaepe0ris5ZKViRkbhZcUPxo4Jhq1VzofG37Xqofurn76wAwLOL00TVWoswvJBiKFVm91t3gzHrjCnutjboeg6zcWGnmi/9TN2/FBn5ctWix7O77dqTCpvCHJNc76NzZVzcCvsnGvS7oWMG3aNMZz//ziROIbGLOdmBmxqN+Tjqs2X3NrWwcJtzyhKRqLUcTGVyO0yoXRG+H+MTOLw7za4KbYjI7YGnrCYrhOmFkh0f10LU52vJuCg1Puk7ZKomN440Nh4fplGyyWJOhe4NvxYcHE+HeDqz6bnoQFlc/KU0GOI0Pn5t4aWBUvWzoxrM3arv0taOoZ6EzI1qIut7QwS+q8tTmS0sQ9NnHbF1wb27Whn7q6sIeqbuRX6406IEZ5HIn5ip+SQgm8KZlDf2TjsW6ZDV2cTvqgwXZB1gnH6WHUOVGIaMBHZHrJ6jRBA7wik7fjQzfPOghfckstLkH70FyOy+f+nlC/2UBxO7iOglFE8sezPya1mF/ZchkQV+0f7XZ8bZuPGKVbvK8GnE3HV695WOnSJcH8cmQTgGZN6Z/NLjbU9oJby0S3is5wXlDWu69Yb9/ApL6ZbKB7rVbKxxk3kzqslClhl1zob22hu+UdcBjhHTasX75foPmSDC6XBZsMNzP/Vs7Kgtrd6ZFNQ+vQ5MOwO6C9UOhDnVbSyvK1qQEyyilh/WO4wk2bziYkPI2CgqfLICnP+m1L8Ow6K0hrMmsqC47uZFdtL2xUr+Km6aQNIY13VAq40XZP+7AsadPSe3wQ9jOrPC/XBQnbQ8T7XlY3zQ4f7+R435/erj+gY7zGjXcmRTN1YFbfRiMxP/bM2AYt2HPy9iOOSNBfaYwtDmJcC7fJiOzE1MIsp9tPlP12WJDRsGwVzSGPLB6azYDUMSZ2lcKRgy5OfiHo1CpZ53RPkhvoHCcYDDchGzoDoa9cVO7q5d2e2CA41FZaqqVLfG21LdxTn4r24kx1fB7Mb7/sP3NvU7JYTQa2brKxA4stD8jqcGPMHlS9DJ6VcE18vLOF/bguzYoPjZGeBr0pHyZ7mtQlnG0V3Y16hbukm6wZ2UFN4EEPWe/g537l3UfCXjySFY9bS+qLsR0apH85FTatzns/n8PulDjVFXLbGJT+aVtvXTLF9YR1IVWzOnrsL1i3WuM3633GOlyedDTQLNav01vSdA74jv0H6PJBcMb4ZB/8LTm2Hw82s1aRUw/XQYBJC3TZ7K49fB4fjQkpy3vCe0FBrXzXLgfkjsVEfFzjyuT+fvb8zAJsvox7U6fsHKBODhtP59PhRsxbM55NCALKplB9jzoVAquIdFK0YFbkbbNSqHMnMmrNi7f97Tob3vWHdu3b2dCb+k+N0iUlBQc2GM1Lv+JzoT8afUe06ll3nj3Q/LolM9UT1nZje2YdTeFA9Hdii5dzQkkVOQ9CYFbdeMeENa7uhwxgna6TgmY4NcvrWqQEjsGViZlBS8rOyBbajGbe7eo4rrLKWczW6q70ugUQ6pvFlTnTiXpHv/hTKBfOFAerIyseKTIdJe5mNukvsrRosmWe8BygiHA32jF7XfUdpesIi6Dw64JZ+GY2dbUX9uH1YvSZMYkmTfNw8hE+kGptV+1bt+EbuEe0MCdmAR6VihtIygspHmuLT7K6aylVWS2J4hkTtgtd6DdKIfS70gIW9ze7qskfo6FNYAPUt+3XxitPF4OCGH9ubeo0HSTKG5PoxHv1attw269tCntJj43pgVmVcr/YZH6xkuIwmzv+ow/sPbY7e62gfutqNUZiromyyFoF8Q3gl9UQHEmojHzxfqskK5ifEZJP1gHrV9erf16WtMSQBaK9q/2DWW/DyZH0y3jGJ3jWwXCSr21SHOvwrX7mpOWRTrQH5Z3ubJ88plCMR4de7Qr9aDlp6mCzQUSzk0VxnXmpVXl63cXD3VzYC9No5DzmR+uOi8l8wHtgd/cb7YQmQhmaAD6YMu407UqUp3dVqgLs9ZZ4H4Y9IFvT6djCFjs49d5qatzNAtdWTmehXE39+510cEML4hqbpFw/tzt3o/iX7y2zWowPWx0v7MuqRa2axwdCyZ5oYr4fbc1SvcUAHwy+f+4P2lr8phy75F6DDQuLfd+pjf5V1SbBPmWzqDGTSs30HgnvYMgWxq2TXNLpEeiFqju2HuZpVprZbEn4YKkUQWSck7xs1REJ3d3MPir9s1PVVmbjPdhNCm0BB6YC/LnQh0ent/sfOnWDdZJToTMYjF2yRnGTo5iLFcNudvnVLN2DdyL7Ipqzcdy3mgqnK4PYzUVjpm9Ns5zXeUHa6a1gk+tDzP9atJ0Sr5nm3I6uBN/6jVaQCZ9GbNILEW6OvjEgm3W/4dZ8D5tqpaYTQm/BStgl7W6WtWlnTa8TI+Jup7eyHsF+eCf7uuy+2U9rHledOW7tG704DKFo/20FAxKNKWO9qYmejlzEfL/aRHXR+G3VfAQLYJPm1rPZpj4IHa1nLHW88x7Cvg2FPVReG29EaGnXbGjRkVPOveWUmNV0xAe9JE4es7xzIjtnuWOdLulbANADonGFNmzg1p0G6fvHFKeq3WGT5U3zm52VGMRqLqu35yFLhy+xJmZiZp6Tk3m/wrZHdKin3JxO3KRuBaMCB+piw82GdBOonaIJMW7dHZtazsqqtCKv8e3WdVlfPHD20EMtJ4l2sQoQZHZSnq6TFM/j7Pm9aZg7dfth1CQlS2Qjuh9ksA+9ObnG6pCvTA9ndbKr1/SQsGFRFtnZzwPvJqzae1t/u77jrwYeFhbRkjFNH1hop1q5mK8nDeseIDYbxzvqxN0lgHf63a1ZPUJhL+lz9czspWliZX/GYjwwRgHbgd6gUc4bxyNsv2iYmAYMDFeP/YhGp43ODLSNzarVym0xWzpifs3ce1IWDxWQcuC07PvqKKxqVXuk5HacT/nG6beSZjo1PO0Y9O9v9Qd9u3FxdlJKPrrf5k0emuuleN9ZzI1xlFvFqjv2iHEpat7vdYzmsb6J9ylmiCXvXyuSNE3Ui3BoOIBbVmQ1zXkbTok2Sw9sOa1azXl06W5JarW6rHu6PL1NLR6IqOV6x60OP4rx9iDsdX1h7tlQX4Ks6oxDnSTzqMNmU/fkHNOlmC+E1ULerk+KLgXo/XHrseGpfgh969y50E2e9Hm/W6S48KLFko6uE2Ark8cWZ2tH2HOavenzzvWQNXWPBymxaOEwS3WvSdm4yxK3Fv7BhlXU8hsMbzUZ3CYTNobrGHNUPU66qwyORZnmqKnnBLjkcEEroe/tgVUugxwRawYurLu3x1lhXsIB3rmD/G15Z0YWEGi5XdbvKAcn3V1GLskHaMKtnp/iqmiqPRnTc13AuOZZ05pHETaassPivpJnz1PaHnl40OUGn5ROMVaoqI9JFBUkWInn7d1VYW/0Qiz048UQo/NEzIfaOlvbrQfsZijopqL9OVbMu9fV1Sn9WetIzveZmD9Oy0WTp2iekma4fXve1Egn6ZTc29O0uPf8My6OiXkh+Vo872w8bfmPtsGn5BpN16L91jdhLxRhTqjBW9yqU9esDqusJkbYvfNRfzVPqrlC9lhVk6SA0VO/m5JuQOykEPOHdWrjit6xQUYJCYSCv907lTBlT/rptO/aSlVVDh8VuymetRONdR42dUozF/PlenV7e/6tg+1LC3dX6Z4Z/ii3cmU0CcjxcVRsPbFsP5tNH3Ps3aNH0b5UxErsJrzj3WR/42Z3dDHrhZ+J8Wm2yDgb7XsmPCyF1bre0Rab0DZO+Gm+39L5rWXZdQyW2GvlgxG5PIaw0MalsP/H25ZK9mZe806zH2V1X9nt8f5UCXuq6AEr90rlTvy2rb6dL7S2P8fXbdgWI0h1a8R85s1x2aSlrY7cSyLG30rof6HQB9ft69ABm5XR0nNtP2LzetH2D2tLK8mouZR8Rii3mp1bjYgTVw8mTGjfKudjZU0m40Loqy4V9k99vczJmh8nbFgxavFtIezjYyL06enY7SXPDdaAXJt1xsbe2XGKjnrY0pN3v7zVz6z1Y07EmNDjZm/UdmogtF1yON/n4n36NyvLaVSTaal0xHxqHqzysBNm3G7m9opcbwmTzhwjRNiSFbZXB1fz3tv3T3qnXj9E+p6ov3V7vCancsGFPjkzEmQH7REuysBhq3jeiPnED3TidSLRf5UBNm9Nd5QSN12d+Djcj4S+lNpHomw7b+2L7n48TslKS098OX08kgpr1oWMe2uPMaZOzKraqhFpiTmcmYdiijNmHfYkHm2mfNLad5Jq4NKceJPOwm4XnYlVBs22xKPj5ibslV1m3eweHuBOW9V4d7VN/CNa2AZWbtmOz9yjUD/Bcp5SUA72Nkvz1Dziy7YWjdtMi7q1mOFiH2/2xHyMH2/La/ftlHT70ymPfHvuPPzDwaOX2h2wxbDdtaBiEJ1Yogdyb831hl8mpIcnU2PNo4Bq2XOvWpfWi71pj0C+ahoUxCV+foWztdWmY1ZjU4mI45ouG2m+YQprmhj6FWxN1h/Mkyw/XkZrcjQdYR8dymHTLKabAbm0kbCi/TvHeb4tlmSNc/OtfeEpoj0tdOVUKNeF4jdlDafYs1oWZ7FxccqxA+akqqZTFmnL2K+7whzGN2Lv2Jh3jYYz8+hRf7WjRan0Dlnx6LeX+Nt4rTe+wEO9lJWyUlbKSlkpK2WlrJT94WS/BFlnUlbKSlkpK2WlrJSVslL2neuDES3hM6Llzz+9CW2pKL8Z2xK+H9sS/n/PSFEfDm4pUns/uOUnQ2U+w099OD0I6f/7drExX8erAhrWnlHWAVZ0rCDtv6NlfuiPvxk+U3kFFApV/Iw2T7ACkB79D9Dfj6j5oYRliM0fJMTmM5z7f4fYVADGn8zn558+lRF8LyOov8wIqUAG8/y80H4RER0g1ET/o0SlIPaiAGGEcEixHuDYk8E8f7iogn/pGJ///B/4iqoQq4RQUQNibPwJvhL/1EV71N788D/olYo0BWEM3/zw6tV/Qmj+9BN6pYg5RSdU/1VcA7oY9/VngsqbBBWkYoDIU+Jfv977z9dZ6UDMR9p/3Ssy1rS3Wf2kvdKhChQC3ib2Iu9n2YGYlKgC3t4PX6lEQ5To6I34/+ivdCpKTpTXP7zMG+lE0VX1l3vxK6rrKsbqL/eKwojOqgOgfOi5tVdi/lQgxeStuPYKQlVXyWvxN8/9nI3Fs4CXz/3f6fxT3IaIqAANoF9v019X3y/ZiociCiA6AdqHyqG8EhOvKDfBb8sBX4maVsX7ePtgP6mvkHgZEBLybh1gUWSRMULk13sVoT+oUKO/PpT61CyQrnyg/p95I008pP68X3tddtHZRBK/lF3kgIXSIeZj+oG8NaJgjcC3z01eiflKE0oC/LUwojFQ0fDoB577f5RXRNd0pIFfxFXxMGIs1TX17Q/4laqKx4bq6x/+9efEboW6AjVVjzEUL4FGARXvElHxW0z80IvjHzZ2qxhfvypmsrhfhmmVYVplmNZftulIJD88//jHt9m+9o0u4w9Me/7mWd9bBnuufsHfXPz68GrVRxe/hPL4gdWvb7d89Xru/s9i1afWpt6IvLMQJdedfpx1J/2ddSdhQcjloM+zFgLdfxp7GvE9X1VwSEKi4ihSfT/2qBrK5aDv2lD5S6/8gFc///SV1y/GuExKJiWTkkl9KKk/Z9Ut8n0FxlClyFNV3aM0wlRRwpD6CGiqHv3Qq25C+f3EfAYgejOl6covnzae2vXraQ2q//mwgf6t6UCuwslVOLkK93a1Yb09hiy2dwcLXchWJRlLHbY1T1YC5+7Ro5uZsmdxd2dgFGU3RBt+UNjOS24OdIeaSzN3O2bT/dhItGaeq+R2Wbt8voZ1ptz77TkpNTfjK98MrSo7lyMaEiXiYWq2cAnwbErKTTQsyvnskvDJeTynwWo/YaHSCpomMx+AogzY/OyYiQ8vbTQls8vW5Nn4PvdRshshihapwtZteEkQHaYFrQ4JZNteAp1mnm5HpAOUKXdvrbgBqWu16PGcWmxabvcJyHrdJQW1fmZmvFn4iskDlSbpo+TiEXwMQWvUo0HX3vL58Vg0SlJUIr/xoGKLopNa6KgnNRlapsHYwj/4ombSklp5L7KTemRa5TK/pcSOFJv5pZM2FeqXaaummxNf5xua1Bm1CrJvrCsLp201AVY2WlO8CRaifnZqopjK6E77Hom5cz0PMJj0Oy71KCvY+j6YWuBxsbdk80haPFjpB6spYr9HjPNxybcBP2Ugj242UU/9EV/gtubn8e3u0qJVXnkcHDxTGTaDOx3NWydm5YuHiSbt/aBVtOMlGwdXzy9ncAaIk6lHNl7mPaemi9JrHR4wY7HX2+L80PVyHBXt0q7cw8yEDgsu5EoqaJeW2UlQ2e5PSJ4MDswj9jJBqFb3NBhpN+ZdF7ZTh2gUUE+ZUhaycWTBTbd3wofjELBhXEOzGS+XKn1Au8t7ZJtk+d1MA9LfdUX9XEYLE/B+uqa9wyJjq2nbaLTqkabY2DwWPIrMwAJGe3CkE9RtmHNSzj7UG5rSceew5P5lMjdr9UoCirrTDvdmU1H/ynq7pzOlM2Xzm+WL+sgGKQ3UxmA7Z1lbyiNNWkQZT3tsMuU9S+lq0YUmNzLnmUPmCcyvPZWKrsCZcVsfcNM9TVLaNbwVN69GhBVVywwaTmKDdZXe0XrU81qlzia6sB28gaS0DlZBM6bPWTxqqRmI+fZE8/7xwjejQ5SgU3eyJpuDqRbXPcyaUl8PeqS7awdsDoZ1oxj+RqXraHdnRmdwzxqnVU7o2NATPnfmZ4cbln8hWX/qFgks51gpe9MWqe3IZEto7nEJjWxAD72zwdb79b4BsZ4Teh7oRzbYTgAuZ+o6on7ZNCz0vaIpcYS3dHC/LNminY8ztJ82E1ontwlbj7aBWT0c3iVOjidsAVtHE1Vxp6S2ETB2Gx+OjnKH6YCU2T3ho+aycuAIiYZCessBM9a2JtrvLj2S22LCmI/go0E3JPpr2C1bdntyoiZMtWNAh3AT8Ok16mRguOEtul9uVswEcGKilk57pDqwO1t083VSAuuuE6YfBtxs9e2szIZgTYPlZM292Oz6WtvQItp62C6Pwo3nI5oORXugmce63dnoeXb6ccSt+OaK/p+aGMOjKEYv4QPmKWbml0s369GtyJY703rWlMv+OKe3eFjZq8E68pWs8fa0z0rKoo3dzxQe7VK67DYb3qf9swVWh7lLDUe7st166+DqPiaIPjDmjIWdu6mUGxDQe1iJf86uIAO1ZpS0fTG63FiucgyiE9UpHogKnuBZZjb2gKj01C0CPm+pQn4zF+93cdNctoW3wAHD4eNIW57a49tOIvpHdtp3W6hp9bkFd30fXNZbj4jnTZlPTkaiRK5r0CFuOmyRKwNTecRLkeMoG/LosgtMxViI53HiaMo7OCidwoV+RDtzVeXRWFH88p6kLXpSJysWPWiTwH25X1M+XLpsN3Gx0+ikadE7zA/cu0PNqU/txZQuGp+xUVGFfp3U7ZIOlouYbTotM1OjU9ClqzZ3uXgjmgXcfFrTbX/i893wHCeP5djcUj5PdbYcdUT7aNJtSlq7+4qPH70Ug+GgdEk5K3y+SQs7QTN3tCUKnndZZnZGjtLGwYD2JzXkPotaPtzEZUCvfc3gG6B5JtjAu0dbh0vDRg8wteBIf4zo46AuWTybLEUdkgmgC+dy4gYqdhjMB8yl8Ujoe+vjivrgYXCPVCsy4GJYmjrgtJx3af/UtpnrjiAGwcnaY1Rzj28Xw3bWVONsScVMB1i8Op6tR+pqBX2sg4aPXQwbRWm7AY3sUY914KPTNMrDy6my6GBmOybyAbOfwWBbfYstaqU0+SrrTqg6XCcsYncrUXrLSUEjh4r5e99NTCVtHyPS9ALEepcVscqS5CmpWgVkoVZMsaLd4gvt2sqYL++zNgY7Z6DTw3pp8c3mPvEB4vGIltelynxz2U3AclsO6Lk3i3nYyjZ+js5Zl27n2ZwZs25jFTYqBhQEa4cJTYNhNG1GNSkSpeBriAmuttNdTbF4Y7w7uy7FfCnUKkr7+4xFJhg4yi1b7qlyViy+OG83FnL73CBsFehsVUcLS8k0r4e90jsVzTRYY1idvSlet+8G343mXT/v9sT4OOukI551q5sFlen4SM+j/MzCwNKT8jy5TWiXj1Ue4vU+g5fu40T5zVnamtrOsmanbA26HHQsHnqdZ3ASpC9JelUvzD92LQuq4bCm+85UY/1l1nLgDa4Leq8ijcfNPTWrsrtDNLsVNmMGXvrKY9rKSbdfnNhKG7ompMGhR4/XTddOEjNJ0JkdW3R7cC+8ow3PSbn13ZTep3fG53Um9JVD49cE7nYFm4wWoh7ho9+ixBvdmaMZhVX7aV7ijTnbs91q0fOLXtvLSW+i6nx8bOdNZQz2NnWVKmfxMGqcqnfytnSqqBO+7jjDrKp65b111mYdtnbcjqlE9/uWhuMoZJvtxHGaTmeft6YnMeb6FRuI/ozQnBb8NuLBIjpZCFxpTU9NXrPlJLibIPfF+Caqas237VNmIcfTUxI5elrgOt066LQen8iC7BibwLWTwfz2aJHNQLTH4FS3G+hOh6J817xbPCbdoQPuZIjopCENi4qFGL9u6dij69LTecdZdi004gNAH2bW4+tFe2je3WJ1JKtunbB5s4+zCl4Lj2ZVh/Ho0MkcUOg2wclca2zcOzkZSkjb1Sctpc8WYDbJoOvdA7rKvQXz/GFmwlYWTQheepBNH7DIkKgClQa3jhgvWNtsdLqdAnotew/WaXFqwXOaBnScATE+Bw/HAvNsVdMUija2tccehsZc/Hu6XS/4vLf3TIiGZRdnNXDtMuSaxYlxv1BzIcaPrn3tN0DByZFGS6XkrpdOElEfTUk1eF8yf3kpTdDrkxOx1fOWO6Eam1W0Gtr0GmwyZsSdDKNw6rTobbI0+Kh9Nhw17aY9upp5FluPFS+BXl+MNyYIU9b1exML3orwQo+HdMhGbfGTsh9SQie9NOHrNQJNfbraJ33b2i/Z8KGJ8cNsn6bEYv6ar1uPzKw61nxN42jTYcOWtk6gcZjP8YPsMuYElzIDWkfUZ9kijt26jWuh5ifqiR7CdcbNoYd8pKzPW6oWPc5MAw6zux/Ge6omucm7U6PXIH2yMOhx1o3ZHEdCu7Z7tUuZIfSH7sJKk8aguUcej0PbvqmPxEdzch6QXnHv8tU8nmIw6Os1th7gxILjcGjW7syb0k5rtGMxTzuNfrmI8TXdAchdp29bjec6EzHepxO2s7TQqnvZIye8czD5trs5Joi1RoTcy8Lh/rTFktLuTeZ0ZHQNvg7DrXj+47InlMtoxnad+JiIZtMCRDmuH2zdH+tONUW3nJzPRzH/w93RQr1escZ2vCN2ipaqVV3cU0Az59ywdTExE7y9gTldVXDCxVwm5pfEPxN6qYdntojsboO8xg7oJR3GfJGdRX+z7cGaZrzDuSnMKEtplrZBz1v7zndmwnF+VXhByDDr8+W8nDlgs9gjejie+jxZbgaZmFzHd/q7PprbAx05lYrDCT0YdMefYYwbZZyvEdXjKOeO54v5EA5Dj3odFYjxj898tNmRAdGznBTw1Fv6perhgnbv0OUh14eJsAeAi1edLWF9tA4dxVeziCT84rFd0J04iokIwpez4nOz2wAHdNZZrlmzArDIHY4dRatPLuktiopve+tFgzLV7NKgVlbcmCuaX23u+pqiznzOXFVLMHj0ohqTYVXwuN5UVrNrVJtuxe1s2648kz+KjRgPK24zq7+6+CU00xN1hmK+j6Oz5Sj0sPCIyXojdo+DyqybbKYSlM47PH+0kNAX/bigjdJX2GLLOo1yFvYlSVfhkM+1XdWge2+r48qOIHPRXdw/3Qv9tN2dCfu3nYj+trYPLdqjE/H3Ux4mqH1lgX7sWIh31nOh39yiNhD2Q1Cz8aKJsnL1mK3pGs7WReuqLU2w3qZzwism/n4Q9iPsIF3oz6XqsGWC86zc9jZ3ujkMT8y95pYJpzvRvpwBSnhvpN4a5c6iJTHWCWfB2qsS5dza263LcEJ4f9mJxHgaGR61DrPUhomvm7m2zpc0gB2bjfFF6M8zcAI0344KtlhEkY8uG62mE27bhQ5gnjSql9vU9IZX3qmMMAP7/dQja/vYZfHyMMzggkzu9DQ4BKyfJFrWtKrKpYnbv3CvL0bp5/h5onYziZkL+64P/BgbZD2+bdjWGLfNYnQed0UTJ5nQT4yTCfHu5pFjet3wznByzEA23NikJ4ZYNoqKwEFu9zYg8yzb885ZbeHaX2pbCrdE5UF43Cfl6Nhe6rDTytnqMnjgKlrsRP2ogc3tWcsw1Vr0SqwMii538nuWweJR7ClPxhp3j6nqc6XALbKEZcWNJCiaZrmrJ3R4cywWNE0u9LV5FlFUqhpbnP2Bj0qbCd0YbI9slYe10A/pZk2P06Uw245P57LOw6zpZjsT1vnlujdRsTJUovaOvrC3BsdMCSbxnfRWQC3QSN8mIJoNdLKYCXt/sZ02TTWl4E5brbZrqxve+IoxHnVpU+/bzPGri/mwDv29eH/tmNsmPZqgxec6na7rEfMHwwBXTXfs0qjvqnzjC1uijPftEZ2dgM+34+ndh1FnZFBtPVeZU+Zxo+DJXG1dqGvyiTcysxIn2xY1lG3M1tS0napiR0An1DrxwNdSYd93/Sm1GU7YalZpDmzuJH/Gjh6yTXdvJsX4sixJcdNdUT9Rq2n6s7Own1C7zVY9PU2Uab4vyXVr+cw3dqalGtMLooZOImFvr84J1LajEYnXKOfres4dGJnDFo1hJ+CT1fyE4a5zuAh9erRgiwtYZvm1UxOSF2jKtt6xb8F+wDy6WeGY7aYVM2sxUAXk4dO1GH/J3q99RTUID+9Xu+VXw0xRVTgiy+2pYNG+I+znfu+R0sLPMO/2ihpXPfZY0862HvN5uD9kyBLKOJnrV1SgIkVJowMvIv5qwfi2v8obYbxPhT39qCK+LcnUAsd70KLttRjv15wVSZpGj4DMHqjNx5d+xwSiGRf0PLz2mLOLxfh4KztLOis2YgopWc/Rqp3Rpd7j4fHVrDz6MLFvwt5r5QZ3xwHGaBIAm94vwOM75fwQ+gA53SmPrSGfONeuD9sTi1Ba3lO+6Ai9EdwT3KKHEbsyoyJtp7k09pSsOkvPpufdoIEbfRxRk0aY7RQ3z5ToPBXt57bvsnRZtP2yt+ovaaIuXb7u71YY8e6m1LOZ/nQQvh4lVbD3C+rkYZ8tizzF1ZJ7Qj/jh5xt7W0vU4Z73SU4t1Z8SUvdyZk6X1K9HU3ZYnopTOAWiws1KtcX9rx3Sqo63V/o2m1BUT/7E0bJcDugnas7Ye4NZQlca7AmQbS4CfsVRlbdroI7uVqbLZtr2tyHBzO9kNF6HAj9jO6sJrjGNY1mU4txVTcsoKFbQa3erhH9ad8X9vklPJEbG4yZe9geMujHtk5UIPpvVOHYhzw45HRWkjGzK3NsQnDFF1oBPuVWq9k3Fc+nW7oddC9sfSjnZqMtThNiOo893yFwax5dvF6TaCjsA+MwW2HFKnNAB4Eoz2qfc6zwCVTpsWp0xpxZ328SLbbxUDMrtruMlj4X3apHZl3twSdtdMely62I9qlbsmB/X/mK2+5M6HLrJWyg1ccEjrN8QiMtvTJ3k9wcgGdKTW/GZMh3A89MtLU9OlJvtRtz8UZUp/SsVOhTjr0T/QHOLLS2tIgWpVrx8d71RX+fDWrqz42CBYur4oDk4FzIrpu3GFOaBS5TZ1vSziTXWGc12TtoRbcpGV+TzE7T2dhX+IVO9bKZGmyehET0JzXU6cR2xfs3vL5fJsNLQQ/TTpcPDql4H/ZjvCfRNvZYuJttsLCM0YkO9uHQruNETWDRTwa0vtUPbnrz2slY8ViS/G6ZfDSBhQVR5i5xP5gORP3HAx92zbVBXMtZsOk9B0Kf3DcRbYNaEfYmD01laYsRbQyKivmb4uw87nevwGN2X/JOEnNc5R02peN1avEtH4r3qU3Kgo6mfZ91+/dLgpQRGIj+72/YsOj2HEU52yUFKdiz0L+1s7rR9kdsXcMtj/dnS9jpQRXRVXYfsvlsKfQltaJi/r9EMfNHbRUftEDoWyeCL6zP410GPdu1aZlwkweECH0PbkJCVv58w9bmDTZwufOe64UtwMLBDSVo4Z/vBM4nQp+1rE6CppXQ/6c9I+Gbs2U3yjKbzek5fzp/XUx7WXO7LWy6PysTvoP7PoYOfwh7mS7v3OsxxUFbSIVB590nRRTdDAcNz8cRjfYTysIWOWfKeQJKWrFuj4V2XCdK7PVt0oBTwmP3uEnAzNVzMvB6z+BKo8ypQvW0pbmljnn31k6c8l4ULjktfMbitLGFfYKYmH2SQ80X4XTtK7tFMCVJu2Ow5XpzdcrgvJvTOlpZxXGNXQyAZ5/onoYTtvHEeF2dnE1K+6cR4TO1ts2GHdoToi80j8Vudk7qrjMZUTvUe0LfZKL/qMoZ0WpxdrnrtrYJerj3OT3xQ4/v0h4W9n1xHVHi6tRWxtuH09xSe4t1b70U7XcNTaV+pBc6IgOhH2Iu+sussWrKeLHhdku/JsggfULGo8Va6ANlmiCaDpYkPScn5i3h2S+ButdpN2oRtojXpVmXwpSng2JpcUfJzQbyhXoiWp2a/KYZpEFT0hyp2dxC1r+Gh4S3JqOApDG1+cKqOz7aabslHWDqiPY/hpbiztYqPaGLwt0r3fuglZp3qt8ip6iqoxh/rHavS0aDyZb5Z3ZwQGmRKRVD25h1QKkk9Vmd91qrzg7ySWYbGDunZUQ3zQPxzelmJvDUXQdY7axV1ls7RoMbVRtQA949PlfUuZWPvXWXFhdzzre3h9CXTnOyJ6PzusdspcEZuk0md805WSM+pdezifLb6UIf5Vrl7kBZOPlVH4zIfL3esDAzJ6Z4kDSlzWVk8hXEZ6sm6hGQnjAaWNpYLax4l66oz4u+Zds7HlloORbjY7YzxLzEz8QHMEuEveWHWxaf5pNM6PtFlzpFc+L2YZk28KaOe3h1o2L+mZcm1iYoT4nfz5dsJuzbBkFjPqBH1Z3y+S0W/X89v0xo0DmNeYHxsQHZdRNQ9HjcuFseQgfMqzEg5Rbc2QagOsnvZz2nI609Zdb1uDWV4XqWkvJEIPPLveaj3EmWVNnMGj7Wx1oCB/FoQPHZoYx5p5OlDMb9Kd1OzxvuZ8uogdOipdMwSDc8DExRvcXc61LbEcPWMpmss9uqwFty1fGdLfXNwYSH7mNLWcRbPGzfZgkaPNej6uF9yxZBNktgT1Mvz2BgkM3/Yruy5SUvef3OEw3/jawPecnrr3d95GTQCwc5EPwOBzkQfOSIEPg9/nE+eeLom7nHgSrUNYoAgFQYyZj813mjD/zpU8ePhCwgig50rIv/qK6/9nvz8kTSB5KVB5T+xgeUfpdfHPBOPtItzufu31Ygwr5GfRDHauhrvg6RriIf6Yj6WgDlOagfaev4X9sjznPGELOEGGGfzleeT65iVcwbPz+PMwCIVZUi+MYbyes/K2IYpmIc/Y9rkjcJUOUp9rxHB5oqKvK/vZ+IXwkgmKjojQhGBCr62zzEZIXJc0p5ncfzF0Qx1cX7epGHCgkVabwphZi0FPqcTl7koUBCkE5ei4g5EFOgKG9LLR5L3PNfeSgKxpqYJP7j3uV1skQ825vngE9vLESHH/Fk8xTXVJEDfvtMSNe1X59JVZGuaei/6k1XENJE0i/yUwBFKqJvJDDQERaN7J08oKYSrL4R0cTTvZ4tX9ezKK3I9b+fSUyoIpGX9fasX1X/pZBI1AREL/OAUNVE1f6SrHj/ryfO13WgavD1hP5rHqr6bB/0ZR5QJ4p4H28kCNHFqyF/kgcaneh6ILQCoMWaGoQh8WiMSISVpyMkXQ9/2LMwYvr9mnOdUJ58kSdf5MmXr/M/87Urx9/YR8YX2b/SQ4Y0QP8YA1Qahr/bnV6sYQBBECoIq8BXfU9HWqzHVCg2PtCCDyoz72sbv6oVn+v34D1V7UPP9MVWbuRhDQDfEyqZ6iPVwx6hvh5Foh8RD0df/DDgl1Ier9+qjBCEge5B1QsRVKNI8UAsdH6hQapaFGPg/bDao4K+SntUkNQepfYotcfvz3vhH7nX4dtqs29K9IFoB0hqs1Kb/dO0WTFTvowzgKQ2+5nu3mJVj4NQ19VQVQMdEy8gUIG60AYp9VVdfub4fvU66eztM2yq1/wJa+A01EIaRMh7emGPFd2jPkKeCogShYFG0I9rxYhJ8+fnppFnzX6Fj0NCpDkjzRlpzkhn7BKJ5BvzlUsOxlfFa/ztbeDfTdofXFpRftkyi55x6ZSff3qzi/bN/4HXewF/c+FFeX/hRfn4wgv6RJhJ9H5qSJTvI98kX5u+n9jQq3xkBejlvR9ZPvrYvXKpSC4V/UFLRe+sFP0h227/gEzQ+59w3/mC+w0yUd7P5J1cEJQra59n8HuhosQ0DgNKFRUKwz+MQIAVzw9UgL3oL2Dw/0Aran/2GsNfe7/wP//5DVbVvs7t+nup/OtfP/+fX3+UBfxdBXyW8NdNwbIO5UuWdfi9vuQ/Z+O9r+gAAp/4ACmqBkNPjSNKYxz5RIOqov2wHx109as+semq/NYgvzXIbw3yW8PfINDoNz7gIIr6wUU9XZVbwuQ63593wl59uXAlmp9cuPospVGNKFICjKIQQDXWkBfHuhJCVfeDABCqyC1h36++KreEfV9J/TlmYohUAMQcHEAai95PRCf3xSzy9HgREqyFP/jetOfuYV39qoPa5N+qPG4jbUZpM0qbUSKRSCQSiUQikUgkEolEIpFIJBKJRCKRSCQSiUQikUgkEolEIpFI/uZ81VlZ44v9+xlf7k/wM9P6KP/L5fru0vpoRcr6+rK0Pt4kZX3Jvi37tuzbsq3Kvi37tuzbX5nWp/1jQ/qrf+yn45E3Xmiw+tt+aD7s0/pjHrKh8r/q1br+Mj/fH/OmA6n0kS1950gf2Z/wka2/471a/0OcZNOXuWiadDX0meGHKYC6HoeIeKqqqIoXUxxGUQR8nUAUq9JH9nfu6+R78pP96tU7rnf+47f1W8s9//THpf6bch/3jSuf/2/x/L/hX1q2APn8sgfIFiCf/0fvAX+S+3k18mKAQwXTWPUjnwQwpiEOUaCpXgjwD+tXEGn6V/nzFPdLZ4LSmaB0JiidCUr+NvxVAgJ8VuDUv1bQATFhfuxrD5VhB+Snkz8v7MA73wIgwfJjwGd+DNDjEPoB0MJIVT3Pp8gnIPJjSDXFBwqWcQe+Z0NFRh6QScmkZFJ/56T+nFW3CCM/DDTsBXqoIj30PQ3qnoqFQvaM/fjjrrop8LXWqulfM6MRgP5NoFx+k8tvcvlNLr9JJBKJRCKRSCQSiUQikUgkEolEIpFIJBKJRCKRSCQSiUQikUgkEolEIpFIJBKJRCKRSCQSiUQikUgkEolEIpFIJBKJRCKR/D6+TZgJ4wvCPUhZKStlpayUlbJSVspK2R9O9kuQdSZlpayUlbJSVspKWSkrZd+5PhgeFj4jav7805s4sYrym4Fi4fuBYuFvBIoVqb0fJ/aTcWefIac+EngWvgk8K8PMyjCz3z7MrPZOmFkF4E/Hmf35p09lBN/LCOovM0IqkPFsPy8OnxcFaqQofhBGigo031cQDKHmqQrUwjiKZTzbHyIE4F86sO2LyLavXr0ITPmvXyNTfkup5x/+iHR/U+rPCayJcSD6LdW1SI/UMEbEVwNFTFtBTCIaxsEPG1gTgq8KEg2BjKYpo2nKaJpfFU3zH//4ul0bb+5/z6J6GlLwN+2oDxs+EHzE7AEfMKOkHSTtoD/GDoLgpXkCpXXy+cqMD30UegAilXqEeNRHAYhiDBUSU/2Dysz72savasX//efnhUN/T1X70DN96cOE1PMiDBBVfaJGkUIDLQD608wSTwQB+WE1M2HpPAegr9HO0L81XSpoUkGTCpoMdy6RSCQSiUQikUgkEolEIpFIJBKJRCKRSH4MvnaDmbzkJa+/xPUCWR/yktdf7/rIhuwXR1xfb2f90iOuX7Q1+5MbvT96YBYq8oCr3Nj9R23s1t854ArJH3S+VW4g/517rgOgejTGNPZiX8Wa5kPqaZ6KY1WJFBho8njrd7/dWx5t/bscbaWq78cEQ9/HUNUgEB07goGPAp9gLdD8H/YAhYK+6mirguTJCXlyQp6c+P5OTvyRq53f9qjtmxJ9wGMRkkdtpUX2p1lkYqZ86XIISUvp85QrDQVxrGHRQsJIBV7sIdG6fB34JA6oQgNpKX2/et1f2kT6vBPZv3n9YqP8/iTEuPeaP8VBD9Q9qmmIxpqqqMgLQzVCQNMJjGAUwB/XihGT5s/PZeNnzX7F2gAh0pyR5ow0Z+RBcIlE8o35yiUH46t8Lv/2RpDvJu0PLq0ov3w0R08XtcrPP735jv7m/8Drz4m/ufCivL/wonx84QV9wlU0ej81JMr3kc/or03fT3zSVz6yAvTy3o8sH33sXrlUJJeK/qClondWiv6QL/d/QCbo/e0B7+wO+AaZKO9n8k4uCMqVtc/0+4b8MNY9AD2kqQSENI5U0TE1EmAvVP4KHnl/oBW1P3uN4a+9++Cf//wGq2pftbD2fir/+tfP/+fXH2UBf1cBnyX8dWOGrEP5kmUdfq8v+c/ZOhVgQikJEFU1VcU0oD5RNNX3PFUFBIPoh/3ooKtf9YlNV+W3BvmtQX5rkN8a/gaHWr9x9AVR1A8u6umq3BIm1/n+vEM66suFK9H85MLV5y1caTECUQiJAlQ1QrGneVQ0QwK0UA01AOWWsO9XX5Vbwr6vpP4cMzFS4iDWoxj62Fc1qBGihl4QhxoNFU3z/R98b9pz97CuflUUOfJvVR63kTajtBmlzSiRSCQSiUQikUgkEolEIpFIJBKJRCKRSCQSiUQikUgkEolEIpFIJH9zvuqsrPHF/v2ML/cn+JlpfZT/5XJ9d2l9tCJlfX1ZWh9vkrK+ZN+WfVv2bdlWZd+WfVv27a9M69P+sSH91T/20/HIGy80WP1tPzQf9mn9MQ/ZUPlf9Wpdf5mf749504EywLX0nSN9ZH/KR7b+jvdq/Q9xkv1OPHBNk66GPs/xCAFxFMSqAjAFKgCIEugjPaIUAwoBxNJH9nfu6+R78pP90RjYnxsr+/Pl/jta97dP/RMxuz/mG1c+/9/i+X/Dv7RsAfL5ZQ+QLUA+/4/eA/4cv4JI87FGkeIHuq/GAHheoPgq8AlEOBBm9w/rVxBp+lf58xT3S2eC0pmgdCYonQlK/jb8VQICfFbg1L9W0AExYX7saw+VYQfkp5M/L+zAO98CIMHyY8DnWQsK9IFo3XoUakiNNeh7oR7qhKgQegCGgYw78D0bKjLygExKJiWT+jsn9eesumHqEeRrXuD5oYo0oWORIPAAIFGAxAyr/rjRPOBrrVXTv2ZGIwD9m0C5/CaX3+Tym1x+k0gkEolEIpFIJBKJRCKRSCQSiUQikUgkEolEIpFIJBKJRCKRSCQSiUQikUgkEolEIpFIJBKJRCKRSCQSiUQikUgkEolEIvl9fJswE8YXhHuQslJWykpZKStlpayUlbI/nOyXIOtMykpZKStlpayUlbJSVsq+c30wPCx8RtT8+ac3cWIV5TcDxcL3A8XC3wgUK1J7P07sJ+POPkNOfSTwLHwTeFaGmZVhZr99mFntnTCzCsCfjjP780+fygi+lxHUX2aEVCDj2X5eHL4IR75Gsaeg0FNJDD2P6qoWhrFGKI0JlPFsf4gQgH/pwLYvItu+evUiMOW/fo1M+S2lnn/4I9L9Tak/J7BmqHg+0UisKFBVNUCpTqNYp6rig4AgP/phA2tC8FVBoiGQ0TRlNE0ZTfOromn+4x9ft2vjzf3vWVRPQwr+ph31YcMHgo+YPeADZpS0g6Qd9MfYQRC8NE+gtE4+U5lBGoxJpCIahUgNvcgLUBjqIMKKR2kY0Q8qM+9rG7+qFf/3n58XDv09Ve1Dz/SlD+OBMHgW2tMwVoEfeTDUNEXzAx+okR+BH1YzE5bOcwD6Gu0M/VvTpYImFTSpoMlw5xKJRCKRSCQSiUQikUgkEolEIpFIJBKJ5MfgazeYyUte8vpLXC+Q9SEvef31ro9syH5xxPX1dtYvPeL6RVuzP7nR+6MHZqEiD7jKjd1/1MZu/Z0DrpD8Qedb5Qby37nnWg1jn1DkIwh9NYChD0IcRGpEEQphRBR5vPW73+4tj7Z+10dbv3q7uxgj99FjFD63tP/zPzu0UYQgVXXN02KoaiokhAJdJSoMcaSGevhar/lFONAhCj3P1yJEVA2FPsIq8bwQY1ULsQJfCGNdiYBCsY+hqiI1JMjT1NCPYwK1OAbaC2GiB2LQwSEWJVAJVSlVCAkiqFNIqAL9l8IaFWOUhiFRqBqK6Z1SP8JRIGZsT/di5YWwFiANBFBX/BCooUp9jcRaFMQ0VEJRHPWFMNIJigEVJUGeGquAakoIA3GfrqkkpC8fUNMCxQeRhwLqiwEUEuQHuhd5YiwNKIpeCoPXecaB7keRqkaiEkIAFc2LxT91HaEXwl6gqQAryNPFuxAF8ABFSqwGVEdxTJWXtRERobqEGgGYEpWC2BMVgRHCIcV6gGPvhbCoB6ipeoyheIM0EilCBYkK1mLih14cv/O6fV38XSO+56sKDklIVCzK6/uxJyr+ZcqR7ytQtCEqak7VPUojTBUlDKmPgMgxeimsQIR9TVR0HIuXoPmiYemqmH90JF5Q8LLqdKLrgVCzgBZrahCGxKMxIhFWKMJYf6eJwljDAIIgVNDz9JDqezrSYj2m4kYfaMHLYkQe1gDwPZGk6iPVwx6hvh6JPoGIh1+WGYJQvF6oeiGCahQpHogVoouiqFoUY/CyNoJYVHIQ6uL1qWqgY+IFBCqiOau+aKyq/kKYhlpIgwh5z5cSK6LyfCRqERAlCgONvNM2/v9Crq61rRiG/pXQvXQUgvxt0z2t3WC/YA+jDEuW20K3QJo+jLH/vuM2SfFdR56aey3LtnSOZBV0m3MAUhNQxBtMakqSXGUBZKrOwuwijMGZyTofTAOotZSelHMw3s0cHOneSbIKZPoeLOAQAX8fWYTAwkm4WU+EWkFM6ZiIsOEYt93hx5ZTmJ2ihUyMvcGo3jvvai+pqSpxzMb2mYPstXaEApegmbFTMSBrahakqI3SrBlaDQuFBlYhMuEOk0m5GzCXyS2Ek2UYNFWJzWOfXIOJ1SM+jY94pFkYNPLqHEtT5ykA3dY0E6oHWVrXmSkpCd6VGDQiagKduEU51AjSs5bWZSnMhhFIyVhfas7D30IAkXG5lxkbrdSqiSyAkwfqigSBlbEFzDCUZ9SRBzdgt9rZpxDYlIodp+4dGCezu8vgcU6GR4AOhgYsjGAnDP9JmINMwFH6iLgRhqbaq0WZwxHQ6lKwqcUBYdYSgi0grPOAaPOKKABnq9EFuxt80iNsUS1iLLXS1aOYClkSoL4wnSR4KgusEbxPBYE3uwCOA1aUE82EbaFb0oYsQYi4tsMUAHjMAItvgcwiInXpUbvhxLBGyBkBTnoLyBMw5CIBUUc09w4hl0ADWzL8GcGsRMWQmYFkA6eAhZEc2HeiWpE2EJqA/ISURZMwUh2okqK2YMFBwxU5OGIzxsBEbWFngMdyqFIZeA4oHLMgV1BGBoAavwD/iS/YTKY79XWM+YAnuk8nWp3q7pwi0qmy5OZy36u3ke1ms3uzW+/QUDduUHuhvfiihe5sfbxkfR/DZ/9MvXpA+TQW2T+vZbx4Xmb8X2N02x1GtoqCS/Tr/e7ufJp+VNq39fbHSwci9vM0fq4FN7adXu8fP+8lxhkO0mvc81DdXo3r81HxGN9sV+cPulvdQx9d4s+H1yvf+kF/3u7u8Pbi4v3q92rIvQxC+KgZj58edPz8+OsLlB9mf7u/wQJjzuPmaSt6jbryvzZ8N+rKs9XFajH95XEyy1Hbut9vHw9rP58ME15HX7sX/8yeeNPIp5oV/wKHom2o</script> <treescope-run-here><script type=\"application/octet-stream\"> const root = ( Array.from(document.getElementsByClassName( \"treescope_out_7a693fbb78b5451087129db052f8f47e\")) .filter((elt) => !elt.dataset['step1']) )[0]; root.dataset['step1'] = 1; root.defns.insertContent( this.parentNode.querySelector('script[type=\"application/octet-stream\"]'), true ); this.parentNode.remove(); </script></treescope-run-here> </div>"
            ]
          },
          "metadata": {}
        }
      ]
    },
    {
      "cell_type": "code",
      "source": [
        "def loss_fn(model: CNN, batch):\n",
        "  logits = model(batch['image'])  # Pasa las imágenes por el modelo para obtener las predicciones (logits)\n",
        "  loss = optax.softmax_cross_entropy_with_integer_labels(  # Calcula la pérdida (cross-entropy)\n",
        "    logits=logits, labels=batch['label']  # Usa las etiquetas reales y las predicciones\n",
        "  ).mean()  # Toma el promedio sobre el batch\n",
        "  return loss, logits  # Devuelve la pérdida y los logits (útil para métricas)\n",
        "\n",
        "@nnx.jit  # Compila la función para que sea más rápida (jit = just-in-time compilation)\n",
        "def train_step(model: CNN, optimizer: nnx.Optimizer, metrics: nnx.MultiMetric, batch):\n",
        "  #Entrena por un solo paso\n",
        "  print(type(batch['image']))  # Imprime el tipo de datos de la imagen (útil para depuración)\n",
        "  # Calcula la pérdida y el gradiente; también devuelve un valor auxiliar (loss y logits)\n",
        "  grad_fn = nnx.value_and_grad(loss_fn, has_aux=True)\n",
        "  (loss, logits), grads = grad_fn(model, batch)\n",
        "  print(grads)  # Muestra los gradientes calculados (útil para inspección)\n",
        "\n",
        "  # Actualiza las métricas con los valores actuales\n",
        "  metrics.update(loss=loss, logits=logits, labels=batch['label'])\n",
        "  optimizer.update(grads)  # In-place updates.\n",
        "\n",
        "@nnx.jit\n",
        "def eval_step(model: CNN, metrics: nnx.MultiMetric, batch):\n",
        "  loss, logits = loss_fn(model, batch)  # Calcula la pérdida y los logits\n",
        "  metrics.update(loss=loss, logits=logits, labels=batch['label'])  # Actualiza métricas sin actualizar pesos"
      ],
      "metadata": {
        "id": "PfphTY6Ym7yb"
      },
      "execution_count": null,
      "outputs": []
    },
    {
      "cell_type": "code",
      "source": [
        "def loss_with_aux(x):\n",
        "    return x**2, x  # Retorna el resultado + un valor auxiliar\n",
        "\n",
        "grad_fn = nnx.value_and_grad(loss_with_aux, has_aux=True)\n",
        "grad_value, aux_value = grad_fn(3.0)  # La derivada y el auxiliar\n",
        "\n",
        "print(\"Gradiente:\", grad_value)  # Devuelve la derivada (2x = 6)\n",
        "print(\"Auxiliar:\", aux_value)  # Devuelve el valor auxiliar (3.0)\n"
      ],
      "metadata": {
        "id": "-leU-PMWjyNz",
        "colab": {
          "base_uri": "https://localhost:8080/"
        },
        "outputId": "a9e34517-6802-4a2a-a149-1b2c849e6feb"
      },
      "execution_count": null,
      "outputs": [
        {
          "output_type": "stream",
          "name": "stdout",
          "text": [
            "Gradiente: (Array(9., dtype=float32, weak_type=True), 3.0)\n",
            "Auxiliar: 6.0\n"
          ]
        }
      ]
    },
    {
      "cell_type": "code",
      "source": [
        "\n",
        "from IPython.display import clear_output\n",
        "import matplotlib.pyplot as plt\n",
        "\n",
        "metrics_history = {\n",
        "    'train_loss': [],  # Lista para almacenar las pérdidas en entrenamiento\n",
        "    'train_accuracy': [],  # Lista para almacenar las precisiones en entrenamiento\n",
        "    'test_loss': [],  # Lista para almacenar las pérdidas en validación/test\n",
        "    'test_accuracy': []  # Lista para almacenar las precisiones en validación/test\n",
        "}\n",
        "\n",
        "\n",
        "for step, batch in enumerate(train_ds.as_numpy_iterator()):  # Itera sobre los batches del dataset de entrenamiento\n",
        "  # Ejecuta un paso de entrenamiento: actualiza pesos, optimizador y métricas\n",
        "  train_step(model, optimizer, metrics, batch)\n",
        "\n",
        "  if step > 0 and (step % eval_every == 0 or step == train_steps - 1):  # Se evalúa cada 'eval_every' pasos o al final\n",
        "    for metric, value in metrics.compute().items():  ## Calcula métricas (loss, accuracy, etc.)\n",
        "      metrics_history[f'train_{metric}'].append(value)   # Guarda el valor en el historial\n",
        "    metrics.reset()  # Reinicia métricas antes de procesar el conjunto de prueba\n",
        "\n",
        "    for test_batch in test_ds.as_numpy_iterator():  # Recorre los batches del conjunto de prueba\n",
        "      eval_step(model, metrics, test_batch)  # Evalúa el modelo sin modificar pesos\n",
        "\n",
        "\n",
        "    for metric, value in metrics.compute().items():\n",
        "      metrics_history[f'test_{metric}'].append(value)  # Guarda la métrica de test\n",
        "    metrics.reset()  # Reinicia métricas para el proximo ciclo\n",
        "\n",
        "    clear_output(wait=True)# Limpia la salida anterior para una gráfica limpia en notebooks\n",
        "\n",
        "    fig, (ax1, ax2) = plt.subplots(1, 2, figsize=(15, 5))\n",
        "    ax1.set_title('Loss')\n",
        "    ax2.set_title('Accuracy')\n",
        "    for dataset in ('train', 'test'):  # Para cada conjunto (entrenamiento y prueba)\n",
        "      ax1.plot(metrics_history[f'{dataset}_loss'], label=f'{dataset}_loss')  # Gráfica de pérdidas\n",
        "      ax2.plot(metrics_history[f'{dataset}_accuracy'], label=f'{dataset}_accuracy')  # Gráfica de precisión\n",
        "    ax1.legend()\n",
        "    ax2.legend()\n",
        "    plt.show()"
      ],
      "metadata": {
        "id": "TsVS66urnGm_",
        "colab": {
          "base_uri": "https://localhost:8080/"
        },
        "outputId": "7d703fd8-41df-4075-88ff-bdc2eb8e95ca"
      },
      "execution_count": null,
      "outputs": [
        {
          "output_type": "stream",
          "name": "stdout",
          "text": [
            "<class 'jax._src.interpreters.partial_eval.DynamicJaxprTracer'>\n",
            "\u001b[38;2;79;201;177mState\u001b[0m\u001b[38;2;255;213;3m({\u001b[0m\u001b[38;2;105;105;105m\u001b[0m\n",
            "  \u001b[38;2;156;220;254m'conv1'\u001b[0m\u001b[38;2;212;212;212m: \u001b[0m\u001b[38;2;255;213;3m{\u001b[0m\u001b[38;2;105;105;105m\u001b[0m\n",
            "    \u001b[38;2;156;220;254m'bias'\u001b[0m\u001b[38;2;212;212;212m: \u001b[0m\u001b[38;2;79;201;177mVariableState\u001b[0m\u001b[38;2;255;213;3m(\u001b[0m\u001b[38;2;105;105;105m # 32 (128 B)\u001b[0m\n",
            "      \u001b[38;2;156;220;254mtype\u001b[0m\u001b[38;2;212;212;212m=\u001b[0m\u001b[38;2;79;201;177mParam\u001b[0m,\n",
            "      \u001b[38;2;156;220;254mvalue\u001b[0m\u001b[38;2;212;212;212m=\u001b[0mTraced<ShapedArray(float32[32])>with<DynamicJaxprTrace>\n",
            "    \u001b[38;2;255;213;3m)\u001b[0m,\n",
            "    \u001b[38;2;156;220;254m'kernel'\u001b[0m\u001b[38;2;212;212;212m: \u001b[0m\u001b[38;2;79;201;177mVariableState\u001b[0m\u001b[38;2;255;213;3m(\u001b[0m\u001b[38;2;105;105;105m # 288 (1.2 KB)\u001b[0m\n",
            "      \u001b[38;2;156;220;254mtype\u001b[0m\u001b[38;2;212;212;212m=\u001b[0m\u001b[38;2;79;201;177mParam\u001b[0m,\n",
            "      \u001b[38;2;156;220;254mvalue\u001b[0m\u001b[38;2;212;212;212m=\u001b[0mTraced<ShapedArray(float32[3,3,1,32])>with<DynamicJaxprTrace>\n",
            "    \u001b[38;2;255;213;3m)\u001b[0m\n",
            "  \u001b[38;2;255;213;3m}\u001b[0m,\n",
            "  \u001b[38;2;156;220;254m'conv2'\u001b[0m\u001b[38;2;212;212;212m: \u001b[0m\u001b[38;2;255;213;3m{\u001b[0m\u001b[38;2;105;105;105m\u001b[0m\n",
            "    \u001b[38;2;156;220;254m'bias'\u001b[0m\u001b[38;2;212;212;212m: \u001b[0m\u001b[38;2;79;201;177mVariableState\u001b[0m\u001b[38;2;255;213;3m(\u001b[0m\u001b[38;2;105;105;105m # 64 (256 B)\u001b[0m\n",
            "      \u001b[38;2;156;220;254mtype\u001b[0m\u001b[38;2;212;212;212m=\u001b[0m\u001b[38;2;79;201;177mParam\u001b[0m,\n",
            "      \u001b[38;2;156;220;254mvalue\u001b[0m\u001b[38;2;212;212;212m=\u001b[0mTraced<ShapedArray(float32[64])>with<DynamicJaxprTrace>\n",
            "    \u001b[38;2;255;213;3m)\u001b[0m,\n",
            "    \u001b[38;2;156;220;254m'kernel'\u001b[0m\u001b[38;2;212;212;212m: \u001b[0m\u001b[38;2;79;201;177mVariableState\u001b[0m\u001b[38;2;255;213;3m(\u001b[0m\u001b[38;2;105;105;105m # 18,432 (73.7 KB)\u001b[0m\n",
            "      \u001b[38;2;156;220;254mtype\u001b[0m\u001b[38;2;212;212;212m=\u001b[0m\u001b[38;2;79;201;177mParam\u001b[0m,\n",
            "      \u001b[38;2;156;220;254mvalue\u001b[0m\u001b[38;2;212;212;212m=\u001b[0mTraced<ShapedArray(float32[3,3,32,64])>with<DynamicJaxprTrace>\n",
            "    \u001b[38;2;255;213;3m)\u001b[0m\n",
            "  \u001b[38;2;255;213;3m}\u001b[0m,\n",
            "  \u001b[38;2;156;220;254m'linear1'\u001b[0m\u001b[38;2;212;212;212m: \u001b[0m\u001b[38;2;255;213;3m{\u001b[0m\u001b[38;2;105;105;105m\u001b[0m\n",
            "    \u001b[38;2;156;220;254m'bias'\u001b[0m\u001b[38;2;212;212;212m: \u001b[0m\u001b[38;2;79;201;177mVariableState\u001b[0m\u001b[38;2;255;213;3m(\u001b[0m\u001b[38;2;105;105;105m # 256 (1.0 KB)\u001b[0m\n",
            "      \u001b[38;2;156;220;254mtype\u001b[0m\u001b[38;2;212;212;212m=\u001b[0m\u001b[38;2;79;201;177mParam\u001b[0m,\n",
            "      \u001b[38;2;156;220;254mvalue\u001b[0m\u001b[38;2;212;212;212m=\u001b[0mTraced<ShapedArray(float32[256])>with<DynamicJaxprTrace>\n",
            "    \u001b[38;2;255;213;3m)\u001b[0m,\n",
            "    \u001b[38;2;156;220;254m'kernel'\u001b[0m\u001b[38;2;212;212;212m: \u001b[0m\u001b[38;2;79;201;177mVariableState\u001b[0m\u001b[38;2;255;213;3m(\u001b[0m\u001b[38;2;105;105;105m # 802,816 (3.2 MB)\u001b[0m\n",
            "      \u001b[38;2;156;220;254mtype\u001b[0m\u001b[38;2;212;212;212m=\u001b[0m\u001b[38;2;79;201;177mParam\u001b[0m,\n",
            "      \u001b[38;2;156;220;254mvalue\u001b[0m\u001b[38;2;212;212;212m=\u001b[0mTraced<ShapedArray(float32[3136,256])>with<DynamicJaxprTrace>\n",
            "    \u001b[38;2;255;213;3m)\u001b[0m\n",
            "  \u001b[38;2;255;213;3m}\u001b[0m,\n",
            "  \u001b[38;2;156;220;254m'linear2'\u001b[0m\u001b[38;2;212;212;212m: \u001b[0m\u001b[38;2;255;213;3m{\u001b[0m\u001b[38;2;105;105;105m\u001b[0m\n",
            "    \u001b[38;2;156;220;254m'bias'\u001b[0m\u001b[38;2;212;212;212m: \u001b[0m\u001b[38;2;79;201;177mVariableState\u001b[0m\u001b[38;2;255;213;3m(\u001b[0m\u001b[38;2;105;105;105m # 10 (40 B)\u001b[0m\n",
            "      \u001b[38;2;156;220;254mtype\u001b[0m\u001b[38;2;212;212;212m=\u001b[0m\u001b[38;2;79;201;177mParam\u001b[0m,\n",
            "      \u001b[38;2;156;220;254mvalue\u001b[0m\u001b[38;2;212;212;212m=\u001b[0mTraced<ShapedArray(float32[10])>with<DynamicJaxprTrace>\n",
            "    \u001b[38;2;255;213;3m)\u001b[0m,\n",
            "    \u001b[38;2;156;220;254m'kernel'\u001b[0m\u001b[38;2;212;212;212m: \u001b[0m\u001b[38;2;79;201;177mVariableState\u001b[0m\u001b[38;2;255;213;3m(\u001b[0m\u001b[38;2;105;105;105m # 2,560 (10.2 KB)\u001b[0m\n",
            "      \u001b[38;2;156;220;254mtype\u001b[0m\u001b[38;2;212;212;212m=\u001b[0m\u001b[38;2;79;201;177mParam\u001b[0m,\n",
            "      \u001b[38;2;156;220;254mvalue\u001b[0m\u001b[38;2;212;212;212m=\u001b[0mTraced<ShapedArray(float32[256,10])>with<DynamicJaxprTrace>\n",
            "    \u001b[38;2;255;213;3m)\u001b[0m\n",
            "  \u001b[38;2;255;213;3m}\u001b[0m\n",
            "\u001b[38;2;255;213;3m})\u001b[0m\n"
          ]
        }
      ]
    },
    {
      "cell_type": "code",
      "source": [
        "model.eval()  # Cambia el modelo a modo evaluación (desactiva dropout, batchnorm, etc.)\n",
        "\n",
        "@nnx.jit\n",
        "def pred_step(model: CNN, batch):\n",
        "  logits = model(batch['image'])  # Calcula los logits a partir de las imágenes\n",
        "  return logits.argmax(axis=1)  # Devuelve las clases predichas (argmax sobre logits)"
      ],
      "metadata": {
        "id": "CYv4UQCXnZE6"
      },
      "execution_count": null,
      "outputs": []
    },
    {
      "cell_type": "code",
      "source": [
        "test_batch = test_ds.as_numpy_iterator().next()  # Obtiene un batch del conjunto de prueba\n",
        "pred = pred_step(model, test_batch)  # Obtiene las predicciones del modelo\n",
        "\n",
        "fig, axs = plt.subplots(5, 5, figsize=(12, 12))  # Crea una cuadrícula de 5x5 para visualizar 25 imágenes\n",
        "\n",
        "for i, ax in enumerate(axs.flatten()):  # Recorre cada subgráfico\n",
        "    ax.imshow(test_batch['image'][i, ..., 0], cmap='gray')  # Muestra la imagen en escala de grises\n",
        "    ax.set_title(f'Label={pred[i]}')  # Muestra la etiqueta predicha\n",
        "    ax.axis('off')  # Oculta ejes\n"
      ],
      "metadata": {
        "id": "R3ghCyHZng2f",
        "colab": {
          "base_uri": "https://localhost:8080/",
          "height": 983
        },
        "outputId": "6dead0cf-21d0-4248-c446-98827d508f1f"
      },
      "execution_count": null,
      "outputs": [
        {
          "output_type": "display_data",
          "data": {
            "text/plain": [
              "<Figure size 1200x1200 with 25 Axes>"
            ],
            "image/png": "[encoded data removed]"
          },
          "metadata": {}
        }
      ]
    },
    {
      "cell_type": "code",
      "source": [
        "df.plot()   # Grafica el DataFrame (ej. series de manchas solares)\n",
        "plt.show()"
      ],
      "metadata": {
        "id": "g0ZV0S3foCjn"
      },
      "execution_count": null,
      "outputs": []
    },
    {
      "cell_type": "code",
      "source": [
        "time_index = np.array(df['Date'])  # Índice temporal (eje X)\n",
        "data = np.array(df['Monthly Mean Total Sunspot Number'])  # Datos (eje Y)\n",
        "print(time_index.shape)  # Tamaño del vector de fechas\n",
        "print(data.shape)  # Tamaño del vector de datos"
      ],
      "metadata": {
        "id": "ju_NUAgKoC2I"
      },
      "execution_count": null,
      "outputs": []
    },
    {
      "cell_type": "code",
      "source": [
        "# Hiperparámetros para entrenamiento y creación de ventanas\n",
        "SPLIT_TEST_TRAIN = 0.8  # Porcentaje de datos para entrenamiento\n",
        "WINDOW_SIZE = 60  # Tamaño de ventana deslizante (ej. 60 meses)\n",
        "BATCH_SIZE = 32  # Tamaño del lote de entrenamiento\n",
        "SHUFFLE_BUFFER = 1000  # Tamaño del buffer para mezclar datos"
      ],
      "metadata": {
        "id": "zwXCEyb-oEHB"
      },
      "execution_count": null,
      "outputs": []
    },
    {
      "cell_type": "code",
      "source": [
        "split_index = int(SPLIT_TEST_TRAIN * data.shape[0])  # Índice de corte (80% de los datos)\n",
        "print(split_index)  # Imprime el índice donde se divide el dataset"
      ],
      "metadata": {
        "id": "w0NFYGTqoGKC"
      },
      "execution_count": null,
      "outputs": []
    },
    {
      "cell_type": "code",
      "source": [
        "# Entrenamiento\n",
        "train_data = data[:split_index]\n",
        "train_time = time_index[:split_index]\n",
        "\n",
        "# Prueba\n",
        "test_data = data[split_index:]\n",
        "test_time = time_index[split_index:]"
      ],
      "metadata": {
        "id": "K9sDkSrRoHS6"
      },
      "execution_count": null,
      "outputs": []
    },
    {
      "cell_type": "code",
      "source": [
        "def ts_data_timeseries(data, window_size, batch_size):\n",
        "    ds = tf.data.Dataset.from_tensor_slices(data)  # Convierte array NumPy a dataset de TensorFlow\n",
        "\n",
        "    ds = ds.window(window_size + 1, shift=1, drop_remainder=True)  # Crea ventanas deslizantes (tamaño + 1 para incluir la etiqueta)\n",
        "    ds = ds.flat_map(lambda window: window.batch(window_size + 1))  # Convierte ventanas en batches\n",
        "\n",
        "    # Divide cada ventana: los primeros window_size valores son la entrada, el último es la etiqueta\n",
        "    ds = ds.map(lambda window: (window[:-1], window[-1]))\n",
        "\n",
        "    ds = ds.batch(batch_size).prefetch(1)  # Agrupa en batches y hace prefetch para eficiencia\n",
        "    return ds\n"
      ],
      "metadata": {
        "id": "MfSNjVkWoISU"
      },
      "execution_count": null,
      "outputs": []
    },
    {
      "cell_type": "code",
      "source": [
        "train_dataset = ts_data_timeseries(train_data, WINDOW_SIZE, BATCH_SIZE)\n",
        "test_dataset = ts_data_timeseries(test_data, WINDOW_SIZE, BATCH_SIZE)"
      ],
      "metadata": {
        "id": "Cw__GtVroKY4"
      },
      "execution_count": null,
      "outputs": []
    },
    {
      "cell_type": "code",
      "source": [
        " for ds in train_dataset.take(1):\n",
        "    print(ds)  # Muestra un lote de entrenamiento (entrada y etiqueta)"
      ],
      "metadata": {
        "id": "Ofyn3chRoL1M"
      },
      "execution_count": null,
      "outputs": []
    },
    {
      "cell_type": "code",
      "source": [
        "class MLP(nnx.Module):\n",
        "    # Modelo MLP simple, equivalente a Keras.Sequential\n",
        "\n",
        "    def __init__(self, *, rngs: nnx.Rngs):\n",
        "        self.dense1 = nnx.Linear(WINDOW_SIZE, 20, rngs=rngs)  # Capa densa 1\n",
        "        self.dense2 = nnx.Linear(20, 10, rngs=rngs)  # Capa densa 2\n",
        "        self.dense3 = nnx.Linear(10, 1, rngs=rngs)  # Capa de salida\n",
        "\n",
        "    def __call__(self, x):\n",
        "        x = nnx.relu(self.dense1(x))  # Activación ReLU\n",
        "        x = nnx.relu(self.dense2(x))\n",
        "        x = self.dense3(x)   # Salida final sin activación (regresión)\n",
        "        return x\n",
        "\n",
        "# Instanciar el modelo\n",
        "model = MLP(rngs=nnx.Rngs(0))  # Se inicializa con una semilla para reproducibilidad\n",
        "\n",
        "# Visualizarlo\n",
        "nnx.display(model)  # Muestra estructura y parámetros del modelo"
      ],
      "metadata": {
        "id": "EUDDNuVd2nv9"
      },
      "execution_count": null,
      "outputs": []
    },
    {
      "cell_type": "code",
      "source": [
        "x_testeo = jnp.ones((1, WINDOW_SIZE))  # Entrada de prueba: un vector con unos\n",
        "y = model(x_testeo)  # Salida del modelo\n",
        "y"
      ],
      "metadata": {
        "id": "8XOXuWUO2rDK"
      },
      "execution_count": null,
      "outputs": []
    },
    {
      "cell_type": "code",
      "source": [
        "import optax  # Biblioteca de funciones de optimización compatible con JAX\n",
        "\n",
        "learning_rate = 1e-4\n",
        "momentum = 0.9\n",
        "\n",
        "# Define el optimizador usando AdamW\n",
        "optimizer = nnx.Optimizer(model, optax.adamw(learning_rate, momentum))\n",
        "\n",
        "# Define métricas: precisión y pérdida promedio\n",
        "metrics = nnx.MultiMetric(\n",
        "    accuracy=nnx.metrics.Accuracy(),\n",
        "    loss=nnx.metrics.Average('loss'),\n",
        ")\n",
        "\n",
        "nnx.display(optimizer)  # Muestra información del optimizador\n"
      ],
      "metadata": {
        "id": "UMO1W3Io3BYf"
      },
      "execution_count": null,
      "outputs": []
    },
    {
      "cell_type": "code",
      "source": [
        "def loss_fn(model: MLP, batch):\n",
        "  # Se realiza una inferencia del modelo sobre los datos de entrada (batch[0])\n",
        "  logits = model(batch[0])\n",
        "\n",
        "  # Se calcula la pérdida usando entropía cruzada con etiquetas enteras.\n",
        "  # 'logits' son las salidas sin activar del modelo (antes de aplicar softmax)\n",
        "  # 'labels' son las clases verdaderas (batch[1])\n",
        "  loss = optax.softmax_cross_entropy_with_integer_labels(\n",
        "    logits=logits, labels=batch[1]\n",
        "  ).mean() # Promediamos la pérdida en el batch\n",
        "  # Se retorna tanto la pérdida como los logits para uso posterior\n",
        "  return loss, logits\n",
        "\n",
        "@nnx.jit\n",
        "def train_step(model: MLP, optimizer: nnx.Optimizer, metrics: nnx.MultiMetric, batch):\n",
        "\n",
        "  # Calculamos tanto el valor de la pérdida como su gradiente respecto al modelo\n",
        "  grad_fn = nnx.value_and_grad(loss_fn, has_aux=True)\n",
        "  # Ejecutamos la función con gradientes\n",
        "  (loss, logits), grads = grad_fn(model, batch)\n",
        "  # Actualizamos las métricas de entrenamiento con los valores actuales de pérdida, logits y etiquetas reales\n",
        "  metrics.update(loss=loss, logits=logits, labels=batch[1])\n",
        "  # Aplicamos los gradientes al modelo mediante el optimizador para actualizar sus parámetros\n",
        "  optimizer.update(grads)\n",
        "\n",
        "@nnx.jit\n",
        "def eval_step(model: MLP, metrics: nnx.MultiMetric, batch):\n",
        "  # Se calcula la pérdida y logits sin gradientes, ya que no estamos entrenando, solo evaluando\n",
        "  loss, logits = loss_fn(model, batch)\n",
        "  # Se actualizan las métricas con la salida del modelo y las etiquetas verdaderas\n",
        "  metrics.update(loss=loss, logits=logits, labels=batch[1])"
      ],
      "metadata": {
        "id": "Ami9Pghr3IMF"
      },
      "execution_count": null,
      "outputs": []
    },
    {
      "cell_type": "code",
      "source": [
        "import jax\n",
        "import jax.numpy as jnp\n",
        "import optax\n",
        "from flax import linen as nn  # Usamos linen para definir la red\n",
        "import tensorflow as tf\n",
        "import numpy as np\n",
        "import matplotlib.pyplot as plt\n",
        "from IPython.display import clear_output\n",
        "\n",
        "\n",
        "# 1. Definir el modelo con NNX (flax.linen en lugar de flax.nn)\n",
        "\n",
        "class MLP(nn.Module):\n",
        "    def setup(self):\n",
        "        self.dense1 = nn.Dense(20)  # Primera capa con 20 neuronas\n",
        "        self.dense2 = nn.Dense(10)  # Segunda capa con 10 neuronas\n",
        "        self.dense3 = nn.Dense(1)  # Salida (regresión, 1 valor)\n",
        "\n",
        "    def __call__(self, x):\n",
        "        # Función de propagación hacia adelante (forward pass)\n",
        "        x = nn.relu(self.dense1(x))  # ReLU después de la primera capa\n",
        "        x = nn.relu(self.dense2(x))  # ReLU después de la segunda capa\n",
        "        x = self.dense3(x)  # Capa de salida sin activación (para regresión)\n",
        "        return x\n",
        "\n",
        "# Creamos una instancia del modelo\n",
        "model = MLP()\n",
        "\n",
        "def ts_data_timeseries(data, window_size, batch_size):\n",
        "    ds = tf.data.Dataset.from_tensor_slices(data)  # Convierte el array en dataset de TensorFlow\n",
        "    ds = ds.window(window_size + 1, shift=1, drop_remainder=True)  # Crea ventanas deslizantes\n",
        "    ds = ds.flat_map(lambda window: window.batch(window_size + 1))  # Convierte cada ventana en batch\n",
        "    ds = ds.map(lambda window: (window[:-1], window[-1]))  # Entrada: window[:-1], Etiqueta: window[-1]\n",
        "    ds = ds.batch(batch_size).prefetch(1)  # Agrupamos en lotes y usamos prefetch\n",
        "    return ds\n",
        "\n",
        "# Preparación de datasets de entrenamiento y prueba\n",
        "train_dataset = ts_data_timeseries(train_data, WINDOW_SIZE, BATCH_SIZE)\n",
        "test_dataset = ts_data_timeseries(test_data, WINDOW_SIZE, BATCH_SIZE)\n",
        "\n",
        "# Inicialización del optimizador (Adam)\n",
        "optimizer = optax.adam(learning_rate=1e-4)\n",
        "\n",
        "rng = jax.random.PRNGKey(0)  # Semilla aleatoria\n",
        "x_dummy = jnp.ones((1, WINDOW_SIZE))  # Dummy input para inicializar el modelo\n",
        "params = model.init(rng, x_dummy)  # Inicialización de pesos\n",
        "\n",
        "# Inicialización del estado del optimizador\n",
        "opt_state = optimizer.init(params)\n",
        "\n",
        "@jax.jit\n",
        "def train_step(params, opt_state, x, y):\n",
        "    def loss_fn(params):\n",
        "        y_pred = model.apply(params, x)\n",
        "        loss = jnp.mean(jnp.square(y - y_pred))  # MSE como función de pérdida\n",
        "        return loss\n",
        "\n",
        "    # Calculamos el gradiente de la función de pérdida\n",
        "    loss, grads = jax.value_and_grad(loss_fn)(params)\n",
        "\n",
        "    # Actualizamos los parámetros usando el optimizador\n",
        "    updates, opt_state = optimizer.update(grads, opt_state)\n",
        "    new_params = optax.apply_updates(params, updates)\n",
        "\n",
        "    return loss, new_params, opt_state\n",
        "\n",
        "# Entrenamiento del modelo\n",
        "EPOCHS = 40\n",
        "eval_every = 120\n",
        "metrics_history = {'train_loss': [], 'test_loss': []}\n",
        "\n",
        "# Ciclo de entrenamiento\n",
        "for epoch in range(EPOCHS):\n",
        "    print(f\"Época {epoch+1}/{EPOCHS}\")\n",
        "\n",
        "    # Entrenamiento\n",
        "    for step, (x_batch, y_batch) in enumerate(train_dataset.as_numpy_iterator()):\n",
        "      # Convertimos a tensores JAX\n",
        "        x_batch, y_batch = jnp.array(x_batch), jnp.array(y_batch)\n",
        "        # Entrenamos el modelo en este batch\n",
        "        loss, params, opt_state = train_step(params, opt_state, x_batch, y_batch)\n",
        "\n",
        "        # Guardamos pérdida de entrenamiento periódicamente\n",
        "        if step % eval_every == 0:\n",
        "            metrics_history['train_loss'].append(float(loss))\n",
        "            print(f\"Paso {step}, Pérdida: {loss:.4f}\")\n",
        "\n",
        "    # Evaluación sin necesidad de conocer el tamaño total del dataset\n",
        "    test_loss = 0\n",
        "    total_samples = 0\n",
        "    for x_test, y_test in test_dataset.as_numpy_iterator():\n",
        "        x_test, y_test = jnp.array(x_test), jnp.array(y_test)\n",
        "        y_pred = model.apply(params, x_test)\n",
        "        test_loss += jnp.sum(jnp.square(y_test - y_pred))  # Acumulamos pérdida total\n",
        "        total_samples += x_test.shape[0]\n",
        "\n",
        "\n",
        "    test_loss /= total_samples  # Promediamos la pérdida\n",
        "    metrics_history['test_loss'].append(float(test_loss))\n",
        "\n",
        "    # Gráficos en tiempo real\n",
        "    clear_output(wait=True)\n",
        "    plt.figure(figsize=(10, 5))\n",
        "    plt.plot(metrics_history['train_loss'], label='Train Loss')\n",
        "    plt.plot(metrics_history['test_loss'], label='Test Loss')\n",
        "    plt.xlabel('Steps')\n",
        "    plt.ylabel('Loss')\n",
        "    plt.legend()\n",
        "    plt.show()\n"
      ],
      "metadata": {
        "id": "nr65p7_g3Bx-"
      },
      "execution_count": null,
      "outputs": []
    },
    {
      "cell_type": "code",
      "source": [
        "import matplotlib.pyplot as plt\n",
        "\n",
        "# Función para mostrar predicciones del modelo\n",
        "def show_predictions(model, params, test_dataset):\n",
        "    real_values = []  # Aquí almacenamos los valores reales (etiquetas)\n",
        "    predicted_values = []  # Aquí almacenamos las predicciones del modelo\n",
        "\n",
        "    # Hacer predicciones\n",
        "    # Iteramos sobre el dataset de prueba\n",
        "    for x_test, y_test in test_dataset.as_numpy_iterator():\n",
        "        # Convertimos los lotes a arreglos JAX\n",
        "        x_test, y_test = jnp.array(x_test), jnp.array(y_test)\n",
        "\n",
        "        # Aplicamos el modelo para obtener la predicción\n",
        "        y_pred = model.apply(params, x_test)\n",
        "\n",
        "        # Guardamos valores reales y predichos\n",
        "        real_values.append(y_test)\n",
        "        predicted_values.append(y_pred)\n",
        "\n",
        "    # Concatenamos todas las predicciones en un solo array para graficar\n",
        "    real_values = np.concatenate(real_values, axis=0)\n",
        "    predicted_values = np.concatenate(predicted_values, axis=0)\n",
        "\n",
        "    # Visualización de resultados\n",
        "    plt.figure(figsize=(12, 6))\n",
        "    plt.plot(real_values, label='Real values')\n",
        "    plt.plot(predicted_values, label='Predicted values', color='orange')\n",
        "    plt.title(\"Real vs Predicted values\")\n",
        "    plt.xlabel(\"Index\")\n",
        "    plt.ylabel(\"Sunspot Number\")\n",
        "    plt.legend()\n",
        "    plt.show()\n",
        "\n",
        "# Ejecutamos la función para visualizar resultados\n",
        "show_predictions(model, params, test_dataset)"
      ],
      "metadata": {
        "id": "hJ3z8KhO5iA7"
      },
      "execution_count": null,
      "outputs": []
    },
    {
      "cell_type": "code",
      "source": [
        "import os\n",
        "\n",
        "# Establecemos el backend de Keras a JAX (necesario para compatibilidad)\n",
        "os.environ[\"KERAS_BACKEND\"] = \"jax\"\n",
        "\n",
        "# Importaciones necesarias\n",
        "import jax  # Computación acelerada en GPU/TPU\n",
        "import tensorflow as tf  # Solo se usa para manejo de datos (tf.data)\n",
        "import keras  # API de alto nivel (usada si se integra con JAX)\n",
        "import numpy as np  # Operaciones numéricas"
      ],
      "metadata": {
        "id": "VOeq3TZ5oxeC"
      },
      "execution_count": null,
      "outputs": []
    },
    {
      "cell_type": "code",
      "source": [
        "def get_model():\n",
        "    # Entrada del modelo con tamaño de ventana (ej. 30)\n",
        "    inputs = keras.Input(shape=(WINDOW_SIZE,))\n",
        "\n",
        "    # Capas densas con activación ReLU\n",
        "    x = keras.layers.Dense(20, activation=\"relu\")(inputs)\n",
        "    x = keras.layers.Dense(10, activation=\"relu\")(x)\n",
        "\n",
        "    # Capa de salida con 1 unidad (regresión)\n",
        "    outputs = keras.layers.Dense(1)(x)\n",
        "\n",
        "    # Ensamblamos el modelo\n",
        "    model = keras.Model(inputs=inputs, outputs=outputs)\n",
        "    return model\n"
      ],
      "metadata": {
        "id": "SPcfTK9r_KV7"
      },
      "execution_count": null,
      "outputs": []
    },
    {
      "cell_type": "code",
      "source": [
        "model = get_model()"
      ],
      "metadata": {
        "id": "5GHoymHrDpOw"
      },
      "execution_count": null,
      "outputs": []
    },
    {
      "cell_type": "code",
      "source": [
        "# Usamos el error cuadrático medio como función de pérdida\n",
        "loss_fn = keras.losses.MeanSquaredError()\n",
        "\n",
        "# Definimos un optimizador Adam con tasa de aprendizaje baja\n",
        "optimizer = keras.optimizers.Adam(learning_rate=1e-4)"
      ],
      "metadata": {
        "id": "UsMAdnv-_2fF"
      },
      "execution_count": null,
      "outputs": []
    },
    {
      "cell_type": "code",
      "source": [
        "def compute_loss_and_updates(trainable_variables, non_trainable_variables, x, y):\n",
        "    # Hacemos una llamada sin estado al modelo (para compatibilidad con JAX)\n",
        "    y_pred, non_trainable_variables = model.stateless_call(\n",
        "        trainable_variables, non_trainable_variables, x, training=True\n",
        "    )\n",
        "\n",
        "    # Calculamos la pérdida entre la predicción y los valores reales\n",
        "    loss = loss_fn(y, y_pred)\n",
        "\n",
        "    return loss, non_trainable_variables\n"
      ],
      "metadata": {
        "id": "DeSapZ37_4qH"
      },
      "execution_count": null,
      "outputs": []
    },
    {
      "cell_type": "code",
      "source": [
        "grad_fn = jax.value_and_grad(compute_loss_and_updates, has_aux=True)"
      ],
      "metadata": {
        "id": "64aQkJ9D_528"
      },
      "execution_count": null,
      "outputs": []
    },
    {
      "cell_type": "code",
      "source": [
        "@jax.jit\n",
        "def train_step(state, data):\n",
        "    # Desempaquetamos el estado (parámetros entrenables, no entrenables y del optimizador)\n",
        "    trainable_variables, non_trainable_variables, optimizer_variables = state\n",
        "\n",
        "    # Desempaquetamos datos (entrada x y etiqueta y) y los convertimos a JAX arrays\n",
        "    x, y = data\n",
        "    x = jnp.array(x)\n",
        "    y = jnp.array(y)\n",
        "\n",
        "    # Calculamos pérdida y gradientes usando `grad_fn`\n",
        "    (loss, non_trainable_variables), grads = grad_fn(\n",
        "        trainable_variables, non_trainable_variables, x, y\n",
        "    )\n",
        "\n",
        "    # Aplicamos actualizaciones al optimizador (modo sin estado)\n",
        "    trainable_variables, optimizer_variables = optimizer.stateless_apply(\n",
        "        optimizer_variables, grads, trainable_variables\n",
        "    )\n",
        "\n",
        "    # Devolvemos el nuevo estado actualizado\n",
        "    return loss, (\n",
        "        trainable_variables,\n",
        "        non_trainable_variables,\n",
        "        optimizer_variables,\n",
        "    )\n"
      ],
      "metadata": {
        "id": "8WB2ROEo__-y"
      },
      "execution_count": null,
      "outputs": []
    },
    {
      "cell_type": "code",
      "source": [
        "import jax.numpy as jnp\n",
        "import optax\n",
        "\n",
        "# Definir optimizador con optax\n",
        "optimizer = optax.adam(learning_rate=1e-3)\n",
        "\n",
        "# Inicializar el estado del optimizador\n",
        "opt_state = optimizer.init(model.trainable_variables)\n",
        "\n",
        "@jax.jit\n",
        "def train_step(trainable_variables, non_trainable_variables, opt_state, x, y):\n",
        "    print(type(x), type(y))\n",
        "    def loss_fn(params):\n",
        "        y_pred, new_non_trainable = model.stateless_call(\n",
        "            params, non_trainable_variables, x, training=True\n",
        "        )\n",
        "        loss = jnp.mean(jnp.square(y - y_pred))  # Pérdida compatible con JAX\n",
        "        return loss, new_non_trainable\n",
        "\n",
        "    (loss, new_non_trainable), grads = jax.value_and_grad(loss_fn, has_aux=True)(trainable_variables)\n",
        "\n",
        "    updates, new_opt_state = optimizer.update(grads, opt_state)\n",
        "    new_trainable_variables = optax.apply_updates(trainable_variables, updates)\n",
        "\n",
        "    return loss, new_trainable_variables, new_non_trainable, new_opt_state\n",
        "\n",
        "# Estado inicial del entrenamiento\n",
        "trainable_variables = model.trainable_variables\n",
        "non_trainable_variables = model.non_trainable_variables\n",
        "\n",
        "# Bucle de entrenamiento\n",
        "for step, data in enumerate(train_dataset):\n",
        "    x_batch, y_batch = data\n",
        "    x_batch, y_batch = jnp.array(x_batch), jnp.array(y_batch)  # Convertir fuera de train_step\n",
        "\n",
        "    loss, trainable_variables, non_trainable_variables, opt_state = train_step(\n",
        "        trainable_variables, non_trainable_variables, opt_state, x_batch, y_batch\n",
        "    )\n",
        "\n",
        "    if step % 100 == 0:\n",
        "        print(f\"Paso {step}, Pérdida: {loss:.4f}\")\n"
      ],
      "metadata": {
        "id": "8pQ9nFe9ADK1"
      },
      "execution_count": null,
      "outputs": []
    },
    {
      "source": [
        "import os\n",
        "\n",
        "# Establecemos que el backend de Keras sea JAX.\n",
        "# Esto es necesario para usar la API de Keras con operaciones de JAX.\n",
        "os.environ[\"KERAS_BACKEND\"] = \"jax\"\n",
        "\n",
        "import jax  # Importamos JAX para cálculo numérico acelerado con GPU/TPU\n",
        "import tensorflow as tf  # Usamos tf.data para cargar/preprocesar datos\n",
        "import keras  # Usamos la API de alto nivel de Keras\n",
        "import numpy as np  # Utilidades de matriz para preprocesamiento o evaluación\n",
        "\n",
        "def get_model():\n",
        "    # Entrada de tamaño igual a la ventana temporal usada para entrenamiento\n",
        "    inputs = keras.Input(shape=(WINDOW_SIZE,))\n",
        "\n",
        "    # Capas densas con activación ReLU\n",
        "    x = keras.layers.Dense(20, activation=\"relu\")(inputs)\n",
        "    x = keras.layers.Dense(10, activation=\"relu\")(x)\n",
        "\n",
        "    # Capa de salida con 1 neurona (regresión)\n",
        "    outputs = keras.layers.Dense(1)(x)\n",
        "\n",
        "    # Construimos el modelo usando la API funcional de Keras\n",
        "    model = keras.Model(inputs=inputs, outputs=outputs)\n",
        "    return model\n",
        "\n",
        "# Instanciamos el modelo\n",
        "model = get_model()\n",
        "\n",
        "# Definimos el error cuadrático medio como función de pérdida\n",
        "loss_fn = keras.losses.MeanSquaredError(\n",
        "    reduction=\"sum_over_batch_size\",  # Promediamos sobre el tamaño del batch\n",
        "    name=\"mean_squared_error\",\n",
        "    dtype=None\n",
        ")\n",
        "\n",
        "# Instanciamos el optimizador Adam con una tasa de aprendizaje 1e-3\n",
        "optimizer = keras.optimizers.Adam(learning_rate=1e-3)\n",
        "\n",
        "\n",
        "def compute_loss_and_updates(trainable_variables, non_trainable_variables, x, y):\n",
        "    # Usamos stateless_call para aplicar el modelo sin modificar su estado interno\n",
        "    y_pred, non_trainable_variables = model.stateless_call(\n",
        "        trainable_variables, non_trainable_variables, x, training=True\n",
        "    )\n",
        "\n",
        "    # Convertimos y_pred a float32 para asegurar compatibilidad con la pérdida\n",
        "    loss = loss_fn(y, y_pred.astype(np.float32))\n",
        "    return loss, non_trainable_variables\n",
        "\n",
        "# Envolvemos la función con JAX para calcular pérdida y gradientes\n",
        "# `has_aux=True` indica que también se retorna el estado no entrenable actualizado\n",
        "grad_fn = jax.value_and_grad(compute_loss_and_updates, has_aux=True)\n",
        "\n",
        "@jax.jit\n",
        "def train_step(state, data):\n",
        "    # Desempaquetamos el estado actual (parámetros y estado del optimizador)\n",
        "    trainable_variables, non_trainable_variables, optimizer_variables = state\n",
        "\n",
        "    # Desempaquetamos x (entrada) e y (objetivo) del batch\n",
        "    x, y = data\n",
        "\n",
        "    # Calculamos pérdida y gradientes\n",
        "    (loss, non_trainable_variables), grads = grad_fn(\n",
        "        trainable_variables, non_trainable_variables, x, y\n",
        "    )\n",
        "\n",
        "    # Aplicamos actualizaciones usando el optimizador\n",
        "    trainable_variables, optimizer_variables = optimizer.stateless_apply(\n",
        "        optimizer_variables, grads, trainable_variables\n",
        "    )\n",
        "\n",
        "    # Retornamos la nueva pérdida y el nuevo estado\n",
        "    return loss, (\n",
        "        trainable_variables,\n",
        "        non_trainable_variables,\n",
        "        optimizer_variables,\n",
        "    )\n",
        "\n",
        "# Inicializamos las variables internas del optimizador en base al modelo\n",
        "optimizer.build(model.trainable_variables)\n",
        "\n",
        "# Obtenemos variables entrenables, no entrenables y del optimizador\n",
        "trainable_variables = model.trainable_variables\n",
        "non_trainable_variables = model.non_trainable_variables\n",
        "optimizer_variables = optimizer.variables\n",
        "\n",
        "# Estado inicial completo del sistema\n",
        "state = trainable_variables, non_trainable_variables, optimizer_variables\n",
        "\n",
        "\n",
        "# Loop principal de entrenamiento por batches\n",
        "for step, data in enumerate(train_dataset):\n",
        "    # Convertimos los tensores de TF a arrays NumPy\n",
        "    data = (data[0].numpy(), data[1].numpy())\n",
        "\n",
        "    # Ejecutamos un paso de entrenamiento\n",
        "    loss, state = train_step(state, data)\n",
        "\n",
        "    # Mostramos pérdida cada 100 pasos\n",
        "    print(f\"Training loss (for 1 batch) at step {step}: {float(loss):.4f}\")\n",
        "    print(f\"Seen so far: {(step + 1) * batch_size} samples\")\n"
      ],
      "cell_type": "code",
      "metadata": {
        "id": "ZVVq8Lw9_uRZ"
      },
      "execution_count": null,
      "outputs": []
    },
    {
      "cell_type": "code",
      "source": [
        "def plots_pred(model, data, test_data, conv=True):\n",
        "    forecast = []\n",
        "\n",
        "    # Generamos predicciones paso a paso, en ventana deslizante\n",
        "    for time in range(split_index - WINDOW_SIZE, len(data) - WINDOW_SIZE):\n",
        "        # Obtenemos la ventana de entrada, con una nueva dimensión para predicción\n",
        "        forecast.append(model.predict(data[time:time + WINDOW_SIZE][np.newaxis]))\n",
        "\n",
        "    # Cortamos la última predicción para que coincida con el tamaño\n",
        "    forecast = forecast[:-1]\n",
        "\n",
        "    # Convertimos lista a array y extraemos la primera dimensión\n",
        "    results = np.array(forecast)[:, 0, 0]\n",
        "\n",
        "    # Si conv=True, eliminamos dimensiones adicionales si existen\n",
        "    if conv:\n",
        "        results = np.squeeze(results)\n",
        "\n",
        "    # Calculamos el error cuadrático medio (MSE) entre predicciones y datos reales\n",
        "    error = keras.metrics.MeanSquaredError()(test_data, results).numpy()\n",
        "\n",
        "    plt.figure(figsize=(15, 6))  # Tamaño del gráfico\n",
        "\n",
        "    # Línea real (test)\n",
        "    plt.plot(list(range(split_index, len(data))), test_data, label='Test Data')\n",
        "\n",
        "    # Línea de predicciones\n",
        "    plt.plot(list(range(split_index, len(data))), results, label='Predictions')\n",
        "\n",
        "    # Relleno del error +/- 1 desviación estándar (σ)\n",
        "    plt.fill_between(\n",
        "        range(split_index, len(data)),\n",
        "        results - error,\n",
        "        results + error,\n",
        "        alpha=0.3,\n",
        "        color='grey',\n",
        "        label=r'error 1-$\\sigma$'\n",
        "    )\n",
        "\n",
        "    # Mostramos leyenda y gráfico\n",
        "    plt.legend()\n",
        "    plt.show()\n"
      ],
      "metadata": {
        "id": "eGD2wVK7PDW2"
      },
      "execution_count": null,
      "outputs": []
    },
    {
      "cell_type": "code",
      "source": [
        "plots_pred(model, data, test_data, conv=False)"
      ],
      "metadata": {
        "id": "vx2WfxcOPFKc"
      },
      "execution_count": null,
      "outputs": []
    },
    {
      "cell_type": "code",
      "source": [
        "# Graficamos las pérdidas durante el entrenamiento y validación\n",
        "plt.plot(history_flat.history[\"loss\"], label = \"training_loss\")\n",
        "plt.plot(history_flat.history[\"val_loss\"], label = \"testing_loss\")\n",
        "plt.legend()"
      ],
      "metadata": {
        "id": "LesZDwlZAO5a"
      },
      "execution_count": null,
      "outputs": []
    },
    {
      "source": [
        "import numpy as np\n",
        "import matplotlib.pyplot as plt\n",
        "\n",
        "# Construir variables optimizadoras.\n",
        "optimizer.build(model.trainable_variables)\n",
        "\n",
        "trainable_variables = model.trainable_variables\n",
        "non_trainable_variables = model.non_trainable_variables\n",
        "optimizer_variables = optimizer.variables\n",
        "state = trainable_variables, non_trainable_variables, optimizer_variables\n",
        "\n",
        "# Inicializar un diccionario para almacenar la formación y la pérdida de validación\n",
        "history_flat = {'loss': [], 'val_loss': []}\n",
        "\n",
        "# Bucle de entrenamiento\n",
        "for step, data in enumerate(train_dataset):\n",
        "    data = (data[0].numpy(), data[1].numpy())  # Convertir a numpy\n",
        "    loss, state = train_step(state, data)\n",
        "\n",
        "    # Registro 100 batches.\n",
        "    print(f\"Training loss (for 1 batch) at step {step}: {float(loss):.4f}\")\n",
        "    print(f\"Seen so far: {(step + 1) * batch_size} samples\")\n",
        "\n",
        "    # Añade la pérdida de entrenamiento a la lista de historial\n",
        "    history_flat['loss'].append(loss.item())\n",
        "\n",
        "    # Calcular la pérdida en el conjunto de validación cada cierto número de pasos\n",
        "    if step % 100 == 0:  # Evaluar cada 100 pasos (ajústalo según necesites)\n",
        "        val_losses = []\n",
        "        for val_data in test_dataset:\n",
        "            val_data = (val_data[0].numpy(), val_data[1].numpy())\n",
        "            val_loss, _ = eval_step(model, val_data)  # Corrección aquí\n",
        "            val_losses.append(val_loss.item())\n",
        "\n",
        "        # Promediar la pérdida de validación\n",
        "        mean_val_loss = np.mean(val_losses)\n",
        "        history_flat['val_loss'].append(mean_val_loss)\n",
        "\n",
        "        print(f\"Validation loss at step {step}: {mean_val_loss:.4f}\")\n",
        "\n",
        "# Grafico después del entrenamiento\n",
        "plt.plot(history_flat[\"loss\"], label=\"training_loss\")\n",
        "if history_flat[\"val_loss\"]:  # Solo graficar si hay datos de validación\n",
        "    plt.plot(np.linspace(0, len(history_flat[\"loss\"]), len(history_flat[\"val_loss\"])),\n",
        "             history_flat[\"val_loss\"], label=\"validation_loss\")\n",
        "plt.legend()\n",
        "plt.show()\n"
      ],
      "cell_type": "code",
      "metadata": {
        "id": "vkEA8Tr9ERQl"
      },
      "execution_count": null,
      "outputs": []
    },
    {
      "cell_type": "code",
      "source": [
        "import matplotlib.pyplot as plt\n",
        "\n",
        "# Convertimos el dataset de prueba en arrays para predecir\n",
        "x_test = np.array([x.numpy() for x, y in test_dataset])\n",
        "y_test = np.array([y.numpy() for x, y in test_dataset])\n",
        "\n",
        "# Aplanamos los arrays en una sola dimensión\n",
        "x_test = np.concatenate(x_test, axis=0)\n",
        "y_test = np.concatenate(y_test, axis=0)\n",
        "\n",
        "# Generamos las predicciones del modelo\n",
        "y_pred = model.predict(x_test)\n",
        "\n",
        "# Graficamos los resultados\n",
        "plt.figure(figsize=(10, 5))\n",
        "plt.plot(test_time[WINDOW_SIZE:], y_test, label=\"Real\", color=\"blue\")\n",
        "plt.plot(test_time[WINDOW_SIZE:], y_pred, label=\"Predicción\", color=\"red\", linestyle=\"dashed\")\n",
        "plt.xlabel(\"Tiempo\")\n",
        "plt.ylabel(\"Valor\")\n",
        "plt.title(\"Predicciones vs Datos Reales\")\n",
        "plt.legend()\n",
        "plt.show()\n"
      ],
      "metadata": {
        "id": "Cvi5Pnf2ERkc"
      },
      "execution_count": null,
      "outputs": []
    }
  ]
}